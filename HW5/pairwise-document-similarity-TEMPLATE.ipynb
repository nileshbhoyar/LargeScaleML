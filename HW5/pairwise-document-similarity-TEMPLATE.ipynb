{
 "cells": [
  {
   "cell_type": "markdown",
   "metadata": {
    "toc": "true"
   },
   "source": [
    "# Table of Contents\n",
    " <p><div class=\"lev1 toc-item\"><a href=\"#MIDS---w261-Machine-Learning-At-Scale\" data-toc-modified-id=\"MIDS---w261-Machine-Learning-At-Scale-1\"><span class=\"toc-item-num\">1&nbsp;&nbsp;</span>MIDS - w261 Machine Learning At Scale</a></div><div class=\"lev2 toc-item\"><a href=\"#Pairwise-Document-Similairity\" data-toc-modified-id=\"Pairwise-Document-Similairity-11\"><span class=\"toc-item-num\">1.1&nbsp;&nbsp;</span>Pairwise Document Similairity</a></div><div class=\"lev2 toc-item\"><a href=\"#Resources:\" data-toc-modified-id=\"Resources:-12\"><span class=\"toc-item-num\">1.2&nbsp;&nbsp;</span>Resources:</a></div><div class=\"lev3 toc-item\"><a href=\"#Generate-some-data\" data-toc-modified-id=\"Generate-some-data-121\"><span class=\"toc-item-num\">1.2.1&nbsp;&nbsp;</span>Generate some data</a></div><div class=\"lev3 toc-item\"><a href=\"#Phase-1---Make-Inverted-Index\" data-toc-modified-id=\"Phase-1---Make-Inverted-Index-122\"><span class=\"toc-item-num\">1.2.2&nbsp;&nbsp;</span>Phase 1 - Make Inverted Index</a></div><div class=\"lev3 toc-item\"><a href=\"#Phase-2---Calculate-similarity\" data-toc-modified-id=\"Phase-2---Calculate-similarity-123\"><span class=\"toc-item-num\">1.2.3&nbsp;&nbsp;</span>Phase 2 - Calculate similarity</a></div><div class=\"lev3 toc-item\"><a href=\"#Jaccard-similarity\" data-toc-modified-id=\"Jaccard-similarity-124\"><span class=\"toc-item-num\">1.2.4&nbsp;&nbsp;</span>Jaccard similarity</a></div>"
   ]
  },
  {
   "cell_type": "markdown",
   "metadata": {},
   "source": [
    "<a name=\"top\"></a>\n",
    "# MIDS - w261 Machine Learning At Scale\n",
    "__Course Lead:__ Dr James G. Shanahan (__email__ Jimi via  James.Shanahan _AT_ gmail.com)   "
   ]
  },
  {
   "cell_type": "markdown",
   "metadata": {},
   "source": [
    "## Pairwise Document Similairity \n",
    "\n",
    "1. [Generate data](#1)\n",
    "2. [Phase 1 - Make inverted index](#2)\n",
    "3. [Phase 2 - Calculate pairwise document similarity](#3)"
   ]
  },
  {
   "cell_type": "markdown",
   "metadata": {},
   "source": [
    "## Resources:\n",
    "[https://terpconnect.umd.edu/~oard/pdf/acl08elsayed2.pdf](https://terpconnect.umd.edu/~oard/pdf/acl08elsayed2.pdf)    \n",
    "[http://stanford.edu/~rezab/papers/disco.pdf](http://stanford.edu/~rezab/papers/disco.pdf)"
   ]
  },
  {
   "cell_type": "markdown",
   "metadata": {},
   "source": [
    "<a name=\"1\"></a>\n",
    "### Generate some data\n",
    "[top of page](#top)"
   ]
  },
  {
   "cell_type": "code",
   "execution_count": 1,
   "metadata": {
    "collapsed": false
   },
   "outputs": [
    {
     "name": "stdout",
     "output_type": "stream",
     "text": [
      "Writing systems_test.txt\n"
     ]
    }
   ],
   "source": [
    "%%writefile systems_test.txt\n",
    "docA\tbright blue butterfly forget\n",
    "docB\tbest forget bright sky\n",
    "docC\tblue sky bright sun\n",
    "docD\tunder butterfly sky hangs\n",
    "docE\tforget blue butterfly"
   ]
  },
  {
   "cell_type": "markdown",
   "metadata": {},
   "source": [
    "<a name=\"3\"></a>\n",
    "### Phase 1 - Make Inverted Index\n",
    "[top of page](#top)"
   ]
  },
  {
   "cell_type": "code",
   "execution_count": 75,
   "metadata": {
    "collapsed": false
   },
   "outputs": [
    {
     "name": "stdout",
     "output_type": "stream",
     "text": [
      "Overwriting invertedIndexOnly.py\n"
     ]
    }
   ],
   "source": [
    "%%writefile invertedIndexOnly.py\n",
    "#!~/anaconda2/bin/python\n",
    "# -*- coding: utf-8 -*-\n",
    "\n",
    "\n",
    "from __future__ import division\n",
    "import collections\n",
    "import re\n",
    "import json\n",
    "import math\n",
    "import numpy as np\n",
    "import itertools\n",
    "import mrjob\n",
    "from mrjob.protocol import RawProtocol\n",
    "from mrjob.job import MRJob\n",
    "from mrjob.step import MRStep\n",
    "\n",
    "class MRinvertedIndexOnly(MRJob):\n",
    "    \n",
    "    MRJob.SORT_VALUES = True \n",
    "    \n",
    "    def steps(self):\n",
    "\n",
    "        return [MRStep(\n",
    "                    mapper=self.mapper,\n",
    "                    reducer=self.reducer)\n",
    "                ]\n",
    "    \n",
    "        \n",
    "   \n",
    "    def mapper(self,_,line):\n",
    "        '''\n",
    "        Reference:\n",
    "        \"For each term in the document,emits the term as key, and a tuple \n",
    "        consisting of the doc id and term weight as the value.\n",
    "        The MR runtime automatically handles the grouping of these tuples...\"\n",
    "        (https://terpconnect.umd.edu/~oard/pdf/acl08elsayed2.pdf)\n",
    "        '''\n",
    "        #####################################################################\n",
    "        # docs as input, ie:\n",
    "        # doc id \\t doc value\n",
    "        # docA\tbright blue butterfly forget\n",
    "        #\n",
    "        #####################################################################\n",
    "        \n",
    "        ## MAPPER CODE HERE\n",
    "        \n",
    "        \n",
    "    def reducer(self,key,value):\n",
    "        '''\n",
    "        Reference con't:\n",
    "        \"...which the reducer then writes out to disk, thus generating the postings.\"\n",
    "        (https://terpconnect.umd.edu/~oard/pdf/acl08elsayed2.pdf)\n",
    "        '''\n",
    "        #####################################################################\n",
    "        # Inverted Index as output, ie:\n",
    "        # \"term\" [[\"doc\",doc_length]]\n",
    "        # \"butterfly\"\t[[\"docA\", 4],[\"docD\", 4],[\"docE\", 3]]\n",
    "        #####################################################################\n",
    "        \n",
    "        ## REDUCER CODE HERE\n",
    "        \n",
    "if __name__ == '__main__':\n",
    "    MRinvertedIndexOnly.run() "
   ]
  },
  {
   "cell_type": "code",
   "execution_count": 70,
   "metadata": {
    "collapsed": false
   },
   "outputs": [
    {
     "name": "stdout",
     "output_type": "stream",
     "text": [
      "Using configs in /etc/mrjob.conf\n",
      "ignoring partitioner keyword arg (requires real Hadoop): 'org.apache.hadoop.mapred.lib.KeyFieldBasedPartitioner'\n",
      "Creating temp directory /var/folders/2f/rb8qqgd55bl77zgchyxsfl7h0000gp/T/invertedIndexOnly.koza.20170209.125757.440958\n",
      "Running step 1 of 1...\n",
      "Streaming final output from /var/folders/2f/rb8qqgd55bl77zgchyxsfl7h0000gp/T/invertedIndexOnly.koza.20170209.125757.440958/output...\n",
      "Removing temp directory /var/folders/2f/rb8qqgd55bl77zgchyxsfl7h0000gp/T/invertedIndexOnly.koza.20170209.125757.440958...\n"
     ]
    }
   ],
   "source": [
    "!python invertedIndexOnly.py -r local systems_test.txt > systems_test_index.txt"
   ]
  },
  {
   "cell_type": "code",
   "execution_count": 76,
   "metadata": {
    "collapsed": false
   },
   "outputs": [
    {
     "name": "stdout",
     "output_type": "stream",
     "text": [
      "\n",
      "Systems test - Inverted Index\n",
      "————————————————————————————————————————————————————————————————————————————————————————————————————\n",
      "         \"best\" |         docB 4 |                |               \n",
      "         \"blue\" |         docA 4 |         docC 4 |         docE 3\n",
      "       \"bright\" |         docA 4 |         docB 4 |         docC 4\n",
      "    \"butterfly\" |         docA 4 |         docD 4 |         docE 3\n",
      "       \"forget\" |         docA 4 |         docB 4 |         docE 3\n",
      "        \"hangs\" |         docD 4 |                |               \n",
      "          \"sky\" |         docB 4 |         docC 4 |         docD 4\n",
      "          \"sun\" |         docC 4 |                |               \n",
      "        \"under\" |         docD 4 |                |               \n"
     ]
    }
   ],
   "source": [
    "##########################################################\n",
    "# Pretty print systems tests for generating Inverted Index\n",
    "##########################################################\n",
    "\n",
    "import json\n",
    "        \n",
    "print \"\\nSystems test - Inverted Index\"\n",
    "print \"—\"*100  \n",
    "with open(\"systems_test_index.txt\",\"r\") as f:\n",
    "    lines = f.readlines()\n",
    "    for line in lines:\n",
    "        line = line.strip()\n",
    "        word,posting = line.split(\"\\t\")\n",
    "        posting = json.loads(posting)\n",
    "    \n",
    "        posting.extend([[\"\",\"\"] for _ in xrange(3 - len(posting))])\n",
    "        \n",
    "        print \"{0:>15} |{1:>15} |{2:>15} |{3:>15}\".format(\n",
    "            (word), posting[0][0]+\" \"+str(posting[0][1]), posting[1][0]+\" \"+str(posting[1][1]), posting[2][0]+\" \"+str(posting[2][1]))\n"
   ]
  },
  {
   "cell_type": "markdown",
   "metadata": {},
   "source": [
    "<a name=\"4\"></a>\n",
    "### Phase 2 - Calculate similarity\n",
    "[top of page](#top)   \n"
   ]
  },
  {
   "cell_type": "markdown",
   "metadata": {},
   "source": [
    "### Jaccard similarity\n",
    "$$\n",
    "Jaccard(A,B) = \\frac{|A \\cap B|}{|A|+|B|-|A \\cap B|}\n",
    "$$\n",
    "\n",
    "Example - using the information from the inverted index above:     \n",
    "$$\n",
    "Jaccard(docA,docB) = \\frac{2}{4+4-2} = \\frac{1}{3}\n",
    "$$"
   ]
  },
  {
   "cell_type": "code",
   "execution_count": 77,
   "metadata": {
    "collapsed": false
   },
   "outputs": [
    {
     "name": "stdout",
     "output_type": "stream",
     "text": [
      "Overwriting similarityOnly.py\n"
     ]
    }
   ],
   "source": [
    "%%writefile similarityOnly.py\n",
    "#!~/anaconda2/bin/python\n",
    "# -*- coding: utf-8 -*-\n",
    "\n",
    "from __future__ import division\n",
    "import collections\n",
    "import re\n",
    "import json\n",
    "import math\n",
    "import numpy as np\n",
    "import itertools\n",
    "import mrjob\n",
    "from mrjob.protocol import RawProtocol\n",
    "from mrjob.job import MRJob\n",
    "from mrjob.step import MRStep\n",
    "\n",
    "class MRsimilarityOnly(MRJob):\n",
    "    \n",
    "    MRJob.SORT_VALUES = True \n",
    "    def steps(self):\n",
    "\n",
    "        JOBCONF_STEP1 = {}\n",
    "        JOBCONF_STEP2 = { \n",
    "          ######### IMPORTANT: THIS WILL HAVE NO EFFECT IN -r local MODE. MUST USE -r hadoop FOR SORTING #############\n",
    "            'mapreduce.job.output.key.comparator.class': 'org.apache.hadoop.mapred.lib.KeyFieldBasedComparator',\n",
    "            'mapreduce.partition.keycomparator.options':'-k1,1nr',\n",
    "        }\n",
    "        return [MRStep(jobconf=JOBCONF_STEP1,\n",
    "                    mapper=self.mapper_pair_sim,\n",
    "                    reducer=self.reducer_pair_sim)\n",
    "                ,\n",
    "                MRStep(jobconf=JOBCONF_STEP2,\n",
    "                    mapper=None,   \n",
    "                    reducer=self.reducer_sort)\n",
    "                ]\n",
    "            \n",
    "    def mapper_pair_sim(self,_,line):\n",
    "        line = line.strip()\n",
    "        index,posting = line.split(\"\\t\")\n",
    "        posting = json.loads(posting)\n",
    "        \n",
    "        '''\n",
    "        @input: lines (postings) from inverted index\n",
    "         \"blue\" [[\"DocA\", 4], [\"DocC\", 4], [\"DocE\", 3]]\n",
    "        '''\n",
    "        \n",
    "        ## MAPPER CODE HERE\n",
    "\n",
    "\n",
    "\n",
    "    def reducer_pair_sim(self,key,value):\n",
    "        \n",
    "        ## REDUCER CODE HERE\n",
    "        \n",
    "       \n",
    "        yield jaccard, (Doc1+\" - \"+Doc2)\n",
    "    \n",
    "    \n",
    "    def reducer_sort(self,key,value):\n",
    "        for v in value:\n",
    "            yield key,v\n",
    "    \n",
    "    \n",
    "if __name__ == '__main__':\n",
    "    MRsimilarityOnly.run()"
   ]
  },
  {
   "cell_type": "code",
   "execution_count": 78,
   "metadata": {
    "collapsed": false,
    "scrolled": true
   },
   "outputs": [
    {
     "name": "stdout",
     "output_type": "stream",
     "text": [
      "Using configs in /etc/mrjob.conf\n",
      "Creating temp directory /var/folders/2f/rb8qqgd55bl77zgchyxsfl7h0000gp/T/similarityOnly.koza.20170209.131748.458564\n",
      "Looking for hadoop binary in $PATH...\n",
      "Found hadoop binary: /usr/local/bin/hadoop\n",
      "Using Hadoop version 2.7.2\n",
      "Copying local files to hdfs:///user/koza/tmp/mrjob/similarityOnly.koza.20170209.131748.458564/files/...\n",
      "Detected hadoop configuration property names that do not match hadoop version 2.7.2:\n",
      "The have been translated as follows\n",
      " mapred.output.key.comparator.class: mapreduce.job.output.key.comparator.class\n",
      "mapred.text.key.comparator.options: mapreduce.partition.keycomparator.options\n",
      "mapred.text.key.partitioner.options: mapreduce.partition.keypartitioner.options\n",
      "Running step 1 of 2...\n",
      "  packageJobJar: [/var/folders/2f/rb8qqgd55bl77zgchyxsfl7h0000gp/T/hadoop-unjar808133809686510700/] [] /var/folders/2f/rb8qqgd55bl77zgchyxsfl7h0000gp/T/streamjob8084364655160078365.jar tmpDir=null\n",
      "  Connecting to ResourceManager at /0.0.0.0:8032\n",
      "  Connecting to ResourceManager at /0.0.0.0:8032\n",
      "  Total input paths to process : 1\n",
      "  number of splits:2\n",
      "  mapred.text.key.partitioner.options is deprecated. Instead, use mapreduce.partition.keypartitioner.options\n",
      "  Submitting tokens for job: job_1486380608198_0018\n",
      "  Submitted application application_1486380608198_0018\n",
      "  The url to track the job: http://localhost:8088/proxy/application_1486380608198_0018/\n",
      "  Running job: job_1486380608198_0018\n",
      "  Job job_1486380608198_0018 running in uber mode : false\n",
      "   map 0% reduce 0%\n",
      "   map 100% reduce 0%\n",
      "   map 100% reduce 100%\n",
      "  Job job_1486380608198_0018 completed successfully\n",
      "  Output directory: hdfs:///user/koza/tmp/mrjob/similarityOnly.koza.20170209.131748.458564/step-output/0000\n",
      "Counters: 49\n",
      "\tFile Input Format Counters \n",
      "\t\tBytes Read=492\n",
      "\tFile Output Format Counters \n",
      "\t\tBytes Written=322\n",
      "\tFile System Counters\n",
      "\t\tFILE: Number of bytes read=321\n",
      "\t\tFILE: Number of bytes written=369935\n",
      "\t\tFILE: Number of large read operations=0\n",
      "\t\tFILE: Number of read operations=0\n",
      "\t\tFILE: Number of write operations=0\n",
      "\t\tHDFS: Number of bytes read=822\n",
      "\t\tHDFS: Number of bytes written=322\n",
      "\t\tHDFS: Number of large read operations=0\n",
      "\t\tHDFS: Number of read operations=9\n",
      "\t\tHDFS: Number of write operations=2\n",
      "\tJob Counters \n",
      "\t\tData-local map tasks=2\n",
      "\t\tLaunched map tasks=2\n",
      "\t\tLaunched reduce tasks=1\n",
      "\t\tTotal megabyte-milliseconds taken by all map tasks=5512192\n",
      "\t\tTotal megabyte-milliseconds taken by all reduce tasks=2110464\n",
      "\t\tTotal time spent by all map tasks (ms)=5383\n",
      "\t\tTotal time spent by all maps in occupied slots (ms)=5383\n",
      "\t\tTotal time spent by all reduce tasks (ms)=2061\n",
      "\t\tTotal time spent by all reduces in occupied slots (ms)=2061\n",
      "\t\tTotal vcore-milliseconds taken by all map tasks=5383\n",
      "\t\tTotal vcore-milliseconds taken by all reduce tasks=2061\n",
      "\tMap-Reduce Framework\n",
      "\t\tCPU time spent (ms)=0\n",
      "\t\tCombine input records=0\n",
      "\t\tCombine output records=0\n",
      "\t\tFailed Shuffles=0\n",
      "\t\tGC time elapsed (ms)=138\n",
      "\t\tInput split bytes=330\n",
      "\t\tMap input records=9\n",
      "\t\tMap output bytes=285\n",
      "\t\tMap output materialized bytes=327\n",
      "\t\tMap output records=15\n",
      "\t\tMerged Map outputs=2\n",
      "\t\tPhysical memory (bytes) snapshot=0\n",
      "\t\tReduce input groups=10\n",
      "\t\tReduce input records=15\n",
      "\t\tReduce output records=10\n",
      "\t\tReduce shuffle bytes=327\n",
      "\t\tShuffled Maps =2\n",
      "\t\tSpilled Records=30\n",
      "\t\tTotal committed heap usage (bytes)=551026688\n",
      "\t\tVirtual memory (bytes) snapshot=0\n",
      "\tShuffle Errors\n",
      "\t\tBAD_ID=0\n",
      "\t\tCONNECTION=0\n",
      "\t\tIO_ERROR=0\n",
      "\t\tWRONG_LENGTH=0\n",
      "\t\tWRONG_MAP=0\n",
      "\t\tWRONG_REDUCE=0\n",
      "Detected hadoop configuration property names that do not match hadoop version 2.7.2:\n",
      "The have been translated as follows\n",
      " mapred.text.key.partitioner.options: mapreduce.partition.keypartitioner.options\n",
      "Running step 2 of 2...\n",
      "  packageJobJar: [/var/folders/2f/rb8qqgd55bl77zgchyxsfl7h0000gp/T/hadoop-unjar1934270585918643344/] [] /var/folders/2f/rb8qqgd55bl77zgchyxsfl7h0000gp/T/streamjob8978660553969823637.jar tmpDir=null\n",
      "  Connecting to ResourceManager at /0.0.0.0:8032\n",
      "  Connecting to ResourceManager at /0.0.0.0:8032\n",
      "  Total input paths to process : 1\n",
      "  number of splits:2\n",
      "  mapred.text.key.partitioner.options is deprecated. Instead, use mapreduce.partition.keypartitioner.options\n",
      "  Submitting tokens for job: job_1486380608198_0019\n",
      "  Submitted application application_1486380608198_0019\n",
      "  The url to track the job: http://localhost:8088/proxy/application_1486380608198_0019/\n",
      "  Running job: job_1486380608198_0019\n",
      "  Job job_1486380608198_0019 running in uber mode : false\n",
      "   map 0% reduce 0%\n",
      "   map 100% reduce 0%\n",
      "   map 100% reduce 100%\n",
      "  Job job_1486380608198_0019 completed successfully\n",
      "  Output directory: hdfs:///user/koza/tmp/mrjob/similarityOnly.koza.20170209.131748.458564/output\n",
      "Counters: 49\n",
      "\tFile Input Format Counters \n",
      "\t\tBytes Read=483\n",
      "\tFile Output Format Counters \n",
      "\t\tBytes Written=322\n",
      "\tFile System Counters\n",
      "\t\tFILE: Number of bytes read=358\n",
      "\t\tFILE: Number of bytes written=370815\n",
      "\t\tFILE: Number of large read operations=0\n",
      "\t\tFILE: Number of read operations=0\n",
      "\t\tFILE: Number of write operations=0\n",
      "\t\tHDFS: Number of bytes read=811\n",
      "\t\tHDFS: Number of bytes written=322\n",
      "\t\tHDFS: Number of large read operations=0\n",
      "\t\tHDFS: Number of read operations=9\n",
      "\t\tHDFS: Number of write operations=2\n",
      "\tJob Counters \n",
      "\t\tData-local map tasks=2\n",
      "\t\tLaunched map tasks=2\n",
      "\t\tLaunched reduce tasks=1\n",
      "\t\tTotal megabyte-milliseconds taken by all map tasks=4300800\n",
      "\t\tTotal megabyte-milliseconds taken by all reduce tasks=2141184\n",
      "\t\tTotal time spent by all map tasks (ms)=4200\n",
      "\t\tTotal time spent by all maps in occupied slots (ms)=4200\n",
      "\t\tTotal time spent by all reduce tasks (ms)=2091\n",
      "\t\tTotal time spent by all reduces in occupied slots (ms)=2091\n",
      "\t\tTotal vcore-milliseconds taken by all map tasks=4200\n",
      "\t\tTotal vcore-milliseconds taken by all reduce tasks=2091\n",
      "\tMap-Reduce Framework\n",
      "\t\tCPU time spent (ms)=0\n",
      "\t\tCombine input records=0\n",
      "\t\tCombine output records=0\n",
      "\t\tFailed Shuffles=0\n",
      "\t\tGC time elapsed (ms)=117\n",
      "\t\tInput split bytes=328\n",
      "\t\tMap input records=10\n",
      "\t\tMap output bytes=332\n",
      "\t\tMap output materialized bytes=364\n",
      "\t\tMap output records=10\n",
      "\t\tMerged Map outputs=2\n",
      "\t\tPhysical memory (bytes) snapshot=0\n",
      "\t\tReduce input groups=10\n",
      "\t\tReduce input records=10\n",
      "\t\tReduce output records=10\n",
      "\t\tReduce shuffle bytes=364\n",
      "\t\tShuffled Maps =2\n",
      "\t\tSpilled Records=20\n",
      "\t\tTotal committed heap usage (bytes)=552599552\n",
      "\t\tVirtual memory (bytes) snapshot=0\n",
      "\tShuffle Errors\n",
      "\t\tBAD_ID=0\n",
      "\t\tCONNECTION=0\n",
      "\t\tIO_ERROR=0\n",
      "\t\tWRONG_LENGTH=0\n",
      "\t\tWRONG_MAP=0\n",
      "\t\tWRONG_REDUCE=0\n",
      "Streaming final output from hdfs:///user/koza/tmp/mrjob/similarityOnly.koza.20170209.131748.458564/output...\n",
      "Removing HDFS temp directory hdfs:///user/koza/tmp/mrjob/similarityOnly.koza.20170209.131748.458564...\n",
      "Removing temp directory /var/folders/2f/rb8qqgd55bl77zgchyxsfl7h0000gp/T/similarityOnly.koza.20170209.131748.458564...\n"
     ]
    }
   ],
   "source": [
    "!python similarityOnly.py -r hadoop systems_test_index.txt > similarities_test.txt"
   ]
  },
  {
   "cell_type": "code",
   "execution_count": 80,
   "metadata": {
    "collapsed": false
   },
   "outputs": [
    {
     "name": "stdout",
     "output_type": "stream",
     "text": [
      "Systems test - Similarity measures\n",
      "——————————————————————————————————————————————————————————————————————————————————————————————————————————————\n",
      "           pair |         jaccard |         cosine |           dice |        overlap |            avg\n",
      "--------------------------------------------------------------------------------------------------------------\n",
      "  \"docA - docE\" |        0.750000 |           TODO |           TODO |           TODO |           TODO\n",
      "  \"docB - docC\" |        0.333333 |           TODO |           TODO |           TODO |           TODO\n",
      "  \"docA - docC\" |        0.333333 |           TODO |           TODO |           TODO |           TODO\n",
      "  \"docA - docB\" |        0.333333 |           TODO |           TODO |           TODO |           TODO\n",
      "  \"docD - docE\" |        0.166667 |           TODO |           TODO |           TODO |           TODO\n",
      "  \"docC - docE\" |        0.166667 |           TODO |           TODO |           TODO |           TODO\n",
      "  \"docB - docE\" |        0.166667 |           TODO |           TODO |           TODO |           TODO\n",
      "  \"docC - docD\" |        0.142857 |           TODO |           TODO |           TODO |           TODO\n",
      "  \"docB - docD\" |        0.142857 |           TODO |           TODO |           TODO |           TODO\n",
      "  \"docA - docD\" |        0.142857 |           TODO |           TODO |           TODO |           TODO\n",
      "--------------------------------------------------------------------------------------------------------------\n"
     ]
    }
   ],
   "source": [
    "############################################\n",
    "# Pretty print systems tests\n",
    "############################################\n",
    "\n",
    "import json\n",
    "print \"Systems test - Similarity measures\"\n",
    "print '—'*110\n",
    "print \"{0:>15} |{1:>16} |{2:>15} |{3:>15} |{4:>15} |{5:>15}\".format(\n",
    "        \"pair\", \"jaccard\", \"cosine\", \"dice\", \"overlap\", \"avg\")\n",
    "print '-'*110\n",
    "\n",
    "with open(\"similarities_test.txt\",\"r\") as f:\n",
    "    lines = f.readlines()\n",
    "    for line in lines:\n",
    "        line = line.strip()\n",
    "        jaccard,pair = line.split(\"\\t\")\n",
    "\n",
    "        print \"{0:>15} | {1:>15f} |{2:>15} |{3:>15} |{4:>15} |{5:>15}\".format(\n",
    "            pair, float(jaccard),  \"TODO\", \"TODO\", \"TODO\", \"TODO\")\n",
    "        \n",
    "print '-'*110\n"
   ]
  },
  {
   "cell_type": "code",
   "execution_count": null,
   "metadata": {
    "collapsed": true
   },
   "outputs": [],
   "source": []
  }
 ],
 "metadata": {
  "kernelspec": {
   "display_name": "Python 2",
   "language": "python",
   "name": "python2"
  },
  "language_info": {
   "codemirror_mode": {
    "name": "ipython",
    "version": 2
   },
   "file_extension": ".py",
   "mimetype": "text/x-python",
   "name": "python",
   "nbconvert_exporter": "python",
   "pygments_lexer": "ipython2",
   "version": "2.7.13"
  },
  "toc": {
   "colors": {
    "hover_highlight": "#DAA520",
    "running_highlight": "#FF0000",
    "selected_highlight": "#FFD700"
   },
   "moveMenuLeft": true,
   "nav_menu": {
    "height": "157px",
    "width": "252px"
   },
   "navigate_menu": true,
   "number_sections": true,
   "sideBar": false,
   "threshold": 4,
   "toc_cell": true,
   "toc_section_display": "block",
   "toc_window_display": true
  }
 },
 "nbformat": 4,
 "nbformat_minor": 0
}
