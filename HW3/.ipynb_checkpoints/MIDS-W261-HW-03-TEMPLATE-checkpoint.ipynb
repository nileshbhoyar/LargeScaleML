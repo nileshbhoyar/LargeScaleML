{
 "cells": [
  {
   "cell_type": "markdown",
   "metadata": {
    "toc": "true"
   },
   "source": [
    "# Table of Contents\n",
    " <p><div class=\"lev1 toc-item\"><a href=\"#MIDS---w261-Machine-Learning-At-Scale\" data-toc-modified-id=\"MIDS---w261-Machine-Learning-At-Scale-1\"><span class=\"toc-item-num\">1&nbsp;&nbsp;</span>MIDS - w261 Machine Learning At Scale</a></div><div class=\"lev2 toc-item\"><a href=\"#Assignment---HW3\" data-toc-modified-id=\"Assignment---HW3-11\"><span class=\"toc-item-num\">1.1&nbsp;&nbsp;</span>Assignment - HW3</a></div><div class=\"lev1 toc-item\"><a href=\"#Table-of-Contents-\" data-toc-modified-id=\"Table-of-Contents--2\"><span class=\"toc-item-num\">2&nbsp;&nbsp;</span>Table of Contents </a></div><div class=\"lev1 toc-item\"><a href=\"#1-Instructions\" data-toc-modified-id=\"1-Instructions-3\"><span class=\"toc-item-num\">3&nbsp;&nbsp;</span>1 Instructions</a></div><div class=\"lev3 toc-item\"><a href=\"#IMPORTANT\" data-toc-modified-id=\"IMPORTANT-301\"><span class=\"toc-item-num\">3.0.1&nbsp;&nbsp;</span>IMPORTANT</a></div><div class=\"lev3 toc-item\"><a href=\"#===-INSTRUCTIONS-for-SUBMISSIONS-===\" data-toc-modified-id=\"===-INSTRUCTIONS-for-SUBMISSIONS-===-302\"><span class=\"toc-item-num\">3.0.2&nbsp;&nbsp;</span>=== INSTRUCTIONS for SUBMISSIONS ===</a></div><div class=\"lev2 toc-item\"><a href=\"#HW3.0.\" data-toc-modified-id=\"HW3.0.-31\"><span class=\"toc-item-num\">3.1&nbsp;&nbsp;</span>HW3.0.</a></div><div class=\"lev2 toc-item\"><a href=\"#HW3.1-consumer-complaints-dataset:-Use-Counters-to-do-EDA-(exploratory-data-analysis-and-to-monitor-progress)\" data-toc-modified-id=\"HW3.1-consumer-complaints-dataset:-Use-Counters-to-do-EDA-(exploratory-data-analysis-and-to-monitor-progress)-32\"><span class=\"toc-item-num\">3.2&nbsp;&nbsp;</span>HW3.1 consumer complaints dataset: Use Counters to do EDA (exploratory data analysis and to monitor progress)</a></div><div class=\"lev3 toc-item\"><a href=\"#HW-3.2-Analyze-the-performance-of-your-Mappers,-Combiners-and-Reducers-using-Counters\" data-toc-modified-id=\"HW-3.2-Analyze-the-performance-of-your-Mappers,-Combiners-and-Reducers-using-Counters-321\"><span class=\"toc-item-num\">3.2.1&nbsp;&nbsp;</span>HW 3.2 Analyze the performance of your Mappers, Combiners and Reducers using Counters</a></div><div class=\"lev3 toc-item\"><a href=\"#3.2.A-SOLUTION\" data-toc-modified-id=\"3.2.A-SOLUTION-322\"><span class=\"toc-item-num\">3.2.2&nbsp;&nbsp;</span>3.2.A SOLUTION</a></div><div class=\"lev4 toc-item\"><a href=\"#3.2.A-EXPLANATION\" data-toc-modified-id=\"3.2.A-EXPLANATION-3221\"><span class=\"toc-item-num\">3.2.2.1&nbsp;&nbsp;</span>3.2.A EXPLANATION</a></div><div class=\"lev3 toc-item\"><a href=\"#3.2.B-SOLUTION\" data-toc-modified-id=\"3.2.B-SOLUTION-323\"><span class=\"toc-item-num\">3.2.3&nbsp;&nbsp;</span>3.2.B SOLUTION</a></div><div class=\"lev3 toc-item\"><a href=\"#3.2.C-SOLUTION\" data-toc-modified-id=\"3.2.C-SOLUTION-324\"><span class=\"toc-item-num\">3.2.4&nbsp;&nbsp;</span>3.2.C SOLUTION</a></div><div class=\"lev3 toc-item\"><a href=\"#3.2.1\" data-toc-modified-id=\"3.2.1-325\"><span class=\"toc-item-num\">3.2.5&nbsp;&nbsp;</span>3.2.1</a></div><div class=\"lev4 toc-item\"><a href=\"#START-STUDENT-CODE-HW321-(INSERT-CELLS-BELOW-AS-NEEDED)\" data-toc-modified-id=\"START-STUDENT-CODE-HW321-(INSERT-CELLS-BELOW-AS-NEEDED)-3251\"><span class=\"toc-item-num\">3.2.5.1&nbsp;&nbsp;</span>START STUDENT CODE HW321 (INSERT CELLS BELOW AS NEEDED)</a></div><div class=\"lev4 toc-item\"><a href=\"#END-STUDENT-CODE-HW321\" data-toc-modified-id=\"END-STUDENT-CODE-HW321-3252\"><span class=\"toc-item-num\">3.2.5.2&nbsp;&nbsp;</span>END STUDENT CODE HW321</a></div><div class=\"lev2 toc-item\"><a href=\"#HW3.3.-Shopping-Cart-Analysis\" data-toc-modified-id=\"HW3.3.-Shopping-Cart-Analysis-33\"><span class=\"toc-item-num\">3.3&nbsp;&nbsp;</span>HW3.3. Shopping Cart Analysis</a></div><div class=\"lev4 toc-item\"><a href=\"#START-STUDENT-CODE-HW33-(INSERT-CELLS-BELOW-AS-NEEDED)\" data-toc-modified-id=\"START-STUDENT-CODE-HW33-(INSERT-CELLS-BELOW-AS-NEEDED)-3301\"><span class=\"toc-item-num\">3.3.0.1&nbsp;&nbsp;</span>START STUDENT CODE HW33 (INSERT CELLS BELOW AS NEEDED)</a></div><div class=\"lev4 toc-item\"><a href=\"#END-STUDENT-CODE-HW33\" data-toc-modified-id=\"END-STUDENT-CODE-HW33-3302\"><span class=\"toc-item-num\">3.3.0.2&nbsp;&nbsp;</span>END STUDENT CODE HW33</a></div><div class=\"lev2 toc-item\"><a href=\"#HW3.3.1-OPTIONAL\" data-toc-modified-id=\"HW3.3.1-OPTIONAL-34\"><span class=\"toc-item-num\">3.4&nbsp;&nbsp;</span>HW3.3.1 OPTIONAL</a></div><div class=\"lev4 toc-item\"><a href=\"#START-STUDENT-CODE-HW331-(INSERT-CELLS-BELOW-AS-NEEDED)\" data-toc-modified-id=\"START-STUDENT-CODE-HW331-(INSERT-CELLS-BELOW-AS-NEEDED)-3401\"><span class=\"toc-item-num\">3.4.0.1&nbsp;&nbsp;</span>START STUDENT CODE HW331 (INSERT CELLS BELOW AS NEEDED)</a></div><div class=\"lev4 toc-item\"><a href=\"#END-STUDENT-CODE-HW331\" data-toc-modified-id=\"END-STUDENT-CODE-HW331-3402\"><span class=\"toc-item-num\">3.4.0.2&nbsp;&nbsp;</span>END STUDENT CODE HW331</a></div><div class=\"lev2 toc-item\"><a href=\"#HW3.4.-(Computationally-prohibitive-but-then-again-Hadoop-can-handle-this)-Pairs\" data-toc-modified-id=\"HW3.4.-(Computationally-prohibitive-but-then-again-Hadoop-can-handle-this)-Pairs-35\"><span class=\"toc-item-num\">3.5&nbsp;&nbsp;</span>HW3.4. (Computationally prohibitive but then again Hadoop can handle this) Pairs</a></div><div class=\"lev4 toc-item\"><a href=\"#START-STUDENT-CODE-HW34-(INSERT-CELLS-BELOW-AS-NEEDED)\" data-toc-modified-id=\"START-STUDENT-CODE-HW34-(INSERT-CELLS-BELOW-AS-NEEDED)-3501\"><span class=\"toc-item-num\">3.5.0.1&nbsp;&nbsp;</span>START STUDENT CODE HW34 (INSERT CELLS BELOW AS NEEDED)</a></div><div class=\"lev4 toc-item\"><a href=\"#END-STUDENT-CODE-HW34\" data-toc-modified-id=\"END-STUDENT-CODE-HW34-3502\"><span class=\"toc-item-num\">3.5.0.2&nbsp;&nbsp;</span>END STUDENT CODE HW34</a></div><div class=\"lev2 toc-item\"><a href=\"#HW3.5:-Stripes\" data-toc-modified-id=\"HW3.5:-Stripes-36\"><span class=\"toc-item-num\">3.6&nbsp;&nbsp;</span>HW3.5: Stripes</a></div><div class=\"lev4 toc-item\"><a href=\"#START-STUDENT-CODE-HW35-(INSERT-CELLS-BELOW-AS-NEEDED)\" data-toc-modified-id=\"START-STUDENT-CODE-HW35-(INSERT-CELLS-BELOW-AS-NEEDED)-3601\"><span class=\"toc-item-num\">3.6.0.1&nbsp;&nbsp;</span>START STUDENT CODE HW35 (INSERT CELLS BELOW AS NEEDED)</a></div><div class=\"lev4 toc-item\"><a href=\"#END-STUDENT-CODE-HW35\" data-toc-modified-id=\"END-STUDENT-CODE-HW35-3602\"><span class=\"toc-item-num\">3.6.0.2&nbsp;&nbsp;</span>END STUDENT CODE HW35</a></div><div class=\"lev1 toc-item\"><a href=\"#OPTIONAL\" data-toc-modified-id=\"OPTIONAL-4\"><span class=\"toc-item-num\">4&nbsp;&nbsp;</span>OPTIONAL</a></div><div class=\"lev2 toc-item\"><a href=\"#HW3.6-Computing-Relative-Frequencies-on-100K-WikiPedia-pages-(93Meg)\" data-toc-modified-id=\"HW3.6-Computing-Relative-Frequencies-on-100K-WikiPedia-pages-(93Meg)-41\"><span class=\"toc-item-num\">4.1&nbsp;&nbsp;</span>HW3.6 Computing Relative Frequencies on 100K WikiPedia pages (93Meg)</a></div><div class=\"lev2 toc-item\"><a href=\"#HW3.7-Apriori-Algorithm\" data-toc-modified-id=\"HW3.7-Apriori-Algorithm-42\"><span class=\"toc-item-num\">4.2&nbsp;&nbsp;</span>HW3.7 Apriori Algorithm</a></div><div class=\"lev2 toc-item\"><a href=\"#HW3.8.-Shopping-Cart-Analysis\" data-toc-modified-id=\"HW3.8.-Shopping-Cart-Analysis-43\"><span class=\"toc-item-num\">4.3&nbsp;&nbsp;</span>HW3.8. Shopping Cart Analysis</a></div><div class=\"lev2 toc-item\"><a href=\"#HW3.8.1\" data-toc-modified-id=\"HW3.8.1-44\"><span class=\"toc-item-num\">4.4&nbsp;&nbsp;</span>HW3.8.1</a></div><div class=\"lev1 toc-item\"><a href=\"#END-OF-HOMEWORK\" data-toc-modified-id=\"END-OF-HOMEWORK-5\"><span class=\"toc-item-num\">5&nbsp;&nbsp;</span>END OF HOMEWORK</a></div>"
   ]
  },
  {
   "cell_type": "code",
   "execution_count": 1,
   "metadata": {
    "collapsed": false
   },
   "outputs": [
    {
     "data": {
      "application/javascript": [
       "/**********************************************************************************************\n",
       "Known Mathjax Issue with Chrome - a rounding issue adds a border to the right of mathjax markup\n",
       "https://github.com/mathjax/MathJax/issues/1300\n",
       "A quick hack to fix this based on stackoverflow discussions: \n",
       "http://stackoverflow.com/questions/34277967/chrome-rendering-mathjax-equations-with-a-trailing-vertical-line\n",
       "**********************************************************************************************/\n",
       "\n",
       "$('.math>span').css(\"border-left-color\",\"transparent\")"
      ],
      "text/plain": [
       "<IPython.core.display.Javascript object>"
      ]
     },
     "metadata": {},
     "output_type": "display_data"
    }
   ],
   "source": [
    "%%javascript\n",
    "/**********************************************************************************************\n",
    "Known Mathjax Issue with Chrome - a rounding issue adds a border to the right of mathjax markup\n",
    "https://github.com/mathjax/MathJax/issues/1300\n",
    "A quick hack to fix this based on stackoverflow discussions: \n",
    "http://stackoverflow.com/questions/34277967/chrome-rendering-mathjax-equations-with-a-trailing-vertical-line\n",
    "**********************************************************************************************/\n",
    "\n",
    "$('.math>span').css(\"border-left-color\",\"transparent\")"
   ]
  },
  {
   "cell_type": "code",
   "execution_count": 2,
   "metadata": {
    "collapsed": true
   },
   "outputs": [],
   "source": [
    "%reload_ext autoreload\n",
    "%autoreload 2"
   ]
  },
  {
   "cell_type": "markdown",
   "metadata": {},
   "source": [
    "# MIDS - w261 Machine Learning At Scale\n",
    "__Course Lead:__ Dr James G. Shanahan (__email__ Jimi via  James.Shanahan _AT_ gmail.com)\n",
    "\n",
    "## Assignment - HW3\n",
    "\n",
    "\n",
    "---\n",
    "__Name:__  Nilesh Bhoyat \n",
    "__Class:__ MIDS w261 Summer Group 2     \n",
    "__Email:__  *Your UC Berkeley Email Goes Here*@iSchool.Berkeley.edu     \n",
    "__StudentId__  26302327    __End of StudentId__     \n",
    "__Week:__   3\n",
    "\n",
    "__NOTE:__ please replace `1234567` with your student id above      \n",
    "__Due Time:__ HW is due the Tuesday of the following week by 8AM (West coast time). I.e., Tuesday, Jan 31, 2017 in the case of this homework. "
   ]
  },
  {
   "cell_type": "markdown",
   "metadata": {},
   "source": [
    "# Table of Contents <a name=\"TOC\"></a> \n",
    "\n",
    "1.  [HW Intructions](#1)   \n",
    "2.  [HW Problems](#2)   \n",
    "    3.1.   [HW3.1](#3.1)     \n",
    "    3.2.   [HW3.2](#3.2)   \n",
    "    3.3  [HW3.3](#3.3)   \n",
    "    3.4  [HW3.4](#3.4)   \n",
    "    3.5  [HW3.5](#3.5)   \n",
    "    3.6  [HW3.6](#3.6)   \n",
    "    3.7  [HW3.7](#3.7)   \n",
    "    3.8  [HW3.8](#3.8)   \n",
    "       "
   ]
  },
  {
   "cell_type": "markdown",
   "metadata": {},
   "source": [
    "<a name=\"1\"></a>\n",
    "# 1 Instructions\n",
    "[Back to Table of Contents](#TOC)\n",
    "\n",
    "MIDS UC Berkeley, Machine Learning at Scale\n",
    "DATSCIW261 ASSIGNMENT #3\n",
    "\n",
    "Version 2017-26-1 \n",
    "\n",
    "\n",
    "### IMPORTANT\n",
    "\n",
    "This homework can be completed locally on your computer \n",
    "\n",
    "### === INSTRUCTIONS for SUBMISSIONS ===   \n",
    "Follow the instructions for submissions carefully.\n",
    "\n",
    "__<span style=\"color:red\">NEW:</span> Going forward, each student will have a `HW-<user>` repository for all assignments.__\n",
    "\n",
    "Click this link to enable you to create a github repo within the MIDS261 Classroom:   \n",
    "https://classroom.github.com/assignment-invitations/3b1d6c8e58351209f9dd865537111ff8   \n",
    "and follow the instructions to create a HW repo.\n",
    "\n",
    "Push the following to your HW github repo into the master branch:\n",
    "* Your local HW3 directory. Your repo file structure should look like this:\n",
    "\n",
    "```\n",
    "HW-<user>\n",
    "    --HW3\n",
    "       |__MIDS-W261-HW-03-<Student_id>.ipnb\n",
    "       |__MIDS-W261-HW-03-<Student_id>.pdf\n",
    "       |__some other hw3 file\n",
    "    --HW4\n",
    "       |__MIDS-W261-HW-04-<Student_id>.ipnb\n",
    "       |__MIDS-W261-HW-04-<Student_id>.pdf\n",
    "       |__some other hw4 file\n",
    "    etc..\n",
    "```    "
   ]
  },
  {
   "cell_type": "markdown",
   "metadata": {},
   "source": [
    "<a name=\"2\"></a>\n",
    "## HW3.0.\n",
    "1. How do you merge  two sorted  lists/arrays of records of the form [key, value]?\n",
    "1. Where is this  used in Hadoop MapReduce? [Hint within the shuffle]\n",
    "1. What is  a combiner function in the context of Hadoop? \n",
    "1. Give an example where it can be used and justify why it should be used in the context of this problem.\n",
    "1. What is the Hadoop shuffle?"
   ]
  },
  {
   "cell_type": "markdown",
   "metadata": {},
   "source": [
    "#### How do you merge two sorted lists/arrays of records of the form [key, value]?"
   ]
  },
  {
   "cell_type": "markdown",
   "metadata": {},
   "source": [
    "    Merge sort is  divide and conquer algorithm. It is a very efficient sort algorithm. The algorithm gets is named from the fact that it divides the collection in half, recursively sorts each half, and then merges the two sorted halves back together. Each half of the collection is repeatedly halved until there is only one object in the half, at which point it is sorted by definition. As each sorted half is merged, the algorithm compares the objects to determine where to place each sub set.\n",
    "    \n",
    "    for records in format [key,value], operations happen on keys. \n",
    "    Pseudo Code\n",
    "    \n",
    "    \n",
    "    Union of keys from both dictionaries.\n",
    "    Loop for each key in union:\n",
    "      if key is in dict1 and not in dict 2 then\n",
    "       add key records in result dict\n",
    "      if key is in dict2 and not in dict 1 then\n",
    "      add key record in result dict\n",
    "      if key is present in both dicts then\n",
    "      union of result with same key\n",
    "      "
   ]
  },
  {
   "cell_type": "code",
   "execution_count": 3,
   "metadata": {
    "collapsed": false
   },
   "outputs": [
    {
     "data": {
      "text/plain": [
       "{'bookA': 1, 'bookB': 2, 'bookC': (3, 2), 'bookD': 4, 'bookE': 5}"
      ]
     },
     "execution_count": 3,
     "metadata": {},
     "output_type": "execute_result"
    }
   ],
   "source": [
    "from collections import defaultdict\n",
    "dict1 = {'bookA': 1, 'bookB': 2, 'bookC': 3}\n",
    "dict2 = {'bookC': 2, 'bookD': 4, 'bookE': 5}\n",
    "\n",
    "def union_collections(d1, d2):\n",
    "    union = {}\n",
    "\n",
    "    for key in set(d1.keys()).union(d2.keys()):\n",
    "        if key in d1 and key not in d2: \n",
    "            union[key] = d1[key]\n",
    "\n",
    "        if key in d2 and key not in d1: \n",
    "            union[key] = d2[key]\n",
    "\n",
    "        if key in d1 and key in d2:\n",
    "            union[key] = (d1[key] ,d2[key])\n",
    "\n",
    "    return union\n",
    "union_collections(dict1, dict2)"
   ]
  },
  {
   "cell_type": "markdown",
   "metadata": {},
   "source": [
    "#### Where is this used in Hadoop MapReduce? [Hint within the shuffle]"
   ]
  },
  {
   "cell_type": "markdown",
   "metadata": {},
   "source": [
    "![jobUI](shufflesort.png)\n",
    "\n",
    "\n",
    "    Answer:\n",
    "    As shown in figure, key-value pairs are merge-sort is used in shuffle-sort phase.\n",
    "    Hadoop sorts the key-value pairs by key and it “shuffles” all pairs with the same key to the same Reducer. There are several possible techniques that can be used to decide which reducer gets which range of keys."
   ]
  },
  {
   "cell_type": "markdown",
   "metadata": {},
   "source": [
    "#### What is a combiner function in the context of Hadoop?"
   ]
  },
  {
   "cell_type": "markdown",
   "metadata": {},
   "source": [
    "    Mappers produce a lot of intermediate data that must be sent over the network to be shuffled, sorted, and reduced. Because networking is a physical resource, large amounts of transmitted data can lead to job delays and memory bottlenecks (e.g., there is too much data for the reducer to hold into memory). Combiners are the primary mechanism to solve this problem, and are essentially intermediate reducers that are associated with the mapper output. Combiners reduce network traffic by performing a mapper-local reduction of the data before forwarding it on to the appropriate reducer. "
   ]
  },
  {
   "cell_type": "markdown",
   "metadata": {},
   "source": [
    "#### Give an example where it can be used and justify why it should be used in the context of this problem."
   ]
  },
  {
   "cell_type": "markdown",
   "metadata": {},
   "source": [
    "     Answer\n",
    "     \n",
    "     Consider an example of wordcount for large corpora. When mulitple mappers are producing word count as below\n",
    "     \n",
    "     mapper 1 output\n",
    "     (a,10) (the,10) (tent,1) (the,20)(a,20)\n",
    "     Mapper 2 output\n",
    "     \n",
    "     (a,30) (the,10)\n",
    "     \n",
    "     Intended Sum Reduce is \n",
    "     (a,60) (the,40)(tent,1)\n",
    "     \n",
    "     Each mapper is emitting extra work for the reducer, namely in the duplication of the different keys coming from each mapper. Combiner can can reduce such duplicate key by aggreating records before and there by reduce network traffic. This will also reduce overall shuffle phase time.\n",
    "      \n"
   ]
  },
  {
   "cell_type": "markdown",
   "metadata": {},
   "source": [
    "#### What is the Hadoop shuffle?"
   ]
  },
  {
   "cell_type": "markdown",
   "metadata": {},
   "source": [
    "    Answer \n",
    "         The process by which the hadoop performs the sort—and transfers the map outputs to the reducers as inputs.\n",
    "         If reducer has to take all output of mapper in as-is format i.e. (word,1) then it would be very slow process.\n",
    "         Shuffle does this\n",
    "         Shuffle is all of this!:\n",
    "        1. partition, sort, combine - Partitions records and does partial sort for each partition.\n",
    "        2. mergesort\n",
    "        3. Send to reducer\n",
    "        4. Merge sort\n",
    "        5. Stream to reducer\n",
    "  ![jobUI](shufflephase.png)\n"
   ]
  },
  {
   "cell_type": "markdown",
   "metadata": {},
   "source": []
  },
  {
   "cell_type": "markdown",
   "metadata": {},
   "source": [
    "<a name=\"3.1\"></a>\n",
    "## HW3.1 consumer complaints dataset: Use Counters to do EDA (exploratory data analysis and to monitor progress)\n",
    "Counters are lightweight objects in Hadoop that allow you to keep track of system progress in both the map and reduce stages of processing. By default, Hadoop defines a number of standard counters in \"groups\"; these show up in the jobtracker webapp, giving you information such as \"Map input records\", \"Map output records\", etc. \n",
    "\n",
    "While processing information/data using MapReduce job, it is a challenge to monitor the progress of parallel threads running across nodes of distributed clusters. Moreover, it is also complicated to distinguish between the data that has been processed and the data which is yet to be processed. The MapReduce Framework offers a provision of user-defined Counters, which can be effectively utilized to monitor the progress of data across nodes of distributed clusters.\n",
    "\n",
    "Use the Consumer Complaints  Dataset provide here to complete this question:\n",
    "\n",
    "\n",
    "     https://www.dropbox.com/s/vbalm3yva2rr86m/Consumer_Complaints.csv?dl=0\n",
    "\n",
    "The consumer complaints dataset consists of diverse consumer complaints, which have been reported across the United States regarding various types of loans. The dataset consists of records of the form:\n",
    "\n",
    "Complaint ID,Product,Sub-product,Issue,Sub-issue,State,ZIP code,Submitted via,Date received,Date sent to company,Company,Company response,Timely response?,Consumer disputed?\n",
    "\n",
    "Here’s is the first few lines of the  of the Consumer Complaints  Dataset:\n",
    "```\n",
    "Complaint ID,Product,Sub-product,Issue,Sub-issue,State,ZIP code,Submitted via,Date received,Date sent to company,Company,Company response,Timely response?,Consumer disputed?\n",
    "1114245,Debt collection,Medical,Disclosure verification of debt,Not given enough info to verify debt,FL,32219,Web,11/13/2014,11/13/2014,\"Choice Recovery, Inc.\",Closed with explanation,Yes,\n",
    "1114488,Debt collection,Medical,Disclosure verification of debt,Right to dispute notice not received,TX,75006,Web,11/13/2014,11/13/2014,\"Expert Global Solutions, Inc.\",In progress,Yes,\n",
    "1114255,Bank account or service,Checking account,Deposits and withdrawals,,NY,11102,Web,11/13/2014,11/13/2014,\"FNIS (Fidelity National Information Services, Inc.)\",In progress,Yes,\n",
    "1115106,Debt collection,\"Other (phone, health club, etc.)\",Communication tactics,Frequent or repeated calls,GA,31721,Web,11/13/2014,11/13/2014,\"Expert Global Solutions, Inc.\",In progress,Yes,\n",
    "```\n",
    "User-defined Counters\n",
    "\n",
    "Now, let’s use Hadoop Counters to identify the number of complaints pertaining to debt collection, mortgage and other categories (all other categories get lumped into this one) in the consumer complaints dataset. Basically produce the distribution of the Product column in this dataset using counters (limited to 3 counters here).\n",
    "\n",
    "Hadoop offers Job Tracker, an UI tool to determine the status and statistics of all jobs. Using the job tracker UI, developers can view the Counters that have been created. Screenshot your  job tracker UI as your job completes and include it here. Make sure that your user defined counters are visible. "
   ]
  },
  {
   "cell_type": "code",
   "execution_count": 4,
   "metadata": {
    "collapsed": false
   },
   "outputs": [
    {
     "name": "stdout",
     "output_type": "stream",
     "text": [
      "put: `/user/nibhoyar/Consumer_Complaints.csv': File exists\n",
      "Deleted Consumer_Complaints.csv\n",
      "Deleted hw3.1-output\n"
     ]
    }
   ],
   "source": [
    "# Create HDFS directories\n",
    "!hdfs dfs -mkdir -p /user/nibhoyar\n",
    "!hdfs dfs -put Consumer_Complaints.csv /user/nibhoyar\n",
    "!hdfs dfs -rm Consumer_Complaints.csv \n",
    "!hdfs dfs -copyFromLocal Consumer_Complaints.csv \n",
    "!hdfs dfs -rm -r hw3.1-output"
   ]
  },
  {
   "cell_type": "code",
   "execution_count": 5,
   "metadata": {
    "collapsed": false
   },
   "outputs": [
    {
     "name": "stdout",
     "output_type": "stream",
     "text": [
      "--2017-05-29 18:13:26--  https://www.dropbox.com/s/vbalm3yva2rr86m/Consumer_Complaints.csv\n",
      "Resolving www.dropbox.com... 162.125.4.1\n",
      "Connecting to www.dropbox.com|162.125.4.1|:443... connected.\n",
      "HTTP request sent, awaiting response... 302 Found\n",
      "Location: https://dl.dropboxusercontent.com/content_link/h6dA2wLBdFMUDtHHfF7oUWk6R98yrXEKlPpx0svRibYmhddkjWVpPpcaeg9KMlKO/file [following]\n",
      "--2017-05-29 18:13:28--  https://dl.dropboxusercontent.com/content_link/h6dA2wLBdFMUDtHHfF7oUWk6R98yrXEKlPpx0svRibYmhddkjWVpPpcaeg9KMlKO/file\n",
      "Resolving dl.dropboxusercontent.com... 162.125.4.6\n",
      "Connecting to dl.dropboxusercontent.com|162.125.4.6|:443... connected.\n",
      "HTTP request sent, awaiting response... 200 OK\n",
      "Length: 50906486 (49M) [text/csv]\n",
      "Saving to: `Consumer_Complaints.csv.2'\n",
      "\n",
      "100%[======================================>] 50,906,486  3.28M/s   in 19s     \n",
      "\n",
      "2017-05-29 18:13:48 (2.54 MB/s) - `Consumer_Complaints.csv.2' saved [50906486/50906486]\n",
      "\n"
     ]
    }
   ],
   "source": [
    "# Put the data into HDFS\n",
    "!wget 'https://www.dropbox.com/s/vbalm3yva2rr86m/Consumer_Complaints.csv'"
   ]
  },
  {
   "cell_type": "code",
   "execution_count": 6,
   "metadata": {
    "collapsed": false
   },
   "outputs": [
    {
     "name": "stdout",
     "output_type": "stream",
     "text": [
      "Overwriting complaintCountsMapper.py\n"
     ]
    }
   ],
   "source": [
    "%%writefile complaintCountsMapper.py\n",
    "#!/usr/bin/env python\n",
    "# START STUDENT CODE HW31MAPPER\n",
    "import sys\n",
    "separator = ','\n",
    "for line in (sys.stdin):\n",
    "        fields = line.split(separator)\n",
    "        if 'Complaint ID' != fields[0] :\n",
    "           \n",
    "            # we have a real record, so do some mapping\n",
    "            counter_name = None\n",
    "            if (fields[1].lower() == 'debt collection' or \\\n",
    "                fields[1].lower() == 'mortgage'):\n",
    "                counter_name = fields[1].strip().lower()\n",
    "            else:\n",
    "                counter_name = 'other'\n",
    "            # update the counter\n",
    "            sys.stderr.write(\"reporter:counter:Category Counters,{0},1\\n\".format(counter_name))\n",
    "       \n",
    "\n",
    "# END STUDENT CODE HW31MAPPER"
   ]
  },
  {
   "cell_type": "code",
   "execution_count": 7,
   "metadata": {
    "collapsed": false
   },
   "outputs": [
    {
     "name": "stdout",
     "output_type": "stream",
     "text": [
      "/bin/sh: chomd: command not found\r\n"
     ]
    }
   ],
   "source": [
    "!chomd a+x complaintCountsMapper.py"
   ]
  },
  {
   "cell_type": "code",
   "execution_count": 8,
   "metadata": {
    "collapsed": false
   },
   "outputs": [
    {
     "name": "stdout",
     "output_type": "stream",
     "text": [
      "Overwriting complaintCountsReducer.py\n"
     ]
    }
   ],
   "source": [
    "%%writefile complaintCountsReducer.py\n",
    "#!/usr/bin/env python\n",
    "# START STUDENT CODE HW31REDUCER\n",
    "\n",
    "# END STUDENT CODE HW31REDUCER"
   ]
  },
  {
   "cell_type": "code",
   "execution_count": 9,
   "metadata": {
    "collapsed": false
   },
   "outputs": [
    {
     "name": "stdout",
     "output_type": "stream",
     "text": [
      "rm: `hw3.1-output': No such file or directory\n",
      "17/05/29 18:13:54 INFO Configuration.deprecation: mapred.reduce.tasks is deprecated. Instead, use mapreduce.job.reduces\n",
      "packageJobJar: [] [/usr/jars/hadoop-streaming-2.6.0-cdh5.7.0.jar] /tmp/streamjob4171144098589620343.jar tmpDir=null\n",
      "17/05/29 18:13:55 INFO client.RMProxy: Connecting to ResourceManager at /0.0.0.0:8032\n",
      "17/05/29 18:13:56 INFO client.RMProxy: Connecting to ResourceManager at /0.0.0.0:8032\n",
      "17/05/29 18:13:57 INFO mapred.FileInputFormat: Total input paths to process : 1\n",
      "17/05/29 18:13:57 INFO mapreduce.JobSubmitter: number of splits:2\n",
      "17/05/29 18:13:58 INFO mapreduce.JobSubmitter: Submitting tokens for job: job_1496033164706_0025\n",
      "17/05/29 18:13:58 INFO impl.YarnClientImpl: Submitted application application_1496033164706_0025\n",
      "17/05/29 18:13:58 INFO mapreduce.Job: The url to track the job: http://quickstart.cloudera:8088/proxy/application_1496033164706_0025/\n",
      "17/05/29 18:13:58 INFO mapreduce.Job: Running job: job_1496033164706_0025\n",
      "17/05/29 18:14:07 INFO mapreduce.Job: Job job_1496033164706_0025 running in uber mode : false\n",
      "17/05/29 18:14:07 INFO mapreduce.Job:  map 0% reduce 0%\n",
      "17/05/29 18:14:20 INFO mapreduce.Job:  map 100% reduce 0%\n",
      "17/05/29 18:14:21 INFO mapreduce.Job: Job job_1496033164706_0025 completed successfully\n",
      "17/05/29 18:14:21 INFO mapreduce.Job: Counters: 33\n",
      "\tFile System Counters\n",
      "\t\tFILE: Number of bytes read=0\n",
      "\t\tFILE: Number of bytes written=232896\n",
      "\t\tFILE: Number of read operations=0\n",
      "\t\tFILE: Number of large read operations=0\n",
      "\t\tFILE: Number of write operations=0\n",
      "\t\tHDFS: Number of bytes read=50910816\n",
      "\t\tHDFS: Number of bytes written=0\n",
      "\t\tHDFS: Number of read operations=10\n",
      "\t\tHDFS: Number of large read operations=0\n",
      "\t\tHDFS: Number of write operations=4\n",
      "\tJob Counters \n",
      "\t\tLaunched map tasks=2\n",
      "\t\tData-local map tasks=2\n",
      "\t\tTotal time spent by all maps in occupied slots (ms)=19490\n",
      "\t\tTotal time spent by all reduces in occupied slots (ms)=0\n",
      "\t\tTotal time spent by all map tasks (ms)=19490\n",
      "\t\tTotal vcore-seconds taken by all map tasks=19490\n",
      "\t\tTotal megabyte-seconds taken by all map tasks=19957760\n",
      "\tMap-Reduce Framework\n",
      "\t\tMap input records=312913\n",
      "\t\tMap output records=0\n",
      "\t\tInput split bytes=234\n",
      "\t\tSpilled Records=0\n",
      "\t\tFailed Shuffles=0\n",
      "\t\tMerged Map outputs=0\n",
      "\t\tGC time elapsed (ms)=196\n",
      "\t\tCPU time spent (ms)=4510\n",
      "\t\tPhysical memory (bytes) snapshot=413777920\n",
      "\t\tVirtual memory (bytes) snapshot=2720247808\n",
      "\t\tTotal committed heap usage (bytes)=455081984\n",
      "\tCategory Counters\n",
      "\t\tdebt collection=44372\n",
      "\t\tmortgage=125752\n",
      "\t\tother=142788\n",
      "\tFile Input Format Counters \n",
      "\t\tBytes Read=50910582\n",
      "\tFile Output Format Counters \n",
      "\t\tBytes Written=0\n",
      "17/05/29 18:14:21 INFO streaming.StreamJob: Output directory: hw3.1-output\n"
     ]
    }
   ],
   "source": [
    "# Hadoop command\n",
    "# START STUDENT CODE HW31HADOOP\n",
    "!hdfs dfs -rm -r hw3.1-output\n",
    "!hadoop jar /usr/lib/hadoop-mapreduce/hadoop-streaming.jar \\\n",
    "    -D mapred.reduce.tasks=0 \\\n",
    "    -files complaintCountsMapper.py\\\n",
    "    -mapper complaintCountsMapper.py \\\n",
    "    -reducer org.apache.hadoop.mapred.lib.IdentityReducer\\\n",
    "    -input Consumer_Complaints.csv \\\n",
    "    -output  hw3.1-output\n",
    "# END STUDENT CODE HW31HADOOP"
   ]
  },
  {
   "cell_type": "markdown",
   "metadata": {
    "collapsed": true
   },
   "source": [
    "#output\n",
    "\n",
    "![jobUI](hw31.png)"
   ]
  },
  {
   "cell_type": "markdown",
   "metadata": {},
   "source": [
    "<a name=\"3.2\"></a>\n",
    "### HW 3.2 Analyze the performance of your Mappers, Combiners and Reducers using Counters\n",
    "\n",
    "For this brief study the Input file will be one record (the next line only):    \n",
    "`foo foo quux labs foo bar quux`\n",
    "\n",
    "\n",
    "__3.2.A__     \n",
    "Perform a word count analysis of this single record dataset using a Mapper and Reducer based WordCount (i.e., no combiners are used here) using user defined Counters to count up how many times the mapper and reducer are called. What is the value of your user defined Mapper Counter, and Reducer Counter after completing this word count job. The answer  should be 1 and 4 respectively. Please explain.\n",
    "\n",
    "__3.2.B__   \n",
    "Please use mulitple mappers and reducers for these jobs (at least 2 mappers and 2 reducers).\n",
    "Perform a word count analysis of the Issue column of the Consumer Complaints  Dataset using a Mapper and Reducer based WordCount (i.e., no combiners used anywhere)  using user defined Counters to count up how many time the mapper and reducer are called. What is the value of your user defined Mapper Counter, and Reducer Counter after completing your word count job. \n",
    "\n",
    "__3.2.C__     \n",
    "Perform a word count analysis of the Issue column of the Consumer Complaints  Dataset using a Mapper, Reducer, and standalone combiner (i.e., not an in-memory combiner) based WordCount using user defined Counters to count up how many time the mapper, combiner, reducer are called. What is the value of your user defined Mapper Counter, and Reducer Counter after completing your word count job. \n",
    "\n",
    "Using a single reducer: \n",
    "- What are the top 50 most frequent terms in your word count analysis?    \n",
    "- Present the top 50 terms and their frequency and their relative frequency. If there are ties please sort the tokens in alphanumeric/string order.    \n",
    "- Present bottom 10 tokens (least frequent items). \n",
    "\n",
    "__NOTE:__ You can use: `WORD_RE = re.compile(r\"[\\w']+\")` to tokenize."
   ]
  },
  {
   "cell_type": "markdown",
   "metadata": {},
   "source": [
    "### 3.2.A SOLUTION"
   ]
  },
  {
   "cell_type": "code",
   "execution_count": 10,
   "metadata": {
    "collapsed": false
   },
   "outputs": [
    {
     "name": "stdout",
     "output_type": "stream",
     "text": [
      "Overwriting mapper3.2.A.py\n"
     ]
    }
   ],
   "source": [
    "%%writefile mapper3.2.A.py\n",
    "#!/usr/bin/env python\n",
    "# START STUDENT CODE HW32AMAPPER\n",
    "import sys\n",
    "import re\n",
    "\n",
    "sys.stderr.write(\"reporter:counter:Mapper Counters,Calls,1\\n\")\n",
    "WORD_RE = re.compile(r\"[\\w']+\")\n",
    "for line in sys.stdin:\n",
    "    for word  in [s.lower() for s in WORD_RE.findall(line)]:\n",
    "        print '%s\\t%s' % (word, 1)\n",
    "\n",
    "# END STUDENT CODE HW32AMAPPER"
   ]
  },
  {
   "cell_type": "code",
   "execution_count": 11,
   "metadata": {
    "collapsed": false
   },
   "outputs": [
    {
     "name": "stdout",
     "output_type": "stream",
     "text": [
      "Overwriting reducer3.2.A.py\n"
     ]
    }
   ],
   "source": [
    "%%writefile reducer3.2.A.py\n",
    "#!/usr/bin/env python\n",
    "# START STUDENT CODE HW32AREDUCER\n",
    "import sys\n",
    "\n",
    "cur_key = None\n",
    "cur_count = 0\n",
    "sys.stderr.write(\"reporter:counter:Reducer Counters,Calls,1\\n\")\n",
    "for line in sys.stdin:\n",
    "    key, value = line.split()\n",
    "    if key == cur_key:\n",
    "        cur_count += int(value)\n",
    "    else:\n",
    "        if cur_key:\n",
    "            print '%s\\t%s' % (cur_key, cur_count)\n",
    "        cur_key = key\n",
    "        cur_count = int(value)\n",
    "\n",
    "print '%s\\t%s' % (cur_key, cur_count)\n",
    "\n",
    "# END STUDENT CODE HW32AREDUCER"
   ]
  },
  {
   "cell_type": "code",
   "execution_count": 12,
   "metadata": {
    "collapsed": false
   },
   "outputs": [
    {
     "name": "stdout",
     "output_type": "stream",
     "text": [
      "reporter:counter:Mapper Counters,Calls,1\r\n",
      "reporter:counter:Reducer Counters,Calls,1\r\n",
      "bar\t1\r\n",
      "foo\t1\r\n",
      "labs\t1\r\n",
      "quux\t1\r\n",
      "quux\t1\r\n",
      "foo\t2\r\n"
     ]
    }
   ],
   "source": [
    "!echo \"foo foo quux labs foo bar quux\"|python mapper3.2.A.py|python reducer3.2.A.py|sort -k2,2n"
   ]
  },
  {
   "cell_type": "code",
   "execution_count": 13,
   "metadata": {
    "collapsed": false
   },
   "outputs": [],
   "source": [
    "!chmod a+x mapper3.2.A.py\n",
    "!chmod a+x reducer3.2.A.py"
   ]
  },
  {
   "cell_type": "code",
   "execution_count": 14,
   "metadata": {
    "collapsed": false
   },
   "outputs": [
    {
     "name": "stdout",
     "output_type": "stream",
     "text": [
      "copyFromLocal: `foofoo.txt': File exists\n",
      "Deleted hw3.2.A-output\n",
      "17/05/29 18:14:33 INFO Configuration.deprecation: mapred.output.key.comparator.class is deprecated. Instead, use mapreduce.job.output.key.comparator.class\n",
      "packageJobJar: [] [/usr/jars/hadoop-streaming-2.6.0-cdh5.7.0.jar] /tmp/streamjob6106251709761547631.jar tmpDir=null\n",
      "17/05/29 18:14:34 INFO client.RMProxy: Connecting to ResourceManager at /0.0.0.0:8032\n",
      "17/05/29 18:14:34 INFO client.RMProxy: Connecting to ResourceManager at /0.0.0.0:8032\n",
      "17/05/29 18:14:35 INFO mapred.FileInputFormat: Total input paths to process : 1\n",
      "17/05/29 18:14:36 INFO mapreduce.JobSubmitter: number of splits:2\n",
      "17/05/29 18:14:36 INFO mapreduce.JobSubmitter: Submitting tokens for job: job_1496033164706_0026\n",
      "17/05/29 18:14:36 INFO impl.YarnClientImpl: Submitted application application_1496033164706_0026\n",
      "17/05/29 18:14:36 INFO mapreduce.Job: The url to track the job: http://quickstart.cloudera:8088/proxy/application_1496033164706_0026/\n",
      "17/05/29 18:14:36 INFO mapreduce.Job: Running job: job_1496033164706_0026\n",
      "17/05/29 18:14:46 INFO mapreduce.Job: Job job_1496033164706_0026 running in uber mode : false\n",
      "17/05/29 18:14:46 INFO mapreduce.Job:  map 0% reduce 0%\n",
      "17/05/29 18:14:55 INFO mapreduce.Job:  map 50% reduce 0%\n",
      "17/05/29 18:14:56 INFO mapreduce.Job:  map 100% reduce 0%\n",
      "17/05/29 18:15:02 INFO mapreduce.Job:  map 100% reduce 100%\n",
      "17/05/29 18:15:03 INFO mapreduce.Job: Job job_1496033164706_0026 completed successfully\n",
      "17/05/29 18:15:03 INFO mapreduce.Job: Counters: 51\n",
      "\tFile System Counters\n",
      "\t\tFILE: Number of bytes read=72\n",
      "\t\tFILE: Number of bytes written=353330\n",
      "\t\tFILE: Number of read operations=0\n",
      "\t\tFILE: Number of large read operations=0\n",
      "\t\tFILE: Number of write operations=0\n",
      "\t\tHDFS: Number of bytes read=255\n",
      "\t\tHDFS: Number of bytes written=26\n",
      "\t\tHDFS: Number of read operations=9\n",
      "\t\tHDFS: Number of large read operations=0\n",
      "\t\tHDFS: Number of write operations=2\n",
      "\tJob Counters \n",
      "\t\tLaunched map tasks=2\n",
      "\t\tLaunched reduce tasks=1\n",
      "\t\tData-local map tasks=2\n",
      "\t\tTotal time spent by all maps in occupied slots (ms)=13778\n",
      "\t\tTotal time spent by all reduces in occupied slots (ms)=4465\n",
      "\t\tTotal time spent by all map tasks (ms)=13778\n",
      "\t\tTotal time spent by all reduce tasks (ms)=4465\n",
      "\t\tTotal vcore-seconds taken by all map tasks=13778\n",
      "\t\tTotal vcore-seconds taken by all reduce tasks=4465\n",
      "\t\tTotal megabyte-seconds taken by all map tasks=14108672\n",
      "\t\tTotal megabyte-seconds taken by all reduce tasks=4572160\n",
      "\tMap-Reduce Framework\n",
      "\t\tMap input records=1\n",
      "\t\tMap output records=7\n",
      "\t\tMap output bytes=52\n",
      "\t\tMap output materialized bytes=78\n",
      "\t\tInput split bytes=208\n",
      "\t\tCombine input records=0\n",
      "\t\tCombine output records=0\n",
      "\t\tReduce input groups=4\n",
      "\t\tReduce shuffle bytes=78\n",
      "\t\tReduce input records=7\n",
      "\t\tReduce output records=4\n",
      "\t\tSpilled Records=14\n",
      "\t\tShuffled Maps =2\n",
      "\t\tFailed Shuffles=0\n",
      "\t\tMerged Map outputs=2\n",
      "\t\tGC time elapsed (ms)=207\n",
      "\t\tCPU time spent (ms)=2040\n",
      "\t\tPhysical memory (bytes) snapshot=693825536\n",
      "\t\tVirtual memory (bytes) snapshot=4083994624\n",
      "\t\tTotal committed heap usage (bytes)=642777088\n",
      "\tMapper Counters\n",
      "\t\tCalls=2\n",
      "\tReducer Counters\n",
      "\t\tCalls=1\n",
      "\tShuffle Errors\n",
      "\t\tBAD_ID=0\n",
      "\t\tCONNECTION=0\n",
      "\t\tIO_ERROR=0\n",
      "\t\tWRONG_LENGTH=0\n",
      "\t\tWRONG_MAP=0\n",
      "\t\tWRONG_REDUCE=0\n",
      "\tFile Input Format Counters \n",
      "\t\tBytes Read=47\n",
      "\tFile Output Format Counters \n",
      "\t\tBytes Written=26\n",
      "17/05/29 18:15:03 INFO streaming.StreamJob: Output directory: hw3.2.A-output\n"
     ]
    }
   ],
   "source": [
    "# Hadoop command\n",
    "# START STUDENT CODE HW32AHADOOP\n",
    "\n",
    "!echo \"foo foo quux labs foo bar quux\" >foofoo.txt\n",
    "!hdfs dfs -copyFromLocal foofoo.txt \n",
    "!hdfs dfs -rm -r hw3.2.A-output\n",
    "\n",
    "\n",
    "!hadoop jar /usr/lib/hadoop-mapreduce/hadoop-streaming.jar \\\n",
    "    -D mapred.output.key.comparator.class=org.apache.hadoop.mapred.lib.KeyFieldBasedComparator \\\n",
    "    -D stream.num.map.output.key.fields=2 \\\n",
    "    -D stream.map.output.field.separator=\"\\t\" \\\n",
    "    -D mapreduce.partition.keycomparator.options=\"-k1,1nr -k2,2\" \\\n",
    "    -files mapper3.2.A.py,reducer3.2.A.py\\\n",
    "    -mapper mapper3.2.A.py \\\n",
    "    -reducer reducer3.2.A.py\\\n",
    "    -input foofoo.txt \\\n",
    "    -output  hw3.2.A-output\n",
    "\n",
    "# END STUDENT CODE HW32AHADOOP"
   ]
  },
  {
   "cell_type": "code",
   "execution_count": 15,
   "metadata": {
    "collapsed": false
   },
   "outputs": [
    {
     "name": "stdout",
     "output_type": "stream",
     "text": [
      "Found 2 items\n",
      "-rw-r--r--   1 root supergroup          0 2017-05-29 18:15 hw3.2.A-output/_SUCCESS\n",
      "-rw-r--r--   1 root supergroup         26 2017-05-29 18:15 hw3.2.A-output/part-00000\n",
      "quux\t2\n",
      "labs\t1\n",
      "foo\t3\n",
      "bar\t1\n"
     ]
    }
   ],
   "source": [
    "#HDFS Output\n",
    "!hdfs dfs -ls hw3.2.A-output\n",
    "!hdfs dfs -cat hw3.2.A-output/part-0000*"
   ]
  },
  {
   "cell_type": "markdown",
   "metadata": {
    "collapsed": true
   },
   "source": [
    "#### INSERT SCREENSHOT OF JOB TRACKER UI COUNTERS\n",
    "\n",
    "![jobUI](hw3mapcount.png)"
   ]
  },
  {
   "cell_type": "markdown",
   "metadata": {
    "collapsed": true
   },
   "source": [
    "#### 3.2.A EXPLANATION\n",
    "STUDENT TODO"
   ]
  },
  {
   "cell_type": "markdown",
   "metadata": {},
   "source": [
    "### 3.2.B SOLUTION"
   ]
  },
  {
   "cell_type": "code",
   "execution_count": 16,
   "metadata": {
    "collapsed": false
   },
   "outputs": [
    {
     "name": "stdout",
     "output_type": "stream",
     "text": [
      "Overwriting mapper3.2.B.py\n"
     ]
    }
   ],
   "source": [
    "%%writefile mapper3.2.B.py\n",
    "#!/usr/bin/env python\n",
    "# START STUDENT CODE HW32BMAPPER\n",
    "from __future__ import division\n",
    "import math\n",
    "import os\n",
    "import sys\n",
    "import re\n",
    "\n",
    "separator = ','\n",
    "sys.stderr.write(\"reporter:counter:Mapper Counters,Calls,1\\n\")\n",
    "WORD_RE = re.compile(r\"[\\w']+\")\n",
    "numReducers = int(os.environ.get('NUM_PARTITIONS', '4')) \n",
    "\n",
    "\n",
    "def makeKey(word,n):\n",
    "  divisor = 26/n\n",
    "  return int(math.ceil((ord(word[0])-96)/divisor))\n",
    "\n",
    "#loop through each records\n",
    "for line in (sys.stdin):\n",
    "#get 3rd column\n",
    "        fields = line.split(separator)\n",
    "        if 'Complaint ID' != fields[0] :\n",
    "           \n",
    "            # we have a real record, so do some mapping\n",
    "            counter_name = None\n",
    "            for word  in [s.lower() for s in WORD_RE.findall(fields[3])]:\n",
    "                key = makeKey(word,numReducers)\n",
    "                print '%s\\t%s\\t%s' % (key,word, 1)\n",
    "            \n",
    "\n",
    "# END STUDENT CODE HW32BMAPPER"
   ]
  },
  {
   "cell_type": "code",
   "execution_count": 17,
   "metadata": {
    "collapsed": false
   },
   "outputs": [
    {
     "name": "stdout",
     "output_type": "stream",
     "text": [
      "Overwriting reducer3.2.B.py\n"
     ]
    }
   ],
   "source": [
    "%%writefile reducer3.2.B.py\n",
    "#!/usr/bin/env python\n",
    "# START STUDENT CODE HW32BREDUCER\n",
    "import sys\n",
    "\n",
    "cur_key = None\n",
    "cur_count = 0\n",
    "sys.stderr.write(\"reporter:counter:Reducer Counters,Calls,1\\n\")\n",
    "for line in sys.stdin:\n",
    "    partkey,key, value = line.split()\n",
    "    if key == cur_key:\n",
    "        cur_count += int(value)\n",
    "    else:\n",
    "        if cur_key:\n",
    "            print '%s\\t%s' % (cur_key, cur_count)\n",
    "        cur_key = key\n",
    "        cur_count = int(value)\n",
    "\n",
    "print '%s\\t%s' % (cur_key, cur_count)\n",
    "# END STUDENT CODE HW32BREDUCER"
   ]
  },
  {
   "cell_type": "code",
   "execution_count": 18,
   "metadata": {
    "collapsed": false
   },
   "outputs": [],
   "source": [
    "!chmod a+x mapper3.2.B.py\n",
    "!chmod a+x reducer3.2.B.py\n"
   ]
  },
  {
   "cell_type": "code",
   "execution_count": 19,
   "metadata": {
    "collapsed": false
   },
   "outputs": [
    {
     "name": "stdout",
     "output_type": "stream",
     "text": [
      "reporter:counter:Reducer Counters,Calls,1\n",
      "reporter:counter:Mapper Counters,Calls,1\n",
      "and\t1\n",
      "attempts\t1\n",
      "club\t1\n",
      "collect\t1\n",
      "cont'd\t1\n",
      "credit\t1\n",
      "debt\t3\n",
      "deposits\t1\n",
      "disclosure\t2\n",
      "false\t1\n",
      "health\t1\n",
      "incorrect\t1\n",
      "information\t1\n",
      "lease\t2\n",
      "loan\t2\n",
      "managing\t2\n",
      "not\t1\n",
      "of\t2\n",
      "on\t1\n",
      "or\t3\n",
      "owed\t1\n",
      "report\t1\n",
      "representation\t1\n",
      "statements\t1\n",
      "the\t2\n",
      "verification\t2\n",
      "withdrawals\t1\n"
     ]
    }
   ],
   "source": [
    "#unit test\n",
    "!head -10 Consumer_Complaints.csv|python mapper3.2.B.py|sort -k1,1|python reducer3.2.B.py"
   ]
  },
  {
   "cell_type": "code",
   "execution_count": 20,
   "metadata": {
    "collapsed": false
   },
   "outputs": [
    {
     "name": "stdout",
     "output_type": "stream",
     "text": [
      "Deleted hw3.2.B-output\n",
      "17/05/29 18:15:18 INFO Configuration.deprecation: mapred.output.key.comparator.class is deprecated. Instead, use mapreduce.job.output.key.comparator.class\n",
      "packageJobJar: [] [/usr/jars/hadoop-streaming-2.6.0-cdh5.7.0.jar] /tmp/streamjob4050062646095524493.jar tmpDir=null\n",
      "17/05/29 18:15:19 INFO client.RMProxy: Connecting to ResourceManager at /0.0.0.0:8032\n",
      "17/05/29 18:15:19 INFO client.RMProxy: Connecting to ResourceManager at /0.0.0.0:8032\n",
      "17/05/29 18:15:20 INFO mapred.FileInputFormat: Total input paths to process : 1\n",
      "17/05/29 18:15:20 INFO mapreduce.JobSubmitter: number of splits:2\n",
      "17/05/29 18:15:21 INFO mapreduce.JobSubmitter: Submitting tokens for job: job_1496033164706_0027\n",
      "17/05/29 18:15:21 INFO impl.YarnClientImpl: Submitted application application_1496033164706_0027\n",
      "17/05/29 18:15:21 INFO mapreduce.Job: The url to track the job: http://quickstart.cloudera:8088/proxy/application_1496033164706_0027/\n",
      "17/05/29 18:15:21 INFO mapreduce.Job: Running job: job_1496033164706_0027\n",
      "17/05/29 18:15:31 INFO mapreduce.Job: Job job_1496033164706_0027 running in uber mode : false\n",
      "17/05/29 18:15:31 INFO mapreduce.Job:  map 0% reduce 0%\n",
      "17/05/29 18:15:46 INFO mapreduce.Job:  map 100% reduce 0%\n",
      "17/05/29 18:15:56 INFO mapreduce.Job:  map 100% reduce 50%\n",
      "17/05/29 18:15:58 INFO mapreduce.Job:  map 100% reduce 100%\n",
      "17/05/29 18:15:59 INFO mapreduce.Job: Job job_1496033164706_0027 completed successfully\n",
      "17/05/29 18:15:59 INFO mapreduce.Job: Counters: 51\n",
      "\tFile System Counters\n",
      "\t\tFILE: Number of bytes read=14174923\n",
      "\t\tFILE: Number of bytes written=28821512\n",
      "\t\tFILE: Number of read operations=0\n",
      "\t\tFILE: Number of large read operations=0\n",
      "\t\tFILE: Number of write operations=0\n",
      "\t\tHDFS: Number of bytes read=50910816\n",
      "\t\tHDFS: Number of bytes written=2091\n",
      "\t\tHDFS: Number of read operations=12\n",
      "\t\tHDFS: Number of large read operations=0\n",
      "\t\tHDFS: Number of write operations=4\n",
      "\tJob Counters \n",
      "\t\tLaunched map tasks=2\n",
      "\t\tLaunched reduce tasks=2\n",
      "\t\tData-local map tasks=2\n",
      "\t\tTotal time spent by all maps in occupied slots (ms)=24295\n",
      "\t\tTotal time spent by all reduces in occupied slots (ms)=16639\n",
      "\t\tTotal time spent by all map tasks (ms)=24295\n",
      "\t\tTotal time spent by all reduce tasks (ms)=16639\n",
      "\t\tTotal vcore-seconds taken by all map tasks=24295\n",
      "\t\tTotal vcore-seconds taken by all reduce tasks=16639\n",
      "\t\tTotal megabyte-seconds taken by all map tasks=24878080\n",
      "\t\tTotal megabyte-seconds taken by all reduce tasks=17038336\n",
      "\tMap-Reduce Framework\n",
      "\t\tMap input records=312913\n",
      "\t\tMap output records=980482\n",
      "\t\tMap output bytes=12213947\n",
      "\t\tMap output materialized bytes=14174935\n",
      "\t\tInput split bytes=234\n",
      "\t\tCombine input records=0\n",
      "\t\tCombine output records=0\n",
      "\t\tReduce input groups=169\n",
      "\t\tReduce shuffle bytes=14174935\n",
      "\t\tReduce input records=980482\n",
      "\t\tReduce output records=169\n",
      "\t\tSpilled Records=1960964\n",
      "\t\tShuffled Maps =4\n",
      "\t\tFailed Shuffles=0\n",
      "\t\tMerged Map outputs=4\n",
      "\t\tGC time elapsed (ms)=267\n",
      "\t\tCPU time spent (ms)=13620\n",
      "\t\tPhysical memory (bytes) snapshot=1004634112\n",
      "\t\tVirtual memory (bytes) snapshot=5464588288\n",
      "\t\tTotal committed heap usage (bytes)=882900992\n",
      "\tMapper Counters\n",
      "\t\tCalls=2\n",
      "\tReducer Counters\n",
      "\t\tCalls=2\n",
      "\tShuffle Errors\n",
      "\t\tBAD_ID=0\n",
      "\t\tCONNECTION=0\n",
      "\t\tIO_ERROR=0\n",
      "\t\tWRONG_LENGTH=0\n",
      "\t\tWRONG_MAP=0\n",
      "\t\tWRONG_REDUCE=0\n",
      "\tFile Input Format Counters \n",
      "\t\tBytes Read=50910582\n",
      "\tFile Output Format Counters \n",
      "\t\tBytes Written=2091\n",
      "17/05/29 18:15:59 INFO streaming.StreamJob: Output directory: hw3.2.B-output\n"
     ]
    }
   ],
   "source": [
    "# Hadoop command\n",
    "# START STUDENT CODE HW32BHADOOP\n",
    "!hdfs dfs -rm -r hw3.2.B-output\n",
    "!hadoop jar /usr/lib/hadoop-mapreduce/hadoop-streaming.jar \\\n",
    "    -D mapreduce.job.maps=2 \\\n",
    "    -D mapreduce.job.reduces=2\\\n",
    "    -D stream.num.map.output.key.fields=2 \\\n",
    "    -D stream.map.output.field.separator=\"\\t\" \\\n",
    "    -D mapreduce.partition.keypartitioner.options=-k1,1 \\\n",
    "    -D mapred.output.key.comparator.class=org.apache.hadoop.mapred.lib.KeyFieldBasedComparator \\\n",
    "    -D mapreduce.partition.keycomparator.options=\"-k1,1nr -k2,2\" \\\n",
    "    -files mapper3.2.B.py,reducer3.2.B.py\\\n",
    "    -mapper mapper3.2.B.py \\\n",
    "    -reducer reducer3.2.B.py\\\n",
    "    -input  Consumer_Complaints.csv \\\n",
    "    -cmdenv NUM_PARTITIONS=2\\\n",
    "    -output  hw3.2.B-output\n",
    "\n",
    "# END STUDENT CODE HW32BHADOOP"
   ]
  },
  {
   "cell_type": "code",
   "execution_count": 21,
   "metadata": {
    "collapsed": false
   },
   "outputs": [
    {
     "name": "stdout",
     "output_type": "stream",
     "text": [
      "Found 3 items\n",
      "-rw-r--r--   1 root supergroup          0 2017-05-29 18:15 hw3.2.B-output/_SUCCESS\n",
      "-rw-r--r--   1 root supergroup        841 2017-05-29 18:15 hw3.2.B-output/part-00000\n",
      "-rw-r--r--   1 root supergroup       1250 2017-05-29 18:15 hw3.2.B-output/part-00001\n",
      "________Output_________\n",
      "opening\t16205\n",
      "other\t7886\n",
      "out\t1242\n",
      "pay\t3821\n",
      "payment\t92\n",
      "plans\t350\n",
      "practices\t1003\n",
      "privacy\t240\n",
      "problems\t9484\n",
      "rate\t3431\n",
      "receiving\t3226\n",
      "report\t34903\n",
      "reporting\t6559\n",
      "rewards\t1002\n",
      "scam\t566\n",
      "score\t4357\n",
      "servicing\t36767\n",
      "sharing\t2832\n",
      "shopping\t672\n",
      "statements\t2508\n",
      "stop\t131\n",
      "taking\t3747\n",
      "transaction\t1485\n",
      "underwriting\t2774\n",
      "using\t2422\n",
      "when\t4095\n",
      "with\t1944\n",
      "withdrawals\t10555\n",
      "a\t3503\n",
      "account\t20681\n",
      "acct\t163\n",
      "an\t2505\n",
      "and\t16448\n",
      "applied\t139\n",
      "apr\t3431\n",
      "arbitration\t168\n",
      "available\t274\n",
      "bankruptcy\t222\n",
      "being\t5663\n",
      "billing\t8158\n",
      "by\t5663\n",
      "can't\t1999\n",
      "cash\t240\n",
      "caused\t5663\n",
      "changes\t350\n",
      "charges\t131\n",
      "checks\t75\n",
      "closing\t2795\n",
      "company's\t4858\n",
      "cont'd\t11848\n",
      "convenience\t75\n",
      "credit\t55251\n",
      "debt\t19309\n",
      "delay\t243\n",
      "delinquent\t1061\n",
      "deposits\t10555\n",
      "determination\t1490\n",
      "did\t139\n",
      "disclosure\t5214\n",
      "disputes\t6938\n",
      "expect\t807\n",
      "false\t2508\n",
      "fees\t807\n",
      "for\t929\n",
      "i\t925\n",
      "incorrect\t29133\n",
      "issuance\t640\n",
      "issue\t1098\n",
      "making\t3226\n",
      "not\t12353\n",
      "of\t10885\n",
      "on\t29069\n",
      "or\t22533\n",
      "overlimit\t127\n",
      "owed\t11848\n",
      "payments\t3226\n",
      "payoff\t1155\n",
      "process\t5505\n",
      "processing\t243\n",
      "promised\t274\n",
      "protection\t4139\n",
      "receive\t139\n",
      "received\t216\n",
      "relations\t1367\n",
      "repay\t1647\n",
      "repaying\t3844\n",
      "representation\t2508\n",
      "sale\t139\n",
      "service\t1518\n",
      "servicer\t1944\n",
      "settlement\t4350\n",
      "statement\t1220\n",
      "tactics\t6920\n",
      "terms\t350\n",
      "the\t6248\n",
      "theft\t3276\n",
      "threatening\t2505\n",
      "to\t8401\n",
      "transfer\t597\n",
      "unable\t8178\n",
      "unsolicited\t640\n",
      "use\t1477\n",
      "verification\t5214\n",
      "was\t274\n",
      "workout\t350\n",
      "wrong\t169\n",
      "you\t3821\n",
      "your\t3844\n",
      "action\t2505\n",
      "advance\t240\n",
      "advertising\t1193\n",
      "amount\t98\n",
      "amt\t71\n",
      "application\t8868\n",
      "apply\t118\n",
      "are\t3821\n",
      "atm\t2422\n",
      "attempts\t11848\n",
      "balance\t597\n",
      "bank\t202\n",
      "cancelling\t2795\n",
      "card\t4405\n",
      "charged\t976\n",
      "club\t12545\n",
      "collect\t11848\n",
      "collection\t1907\n",
      "communication\t6920\n",
      "contact\t3053\n",
      "costs\t4350\n",
      "credited\t92\n",
      "customer\t2734\n",
      "day\t71\n",
      "dealing\t1944\n",
      "debit\t2422\n",
      "decision\t2774\n",
      "decrease\t1149\n",
      "didn't\t925\n",
      "disclosures\t64\n",
      "dispute\t904\n",
      "embezzlement\t3276\n",
      "fee\t3198\n",
      "forbearance\t350\n",
      "fraud\t3842\n",
      "funds\t5663\n",
      "get\t4357\n",
      "getting\t291\n",
      "health\t12545\n",
      "identity\t4729\n",
      "illegal\t2505\n",
      "improper\t4309\n",
      "increase\t1149\n",
      "info\t2896\n",
      "information\t29069\n",
      "interest\t4238\n",
      "investigation\t4858\n",
      "issues\t538\n",
      "late\t1797\n",
      "lease\t6337\n",
      "lender\t2165\n",
      "line\t1732\n",
      "loan\t119630\n",
      "low\t5663\n",
      "managing\t5006\n",
      "marketing\t1193\n",
      "missing\t64\n",
      "modification\t70487\n",
      "money\t413\n",
      "monitoring\t1453\n",
      "my\t10731\n"
     ]
    }
   ],
   "source": [
    "# 3.2.B OUTPUT/ANSWER\n",
    "!hdfs dfs -ls hw3.2.B-output\n",
    "!echo \"________Output_________\"\n",
    "!hdfs dfs -cat hw3.2.B-output/part-0000*"
   ]
  },
  {
   "cell_type": "markdown",
   "metadata": {
    "collapsed": true
   },
   "source": [
    "### INSERT SCREENSHOT OF JOB TRACKER UI COUNTERS\n",
    "![logs](32c.png)"
   ]
  },
  {
   "cell_type": "markdown",
   "metadata": {},
   "source": [
    "### 3.2.C SOLUTION"
   ]
  },
  {
   "cell_type": "code",
   "execution_count": 22,
   "metadata": {
    "collapsed": false
   },
   "outputs": [
    {
     "name": "stdout",
     "output_type": "stream",
     "text": [
      "Overwriting mapper3.2.C.py\n"
     ]
    }
   ],
   "source": [
    "%%writefile mapper3.2.C.py\n",
    "#!/usr/bin/env python\n",
    "# START STUDENT CODE HW32CMAPPER\n",
    "from __future__ import division\n",
    "import math\n",
    "import os\n",
    "import sys\n",
    "import re\n",
    "\n",
    "separator = ','\n",
    "sys.stderr.write(\"reporter:counter:Mapper Counters,Calls,1\\n\")\n",
    "WORD_RE = re.compile(r\"[\\w']+\")\n",
    "#numReducers = int(os.environ.get('NUM_PARTITIONS', '4')) \n",
    "\n",
    "total = 0\n",
    "\n",
    "def makeKey(word,n):\n",
    "  divisor = 26/n\n",
    "  return int(math.ceil((ord(word[0])-96)/divisor))\n",
    "\n",
    "#loop through each records\n",
    "for line in (sys.stdin):\n",
    "#get 3rd column\n",
    "        fields = line.split(separator)\n",
    "        if 'Complaint ID' != fields[0] :\n",
    "           \n",
    "            # we have a real record, so do some mapping\n",
    "            counter_name = None\n",
    "            for word  in [s.lower() for s in WORD_RE.findall(fields[3])]:\n",
    "                #key = makeKey(word,numReducers)\n",
    "                print '%s\\t%s' % (word, 1)\n",
    "                total = total + 1\n",
    "print '%s\\t%s' % (\"*total\", total)\n",
    "            \n",
    "\n",
    "\n",
    "# END STUDENT CODE HW32CMAPPER"
   ]
  },
  {
   "cell_type": "code",
   "execution_count": 23,
   "metadata": {
    "collapsed": false
   },
   "outputs": [
    {
     "name": "stdout",
     "output_type": "stream",
     "text": [
      "Overwriting combiner3.2.C.py\n"
     ]
    }
   ],
   "source": [
    "%%writefile combiner3.2.C.py\n",
    "#!/usr/bin/env python\n",
    "# START STUDENT CODE HW32CCOMBINER\n",
    "import sys\n",
    "\n",
    "cur_key = None\n",
    "cur_count = 0\n",
    "sys.stderr.write(\"reporter:counter:Combiner Counters,Calls,1\\n\")\n",
    "for line in sys.stdin:\n",
    "    key, value = line.split()\n",
    "    if key == cur_key:\n",
    "        cur_count += int(value)\n",
    "    else:\n",
    "        if cur_key:\n",
    "            print '%s\\t%s' % (cur_key, cur_count)\n",
    "        cur_key = key\n",
    "        cur_count = int(value)\n",
    "\n",
    "print '%s\\t%s' % (cur_key, cur_count)\n",
    "# END STUDENT CODE HW32CCOMBINER"
   ]
  },
  {
   "cell_type": "code",
   "execution_count": 24,
   "metadata": {
    "collapsed": false
   },
   "outputs": [
    {
     "name": "stdout",
     "output_type": "stream",
     "text": [
      "Overwriting reducer3.2.C.py\n"
     ]
    }
   ],
   "source": [
    "%%writefile reducer3.2.C.py\n",
    "#!/usr/bin/env python\n",
    "# START STUDENT CODE HW32CREDUCER\n",
    "import sys\n",
    "\n",
    "cur_key = None\n",
    "cur_count = 0\n",
    "sys.stderr.write(\"reporter:counter:Reducer Counters,Calls,1\\n\")\n",
    "for line in sys.stdin:\n",
    "    key, value = line.split()\n",
    "    if key == cur_key:\n",
    "        cur_count += int(value)\n",
    "    else:\n",
    "        if cur_key:\n",
    "            print '%s\\t%s' % (cur_key, cur_count)\n",
    "        cur_key = key\n",
    "        cur_count = int(value)\n",
    "\n",
    "print '%s\\t%s' % (cur_key, cur_count)\n",
    "# END STUDENT CODE HW32CREDUCER"
   ]
  },
  {
   "cell_type": "code",
   "execution_count": 25,
   "metadata": {
    "collapsed": true
   },
   "outputs": [],
   "source": [
    "!chmod a+x mapper3.2.C.py\n",
    "!chmod a+x reducer3.2.C.py\n",
    "!chmod a+x combiner3.2.C.py"
   ]
  },
  {
   "cell_type": "code",
   "execution_count": 26,
   "metadata": {
    "collapsed": false
   },
   "outputs": [
    {
     "name": "stdout",
     "output_type": "stream",
     "text": [
      "reporter:counter:Combiner Counters,Calls,1\r\n",
      "reporter:counter:Mapper Counters,Calls,1\r\n",
      "reporter:counter:Reducer Counters,Calls,1\r\n",
      "*total\t38\r\n",
      "and\t1\r\n",
      "attempts\t1\r\n",
      "club\t1\r\n",
      "collect\t1\r\n",
      "cont'd\t1\r\n",
      "credit\t1\r\n",
      "debt\t3\r\n",
      "deposits\t1\r\n",
      "disclosure\t2\r\n",
      "false\t1\r\n",
      "health\t1\r\n",
      "incorrect\t1\r\n",
      "information\t1\r\n",
      "lease\t2\r\n",
      "loan\t2\r\n",
      "managing\t2\r\n",
      "not\t1\r\n",
      "of\t2\r\n",
      "on\t1\r\n",
      "or\t3\r\n",
      "owed\t1\r\n",
      "report\t1\r\n",
      "representation\t1\r\n",
      "statements\t1\r\n",
      "the\t2\r\n",
      "verification\t2\r\n",
      "withdrawals\t1\r\n"
     ]
    }
   ],
   "source": [
    "#unit Testing\n",
    "!head -10 Consumer_Complaints.csv|python mapper3.2.C.py|sort -k1,1|python combiner3.2.C.py|python reducer3.2.C.py"
   ]
  },
  {
   "cell_type": "code",
   "execution_count": 27,
   "metadata": {
    "collapsed": false
   },
   "outputs": [
    {
     "name": "stdout",
     "output_type": "stream",
     "text": [
      "Deleted hw3.2.C-output\n",
      "packageJobJar: [] [/usr/jars/hadoop-streaming-2.6.0-cdh5.7.0.jar] /tmp/streamjob8084771334338652203.jar tmpDir=null\n",
      "17/05/29 18:16:14 INFO client.RMProxy: Connecting to ResourceManager at /0.0.0.0:8032\n",
      "17/05/29 18:16:14 INFO client.RMProxy: Connecting to ResourceManager at /0.0.0.0:8032\n",
      "17/05/29 18:16:15 INFO mapred.FileInputFormat: Total input paths to process : 1\n",
      "17/05/29 18:16:15 INFO mapreduce.JobSubmitter: number of splits:2\n",
      "17/05/29 18:16:16 INFO mapreduce.JobSubmitter: Submitting tokens for job: job_1496033164706_0028\n",
      "17/05/29 18:16:16 INFO impl.YarnClientImpl: Submitted application application_1496033164706_0028\n",
      "17/05/29 18:16:16 INFO mapreduce.Job: The url to track the job: http://quickstart.cloudera:8088/proxy/application_1496033164706_0028/\n",
      "17/05/29 18:16:16 INFO mapreduce.Job: Running job: job_1496033164706_0028\n",
      "17/05/29 18:16:23 INFO mapreduce.Job: Job job_1496033164706_0028 running in uber mode : false\n",
      "17/05/29 18:16:23 INFO mapreduce.Job:  map 0% reduce 0%\n",
      "17/05/29 18:16:37 INFO mapreduce.Job:  map 50% reduce 0%\n",
      "17/05/29 18:16:38 INFO mapreduce.Job:  map 100% reduce 0%\n",
      "17/05/29 18:16:49 INFO mapreduce.Job:  map 100% reduce 25%\n",
      "17/05/29 18:16:52 INFO mapreduce.Job:  map 100% reduce 50%\n",
      "17/05/29 18:16:53 INFO mapreduce.Job:  map 100% reduce 75%\n",
      "17/05/29 18:16:54 INFO mapreduce.Job:  map 100% reduce 100%\n",
      "17/05/29 18:16:54 INFO mapreduce.Job: Job job_1496033164706_0028 completed successfully\n",
      "17/05/29 18:16:54 INFO mapreduce.Job: Counters: 52\n",
      "\tFile System Counters\n",
      "\t\tFILE: Number of bytes read=4488\n",
      "\t\tFILE: Number of bytes written=715820\n",
      "\t\tFILE: Number of read operations=0\n",
      "\t\tFILE: Number of large read operations=0\n",
      "\t\tFILE: Number of write operations=0\n",
      "\t\tHDFS: Number of bytes read=50910816\n",
      "\t\tHDFS: Number of bytes written=2105\n",
      "\t\tHDFS: Number of read operations=18\n",
      "\t\tHDFS: Number of large read operations=0\n",
      "\t\tHDFS: Number of write operations=8\n",
      "\tJob Counters \n",
      "\t\tLaunched map tasks=2\n",
      "\t\tLaunched reduce tasks=4\n",
      "\t\tData-local map tasks=2\n",
      "\t\tTotal time spent by all maps in occupied slots (ms)=22354\n",
      "\t\tTotal time spent by all reduces in occupied slots (ms)=42527\n",
      "\t\tTotal time spent by all map tasks (ms)=22354\n",
      "\t\tTotal time spent by all reduce tasks (ms)=42527\n",
      "\t\tTotal vcore-seconds taken by all map tasks=22354\n",
      "\t\tTotal vcore-seconds taken by all reduce tasks=42527\n",
      "\t\tTotal megabyte-seconds taken by all map tasks=22890496\n",
      "\t\tTotal megabyte-seconds taken by all reduce tasks=43547648\n",
      "\tMap-Reduce Framework\n",
      "\t\tMap input records=312913\n",
      "\t\tMap output records=980484\n",
      "\t\tMap output bytes=9272529\n",
      "\t\tMap output materialized bytes=4512\n",
      "\t\tInput split bytes=234\n",
      "\t\tCombine input records=980484\n",
      "\t\tCombine output records=315\n",
      "\t\tReduce input groups=170\n",
      "\t\tReduce shuffle bytes=4512\n",
      "\t\tReduce input records=315\n",
      "\t\tReduce output records=170\n",
      "\t\tSpilled Records=630\n",
      "\t\tShuffled Maps =8\n",
      "\t\tFailed Shuffles=0\n",
      "\t\tMerged Map outputs=8\n",
      "\t\tGC time elapsed (ms)=378\n",
      "\t\tCPU time spent (ms)=11410\n",
      "\t\tPhysical memory (bytes) snapshot=1193881600\n",
      "\t\tVirtual memory (bytes) snapshot=8201932800\n",
      "\t\tTotal committed heap usage (bytes)=973602816\n",
      "\tCombiner Counters\n",
      "\t\tCalls=8\n",
      "\tMapper Counters\n",
      "\t\tCalls=2\n",
      "\tReducer Counters\n",
      "\t\tCalls=4\n",
      "\tShuffle Errors\n",
      "\t\tBAD_ID=0\n",
      "\t\tCONNECTION=0\n",
      "\t\tIO_ERROR=0\n",
      "\t\tWRONG_LENGTH=0\n",
      "\t\tWRONG_MAP=0\n",
      "\t\tWRONG_REDUCE=0\n",
      "\tFile Input Format Counters \n",
      "\t\tBytes Read=50910582\n",
      "\tFile Output Format Counters \n",
      "\t\tBytes Written=2105\n",
      "17/05/29 18:16:54 INFO streaming.StreamJob: Output directory: hw3.2.C-output\n"
     ]
    }
   ],
   "source": [
    "# Hadoop command\n",
    "# START STUDENT CODE HW32CHADOOP\n",
    "!hdfs dfs -rm -r hw3.2.C-output\n",
    "!hadoop jar /usr/lib/hadoop-mapreduce/hadoop-streaming.jar \\\n",
    "    -files mapper3.2.C.py,reducer3.2.C.py,combiner3.2.C.py\\\n",
    "    -mapper mapper3.2.C.py \\\n",
    "    -reducer reducer3.2.C.py\\\n",
    "    -combiner combiner3.2.C.py\\\n",
    "    -input  Consumer_Complaints.csv \\\n",
    "    -output  hw3.2.C-output \\\n",
    "    -numReduceTasks 4\n",
    "\n",
    "# END STUDENT CODE HW32CHADOOP"
   ]
  },
  {
   "cell_type": "code",
   "execution_count": 28,
   "metadata": {
    "collapsed": false
   },
   "outputs": [
    {
     "name": "stdout",
     "output_type": "stream",
     "text": [
      "Found 5 items\n",
      "-rw-r--r--   1 root supergroup          0 2017-05-29 18:16 hw3.2.C-output/_SUCCESS\n",
      "-rw-r--r--   1 root supergroup        452 2017-05-29 18:16 hw3.2.C-output/part-00000\n",
      "-rw-r--r--   1 root supergroup        600 2017-05-29 18:16 hw3.2.C-output/part-00001\n",
      "-rw-r--r--   1 root supergroup        517 2017-05-29 18:16 hw3.2.C-output/part-00002\n",
      "-rw-r--r--   1 root supergroup        536 2017-05-29 18:16 hw3.2.C-output/part-00003\n",
      "________Output_________\n",
      "a\t3503\n",
      "account\t20681\n",
      "acct\t163\n",
      "applied\t139\n",
      "available\t274\n",
      "by\t5663\n",
      "can't\t1999\n",
      "cash\t240\n",
      "caused\t5663\n",
      "checks\t75\n",
      "closing\t2795\n",
      "company's\t4858\n",
      "cont'd\t11848\n",
      "debt\t19309\n",
      "delinquent\t1061\n",
      "disputes\t6938\n",
      "for\t929\n",
      "i\t925\n",
      "incorrect\t29133\n",
      "issuance\t640\n",
      "issue\t1098\n",
      "making\t3226\n",
      "of\t10885\n",
      "on\t29069\n",
      "or\t22533\n",
      "owed\t11848\n",
      "payoff\t1155\n",
      "processing\t243\n",
      "repay\t1647\n",
      "sale\t139\n",
      "service\t1518\n",
      "the\t6248\n",
      "to\t8401\n",
      "transfer\t597\n",
      "unable\t8178\n",
      "verification\t5214\n",
      "was\t274\n",
      "workout\t350\n",
      "wrong\t169\n",
      "your\t3844\n",
      "advance\t240\n",
      "amount\t98\n",
      "apply\t118\n",
      "atm\t2422\n",
      "bank\t202\n",
      "cancelling\t2795\n",
      "card\t4405\n",
      "collect\t11848\n",
      "communication\t6920\n",
      "costs\t4350\n",
      "credited\t92\n",
      "dealing\t1944\n",
      "decision\t2774\n",
      "didn't\t925\n",
      "disclosures\t64\n",
      "fee\t3198\n",
      "funds\t5663\n",
      "get\t4357\n",
      "health\t12545\n",
      "illegal\t2505\n",
      "improper\t4309\n",
      "investigation\t4858\n",
      "lease\t6337\n",
      "lender\t2165\n",
      "line\t1732\n",
      "loan\t119630\n",
      "marketing\t1193\n",
      "missing\t64\n",
      "modification\t70487\n",
      "monitoring\t1453\n",
      "my\t10731\n",
      "out\t1242\n",
      "payment\t92\n",
      "plans\t350\n",
      "problems\t9484\n",
      "rate\t3431\n",
      "report\t34903\n",
      "reporting\t6559\n",
      "scam\t566\n",
      "score\t4357\n",
      "servicing\t36767\n",
      "shopping\t672\n",
      "statements\t2508\n",
      "taking\t3747\n",
      "transaction\t1485\n",
      "underwriting\t2774\n",
      "withdrawals\t10555\n",
      "an\t2505\n",
      "and\t16448\n",
      "apr\t3431\n",
      "arbitration\t168\n",
      "bankruptcy\t222\n",
      "being\t5663\n",
      "billing\t8158\n",
      "changes\t350\n",
      "charges\t131\n",
      "convenience\t75\n",
      "credit\t55251\n",
      "delay\t243\n",
      "deposits\t10555\n",
      "determination\t1490\n",
      "did\t139\n",
      "disclosure\t5214\n",
      "expect\t807\n",
      "false\t2508\n",
      "fees\t807\n",
      "not\t12353\n",
      "overlimit\t127\n",
      "payments\t3226\n",
      "process\t5505\n",
      "promised\t274\n",
      "protection\t4139\n",
      "receive\t139\n",
      "received\t216\n",
      "relations\t1367\n",
      "repaying\t3844\n",
      "representation\t2508\n",
      "servicer\t1944\n",
      "settlement\t4350\n",
      "statement\t1220\n",
      "tactics\t6920\n",
      "terms\t350\n",
      "theft\t3276\n",
      "threatening\t2505\n",
      "unsolicited\t640\n",
      "use\t1477\n",
      "you\t3821\n",
      "*total\t980482\n",
      "action\t2505\n",
      "advertising\t1193\n",
      "amt\t71\n",
      "application\t8868\n",
      "are\t3821\n",
      "attempts\t11848\n",
      "balance\t597\n",
      "charged\t976\n",
      "club\t12545\n",
      "collection\t1907\n",
      "contact\t3053\n",
      "customer\t2734\n",
      "day\t71\n",
      "debit\t2422\n",
      "decrease\t1149\n",
      "dispute\t904\n",
      "embezzlement\t3276\n",
      "forbearance\t350\n",
      "fraud\t3842\n",
      "getting\t291\n",
      "identity\t4729\n",
      "increase\t1149\n",
      "info\t2896\n",
      "information\t29069\n",
      "interest\t4238\n",
      "issues\t538\n",
      "late\t1797\n",
      "low\t5663\n",
      "managing\t5006\n",
      "money\t413\n",
      "opening\t16205\n",
      "other\t7886\n",
      "pay\t3821\n",
      "practices\t1003\n",
      "privacy\t240\n",
      "receiving\t3226\n",
      "rewards\t1002\n",
      "sharing\t2832\n",
      "stop\t131\n",
      "using\t2422\n",
      "when\t4095\n",
      "with\t1944\n"
     ]
    }
   ],
   "source": [
    "# 3.2.C OUTPUT/ANSWER\n",
    "!hdfs dfs -ls hw3.2.C-output\n",
    "!echo \"________Output_________\"\n",
    "!hdfs dfs -cat hw3.2.C-output/part-0000*"
   ]
  },
  {
   "cell_type": "markdown",
   "metadata": {
    "collapsed": true
   },
   "source": [
    "### INSERT SCREENSHOT OF JOB TRACKER UI COUNTERS\n",
    "![logs](32d.png)"
   ]
  },
  {
   "cell_type": "code",
   "execution_count": 29,
   "metadata": {
    "collapsed": false
   },
   "outputs": [
    {
     "name": "stdout",
     "output_type": "stream",
     "text": [
      "Overwriting frequencies_mapper3.2.C.py\n"
     ]
    }
   ],
   "source": [
    "%%writefile frequencies_mapper3.2.C.py\n",
    "#!/usr/bin/env python\n",
    "# START STUDENT CODE HW32CFREQMAPPER\n",
    "from __future__ import division\n",
    "import math\n",
    "import os\n",
    "import sys\n",
    "import re\n",
    "\n",
    "separator = ','\n",
    "sys.stderr.write(\"reporter:counter:Mapper Counters,Calls,1\\n\")\n",
    "WORD_RE = re.compile(r\"[\\w']+\")\n",
    "\n",
    "#loop through each records\n",
    "for line in sys.stdin:\n",
    "    print line.strip()\n",
    "            \n",
    "\n",
    "\n",
    "# END STUDENT CODE HW32CFREQMAPPER"
   ]
  },
  {
   "cell_type": "code",
   "execution_count": 30,
   "metadata": {
    "collapsed": false
   },
   "outputs": [
    {
     "name": "stdout",
     "output_type": "stream",
     "text": [
      "Overwriting frequencies_reducer3.2.C.py\n"
     ]
    }
   ],
   "source": [
    "%%writefile frequencies_reducer3.2.C.py\n",
    "#!/usr/bin/env python\n",
    "# START STUDENT CODE HW32CFREQREDUCER\n",
    "import sys\n",
    "\n",
    "# Initialize variables\n",
    "total = 0\n",
    "cur_key = None\n",
    "cur_count = 0\n",
    "sys.stderr.write(\"reporter:counter:Reducer Counters,Calls,1\\n\")\n",
    "for line in sys.stdin:\n",
    "   \n",
    "    fields = line.replace('\\n','').split('\\t')\n",
    "    count = fields[1]\n",
    "    word = fields[0]\n",
    "    try:\n",
    "        count = int(count)\n",
    "    except ValueError:\n",
    "        continue\n",
    "    if word == '*total': \n",
    "        total =  total + float(count)\n",
    "    else: \n",
    "        print '%s\\t%s\\t%2.3f' % (word, count, float(count)/total)  \n",
    "        #print \"{0:20}\\t{1:10}\\t{2}\\n\".format(word, count, float(count)/total) \n",
    "# END STUDENT CODE HW32CFREQREDUCER"
   ]
  },
  {
   "cell_type": "code",
   "execution_count": 31,
   "metadata": {
    "collapsed": false
   },
   "outputs": [
    {
     "name": "stdout",
     "output_type": "stream",
     "text": [
      "Deleted hw3.2.D-output\n",
      "17/05/29 18:17:06 INFO Configuration.deprecation: mapred.output.key.comparator.class is deprecated. Instead, use mapreduce.job.output.key.comparator.class\n",
      "packageJobJar: [] [/usr/jars/hadoop-streaming-2.6.0-cdh5.7.0.jar] /tmp/streamjob4566011779532477384.jar tmpDir=null\n",
      "17/05/29 18:17:07 INFO client.RMProxy: Connecting to ResourceManager at /0.0.0.0:8032\n",
      "17/05/29 18:17:08 INFO client.RMProxy: Connecting to ResourceManager at /0.0.0.0:8032\n",
      "17/05/29 18:17:09 INFO mapred.FileInputFormat: Total input paths to process : 4\n",
      "17/05/29 18:17:09 INFO mapreduce.JobSubmitter: number of splits:4\n",
      "17/05/29 18:17:10 INFO mapreduce.JobSubmitter: Submitting tokens for job: job_1496033164706_0029\n",
      "17/05/29 18:17:10 INFO impl.YarnClientImpl: Submitted application application_1496033164706_0029\n",
      "17/05/29 18:17:10 INFO mapreduce.Job: The url to track the job: http://quickstart.cloudera:8088/proxy/application_1496033164706_0029/\n",
      "17/05/29 18:17:10 INFO mapreduce.Job: Running job: job_1496033164706_0029\n",
      "17/05/29 18:17:18 INFO mapreduce.Job: Job job_1496033164706_0029 running in uber mode : false\n",
      "17/05/29 18:17:18 INFO mapreduce.Job:  map 0% reduce 0%\n",
      "17/05/29 18:17:29 INFO mapreduce.Job:  map 25% reduce 0%\n",
      "17/05/29 18:17:32 INFO mapreduce.Job:  map 50% reduce 0%\n",
      "17/05/29 18:17:33 INFO mapreduce.Job:  map 75% reduce 0%\n",
      "17/05/29 18:17:34 INFO mapreduce.Job:  map 100% reduce 0%\n",
      "17/05/29 18:17:37 INFO mapreduce.Job:  map 100% reduce 100%\n",
      "17/05/29 18:17:38 INFO mapreduce.Job: Job job_1496033164706_0029 completed successfully\n",
      "17/05/29 18:17:38 INFO mapreduce.Job: Counters: 51\n",
      "\tFile System Counters\n",
      "\t\tFILE: Number of bytes read=2621\n",
      "\t\tFILE: Number of bytes written=594745\n",
      "\t\tFILE: Number of read operations=0\n",
      "\t\tFILE: Number of large read operations=0\n",
      "\t\tFILE: Number of write operations=0\n",
      "\t\tHDFS: Number of bytes read=2581\n",
      "\t\tHDFS: Number of bytes written=3105\n",
      "\t\tHDFS: Number of read operations=15\n",
      "\t\tHDFS: Number of large read operations=0\n",
      "\t\tHDFS: Number of write operations=2\n",
      "\tJob Counters \n",
      "\t\tLaunched map tasks=4\n",
      "\t\tLaunched reduce tasks=1\n",
      "\t\tData-local map tasks=4\n",
      "\t\tTotal time spent by all maps in occupied slots (ms)=40792\n",
      "\t\tTotal time spent by all reduces in occupied slots (ms)=5583\n",
      "\t\tTotal time spent by all map tasks (ms)=40792\n",
      "\t\tTotal time spent by all reduce tasks (ms)=5583\n",
      "\t\tTotal vcore-seconds taken by all map tasks=40792\n",
      "\t\tTotal vcore-seconds taken by all reduce tasks=5583\n",
      "\t\tTotal megabyte-seconds taken by all map tasks=41771008\n",
      "\t\tTotal megabyte-seconds taken by all reduce tasks=5716992\n",
      "\tMap-Reduce Framework\n",
      "\t\tMap input records=170\n",
      "\t\tMap output records=170\n",
      "\t\tMap output bytes=2275\n",
      "\t\tMap output materialized bytes=2639\n",
      "\t\tInput split bytes=476\n",
      "\t\tCombine input records=0\n",
      "\t\tCombine output records=0\n",
      "\t\tReduce input groups=170\n",
      "\t\tReduce shuffle bytes=2639\n",
      "\t\tReduce input records=170\n",
      "\t\tReduce output records=169\n",
      "\t\tSpilled Records=340\n",
      "\t\tShuffled Maps =4\n",
      "\t\tFailed Shuffles=0\n",
      "\t\tMerged Map outputs=4\n",
      "\t\tGC time elapsed (ms)=344\n",
      "\t\tCPU time spent (ms)=3490\n",
      "\t\tPhysical memory (bytes) snapshot=1197789184\n",
      "\t\tVirtual memory (bytes) snapshot=6835449856\n",
      "\t\tTotal committed heap usage (bytes)=953679872\n",
      "\tMapper Counters\n",
      "\t\tCalls=4\n",
      "\tReducer Counters\n",
      "\t\tCalls=1\n",
      "\tShuffle Errors\n",
      "\t\tBAD_ID=0\n",
      "\t\tCONNECTION=0\n",
      "\t\tIO_ERROR=0\n",
      "\t\tWRONG_LENGTH=0\n",
      "\t\tWRONG_MAP=0\n",
      "\t\tWRONG_REDUCE=0\n",
      "\tFile Input Format Counters \n",
      "\t\tBytes Read=2105\n",
      "\tFile Output Format Counters \n",
      "\t\tBytes Written=3105\n",
      "17/05/29 18:17:38 INFO streaming.StreamJob: Output directory: hw3.2.D-output\n"
     ]
    }
   ],
   "source": [
    "# Hadoop command\n",
    "# START STUDENT CODE HW32CFREQHADOOP\n",
    "!hdfs dfs -rm -r hw3.2.D-output\n",
    "!hadoop jar /usr/lib/hadoop-mapreduce/hadoop-streaming.jar \\\n",
    "    -D stream.num.map.output.key.fields=4 \\\n",
    "    -D mapred.output.key.comparator.class=org.apache.hadoop.mapred.lib.KeyFieldBasedComparator \\\n",
    "    -D mapreduce.partition.keycomparator.options=\"-k2,2nr -k1,1\" \\\n",
    "    -D mapreduce.job.reduces=1 \\\n",
    "    -files frequencies_mapper3.2.C.py,frequencies_reducer3.2.C.py \\\n",
    "    -mapper frequencies_mapper3.2.C.py \\\n",
    "    -reducer frequencies_reducer3.2.C.py \\\n",
    "    -input hw3.2.C-output \\\n",
    "    -output hw3.2.D-output \\\n",
    "    -partitioner org.apache.hadoop.mapred.lib.KeyFieldBasedPartitioner\n",
    "# END STUDENT CODE HW32CFREQHADOOP"
   ]
  },
  {
   "cell_type": "code",
   "execution_count": 32,
   "metadata": {
    "collapsed": false
   },
   "outputs": [
    {
     "name": "stdout",
     "output_type": "stream",
     "text": [
      "Found 2 items\n",
      "-rw-r--r--   1 root supergroup          0 2017-05-29 18:17 hw3.2.D-output/_SUCCESS\n",
      "-rw-r--r--   1 root supergroup       3105 2017-05-29 18:17 hw3.2.D-output/part-00000\n",
      "________Output_________\n",
      "loan\t119630\t0.122\n",
      "modification\t70487\t0.072\n",
      "credit\t55251\t0.056\n",
      "servicing\t36767\t0.037\n",
      "report\t34903\t0.036\n",
      "incorrect\t29133\t0.030\n",
      "information\t29069\t0.030\n",
      "on\t29069\t0.030\n",
      "or\t22533\t0.023\n",
      "account\t20681\t0.021\n",
      "debt\t19309\t0.020\n",
      "and\t16448\t0.017\n",
      "opening\t16205\t0.017\n",
      "club\t12545\t0.013\n",
      "health\t12545\t0.013\n",
      "not\t12353\t0.013\n",
      "attempts\t11848\t0.012\n",
      "collect\t11848\t0.012\n",
      "cont'd\t11848\t0.012\n",
      "owed\t11848\t0.012\n",
      "of\t10885\t0.011\n",
      "my\t10731\t0.011\n",
      "deposits\t10555\t0.011\n",
      "withdrawals\t10555\t0.011\n",
      "problems\t9484\t0.010\n",
      "application\t8868\t0.009\n",
      "to\t8401\t0.009\n",
      "unable\t8178\t0.008\n",
      "billing\t8158\t0.008\n",
      "other\t7886\t0.008\n",
      "disputes\t6938\t0.007\n",
      "communication\t6920\t0.007\n",
      "tactics\t6920\t0.007\n",
      "reporting\t6559\t0.007\n",
      "lease\t6337\t0.006\n",
      "the\t6248\t0.006\n",
      "being\t5663\t0.006\n",
      "by\t5663\t0.006\n",
      "caused\t5663\t0.006\n",
      "funds\t5663\t0.006\n",
      "low\t5663\t0.006\n",
      "process\t5505\t0.006\n",
      "disclosure\t5214\t0.005\n",
      "verification\t5214\t0.005\n",
      "managing\t5006\t0.005\n",
      "company's\t4858\t0.005\n",
      "investigation\t4858\t0.005\n",
      "identity\t4729\t0.005\n",
      "card\t4405\t0.004\n",
      "get\t4357\t0.004\n",
      "score\t4357\t0.004\n",
      "costs\t4350\t0.004\n",
      "settlement\t4350\t0.004\n",
      "improper\t4309\t0.004\n",
      "interest\t4238\t0.004\n",
      "protection\t4139\t0.004\n",
      "when\t4095\t0.004\n",
      "repaying\t3844\t0.004\n",
      "your\t3844\t0.004\n",
      "fraud\t3842\t0.004\n",
      "are\t3821\t0.004\n",
      "pay\t3821\t0.004\n",
      "you\t3821\t0.004\n",
      "taking\t3747\t0.004\n",
      "a\t3503\t0.004\n",
      "apr\t3431\t0.003\n",
      "rate\t3431\t0.003\n",
      "embezzlement\t3276\t0.003\n",
      "theft\t3276\t0.003\n",
      "making\t3226\t0.003\n",
      "payments\t3226\t0.003\n",
      "receiving\t3226\t0.003\n",
      "fee\t3198\t0.003\n",
      "contact\t3053\t0.003\n",
      "info\t2896\t0.003\n",
      "sharing\t2832\t0.003\n",
      "cancelling\t2795\t0.003\n",
      "closing\t2795\t0.003\n",
      "decision\t2774\t0.003\n",
      "underwriting\t2774\t0.003\n",
      "customer\t2734\t0.003\n",
      "false\t2508\t0.003\n",
      "representation\t2508\t0.003\n",
      "statements\t2508\t0.003\n",
      "action\t2505\t0.003\n",
      "an\t2505\t0.003\n",
      "illegal\t2505\t0.003\n",
      "threatening\t2505\t0.003\n",
      "atm\t2422\t0.002\n",
      "debit\t2422\t0.002\n",
      "using\t2422\t0.002\n",
      "lender\t2165\t0.002\n",
      "can't\t1999\t0.002\n",
      "dealing\t1944\t0.002\n",
      "servicer\t1944\t0.002\n",
      "with\t1944\t0.002\n",
      "collection\t1907\t0.002\n",
      "late\t1797\t0.002\n",
      "line\t1732\t0.002\n",
      "repay\t1647\t0.002\n",
      "service\t1518\t0.002\n",
      "determination\t1490\t0.002\n",
      "transaction\t1485\t0.002\n",
      "use\t1477\t0.002\n",
      "monitoring\t1453\t0.001\n",
      "relations\t1367\t0.001\n",
      "out\t1242\t0.001\n",
      "statement\t1220\t0.001\n",
      "advertising\t1193\t0.001\n",
      "marketing\t1193\t0.001\n",
      "payoff\t1155\t0.001\n",
      "decrease\t1149\t0.001\n",
      "increase\t1149\t0.001\n",
      "issue\t1098\t0.001\n",
      "delinquent\t1061\t0.001\n",
      "practices\t1003\t0.001\n",
      "rewards\t1002\t0.001\n",
      "charged\t976\t0.001\n",
      "for\t929\t0.001\n",
      "didn't\t925\t0.001\n",
      "i\t925\t0.001\n",
      "dispute\t904\t0.001\n",
      "expect\t807\t0.001\n",
      "fees\t807\t0.001\n",
      "shopping\t672\t0.001\n",
      "issuance\t640\t0.001\n",
      "unsolicited\t640\t0.001\n",
      "balance\t597\t0.001\n",
      "transfer\t597\t0.001\n",
      "scam\t566\t0.001\n",
      "issues\t538\t0.001\n",
      "money\t413\t0.000\n",
      "changes\t350\t0.000\n",
      "forbearance\t350\t0.000\n",
      "plans\t350\t0.000\n",
      "terms\t350\t0.000\n",
      "workout\t350\t0.000\n",
      "getting\t291\t0.000\n",
      "available\t274\t0.000\n",
      "promised\t274\t0.000\n",
      "was\t274\t0.000\n",
      "delay\t243\t0.000\n",
      "processing\t243\t0.000\n",
      "advance\t240\t0.000\n",
      "cash\t240\t0.000\n",
      "privacy\t240\t0.000\n",
      "bankruptcy\t222\t0.000\n",
      "received\t216\t0.000\n",
      "bank\t202\t0.000\n",
      "wrong\t169\t0.000\n",
      "arbitration\t168\t0.000\n",
      "acct\t163\t0.000\n",
      "applied\t139\t0.000\n",
      "did\t139\t0.000\n",
      "receive\t139\t0.000\n",
      "sale\t139\t0.000\n",
      "charges\t131\t0.000\n",
      "stop\t131\t0.000\n",
      "overlimit\t127\t0.000\n",
      "apply\t118\t0.000\n",
      "amount\t98\t0.000\n",
      "credited\t92\t0.000\n",
      "payment\t92\t0.000\n",
      "checks\t75\t0.000\n",
      "convenience\t75\t0.000\n",
      "amt\t71\t0.000\n",
      "day\t71\t0.000\n",
      "disclosures\t64\t0.000\n",
      "missing\t64\t0.000\n"
     ]
    }
   ],
   "source": [
    "# 3.2.C OUTPUT/ANSWER\n",
    "!hdfs dfs -ls hw3.2.D-output\n",
    "!echo \"________Output_________\"\n",
    "\n",
    "!hdfs dfs -cat hw3.2.D-output/part-0000*"
   ]
  },
  {
   "cell_type": "markdown",
   "metadata": {},
   "source": [
    "#### What are the top 50 most frequent terms in your word count analysis?\n",
    "\n"
   ]
  },
  {
   "cell_type": "code",
   "execution_count": 33,
   "metadata": {
    "collapsed": false
   },
   "outputs": [
    {
     "name": "stdout",
     "output_type": "stream",
     "text": [
      "loan\t119630\t0.122\r\n",
      "modification\t70487\t0.072\r\n",
      "credit\t55251\t0.056\r\n",
      "servicing\t36767\t0.037\r\n",
      "report\t34903\t0.036\r\n",
      "incorrect\t29133\t0.030\r\n",
      "information\t29069\t0.030\r\n",
      "on\t29069\t0.030\r\n",
      "or\t22533\t0.023\r\n",
      "account\t20681\t0.021\r\n",
      "debt\t19309\t0.020\r\n",
      "and\t16448\t0.017\r\n",
      "opening\t16205\t0.017\r\n",
      "club\t12545\t0.013\r\n",
      "health\t12545\t0.013\r\n",
      "not\t12353\t0.013\r\n",
      "attempts\t11848\t0.012\r\n",
      "collect\t11848\t0.012\r\n",
      "cont'd\t11848\t0.012\r\n",
      "owed\t11848\t0.012\r\n",
      "of\t10885\t0.011\r\n",
      "my\t10731\t0.011\r\n",
      "deposits\t10555\t0.011\r\n",
      "withdrawals\t10555\t0.011\r\n",
      "problems\t9484\t0.010\r\n",
      "application\t8868\t0.009\r\n",
      "to\t8401\t0.009\r\n",
      "unable\t8178\t0.008\r\n",
      "billing\t8158\t0.008\r\n",
      "other\t7886\t0.008\r\n",
      "disputes\t6938\t0.007\r\n",
      "communication\t6920\t0.007\r\n",
      "tactics\t6920\t0.007\r\n",
      "reporting\t6559\t0.007\r\n",
      "lease\t6337\t0.006\r\n",
      "the\t6248\t0.006\r\n",
      "being\t5663\t0.006\r\n",
      "by\t5663\t0.006\r\n",
      "caused\t5663\t0.006\r\n",
      "funds\t5663\t0.006\r\n",
      "low\t5663\t0.006\r\n",
      "process\t5505\t0.006\r\n",
      "disclosure\t5214\t0.005\r\n",
      "verification\t5214\t0.005\r\n",
      "managing\t5006\t0.005\r\n",
      "company's\t4858\t0.005\r\n",
      "investigation\t4858\t0.005\r\n",
      "identity\t4729\t0.005\r\n",
      "card\t4405\t0.004\r\n",
      "get\t4357\t0.004\r\n"
     ]
    }
   ],
   "source": [
    "!hdfs dfs -cat hw3.2.D-output/part-0000* | head -50"
   ]
  },
  {
   "cell_type": "markdown",
   "metadata": {},
   "source": [
    "#### Present the top 50 terms and their frequency and their relative frequency. If there are ties please sort the tokens in alphanumeric/string order.\n",
    "    "
   ]
  },
  {
   "cell_type": "code",
   "execution_count": 34,
   "metadata": {
    "collapsed": false
   },
   "outputs": [
    {
     "name": "stdout",
     "output_type": "stream",
     "text": [
      "loan\t119630\t0.122\r\n",
      "modification\t70487\t0.072\r\n",
      "credit\t55251\t0.056\r\n",
      "servicing\t36767\t0.037\r\n",
      "report\t34903\t0.036\r\n",
      "incorrect\t29133\t0.030\r\n",
      "information\t29069\t0.030\r\n",
      "on\t29069\t0.030\r\n",
      "or\t22533\t0.023\r\n",
      "account\t20681\t0.021\r\n",
      "debt\t19309\t0.020\r\n",
      "and\t16448\t0.017\r\n",
      "opening\t16205\t0.017\r\n",
      "club\t12545\t0.013\r\n",
      "health\t12545\t0.013\r\n",
      "not\t12353\t0.013\r\n",
      "attempts\t11848\t0.012\r\n",
      "collect\t11848\t0.012\r\n",
      "cont'd\t11848\t0.012\r\n",
      "owed\t11848\t0.012\r\n",
      "of\t10885\t0.011\r\n",
      "my\t10731\t0.011\r\n",
      "deposits\t10555\t0.011\r\n",
      "withdrawals\t10555\t0.011\r\n",
      "problems\t9484\t0.010\r\n",
      "application\t8868\t0.009\r\n",
      "to\t8401\t0.009\r\n",
      "unable\t8178\t0.008\r\n",
      "billing\t8158\t0.008\r\n",
      "other\t7886\t0.008\r\n",
      "disputes\t6938\t0.007\r\n",
      "communication\t6920\t0.007\r\n",
      "tactics\t6920\t0.007\r\n",
      "reporting\t6559\t0.007\r\n",
      "lease\t6337\t0.006\r\n",
      "the\t6248\t0.006\r\n",
      "being\t5663\t0.006\r\n",
      "by\t5663\t0.006\r\n",
      "caused\t5663\t0.006\r\n",
      "funds\t5663\t0.006\r\n",
      "low\t5663\t0.006\r\n",
      "process\t5505\t0.006\r\n",
      "disclosure\t5214\t0.005\r\n",
      "verification\t5214\t0.005\r\n",
      "managing\t5006\t0.005\r\n",
      "company's\t4858\t0.005\r\n",
      "investigation\t4858\t0.005\r\n",
      "identity\t4729\t0.005\r\n",
      "card\t4405\t0.004\r\n",
      "get\t4357\t0.004\r\n"
     ]
    }
   ],
   "source": [
    "!hdfs dfs -cat hw3.2.D-output/part-0000* | sort -k2,2nr |head -50"
   ]
  },
  {
   "cell_type": "markdown",
   "metadata": {},
   "source": [
    "#### Present bottom 10 tokens (least frequent items)."
   ]
  },
  {
   "cell_type": "code",
   "execution_count": 35,
   "metadata": {
    "collapsed": false
   },
   "outputs": [
    {
     "name": "stdout",
     "output_type": "stream",
     "text": [
      "apply\t118\t0.000\r\n",
      "amount\t98\t0.000\r\n",
      "credited\t92\t0.000\r\n",
      "payment\t92\t0.000\r\n",
      "checks\t75\t0.000\r\n",
      "convenience\t75\t0.000\r\n",
      "amt\t71\t0.000\r\n",
      "day\t71\t0.000\r\n",
      "disclosures\t64\t0.000\r\n",
      "missing\t64\t0.000\r\n"
     ]
    }
   ],
   "source": [
    "!hdfs dfs -tail  hw3.2.D-output/part-00000 > hw3.2.D.txt\n",
    "!tail -10 hw3.2.D.txt"
   ]
  },
  {
   "cell_type": "markdown",
   "metadata": {},
   "source": [
    "<a name=\"3.2.1\"></a>\n",
    "### 3.2.1  \n",
    "Using **2 reducers**: What are the top **50 most frequent terms** in your word count analysis? \n",
    "\n",
    "Present the top 50 terms and their frequency and their relative frequency. Present the top 50 terms and their frequency and their relative frequency. If there are ties please sort the tokens in alphanumeric/string order. Present bottom 10 tokens (least frequent items). Please **use a combiner.**"
   ]
  },
  {
   "cell_type": "markdown",
   "metadata": {},
   "source": [
    "#### START STUDENT CODE HW321 (INSERT CELLS BELOW AS NEEDED)"
   ]
  },
  {
   "cell_type": "code",
   "execution_count": 73,
   "metadata": {
    "collapsed": false
   },
   "outputs": [
    {
     "name": "stdout",
     "output_type": "stream",
     "text": [
      "Overwriting frequencies_reducer3.2.1.py\n"
     ]
    }
   ],
   "source": [
    "%%writefile frequencies_reducer3.2.1.py\n",
    "#!/usr/bin/env python\n",
    "import sys\n",
    "import os\n",
    "# Initialize variables\n",
    "total = 0\n",
    "cur_key = None\n",
    "cur_count = 0\n",
    "sys.stderr.write(\"reporter:counter:Reducer Counters,Calls,1\\n\")\n",
    "totalrecs = int(os.environ.get('TOTAL_RECS', '980482')) \n",
    "for line in sys.stdin:\n",
    "   \n",
    "    fields = line.replace('\\n','').split('\\t')\n",
    "    count = fields[1]\n",
    "    word = fields[0]\n",
    "    try:\n",
    "        count = int(count)\n",
    "    except ValueError:\n",
    "        continue\n",
    "    if word == '*total': #not required in multireducers\n",
    "        total =  total + float(count)\n",
    "    else: \n",
    "        print '%s\\t%s\\t%2.3f' % (word, count, float(count)/totalrecs)  "
   ]
  },
  {
   "cell_type": "code",
   "execution_count": 74,
   "metadata": {
    "collapsed": false
   },
   "outputs": [
    {
     "name": "stdout",
     "output_type": "stream",
     "text": [
      "Overwriting frequencies_combine3.2.1.py\n"
     ]
    }
   ],
   "source": [
    "%%writefile frequencies_combine3.2.1.py\n",
    "#!/usr/bin/env python\n",
    "import sys\n",
    "import os\n",
    "# Initialize variables\n",
    "total = 0\n",
    "cur_key = None\n",
    "cur_count = 0\n",
    "sys.stderr.write(\"reporter:counter:combiner Counters,Calls,1\\n\")\n",
    "\n",
    "for line in sys.stdin:\n",
    "   \n",
    "    fields = line.replace('\\n','').split('\\t')\n",
    "    count = fields[1]\n",
    "    word = fields[0]\n",
    "    try:\n",
    "        count = int(count)\n",
    "    except ValueError:\n",
    "        continue\n",
    "    if word == '*total': \n",
    "        total =  total + float(count)\n",
    "        os.environ['TOTAL_RECS']= str( total) #setting environment variable so that next calculations use this\n",
    "    else: \n",
    "        print '%s\\t%s\\t%2.3f' % (word, count, count)  "
   ]
  },
  {
   "cell_type": "code",
   "execution_count": 75,
   "metadata": {
    "collapsed": true
   },
   "outputs": [],
   "source": [
    "!chmod a+x frequencies_reducer3.2.1.py\n",
    "!chmod a+x frequencies_combine3.2.1.py"
   ]
  },
  {
   "cell_type": "code",
   "execution_count": 76,
   "metadata": {
    "collapsed": false
   },
   "outputs": [
    {
     "name": "stdout",
     "output_type": "stream",
     "text": [
      "reporter:counter:Reducer Counters,Calls,1\n",
      "reporter:counter:Mapper Counters,Calls,1\n",
      "a\t3503\t0.004\n",
      "account\t20681\t0.021\n",
      "acct\t163\t0.000\n",
      "applied\t139\t0.000\n",
      "available\t274\t0.000\n",
      "by\t5663\t0.006\n",
      "can't\t1999\t0.002\n",
      "cash\t240\t0.000\n",
      "caused\t5663\t0.006\n",
      "checks\t75\t0.000\n",
      "closing\t2795\t0.003\n",
      "company's\t4858\t0.005\n",
      "cont'd\t11848\t0.012\n",
      "debt\t19309\t0.020\n",
      "delinquent\t1061\t0.001\n",
      "disputes\t6938\t0.007\n",
      "for\t929\t0.001\n",
      "i\t925\t0.001\n",
      "incorrect\t29133\t0.030\n",
      "issuance\t640\t0.001\n",
      "issue\t1098\t0.001\n",
      "making\t3226\t0.003\n",
      "of\t10885\t0.011\n",
      "on\t29069\t0.030\n",
      "or\t22533\t0.023\n",
      "owed\t11848\t0.012\n",
      "payoff\t1155\t0.001\n",
      "processing\t243\t0.000\n",
      "repay\t1647\t0.002\n",
      "sale\t139\t0.000\n",
      "service\t1518\t0.002\n",
      "the\t6248\t0.006\n",
      "to\t8401\t0.009\n",
      "transfer\t597\t0.001\n",
      "unable\t8178\t0.008\n",
      "verification\t5214\t0.005\n",
      "was\t274\t0.000\n",
      "workout\t350\t0.000\n",
      "wrong\t169\t0.000\n",
      "your\t3844\t0.004\n",
      "advance\t240\t0.000\n",
      "amount\t98\t0.000\n",
      "apply\t118\t0.000\n",
      "atm\t2422\t0.002\n",
      "bank\t202\t0.000\n",
      "cancelling\t2795\t0.003\n",
      "card\t4405\t0.004\n",
      "collect\t11848\t0.012\n",
      "communication\t6920\t0.007\n",
      "costs\t4350\t0.004\n",
      "credited\t92\t0.000\n",
      "dealing\t1944\t0.002\n",
      "decision\t2774\t0.003\n",
      "didn't\t925\t0.001\n",
      "disclosures\t64\t0.000\n",
      "fee\t3198\t0.003\n",
      "funds\t5663\t0.006\n",
      "get\t4357\t0.004\n",
      "health\t12545\t0.013\n",
      "illegal\t2505\t0.003\n",
      "improper\t4309\t0.004\n",
      "investigation\t4858\t0.005\n",
      "lease\t6337\t0.006\n",
      "lender\t2165\t0.002\n",
      "line\t1732\t0.002\n",
      "loan\t119630\t0.122\n",
      "marketing\t1193\t0.001\n",
      "missing\t64\t0.000\n",
      "modification\t70487\t0.072\n",
      "monitoring\t1453\t0.001\n",
      "my\t10731\t0.011\n",
      "out\t1242\t0.001\n",
      "payment\t92\t0.000\n",
      "plans\t350\t0.000\n",
      "problems\t9484\t0.010\n",
      "rate\t3431\t0.003\n",
      "report\t34903\t0.036\n",
      "reporting\t6559\t0.007\n",
      "scam\t566\t0.001\n",
      "score\t4357\t0.004\n",
      "servicing\t36767\t0.037\n",
      "shopping\t672\t0.001\n",
      "statements\t2508\t0.003\n",
      "taking\t3747\t0.004\n",
      "transaction\t1485\t0.002\n",
      "underwriting\t2774\t0.003\n",
      "withdrawals\t10555\t0.011\n",
      "an\t2505\t0.003\n",
      "and\t16448\t0.017\n",
      "apr\t3431\t0.003\n",
      "arbitration\t168\t0.000\n",
      "bankruptcy\t222\t0.000\n",
      "being\t5663\t0.006\n",
      "billing\t8158\t0.008\n",
      "changes\t350\t0.000\n",
      "charges\t131\t0.000\n",
      "convenience\t75\t0.000\n",
      "credit\t55251\t0.056\n",
      "delay\t243\t0.000\n",
      "deposits\t10555\t0.011\n",
      "determination\t1490\t0.002\n",
      "did\t139\t0.000\n",
      "disclosure\t5214\t0.005\n",
      "expect\t807\t0.001\n",
      "false\t2508\t0.003\n",
      "fees\t807\t0.001\n",
      "not\t12353\t0.013\n",
      "overlimit\t127\t0.000\n",
      "payments\t3226\t0.003\n",
      "process\t5505\t0.006\n",
      "promised\t274\t0.000\n",
      "protection\t4139\t0.004\n",
      "receive\t139\t0.000\n",
      "received\t216\t0.000\n",
      "relations\t1367\t0.001\n",
      "repaying\t3844\t0.004\n",
      "representation\t2508\t0.003\n",
      "servicer\t1944\t0.002\n",
      "settlement\t4350\t0.004\n",
      "statement\t1220\t0.001\n",
      "tactics\t6920\t0.007\n",
      "terms\t350\t0.000\n",
      "theft\t3276\t0.003\n",
      "threatening\t2505\t0.003\n",
      "unsolicited\t640\t0.001\n",
      "use\t1477\t0.002\n",
      "you\t3821\t0.004\n",
      "action\t2505\t0.003\n",
      "advertising\t1193\t0.001\n",
      "amt\t71\t0.000\n",
      "application\t8868\t0.009\n",
      "are\t3821\t0.004\n",
      "attempts\t11848\t0.012\n",
      "balance\t597\t0.001\n",
      "charged\t976\t0.001\n",
      "club\t12545\t0.013\n",
      "collection\t1907\t0.002\n",
      "contact\t3053\t0.003\n",
      "customer\t2734\t0.003\n",
      "day\t71\t0.000\n",
      "debit\t2422\t0.002\n",
      "decrease\t1149\t0.001\n",
      "dispute\t904\t0.001\n",
      "embezzlement\t3276\t0.003\n",
      "forbearance\t350\t0.000\n",
      "fraud\t3842\t0.004\n",
      "getting\t291\t0.000\n",
      "identity\t4729\t0.005\n",
      "increase\t1149\t0.001\n",
      "info\t2896\t0.003\n",
      "information\t29069\t0.030\n",
      "interest\t4238\t0.004\n",
      "issues\t538\t0.001\n",
      "late\t1797\t0.002\n",
      "low\t5663\t0.006\n",
      "managing\t5006\t0.005\n",
      "money\t413\t0.000\n",
      "opening\t16205\t0.017\n",
      "other\t7886\t0.008\n",
      "pay\t3821\t0.004\n",
      "practices\t1003\t0.001\n",
      "privacy\t240\t0.000\n",
      "receiving\t3226\t0.003\n",
      "rewards\t1002\t0.001\n",
      "sharing\t2832\t0.003\n",
      "stop\t131\t0.000\n",
      "using\t2422\t0.002\n",
      "when\t4095\t0.004\n",
      "with\t1944\t0.002\n"
     ]
    }
   ],
   "source": [
    "#unit Testing\n",
    "!hdfs dfs -cat hw3.2.C-output/part-0000* | python  frequencies_mapper3.2.C.py|python frequencies_reducer3.2.1.py"
   ]
  },
  {
   "cell_type": "markdown",
   "metadata": {},
   "source": [
    "#### END STUDENT CODE HW321"
   ]
  },
  {
   "cell_type": "code",
   "execution_count": 77,
   "metadata": {
    "collapsed": false
   },
   "outputs": [
    {
     "name": "stdout",
     "output_type": "stream",
     "text": [
      "Deleted hw3.2.1-output\n",
      "17/05/30 01:45:28 INFO Configuration.deprecation: mapred.output.key.comparator.class is deprecated. Instead, use mapreduce.job.output.key.comparator.class\n",
      "packageJobJar: [] [/usr/jars/hadoop-streaming-2.6.0-cdh5.7.0.jar] /tmp/streamjob5115593806943151233.jar tmpDir=null\n",
      "17/05/30 01:45:29 INFO client.RMProxy: Connecting to ResourceManager at /0.0.0.0:8032\n",
      "17/05/30 01:45:29 INFO client.RMProxy: Connecting to ResourceManager at /0.0.0.0:8032\n",
      "17/05/30 01:45:30 INFO mapred.FileInputFormat: Total input paths to process : 4\n",
      "17/05/30 01:45:31 INFO mapreduce.JobSubmitter: number of splits:4\n",
      "17/05/30 01:45:31 INFO mapreduce.JobSubmitter: Submitting tokens for job: job_1496033164706_0035\n",
      "17/05/30 01:45:31 INFO impl.YarnClientImpl: Submitted application application_1496033164706_0035\n",
      "17/05/30 01:45:31 INFO mapreduce.Job: The url to track the job: http://quickstart.cloudera:8088/proxy/application_1496033164706_0035/\n",
      "17/05/30 01:45:31 INFO mapreduce.Job: Running job: job_1496033164706_0035\n",
      "17/05/30 01:45:39 INFO mapreduce.Job: Job job_1496033164706_0035 running in uber mode : false\n",
      "17/05/30 01:45:39 INFO mapreduce.Job:  map 0% reduce 0%\n",
      "17/05/30 01:45:50 INFO mapreduce.Job:  map 25% reduce 0%\n",
      "17/05/30 01:45:52 INFO mapreduce.Job:  map 50% reduce 0%\n",
      "17/05/30 01:45:54 INFO mapreduce.Job:  map 100% reduce 0%\n",
      "17/05/30 01:46:01 INFO mapreduce.Job:  map 100% reduce 50%\n",
      "17/05/30 01:46:02 INFO mapreduce.Job:  map 100% reduce 100%\n",
      "17/05/30 01:46:02 INFO mapreduce.Job: Job job_1496033164706_0035 completed successfully\n",
      "17/05/30 01:46:03 INFO mapreduce.Job: Counters: 52\n",
      "\tFile System Counters\n",
      "\t\tFILE: Number of bytes read=3926\n",
      "\t\tFILE: Number of bytes written=719720\n",
      "\t\tFILE: Number of read operations=0\n",
      "\t\tFILE: Number of large read operations=0\n",
      "\t\tFILE: Number of write operations=0\n",
      "\t\tHDFS: Number of bytes read=2581\n",
      "\t\tHDFS: Number of bytes written=3105\n",
      "\t\tHDFS: Number of read operations=18\n",
      "\t\tHDFS: Number of large read operations=0\n",
      "\t\tHDFS: Number of write operations=4\n",
      "\tJob Counters \n",
      "\t\tLaunched map tasks=4\n",
      "\t\tLaunched reduce tasks=2\n",
      "\t\tData-local map tasks=4\n",
      "\t\tTotal time spent by all maps in occupied slots (ms)=39849\n",
      "\t\tTotal time spent by all reduces in occupied slots (ms)=15529\n",
      "\t\tTotal time spent by all map tasks (ms)=39849\n",
      "\t\tTotal time spent by all reduce tasks (ms)=15529\n",
      "\t\tTotal vcore-seconds taken by all map tasks=39849\n",
      "\t\tTotal vcore-seconds taken by all reduce tasks=15529\n",
      "\t\tTotal megabyte-seconds taken by all map tasks=40805376\n",
      "\t\tTotal megabyte-seconds taken by all reduce tasks=15901696\n",
      "\tMap-Reduce Framework\n",
      "\t\tMap input records=170\n",
      "\t\tMap output records=170\n",
      "\t\tMap output bytes=2275\n",
      "\t\tMap output materialized bytes=3962\n",
      "\t\tInput split bytes=476\n",
      "\t\tCombine input records=170\n",
      "\t\tCombine output records=169\n",
      "\t\tReduce input groups=169\n",
      "\t\tReduce shuffle bytes=3962\n",
      "\t\tReduce input records=169\n",
      "\t\tReduce output records=169\n",
      "\t\tSpilled Records=338\n",
      "\t\tShuffled Maps =8\n",
      "\t\tFailed Shuffles=0\n",
      "\t\tMerged Map outputs=8\n",
      "\t\tGC time elapsed (ms)=562\n",
      "\t\tCPU time spent (ms)=5540\n",
      "\t\tPhysical memory (bytes) snapshot=1410887680\n",
      "\t\tVirtual memory (bytes) snapshot=8212594688\n",
      "\t\tTotal committed heap usage (bytes)=1156055040\n",
      "\tMapper Counters\n",
      "\t\tCalls=4\n",
      "\tReducer Counters\n",
      "\t\tCalls=2\n",
      "\tShuffle Errors\n",
      "\t\tBAD_ID=0\n",
      "\t\tCONNECTION=0\n",
      "\t\tIO_ERROR=0\n",
      "\t\tWRONG_LENGTH=0\n",
      "\t\tWRONG_MAP=0\n",
      "\t\tWRONG_REDUCE=0\n",
      "\tcombiner Counters\n",
      "\t\tCalls=8\n",
      "\tFile Input Format Counters \n",
      "\t\tBytes Read=2105\n",
      "\tFile Output Format Counters \n",
      "\t\tBytes Written=3105\n",
      "17/05/30 01:46:03 INFO streaming.StreamJob: Output directory: hw3.2.1-output\n"
     ]
    }
   ],
   "source": [
    "#start 3.2.1\n",
    "\n",
    "!hdfs dfs -rm -r hw3.2.1-output\n",
    "!hadoop jar /usr/lib/hadoop-mapreduce/hadoop-streaming.jar \\\n",
    "    -D stream.num.map.output.key.fields=4 \\\n",
    "    -D mapred.output.key.comparator.class=org.apache.hadoop.mapred.lib.KeyFieldBasedComparator \\\n",
    "    -D mapreduce.partition.keycomparator.options=\"-k2,2nr -k1,1\" \\\n",
    "    -D mapreduce.job.reduces=2 \\\n",
    "    -files frequencies_mapper3.2.C.py,frequencies_reducer3.2.1.py,frequencies_combine3.2.1.py \\\n",
    "    -mapper frequencies_mapper3.2.C.py \\\n",
    "    -reducer frequencies_reducer3.2.1.py\\\n",
    "    -combiner frequencies_combine3.2.1.py\\\n",
    "    -input hw3.2.C-output \\\n",
    "    -output hw3.2.1-output \\\n",
    "    -partitioner org.apache.hadoop.mapred.lib.KeyFieldBasedPartitioner\n",
    "    \n",
    "    "
   ]
  },
  {
   "cell_type": "code",
   "execution_count": 78,
   "metadata": {
    "collapsed": false
   },
   "outputs": [
    {
     "name": "stdout",
     "output_type": "stream",
     "text": [
      "Found 3 items\r\n",
      "-rw-r--r--   1 root supergroup          0 2017-05-30 01:46 hw3.2.1-output/_SUCCESS\r\n",
      "-rw-r--r--   1 root supergroup       1543 2017-05-30 01:45 hw3.2.1-output/part-00000\r\n",
      "-rw-r--r--   1 root supergroup       1562 2017-05-30 01:46 hw3.2.1-output/part-00001\r\n"
     ]
    }
   ],
   "source": [
    "!hdfs dfs -ls hw3.2.1-output\n",
    "!hdfs dfs -cat hw3.2.1-output/part-0000* | sort -k2,2nr > hw3.2.1.txt"
   ]
  },
  {
   "cell_type": "code",
   "execution_count": 79,
   "metadata": {
    "collapsed": false
   },
   "outputs": [
    {
     "name": "stdout",
     "output_type": "stream",
     "text": [
      "loan\t119630\t0.122\r\n",
      "modification\t70487\t0.072\r\n",
      "credit\t55251\t0.056\r\n",
      "servicing\t36767\t0.037\r\n",
      "report\t34903\t0.036\r\n",
      "incorrect\t29133\t0.030\r\n",
      "information\t29069\t0.030\r\n",
      "on\t29069\t0.030\r\n",
      "or\t22533\t0.023\r\n",
      "account\t20681\t0.021\r\n",
      "debt\t19309\t0.020\r\n",
      "and\t16448\t0.017\r\n",
      "opening\t16205\t0.017\r\n",
      "club\t12545\t0.013\r\n",
      "health\t12545\t0.013\r\n",
      "not\t12353\t0.013\r\n",
      "attempts\t11848\t0.012\r\n",
      "collect\t11848\t0.012\r\n",
      "cont'd\t11848\t0.012\r\n",
      "owed\t11848\t0.012\r\n",
      "of\t10885\t0.011\r\n",
      "my\t10731\t0.011\r\n",
      "deposits\t10555\t0.011\r\n",
      "withdrawals\t10555\t0.011\r\n",
      "problems\t9484\t0.010\r\n",
      "application\t8868\t0.009\r\n",
      "to\t8401\t0.009\r\n",
      "unable\t8178\t0.008\r\n",
      "billing\t8158\t0.008\r\n",
      "other\t7886\t0.008\r\n",
      "disputes\t6938\t0.007\r\n",
      "communication\t6920\t0.007\r\n",
      "tactics\t6920\t0.007\r\n",
      "reporting\t6559\t0.007\r\n",
      "lease\t6337\t0.006\r\n",
      "the\t6248\t0.006\r\n",
      "being\t5663\t0.006\r\n",
      "by\t5663\t0.006\r\n",
      "caused\t5663\t0.006\r\n",
      "funds\t5663\t0.006\r\n",
      "low\t5663\t0.006\r\n",
      "process\t5505\t0.006\r\n",
      "disclosure\t5214\t0.005\r\n",
      "verification\t5214\t0.005\r\n",
      "managing\t5006\t0.005\r\n",
      "company's\t4858\t0.005\r\n",
      "investigation\t4858\t0.005\r\n",
      "identity\t4729\t0.005\r\n",
      "card\t4405\t0.004\r\n",
      "get\t4357\t0.004\r\n"
     ]
    }
   ],
   "source": [
    "!head -50 hw3.2.1.txt"
   ]
  },
  {
   "cell_type": "markdown",
   "metadata": {},
   "source": [
    "<a name=\"3.3\"></a>\n",
    "## HW3.3. Shopping Cart Analysis\n",
    "Product Recommendations: The action or practice of selling additional products or services \n",
    "to existing customers is called cross-selling. Giving product recommendation is \n",
    "one of the examples of cross-selling that are frequently used by online retailers. \n",
    "One simple method to give product recommendations is to recommend products that are frequently\n",
    "browsed together by the customers.\n",
    "\t\n",
    "For this homework use the online browsing behavior dataset located at: \n",
    "\n",
    "       https://www.dropbox.com/s/zlfyiwa70poqg74/ProductPurchaseData.txt?dl=0\n",
    "\n",
    "Each line in this dataset represents a browsing session of a customer. \n",
    "On each line, each string of 8 characters represents the id of an item browsed during that session. \n",
    "The items are separated by spaces.\n",
    "\n",
    "Here are the first few lines of the ProductPurchaseData \n",
    "FRO11987 ELE17451 ELE89019 SNA90258 GRO99222 \n",
    "GRO99222 GRO12298 FRO12685 ELE91550 SNA11465 ELE26917 ELE52966 FRO90334 SNA30755 ELE17451 FRO84225 SNA80192 \n",
    "ELE17451 GRO73461 DAI22896 SNA99873 FRO86643 \n",
    "ELE17451 ELE37798 FRO86643 GRO56989 ELE23393 SNA11465 \n",
    "ELE17451 SNA69641 FRO86643 FRO78087 SNA11465 GRO39357 ELE28573 ELE11375 DAI54444 \n",
    "\n",
    "\n",
    "Do some exploratory data analysis of this dataset guided by the following questions:. \n",
    "\n",
    "How many unique items are available from this supplier?\n",
    "\n",
    "Using a single reducer: Report your findings such as number of unique products; largest basket; report the top 50 most frequently purchased items,  their frequency,  and their relative frequency (break ties by sorting the products alphabetical order) etc. using Hadoop Map-Reduce. "
   ]
  },
  {
   "cell_type": "markdown",
   "metadata": {},
   "source": [
    "#### START STUDENT CODE HW33 (INSERT CELLS BELOW AS NEEDED)"
   ]
  },
  {
   "cell_type": "code",
   "execution_count": 43,
   "metadata": {
    "collapsed": false
   },
   "outputs": [
    {
     "name": "stdout",
     "output_type": "stream",
     "text": [
      "--2017-05-29 18:18:48--  https://www.dropbox.com/s/zlfyiwa70poqg74/ProductPurchaseData.txt?dl=0\n",
      "Resolving www.dropbox.com... 162.125.4.1\n",
      "Connecting to www.dropbox.com|162.125.4.1|:443... connected.\n",
      "HTTP request sent, awaiting response... 302 Found\n",
      "Location: https://dl.dropboxusercontent.com/content_link/YNWBOTMNtNi2oV59tLp52DqgAJBSAIZm4WSe9PZFWhpgku7cv3TRLqHQjwBj7Lbc/file [following]\n",
      "--2017-05-29 18:18:49--  https://dl.dropboxusercontent.com/content_link/YNWBOTMNtNi2oV59tLp52DqgAJBSAIZm4WSe9PZFWhpgku7cv3TRLqHQjwBj7Lbc/file\n",
      "Resolving dl.dropboxusercontent.com... 162.125.4.6\n",
      "Connecting to dl.dropboxusercontent.com|162.125.4.6|:443... connected.\n",
      "HTTP request sent, awaiting response... 200 OK\n",
      "Length: 3458517 (3.3M) [text/plain]\n",
      "Saving to: `ProductPurchaseData.txt?dl=0'\n",
      "\n",
      "100%[======================================>] 3,458,517   2.30M/s   in 1.4s    \n",
      "\n",
      "2017-05-29 18:18:51 (2.30 MB/s) - `ProductPurchaseData.txt?dl=0' saved [3458517/3458517]\n",
      "\n"
     ]
    }
   ],
   "source": [
    "#get data first\n",
    "!wget \"https://www.dropbox.com/s/zlfyiwa70poqg74/ProductPurchaseData.txt?dl=0\"\n",
    "!mv ProductPurchaseData.txt?dl=0 ProductPurchaseData.txt"
   ]
  },
  {
   "cell_type": "code",
   "execution_count": 44,
   "metadata": {
    "collapsed": false
   },
   "outputs": [
    {
     "name": "stdout",
     "output_type": "stream",
     "text": [
      "copyFromLocal: `ProductPurchaseData.txt': File exists\n",
      "Deleted hw3.3-output\n"
     ]
    }
   ],
   "source": [
    "!hdfs dfs -copyFromLocal ProductPurchaseData.txt \n",
    "!hdfs dfs -rm -r hw3.3-output"
   ]
  },
  {
   "cell_type": "code",
   "execution_count": 81,
   "metadata": {
    "collapsed": false
   },
   "outputs": [
    {
     "name": "stdout",
     "output_type": "stream",
     "text": [
      "Overwriting mapper_33.py\n"
     ]
    }
   ],
   "source": [
    "%%writefile mapper_33.py\n",
    "#!/usr/bin/python\n",
    "## mapper.py\n",
    "\n",
    "\n",
    "import sys\n",
    "\n",
    "# Increment mapper counter\n",
    "sys.stderr.write(\"reporter:counter:Mapper Counters,Calls,1\\n\")\n",
    "\n",
    "# Initialsys.stderr.write(ize variables\n",
    "total = 0\n",
    "basket_size = 0\n",
    "largest_basket_size = 0\n",
    "\n",
    "for line in sys.stdin:\n",
    "    total = 0\n",
    "    basket_size = 0\n",
    "    # Split our line into products\n",
    "    for product in line.replace('\\n','').split():\n",
    "        print '%s\\t%s' % (product, 1)\n",
    "        #print generateLongCountToken(product)\n",
    "        basket_size += 1\n",
    "        total += 1\n",
    "\n",
    "        \n",
    "    \n",
    "    print '%s\\t%s' % ('*largest_basket', total)\n",
    "    #basket_size = 0\n",
    "\n",
    "\n",
    "    "
   ]
  },
  {
   "cell_type": "code",
   "execution_count": 82,
   "metadata": {
    "collapsed": true
   },
   "outputs": [],
   "source": [
    "!chmod a+x mapper_33.py"
   ]
  },
  {
   "cell_type": "code",
   "execution_count": 83,
   "metadata": {
    "collapsed": false
   },
   "outputs": [
    {
     "name": "stdout",
     "output_type": "stream",
     "text": [
      "Overwriting reducer33.py\n"
     ]
    }
   ],
   "source": [
    "%%writefile reducer33.py\n",
    "#!/usr/bin/env python\n",
    "# START STUDENT CODE HW32AREDUCER\n",
    "import sys\n",
    "from collections import OrderedDict\n",
    "\n",
    "cur_key = None\n",
    "cur_count = 0\n",
    "dictcounts = {}\n",
    "largest = []\n",
    "sys.stderr.write(\"reporter:counter:Reducer Counters,Calls,1\\n\")\n",
    "for line in sys.stdin:\n",
    "    key, value = line.split()\n",
    "  \n",
    "    if key != '*largest_basket':    \n",
    "        if key == cur_key:\n",
    "            cur_count += int(value)\n",
    "        else:\n",
    "            if cur_key:\n",
    "                dictcounts[cur_key] = cur_count\n",
    "            #print '%s\\t%s' % (cur_key, cur_count)\n",
    "            cur_key = key\n",
    "            cur_count = int(value)\n",
    "    else:\n",
    "        if key == '*largest_basket':\n",
    "            largest.append(int(value))\n",
    "print \"************************Output*****************************\"\n",
    "print \"Maximum length of Bucket %d\"%(max(largest))\n",
    "\n",
    "print \"Total No of Unique products %d\"% len(dictcounts.keys())\n",
    "totals = sum(dictcounts.values())\n",
    "dictcounts =OrderedDict(sorted(dictcounts.items(), key=lambda t: t[1], reverse=True))\n",
    "count  = 0\n",
    "print \"*****Top 50 Products*************\"\n",
    "for key in dictcounts:\n",
    "    if count <= 49:\n",
    "        print '%s\\t%d\\t%2.3f' %(key,dictcounts[key] ,float(dictcounts[key])/totals )\n",
    "    count += 1\n"
   ]
  },
  {
   "cell_type": "code",
   "execution_count": 48,
   "metadata": {
    "collapsed": false
   },
   "outputs": [
    {
     "name": "stdout",
     "output_type": "stream",
     "text": [
      "reporter:counter:Mapper Counters,Calls,1\n",
      "reporter:counter:Reducer Counters,Calls,1\n",
      "************************Output*****************************\n",
      "Maximum length of Bucket 37\n",
      "Total No of Unique products 12591\n",
      "*****Top 50 Products*************\n",
      "DAI62779\t6667\t0.018\n",
      "FRO40251\t3881\t0.010\n",
      "ELE17451\t3875\t0.010\n",
      "GRO73461\t3602\t0.009\n",
      "SNA80324\t3044\t0.008\n",
      "ELE32164\t2851\t0.007\n",
      "DAI75645\t2736\t0.007\n",
      "SNA45677\t2455\t0.006\n",
      "FRO31317\t2330\t0.006\n",
      "DAI85309\t2293\t0.006\n",
      "ELE26917\t2292\t0.006\n",
      "FRO80039\t2233\t0.006\n",
      "GRO21487\t2115\t0.006\n",
      "SNA99873\t2083\t0.005\n",
      "GRO59710\t2004\t0.005\n",
      "GRO71621\t1920\t0.005\n",
      "FRO85978\t1918\t0.005\n",
      "GRO30386\t1840\t0.005\n",
      "ELE74009\t1816\t0.005\n",
      "GRO56726\t1784\t0.005\n",
      "DAI63921\t1773\t0.005\n",
      "GRO46854\t1756\t0.005\n",
      "ELE66600\t1713\t0.004\n",
      "DAI83733\t1712\t0.004\n",
      "FRO32293\t1702\t0.004\n",
      "ELE66810\t1697\t0.004\n",
      "SNA55762\t1646\t0.004\n",
      "DAI22177\t1627\t0.004\n",
      "FRO78087\t1531\t0.004\n",
      "ELE99737\t1516\t0.004\n",
      "ELE34057\t1489\t0.004\n",
      "GRO94758\t1489\t0.004\n",
      "FRO35904\t1436\t0.004\n",
      "FRO53271\t1420\t0.004\n",
      "SNA93860\t1407\t0.004\n",
      "SNA90094\t1390\t0.004\n",
      "GRO38814\t1352\t0.004\n",
      "ELE56788\t1345\t0.004\n",
      "GRO61133\t1321\t0.003\n",
      "ELE74482\t1316\t0.003\n",
      "DAI88807\t1316\t0.003\n",
      "ELE59935\t1311\t0.003\n",
      "SNA96271\t1295\t0.003\n",
      "DAI43223\t1290\t0.003\n",
      "ELE91337\t1289\t0.003\n",
      "GRO15017\t1275\t0.003\n",
      "DAI31081\t1261\t0.003\n",
      "GRO81087\t1220\t0.003\n",
      "DAI22896\t1219\t0.003\n",
      "GRO85051\t1214\t0.003\n"
     ]
    }
   ],
   "source": [
    "!hdfs dfs -cat ProductPurchaseData.txt |python mapper_33.py|sort -k1,1 |python reducer33.py"
   ]
  },
  {
   "cell_type": "code",
   "execution_count": 49,
   "metadata": {
    "collapsed": false
   },
   "outputs": [
    {
     "name": "stdout",
     "output_type": "stream",
     "text": [
      "rm: `hw3.3-output': No such file or directory\n",
      "17/05/29 18:19:08 INFO Configuration.deprecation: mapred.reduce.tasks is deprecated. Instead, use mapreduce.job.reduces\n",
      "17/05/29 18:19:08 INFO Configuration.deprecation: mapred.output.key.comparator.class is deprecated. Instead, use mapreduce.job.output.key.comparator.class\n",
      "packageJobJar: [] [/usr/jars/hadoop-streaming-2.6.0-cdh5.7.0.jar] /tmp/streamjob8861179261643775648.jar tmpDir=null\n",
      "17/05/29 18:19:08 INFO client.RMProxy: Connecting to ResourceManager at /0.0.0.0:8032\n",
      "17/05/29 18:19:09 INFO client.RMProxy: Connecting to ResourceManager at /0.0.0.0:8032\n",
      "17/05/29 18:19:10 INFO mapred.FileInputFormat: Total input paths to process : 1\n",
      "17/05/29 18:19:10 INFO mapreduce.JobSubmitter: number of splits:2\n",
      "17/05/29 18:19:10 INFO mapreduce.JobSubmitter: Submitting tokens for job: job_1496033164706_0031\n",
      "17/05/29 18:19:11 INFO impl.YarnClientImpl: Submitted application application_1496033164706_0031\n",
      "17/05/29 18:19:11 INFO mapreduce.Job: The url to track the job: http://quickstart.cloudera:8088/proxy/application_1496033164706_0031/\n",
      "17/05/29 18:19:11 INFO mapreduce.Job: Running job: job_1496033164706_0031\n",
      "17/05/29 18:19:19 INFO mapreduce.Job: Job job_1496033164706_0031 running in uber mode : false\n",
      "17/05/29 18:19:19 INFO mapreduce.Job:  map 0% reduce 0%\n",
      "17/05/29 18:19:28 INFO mapreduce.Job:  map 50% reduce 0%\n",
      "17/05/29 18:19:29 INFO mapreduce.Job:  map 100% reduce 0%\n",
      "17/05/29 18:19:36 INFO mapreduce.Job:  map 100% reduce 100%\n",
      "17/05/29 18:19:37 INFO mapreduce.Job: Job job_1496033164706_0031 completed successfully\n",
      "17/05/29 18:19:37 INFO mapreduce.Job: Counters: 51\n",
      "\tFile System Counters\n",
      "\t\tFILE: Number of bytes read=6005167\n",
      "\t\tFILE: Number of bytes written=12363340\n",
      "\t\tFILE: Number of read operations=0\n",
      "\t\tFILE: Number of large read operations=0\n",
      "\t\tFILE: Number of write operations=0\n",
      "\t\tHDFS: Number of bytes read=3462847\n",
      "\t\tHDFS: Number of bytes written=1160\n",
      "\t\tHDFS: Number of read operations=9\n",
      "\t\tHDFS: Number of large read operations=0\n",
      "\t\tHDFS: Number of write operations=2\n",
      "\tJob Counters \n",
      "\t\tLaunched map tasks=2\n",
      "\t\tLaunched reduce tasks=1\n",
      "\t\tData-local map tasks=2\n",
      "\t\tTotal time spent by all maps in occupied slots (ms)=15553\n",
      "\t\tTotal time spent by all reduces in occupied slots (ms)=5676\n",
      "\t\tTotal time spent by all map tasks (ms)=15553\n",
      "\t\tTotal time spent by all reduce tasks (ms)=5676\n",
      "\t\tTotal vcore-seconds taken by all map tasks=15553\n",
      "\t\tTotal vcore-seconds taken by all reduce tasks=5676\n",
      "\t\tTotal megabyte-seconds taken by all map tasks=15926272\n",
      "\t\tTotal megabyte-seconds taken by all reduce tasks=5812224\n",
      "\tMap-Reduce Framework\n",
      "\t\tMap input records=31101\n",
      "\t\tMap output records=411925\n",
      "\t\tMap output bytes=5181311\n",
      "\t\tMap output materialized bytes=6005173\n",
      "\t\tInput split bytes=234\n",
      "\t\tCombine input records=0\n",
      "\t\tCombine output records=0\n",
      "\t\tReduce input groups=41578\n",
      "\t\tReduce shuffle bytes=6005173\n",
      "\t\tReduce input records=411925\n",
      "\t\tReduce output records=54\n",
      "\t\tSpilled Records=823850\n",
      "\t\tShuffled Maps =2\n",
      "\t\tFailed Shuffles=0\n",
      "\t\tMerged Map outputs=2\n",
      "\t\tGC time elapsed (ms)=206\n",
      "\t\tCPU time spent (ms)=7040\n",
      "\t\tPhysical memory (bytes) snapshot=859459584\n",
      "\t\tVirtual memory (bytes) snapshot=4100575232\n",
      "\t\tTotal committed heap usage (bytes)=794820608\n",
      "\tMapper Counters\n",
      "\t\tCalls=2\n",
      "\tReducer Counters\n",
      "\t\tCalls=1\n",
      "\tShuffle Errors\n",
      "\t\tBAD_ID=0\n",
      "\t\tCONNECTION=0\n",
      "\t\tIO_ERROR=0\n",
      "\t\tWRONG_LENGTH=0\n",
      "\t\tWRONG_MAP=0\n",
      "\t\tWRONG_REDUCE=0\n",
      "\tFile Input Format Counters \n",
      "\t\tBytes Read=3462613\n",
      "\tFile Output Format Counters \n",
      "\t\tBytes Written=1160\n",
      "17/05/29 18:19:37 INFO streaming.StreamJob: Output directory: hw3.3-output\n"
     ]
    }
   ],
   "source": [
    "!hdfs dfs -rm -r hw3.3-output\n",
    "\n",
    "!hadoop jar /usr/lib/hadoop-mapreduce/hadoop-streaming.jar \\\n",
    "    -D mapred.reduce.tasks=1 \\\n",
    "    -D mapred.output.key.comparator.class=org.apache.hadoop.mapred.lib.KeyFieldBasedComparator \\\n",
    "    -D stream.num.map.output.key.fields=2 \\\n",
    "    -D stream.map.output.field.separator=\"\\t\" \\\n",
    "    -D mapreduce.partition.keycomparator.options=\"-k1,1\" \\\n",
    "    -files mapper_33.py,reducer33.py\\\n",
    "    -mapper mapper_33.py \\\n",
    "    -reducer reducer33.py\\\n",
    "    -input ProductPurchaseData.txt \\\n",
    "    -output  hw3.3-output\n",
    "\n"
   ]
  },
  {
   "cell_type": "code",
   "execution_count": 50,
   "metadata": {
    "collapsed": false
   },
   "outputs": [
    {
     "name": "stdout",
     "output_type": "stream",
     "text": [
      "Found 2 items\n",
      "-rw-r--r--   1 root supergroup          0 2017-05-29 18:19 hw3.3-output/_SUCCESS\n",
      "-rw-r--r--   1 root supergroup       1160 2017-05-29 18:19 hw3.3-output/part-00000\n",
      "************************Output*****************************\t\n",
      "Maximum length of Bucket 37\t\n",
      "Total No of Unique products 12591\t\n",
      "*****Top 50 Products*************\t\n",
      "DAI62779\t6667\t0.018\n",
      "FRO40251\t3881\t0.010\n",
      "ELE17451\t3875\t0.010\n",
      "GRO73461\t3602\t0.009\n",
      "SNA80324\t3044\t0.008\n",
      "ELE32164\t2851\t0.007\n",
      "DAI75645\t2736\t0.007\n",
      "SNA45677\t2455\t0.006\n",
      "FRO31317\t2330\t0.006\n",
      "DAI85309\t2293\t0.006\n",
      "ELE26917\t2292\t0.006\n",
      "FRO80039\t2233\t0.006\n",
      "GRO21487\t2115\t0.006\n",
      "SNA99873\t2083\t0.005\n",
      "GRO59710\t2004\t0.005\n",
      "GRO71621\t1920\t0.005\n",
      "FRO85978\t1918\t0.005\n",
      "GRO30386\t1840\t0.005\n",
      "ELE74009\t1816\t0.005\n",
      "GRO56726\t1784\t0.005\n",
      "DAI63921\t1773\t0.005\n",
      "GRO46854\t1756\t0.005\n",
      "ELE66600\t1713\t0.004\n",
      "DAI83733\t1712\t0.004\n",
      "FRO32293\t1702\t0.004\n",
      "ELE66810\t1697\t0.004\n",
      "SNA55762\t1646\t0.004\n",
      "DAI22177\t1627\t0.004\n",
      "FRO78087\t1531\t0.004\n",
      "ELE99737\t1516\t0.004\n",
      "ELE34057\t1489\t0.004\n",
      "GRO94758\t1489\t0.004\n",
      "FRO35904\t1436\t0.004\n",
      "FRO53271\t1420\t0.004\n",
      "SNA93860\t1407\t0.004\n",
      "SNA90094\t1390\t0.004\n",
      "GRO38814\t1352\t0.004\n",
      "ELE56788\t1345\t0.004\n",
      "GRO61133\t1321\t0.003\n",
      "ELE74482\t1316\t0.003\n",
      "DAI88807\t1316\t0.003\n",
      "ELE59935\t1311\t0.003\n",
      "SNA96271\t1295\t0.003\n",
      "DAI43223\t1290\t0.003\n",
      "ELE91337\t1289\t0.003\n",
      "GRO15017\t1275\t0.003\n",
      "DAI31081\t1261\t0.003\n",
      "GRO81087\t1220\t0.003\n",
      "DAI22896\t1219\t0.003\n",
      "GRO85051\t1214\t0.003\n"
     ]
    }
   ],
   "source": [
    "!hdfs dfs -ls hw3.3-output\n",
    "!hdfs dfs -cat hw3.3-output/part-0000*"
   ]
  },
  {
   "cell_type": "markdown",
   "metadata": {},
   "source": [
    "#### END STUDENT CODE HW33"
   ]
  },
  {
   "cell_type": "markdown",
   "metadata": {},
   "source": [
    "<a name=\"3.3.1\"></a>\n",
    "## HW3.3.1 OPTIONAL \n",
    "Using 2 reducers:  Report your findings such as number of unique products; largest basket; report the top 50 most frequently purchased items,  their frequency,  and their relative frequency (break ties by sorting the products alphabetical order) etc. using Hadoop Map-Reduce. "
   ]
  },
  {
   "cell_type": "markdown",
   "metadata": {},
   "source": [
    "#### START STUDENT CODE HW331 (INSERT CELLS BELOW AS NEEDED)"
   ]
  },
  {
   "cell_type": "markdown",
   "metadata": {},
   "source": [
    "#### END STUDENT CODE HW331"
   ]
  },
  {
   "cell_type": "markdown",
   "metadata": {},
   "source": [
    "<a name=\"3.4\"></a>\n",
    "## HW3.4. (Computationally prohibitive but then again Hadoop can handle this) Pairs\n",
    "\n",
    "Suppose we want to recommend new products to the customer based on the products they\n",
    "have already browsed on the online website. Write a map-reduce program \n",
    "to find products which are frequently browsed together. Fix the support count (cooccurence count) to s = 100 \n",
    "(i.e. product pairs need to occur together at least 100 times to be considered frequent) \n",
    "and find pairs of items (sometimes referred to itemsets of size 2 in association rule mining) that have a support count of 100 or more.\n",
    "\n",
    "List the top 50 product pairs with corresponding support count (aka frequency), and relative frequency or support (number of records where they coccur, the number of records where they coccur/the number of baskets in the dataset)  in decreasing order of support  for frequent (100>count) itemsets of size 2. \n",
    "\n",
    "Use the Pairs pattern (lecture 3)  to  extract these frequent itemsets of size 2. Free free to use combiners if they bring value. Instrument your code with counters for count the number of times your mapper, combiner and reducers are called.  \n",
    "\n",
    "Please output records of the following form for the top 50 pairs (itemsets of size 2): \n",
    "\n",
    "      item1, item2, support count, support\n",
    "\n",
    "\n",
    "\n",
    "Fix the ordering of the pairs lexicographically (left to right), \n",
    "and break ties in support (between pairs, if any exist) \n",
    "by taking the first ones in lexicographically increasing order. \n",
    "\n",
    "Report  the compute time for the Pairs job. Describe the computational setup used (E.g., single computer; dual core; linux, number of mappers, number of reducers)\n",
    "Instrument your mapper, combiner, and reducer to count how many times each is called using Counters and report these counts."
   ]
  },
  {
   "cell_type": "markdown",
   "metadata": {},
   "source": [
    "#### START STUDENT CODE HW34 (INSERT CELLS BELOW AS NEEDED)"
   ]
  },
  {
   "cell_type": "code",
   "execution_count": 84,
   "metadata": {
    "collapsed": false
   },
   "outputs": [
    {
     "name": "stdout",
     "output_type": "stream",
     "text": [
      "Overwriting mapper_34.py\n"
     ]
    }
   ],
   "source": [
    "%%writefile mapper_34.py\n",
    "#!/usr/bin/python\n",
    "## mapper.py\n",
    "\n",
    "import sys\n",
    "from itertools import  combinations\n",
    "\n",
    "# Increment mapper counter\n",
    "sys.stderr.write(\"reporter:counter:Mapper Counters,Calls,1\\n\")\n",
    "\n",
    "# Initialize variables\n",
    "total = 0\n",
    "\n",
    "# Our input comes from STDIN (standard input)\n",
    "for line in sys.stdin:\n",
    "    # Split our line into products\n",
    "    products = line.replace('\\n','').split()\n",
    "    \n",
    "    # Get all combinations of products:\n",
    "    #  - Use a set to remove duplicate products\n",
    "    #  - Combinations finds tuples of length 2 with no repeats\n",
    "    for pair in combinations(sorted(set(products)), 2):\n",
    "                print '%s\\t%s\\t%s' % (pair[0], pair[1], 1)\n",
    "    \n",
    "    total += 1\n",
    "# Print total words\n",
    "print '%s\\t%s\\t%s' % ('*total', '*total', total)"
   ]
  },
  {
   "cell_type": "code",
   "execution_count": 85,
   "metadata": {
    "collapsed": true
   },
   "outputs": [],
   "source": [
    "!chmod a+x mapper_34.py\n"
   ]
  },
  {
   "cell_type": "code",
   "execution_count": 86,
   "metadata": {
    "collapsed": false
   },
   "outputs": [
    {
     "name": "stdout",
     "output_type": "stream",
     "text": [
      "reporter:counter:Mapper Counters,Calls,1\n",
      "cat: Unable to write to output stream.\n",
      "*total\t*total\t1\n",
      "ELE17451\tELE89019\t1\n",
      "ELE17451\tFRO11987\t1\n",
      "ELE17451\tGRO99222\t1\n",
      "ELE17451\tSNA90258\t1\n",
      "ELE89019\tFRO11987\t1\n",
      "ELE89019\tGRO99222\t1\n",
      "ELE89019\tSNA90258\t1\n",
      "FRO11987\tGRO99222\t1\n",
      "FRO11987\tSNA90258\t1\n",
      "GRO99222\tSNA90258\t1\n"
     ]
    }
   ],
   "source": [
    "#unit test\n",
    "!hdfs dfs -cat ProductPurchaseData.txt |head -1|python mapper_34.py|sort -k1,1 "
   ]
  },
  {
   "cell_type": "code",
   "execution_count": 87,
   "metadata": {
    "collapsed": false
   },
   "outputs": [
    {
     "name": "stdout",
     "output_type": "stream",
     "text": [
      "Overwriting combiner34.py\n"
     ]
    }
   ],
   "source": [
    "%%writefile combiner34.py\n",
    "#!/usr/bin/env python\n",
    "# START STUDENT CODE HW32CCOMBINER\n",
    "import sys\n",
    "\n",
    "cur_key = None\n",
    "cur_count = 0\n",
    "mydict = {}\n",
    "sys.stderr.write(\"reporter:counter:Combiner Counters,Calls,1\\n\")\n",
    "for line in sys.stdin:\n",
    "    key1,key2, value = line.split()\n",
    "    key = (key1,key2)\n",
    "    if key == cur_key:\n",
    "        cur_count += int(value)\n",
    "    else:\n",
    "        if cur_key and cur_count >=100:\n",
    "            print '%s\\t%s\\t%s' % (cur_key[0],cur_key[1], cur_count)\n",
    "        cur_key = key\n",
    "        cur_count = int(value)\n",
    "\n",
    "print '%s\\t%s\\t%s'% (cur_key[0],cur_key[1], cur_count)"
   ]
  },
  {
   "cell_type": "code",
   "execution_count": 88,
   "metadata": {
    "collapsed": true
   },
   "outputs": [],
   "source": [
    "!chmod a+x combiner34.py"
   ]
  },
  {
   "cell_type": "code",
   "execution_count": 89,
   "metadata": {
    "collapsed": false
   },
   "outputs": [
    {
     "name": "stdout",
     "output_type": "stream",
     "text": [
      "Overwriting reducer34.py\n"
     ]
    }
   ],
   "source": [
    "%%writefile reducer34.py\n",
    "#!/usr/bin/env python\n",
    "# START STUDENT CODE HW32AREDUCER\n",
    "import sys\n",
    "from collections import OrderedDict\n",
    "\n",
    "cur_key = None\n",
    "cur_count = 0\n",
    "dictcounts = {}\n",
    "largest = []\n",
    "sys.stderr.write(\"reporter:counter:Reducer Counters,Calls,1\\n\")\n",
    "for line in sys.stdin:\n",
    "    key1,key2, value = line.split()\n",
    "    key = (key1,key2)\n",
    "    if key1 != '*total':    \n",
    "        if key == cur_key:\n",
    "            cur_count += int(value)\n",
    "        else:\n",
    "            if cur_key:\n",
    "                dictcounts[cur_key] = cur_count\n",
    "            #print '%s\\t%s' % (cur_key, cur_count)\n",
    "            cur_key = key\n",
    "            cur_count = int(value)\n",
    "    else:\n",
    "        if key1 == '*total':\n",
    "            largest.append(int(value))\n",
    "\n",
    "totals = sum(largest)\n",
    "dictcounts =OrderedDict(sorted(dictcounts.items(), key=lambda t: t[1], reverse=True))\n",
    "count  = 0\n",
    "print \"*****Top 50 Products*************\"\n",
    "for key in dictcounts:\n",
    "    if count <= 49:\n",
    "        print '%s\\t%s\\t%d\\t%2.3f' %(key[0],key[1],dictcounts[key] ,float(dictcounts[key])/totals )\n",
    "    count += 1\n"
   ]
  },
  {
   "cell_type": "code",
   "execution_count": 90,
   "metadata": {
    "collapsed": true
   },
   "outputs": [],
   "source": [
    "!chmod a+x reducer34.py"
   ]
  },
  {
   "cell_type": "code",
   "execution_count": 91,
   "metadata": {
    "collapsed": false
   },
   "outputs": [
    {
     "name": "stdout",
     "output_type": "stream",
     "text": [
      "Deleted hw3.4-output\n",
      "packageJobJar: [] [/usr/jars/hadoop-streaming-2.6.0-cdh5.7.0.jar] /tmp/streamjob3273575192095609358.jar tmpDir=null\n",
      "17/05/30 01:57:03 INFO client.RMProxy: Connecting to ResourceManager at /0.0.0.0:8032\n",
      "17/05/30 01:57:03 INFO client.RMProxy: Connecting to ResourceManager at /0.0.0.0:8032\n",
      "17/05/30 01:57:05 INFO mapred.FileInputFormat: Total input paths to process : 1\n",
      "17/05/30 01:57:05 INFO mapreduce.JobSubmitter: number of splits:2\n",
      "17/05/30 01:57:05 INFO mapreduce.JobSubmitter: Submitting tokens for job: job_1496033164706_0036\n",
      "17/05/30 01:57:05 INFO impl.YarnClientImpl: Submitted application application_1496033164706_0036\n",
      "17/05/30 01:57:05 INFO mapreduce.Job: The url to track the job: http://quickstart.cloudera:8088/proxy/application_1496033164706_0036/\n",
      "17/05/30 01:57:05 INFO mapreduce.Job: Running job: job_1496033164706_0036\n",
      "17/05/30 01:57:14 INFO mapreduce.Job: Job job_1496033164706_0036 running in uber mode : false\n",
      "17/05/30 01:57:14 INFO mapreduce.Job:  map 0% reduce 0%\n",
      "17/05/30 01:57:27 INFO mapreduce.Job:  map 33% reduce 0%\n",
      "17/05/30 01:57:28 INFO mapreduce.Job:  map 66% reduce 0%\n",
      "17/05/30 01:57:31 INFO mapreduce.Job:  map 67% reduce 0%\n",
      "17/05/30 01:57:35 INFO mapreduce.Job:  map 83% reduce 0%\n",
      "17/05/30 01:57:37 INFO mapreduce.Job:  map 100% reduce 0%\n",
      "17/05/30 01:57:48 INFO mapreduce.Job:  map 100% reduce 80%\n",
      "17/05/30 01:57:51 INFO mapreduce.Job:  map 100% reduce 95%\n",
      "17/05/30 01:57:54 INFO mapreduce.Job:  map 100% reduce 100%\n",
      "17/05/30 01:58:06 INFO mapreduce.Job: Job job_1496033164706_0036 completed successfully\n",
      "17/05/30 01:58:07 INFO mapreduce.Job: Counters: 51\n",
      "\tFile System Counters\n",
      "\t\tFILE: Number of bytes read=58282374\n",
      "\t\tFILE: Number of bytes written=116918585\n",
      "\t\tFILE: Number of read operations=0\n",
      "\t\tFILE: Number of large read operations=0\n",
      "\t\tFILE: Number of write operations=0\n",
      "\t\tHDFS: Number of bytes read=3462847\n",
      "\t\tHDFS: Number of bytes written=1442\n",
      "\t\tHDFS: Number of read operations=9\n",
      "\t\tHDFS: Number of large read operations=0\n",
      "\t\tHDFS: Number of write operations=2\n",
      "\tJob Counters \n",
      "\t\tLaunched map tasks=2\n",
      "\t\tLaunched reduce tasks=1\n",
      "\t\tData-local map tasks=2\n",
      "\t\tTotal time spent by all maps in occupied slots (ms)=39445\n",
      "\t\tTotal time spent by all reduces in occupied slots (ms)=27979\n",
      "\t\tTotal time spent by all map tasks (ms)=39445\n",
      "\t\tTotal time spent by all reduce tasks (ms)=27979\n",
      "\t\tTotal vcore-seconds taken by all map tasks=39445\n",
      "\t\tTotal vcore-seconds taken by all reduce tasks=27979\n",
      "\t\tTotal megabyte-seconds taken by all map tasks=40391680\n",
      "\t\tTotal megabyte-seconds taken by all reduce tasks=28650496\n",
      "\tMap-Reduce Framework\n",
      "\t\tMap input records=31101\n",
      "\t\tMap output records=2534016\n",
      "\t\tMap output bytes=53214336\n",
      "\t\tMap output materialized bytes=58282380\n",
      "\t\tInput split bytes=234\n",
      "\t\tCombine input records=0\n",
      "\t\tCombine output records=0\n",
      "\t\tReduce input groups=877097\n",
      "\t\tReduce shuffle bytes=58282380\n",
      "\t\tReduce input records=2534016\n",
      "\t\tReduce output records=51\n",
      "\t\tSpilled Records=5068032\n",
      "\t\tShuffled Maps =2\n",
      "\t\tFailed Shuffles=0\n",
      "\t\tMerged Map outputs=2\n",
      "\t\tGC time elapsed (ms)=311\n",
      "\t\tCPU time spent (ms)=44300\n",
      "\t\tPhysical memory (bytes) snapshot=1060352000\n",
      "\t\tVirtual memory (bytes) snapshot=4101070848\n",
      "\t\tTotal committed heap usage (bytes)=771751936\n",
      "\tMapper Counters\n",
      "\t\tCalls=2\n",
      "\tReducer Counters\n",
      "\t\tCalls=1\n",
      "\tShuffle Errors\n",
      "\t\tBAD_ID=0\n",
      "\t\tCONNECTION=0\n",
      "\t\tIO_ERROR=0\n",
      "\t\tWRONG_LENGTH=0\n",
      "\t\tWRONG_MAP=0\n",
      "\t\tWRONG_REDUCE=0\n",
      "\tFile Input Format Counters \n",
      "\t\tBytes Read=3462613\n",
      "\tFile Output Format Counters \n",
      "\t\tBytes Written=1442\n",
      "17/05/30 01:58:07 INFO streaming.StreamJob: Output directory: hw3.4-output\n",
      "\n",
      "real\t1m6.364s\n",
      "user\t0m4.720s\n",
      "sys\t0m1.240s\n"
     ]
    }
   ],
   "source": [
    "#hadoop call\n",
    "!hdfs dfs -rm -r hw3.4-output\n",
    "!time hadoop jar /usr/lib/hadoop-mapreduce/hadoop-streaming.jar \\\n",
    "    -D stream.num.map.output.key.fields=4 \\\n",
    "    -D mapreduce.job.reduces=1 \\\n",
    "    -D mapreduce.job.output.key.comparator.class=org.apache.hadoop.mapred.lib.KeyFieldBasedComparator \\\n",
    "    -D mapreduce.partition.keycomparator.options=\"-k1,1 -k2,2\" \\\n",
    "    -files mapper_34.py,combiner34.py,reducer34.py\\\n",
    "    -mapper mapper_34.py\\\n",
    "    -reducer reducer34.py\\\n",
    "    -input  ProductPurchaseData.txt \\\n",
    "    -output  hw3.4-output \\\n",
    "    \n",
    "    "
   ]
  },
  {
   "cell_type": "code",
   "execution_count": 92,
   "metadata": {
    "collapsed": false
   },
   "outputs": [
    {
     "name": "stdout",
     "output_type": "stream",
     "text": [
      "Found 2 items\n",
      "-rw-r--r--   1 root supergroup          0 2017-05-30 01:58 hw3.4-output/_SUCCESS\n",
      "-rw-r--r--   1 root supergroup       1442 2017-05-30 01:58 hw3.4-output/part-00000\n",
      "*****Top 50 Products*************\t\n",
      "DAI62779\tELE17451\t1592\t0.051\n",
      "FRO40251\tSNA80324\t1412\t0.045\n",
      "DAI75645\tFRO40251\t1254\t0.040\n",
      "FRO40251\tGRO85051\t1213\t0.039\n",
      "DAI62779\tGRO73461\t1139\t0.037\n",
      "DAI75645\tSNA80324\t1130\t0.036\n",
      "DAI62779\tFRO40251\t1070\t0.034\n",
      "DAI62779\tSNA80324\t923\t0.030\n",
      "DAI62779\tDAI85309\t918\t0.030\n",
      "ELE32164\tGRO59710\t911\t0.029\n",
      "FRO40251\tGRO73461\t882\t0.028\n",
      "DAI62779\tDAI75645\t882\t0.028\n",
      "DAI62779\tELE92920\t877\t0.028\n",
      "FRO40251\tFRO92469\t835\t0.027\n",
      "DAI62779\tELE32164\t832\t0.027\n",
      "DAI75645\tGRO73461\t712\t0.023\n",
      "DAI43223\tELE32164\t711\t0.023\n",
      "DAI62779\tGRO30386\t709\t0.023\n",
      "ELE17451\tFRO40251\t697\t0.022\n",
      "DAI85309\tELE99737\t659\t0.021\n",
      "DAI62779\tELE26917\t650\t0.021\n",
      "GRO21487\tGRO73461\t631\t0.020\n",
      "DAI62779\tSNA45677\t604\t0.019\n",
      "ELE17451\tSNA80324\t597\t0.019\n",
      "DAI62779\tGRO71621\t595\t0.019\n",
      "DAI62779\tSNA55762\t593\t0.019\n",
      "DAI62779\tDAI83733\t586\t0.019\n",
      "ELE17451\tGRO73461\t580\t0.019\n",
      "GRO73461\tSNA80324\t562\t0.018\n",
      "DAI62779\tGRO59710\t561\t0.018\n",
      "DAI62779\tFRO80039\t550\t0.018\n",
      "DAI75645\tELE17451\t547\t0.018\n",
      "DAI62779\tSNA93860\t537\t0.017\n",
      "DAI55148\tDAI62779\t526\t0.017\n",
      "DAI43223\tGRO59710\t512\t0.016\n",
      "ELE17451\tELE32164\t511\t0.016\n",
      "DAI62779\tSNA18336\t506\t0.016\n",
      "ELE32164\tGRO73461\t486\t0.016\n",
      "DAI85309\tELE17451\t482\t0.015\n",
      "DAI62779\tFRO78087\t482\t0.015\n",
      "DAI62779\tGRO94758\t479\t0.015\n",
      "DAI62779\tGRO21487\t471\t0.015\n",
      "GRO85051\tSNA80324\t471\t0.015\n",
      "ELE17451\tGRO30386\t468\t0.015\n",
      "FRO85978\tSNA95666\t463\t0.015\n",
      "DAI62779\tFRO19221\t462\t0.015\n",
      "DAI62779\tGRO46854\t461\t0.015\n",
      "DAI43223\tDAI62779\t459\t0.015\n",
      "ELE92920\tSNA18336\t455\t0.015\n",
      "DAI88079\tFRO40251\t446\t0.014\n"
     ]
    }
   ],
   "source": [
    "#print output\n",
    "!hdfs dfs -ls hw3.4-output\n",
    "!hdfs dfs -cat hw3.4-output/part-0000*"
   ]
  },
  {
   "cell_type": "markdown",
   "metadata": {},
   "source": [
    "#### END STUDENT CODE HW34"
   ]
  },
  {
   "cell_type": "markdown",
   "metadata": {},
   "source": [
    "<a name=\"3.5\"></a>\n",
    "## HW3.5: Stripes\n",
    "Repeat 3.4 using the stripes design pattern for finding cooccuring pairs.\n",
    "\n",
    "Report  the compute times for stripes job versus the Pairs job. Describe the computational setup used (E.g., single computer; dual core; linux, number of mappers, number of reducers)\n",
    "\n",
    "Instrument your mapper, combiner, and reducer to count how many times each is called using Counters and report these counts. Discuss the differences in these counts between the Pairs and Stripes jobs\n"
   ]
  },
  {
   "cell_type": "markdown",
   "metadata": {},
   "source": [
    "#### START STUDENT CODE HW35 (INSERT CELLS BELOW AS NEEDED)"
   ]
  },
  {
   "cell_type": "code",
   "execution_count": 93,
   "metadata": {
    "collapsed": false
   },
   "outputs": [
    {
     "name": "stdout",
     "output_type": "stream",
     "text": [
      "Overwriting mapper_35.py\n"
     ]
    }
   ],
   "source": [
    "%%writefile mapper_35.py\n",
    "#!/usr/bin/python\n",
    "## mapper.py\n",
    "\n",
    "import sys\n",
    "from itertools import  combinations\n",
    "#import collections\n",
    "\n",
    "# Increment mapper counter\n",
    "sys.stderr.write(\"reporter:counter:Mapper Counters,Calls,1\\n\")\n",
    "\n",
    "# Initialize variables\n",
    "total = 0\n",
    "\n",
    "# Our input comes from STDIN (standard input)\n",
    "for line in sys.stdin:\n",
    "    # Split our line into products\n",
    "    products = line.replace('\\n','').split()\n",
    "    \n",
    "    # Get all combinations of products:\n",
    "    #  - Use a set to remove duplicate products\n",
    "    #  - Combinations finds tuples of length 2 with no repeats\n",
    "   \n",
    "    for i, term in enumerate(products):\n",
    "                # Create a new stripe for each term\n",
    "                stripe = {}\n",
    "\n",
    "                for j, token in enumerate(products):\n",
    "                    # Don't count the term's co-occurrence with itself\n",
    "                    if i != j:\n",
    "                        x = stripe.get(token,None)\n",
    "                        if x == None:\n",
    "                            stripe[token] = 1\n",
    "                        else:\n",
    "                            stripe[token] += 1\n",
    "\n",
    "                # Emit the term and the stripe\n",
    "                print '%s\\t%s' % (term, stripe)\n",
    "# Increment total number of baskets\n",
    "    total += 1           \n",
    "stripe = {}\n",
    "stripe['*total'] = total\n",
    "print '%s\\t%s' % ('*total', stripe)\n",
    "\n"
   ]
  },
  {
   "cell_type": "code",
   "execution_count": 94,
   "metadata": {
    "collapsed": false
   },
   "outputs": [
    {
     "name": "stdout",
     "output_type": "stream",
     "text": [
      "Overwriting reducer35.py\n"
     ]
    }
   ],
   "source": [
    "%%writefile reducer35.py\n",
    "#!/usr/bin/env python\n",
    "# START STUDENT CODE HW32AREDUCER\n",
    "import sys\n",
    "from collections import OrderedDict\n",
    "#from collections import collections\n",
    "#import collections\n",
    "prev_key = None\n",
    "cur_count = 0\n",
    "prev_stripe = {}\n",
    "largest = []\n",
    "dictcounts = {}\n",
    "sys.stderr.write(\"reporter:counter:Reducer Counters,Calls,1\\n\")\n",
    "\n",
    "for line in sys.stdin:\n",
    "    \n",
    "    fields = line.replace('\\n','').split('\\t')\n",
    "    key = fields[0]\n",
    "    \n",
    "    stripe = eval(fields[1])\n",
    "    \n",
    "    \n",
    "    if prev_key == key:\n",
    "        # We need to move through the dictionary and update counts\n",
    "        for item in stripe:\n",
    "            if item in prev_stripe:\n",
    "                prev_stripe[item] += stripe[item]\n",
    "            else:\n",
    "                prev_stripe[item] = stripe[item]\n",
    "        \n",
    "    else:\n",
    "        if len(prev_stripe) > 0:\n",
    "            # We are at a new pair, need to print previous pair sum\n",
    "            #print '%s\\t%s' % (prev_key, prev_stripe)\n",
    "            for word in prev_stripe:\n",
    "                dictcounts[(prev_key,word)] = prev_stripe[word]\n",
    "        prev_stripe = stripe\n",
    "        prev_key = key\n",
    "\n",
    "# Output the last line\n",
    "if prev_stripe == stripe:\n",
    "    for word in prev_stripe:\n",
    "        dictcounts[(prev_key,word)] = prev_stripe[word]\n",
    "totals = dictcounts[('*total','*total')]\n",
    "dictcounts =OrderedDict(sorted(dictcounts.items(), key=lambda t: t[1], reverse=True))\n",
    "count  = 0\n",
    "print \"*****Top 50 Products*************\"\n",
    "for key in dictcounts:\n",
    "    if count <= 49:\n",
    "        print '%s\\t%s\\t%d\\t%2.3f' %(key[0],key[1],dictcounts[key] ,float(dictcounts[key])/totals )\n",
    "    count += 1"
   ]
  },
  {
   "cell_type": "code",
   "execution_count": 95,
   "metadata": {
    "collapsed": true
   },
   "outputs": [],
   "source": [
    "!chmod a+x mapper_35.py\n",
    "!chmod a+x reducer35.py"
   ]
  },
  {
   "cell_type": "code",
   "execution_count": 96,
   "metadata": {
    "collapsed": false
   },
   "outputs": [
    {
     "name": "stdout",
     "output_type": "stream",
     "text": [
      "reporter:counter:Mapper Counters,Calls,1\n",
      "reporter:counter:Reducer Counters,Calls,1\n",
      "cat: Unable to write to output stream.\n",
      "*****Top 50 Products*************\n",
      "*total\t*total\t10\t1.000\n",
      "SNA80192\tELE17451\t5\t0.500\n",
      "ELE17451\tSNA80192\t5\t0.500\n",
      "ELE17451\tSNA90258\t3\t0.300\n",
      "SNA69641\tELE17451\t3\t0.300\n",
      "DAI22896\tELE17451\t3\t0.300\n",
      "ELE17451\tSNA69641\t3\t0.300\n",
      "ELE17451\tGRO99222\t3\t0.300\n",
      "GRO73461\tDAI22896\t3\t0.300\n",
      "ELE17451\tFRO18919\t3\t0.300\n",
      "GRO73461\tELE17451\t3\t0.300\n",
      "ELE17451\tDAI22896\t3\t0.300\n",
      "ELE17451\tSNA11465\t3\t0.300\n",
      "SNA11465\tELE17451\t3\t0.300\n",
      "ELE17451\tGRO73461\t3\t0.300\n",
      "GRO99222\tELE17451\t3\t0.300\n",
      "SNA90258\tELE17451\t3\t0.300\n",
      "FRO86643\tELE17451\t3\t0.300\n",
      "DAI22896\tGRO73461\t3\t0.300\n",
      "FRO18919\tELE17451\t3\t0.300\n",
      "ELE17451\tFRO86643\t3\t0.300\n",
      "SNA80192\tFRO81176\t2\t0.200\n",
      "SNA11465\tFRO86643\t2\t0.200\n",
      "GRO73461\tSNA80192\t2\t0.200\n",
      "FRO78087\tELE11375\t2\t0.200\n",
      "ELE37798\tELE17451\t2\t0.200\n",
      "SNA69641\tFRO78087\t2\t0.200\n",
      "ELE17451\tFRO78087\t2\t0.200\n",
      "ELE17451\tSNA85662\t2\t0.200\n",
      "DAI91535\tELE17451\t2\t0.200\n",
      "SNA80192\tFRO18919\t2\t0.200\n",
      "ELE11375\tELE17451\t2\t0.200\n",
      "GRO73461\tSNA99873\t2\t0.200\n",
      "FRO81176\tDAI91535\t2\t0.200\n",
      "FRO81176\tGRO94758\t2\t0.200\n",
      "SNA85662\tDAI22177\t2\t0.200\n",
      "DAI91535\tGRO94758\t2\t0.200\n",
      "DAI22177\tSNA80192\t2\t0.200\n",
      "GRO56989\tELE37798\t2\t0.200\n",
      "ELE37798\tGRO56989\t2\t0.200\n",
      "ELE17451\tELE37798\t2\t0.200\n",
      "FRO18919\tSNA80192\t2\t0.200\n",
      "GRO99222\tSNA80192\t2\t0.200\n",
      "ELE11375\tELE28573\t2\t0.200\n",
      "ELE28573\tSNA69641\t2\t0.200\n",
      "GRO94758\tDAI91535\t2\t0.200\n",
      "DAI22896\tSNA80192\t2\t0.200\n",
      "SNA80192\tGRO99222\t2\t0.200\n",
      "SNA69641\tELE28573\t2\t0.200\n",
      "ELE17451\tELE11375\t2\t0.200\n"
     ]
    }
   ],
   "source": [
    "!hdfs dfs -cat ProductPurchaseData.txt |head -10|python mapper_35.py|sort -k1,1|python reducer35.py"
   ]
  },
  {
   "cell_type": "code",
   "execution_count": 97,
   "metadata": {
    "collapsed": false
   },
   "outputs": [
    {
     "name": "stdout",
     "output_type": "stream",
     "text": [
      "Deleted hw3.5-output\n",
      "packageJobJar: [] [/usr/jars/hadoop-streaming-2.6.0-cdh5.7.0.jar] /tmp/streamjob2749378993220746679.jar tmpDir=null\n",
      "17/05/30 02:05:08 INFO client.RMProxy: Connecting to ResourceManager at /0.0.0.0:8032\n",
      "17/05/30 02:05:08 INFO client.RMProxy: Connecting to ResourceManager at /0.0.0.0:8032\n",
      "17/05/30 02:05:09 INFO mapred.FileInputFormat: Total input paths to process : 1\n",
      "17/05/30 02:05:10 INFO mapreduce.JobSubmitter: number of splits:2\n",
      "17/05/30 02:05:10 INFO mapreduce.JobSubmitter: Submitting tokens for job: job_1496033164706_0037\n",
      "17/05/30 02:05:10 INFO impl.YarnClientImpl: Submitted application application_1496033164706_0037\n",
      "17/05/30 02:05:10 INFO mapreduce.Job: The url to track the job: http://quickstart.cloudera:8088/proxy/application_1496033164706_0037/\n",
      "17/05/30 02:05:10 INFO mapreduce.Job: Running job: job_1496033164706_0037\n",
      "17/05/30 02:05:18 INFO mapreduce.Job: Job job_1496033164706_0037 running in uber mode : false\n",
      "17/05/30 02:05:18 INFO mapreduce.Job:  map 0% reduce 0%\n",
      "17/05/30 02:05:31 INFO mapreduce.Job:  map 33% reduce 0%\n",
      "17/05/30 02:05:32 INFO mapreduce.Job:  map 67% reduce 0%\n",
      "17/05/30 02:05:33 INFO mapreduce.Job:  map 83% reduce 0%\n",
      "17/05/30 02:05:35 INFO mapreduce.Job:  map 100% reduce 0%\n",
      "17/05/30 02:05:46 INFO mapreduce.Job:  map 100% reduce 74%\n",
      "17/05/30 02:05:49 INFO mapreduce.Job:  map 100% reduce 78%\n",
      "17/05/30 02:05:52 INFO mapreduce.Job:  map 100% reduce 84%\n",
      "17/05/30 02:05:55 INFO mapreduce.Job:  map 100% reduce 88%\n",
      "17/05/30 02:05:58 INFO mapreduce.Job:  map 100% reduce 94%\n",
      "17/05/30 02:06:01 INFO mapreduce.Job:  map 100% reduce 98%\n",
      "17/05/30 02:06:03 INFO mapreduce.Job:  map 100% reduce 100%\n",
      "17/05/30 02:06:16 INFO mapreduce.Job: Job job_1496033164706_0037 completed successfully\n",
      "17/05/30 02:06:16 INFO mapreduce.Job: Counters: 51\n",
      "\tFile System Counters\n",
      "\t\tFILE: Number of bytes read=81828248\n",
      "\t\tFILE: Number of bytes written=164010753\n",
      "\t\tFILE: Number of read operations=0\n",
      "\t\tFILE: Number of large read operations=0\n",
      "\t\tFILE: Number of write operations=0\n",
      "\t\tHDFS: Number of bytes read=3462847\n",
      "\t\tHDFS: Number of bytes written=1447\n",
      "\t\tHDFS: Number of read operations=9\n",
      "\t\tHDFS: Number of large read operations=0\n",
      "\t\tHDFS: Number of write operations=2\n",
      "\tJob Counters \n",
      "\t\tLaunched map tasks=2\n",
      "\t\tLaunched reduce tasks=1\n",
      "\t\tData-local map tasks=2\n",
      "\t\tTotal time spent by all maps in occupied slots (ms)=26607\n",
      "\t\tTotal time spent by all reduces in occupied slots (ms)=39085\n",
      "\t\tTotal time spent by all map tasks (ms)=26607\n",
      "\t\tTotal time spent by all reduce tasks (ms)=39085\n",
      "\t\tTotal vcore-seconds taken by all map tasks=26607\n",
      "\t\tTotal vcore-seconds taken by all reduce tasks=39085\n",
      "\t\tTotal megabyte-seconds taken by all map tasks=27245568\n",
      "\t\tTotal megabyte-seconds taken by all reduce tasks=40023040\n",
      "\tMap-Reduce Framework\n",
      "\t\tMap input records=31101\n",
      "\t\tMap output records=380826\n",
      "\t\tMap output bytes=80638408\n",
      "\t\tMap output materialized bytes=81828254\n",
      "\t\tInput split bytes=234\n",
      "\t\tCombine input records=0\n",
      "\t\tCombine output records=0\n",
      "\t\tReduce input groups=377574\n",
      "\t\tReduce shuffle bytes=81828254\n",
      "\t\tReduce input records=380826\n",
      "\t\tReduce output records=51\n",
      "\t\tSpilled Records=761652\n",
      "\t\tShuffled Maps =2\n",
      "\t\tFailed Shuffles=0\n",
      "\t\tMerged Map outputs=2\n",
      "\t\tGC time elapsed (ms)=305\n",
      "\t\tCPU time spent (ms)=40620\n",
      "\t\tPhysical memory (bytes) snapshot=956227584\n",
      "\t\tVirtual memory (bytes) snapshot=4080713728\n",
      "\t\tTotal committed heap usage (bytes)=870318080\n",
      "\tMapper Counters\n",
      "\t\tCalls=2\n",
      "\tReducer Counters\n",
      "\t\tCalls=1\n",
      "\tShuffle Errors\n",
      "\t\tBAD_ID=0\n",
      "\t\tCONNECTION=0\n",
      "\t\tIO_ERROR=0\n",
      "\t\tWRONG_LENGTH=0\n",
      "\t\tWRONG_MAP=0\n",
      "\t\tWRONG_REDUCE=0\n",
      "\tFile Input Format Counters \n",
      "\t\tBytes Read=3462613\n",
      "\tFile Output Format Counters \n",
      "\t\tBytes Written=1447\n",
      "17/05/30 02:06:16 INFO streaming.StreamJob: Output directory: hw3.5-output\n",
      "\n",
      "real\t1m11.730s\n",
      "user\t0m5.310s\n",
      "sys\t0m1.310s\n"
     ]
    }
   ],
   "source": [
    "#hadoop call\n",
    "!hdfs dfs -rm -r hw3.5-output\n",
    "!time hadoop jar /usr/lib/hadoop-mapreduce/hadoop-streaming.jar \\\n",
    "    -D stream.num.map.output.key.fields=4 \\\n",
    "    -D mapreduce.job.reduces=1 \\\n",
    "    -D mapreduce.job.output.key.comparator.class=org.apache.hadoop.mapred.lib.KeyFieldBasedComparator \\\n",
    "    -D mapreduce.partition.keycomparator.options=\"-k1,1 -k2,2\" \\\n",
    "    -files mapper_35.py,combiner34.py,reducer35.py\\\n",
    "    -mapper mapper_35.py\\\n",
    "    -reducer reducer35.py\\\n",
    "    -input  ProductPurchaseData.txt \\\n",
    "    -output  hw3.5-output \\\n",
    "    -cmdenv PATH=/opt/anaconda/bin:$PATH"
   ]
  },
  {
   "cell_type": "code",
   "execution_count": 98,
   "metadata": {
    "collapsed": false
   },
   "outputs": [
    {
     "name": "stdout",
     "output_type": "stream",
     "text": [
      "Found 2 items\n",
      "-rw-r--r--   1 root supergroup          0 2017-05-30 02:06 hw3.5-output/_SUCCESS\n",
      "-rw-r--r--   1 root supergroup       1447 2017-05-30 02:06 hw3.5-output/part-00000\n",
      "*****Top 50 Products*************\t\n",
      "*total\t*total\t31101\t1.000\n",
      "DAI62779\tELE17451\t1592\t0.051\n",
      "ELE17451\tDAI62779\t1592\t0.051\n",
      "SNA80324\tFRO40251\t1412\t0.045\n",
      "FRO40251\tSNA80324\t1412\t0.045\n",
      "DAI75645\tFRO40251\t1254\t0.040\n",
      "FRO40251\tDAI75645\t1254\t0.040\n",
      "GRO85051\tFRO40251\t1213\t0.039\n",
      "FRO40251\tGRO85051\t1213\t0.039\n",
      "DAI62779\tGRO73461\t1139\t0.037\n",
      "GRO73461\tDAI62779\t1139\t0.037\n",
      "SNA80324\tDAI75645\t1130\t0.036\n",
      "DAI75645\tSNA80324\t1130\t0.036\n",
      "DAI62779\tFRO40251\t1070\t0.034\n",
      "FRO40251\tDAI62779\t1070\t0.034\n",
      "DAI62779\tSNA80324\t923\t0.030\n",
      "SNA80324\tDAI62779\t923\t0.030\n",
      "DAI62779\tDAI85309\t918\t0.030\n",
      "DAI85309\tDAI62779\t918\t0.030\n",
      "ELE32164\tGRO59710\t911\t0.029\n",
      "GRO59710\tELE32164\t911\t0.029\n",
      "GRO73461\tFRO40251\t882\t0.028\n",
      "FRO40251\tGRO73461\t882\t0.028\n",
      "DAI75645\tDAI62779\t882\t0.028\n",
      "DAI62779\tDAI75645\t882\t0.028\n",
      "DAI62779\tELE92920\t877\t0.028\n",
      "ELE92920\tDAI62779\t877\t0.028\n",
      "FRO40251\tFRO92469\t835\t0.027\n",
      "FRO92469\tFRO40251\t835\t0.027\n",
      "ELE32164\tDAI62779\t832\t0.027\n",
      "DAI62779\tELE32164\t832\t0.027\n",
      "GRO73461\tDAI75645\t712\t0.023\n",
      "DAI75645\tGRO73461\t712\t0.023\n",
      "ELE32164\tDAI43223\t711\t0.023\n",
      "DAI43223\tELE32164\t711\t0.023\n",
      "DAI62779\tGRO30386\t709\t0.023\n",
      "GRO30386\tDAI62779\t709\t0.023\n",
      "ELE17451\tFRO40251\t697\t0.022\n",
      "FRO40251\tELE17451\t697\t0.022\n",
      "DAI85309\tELE99737\t659\t0.021\n",
      "ELE99737\tDAI85309\t659\t0.021\n",
      "DAI62779\tELE26917\t650\t0.021\n",
      "ELE26917\tDAI62779\t650\t0.021\n",
      "GRO21487\tGRO73461\t631\t0.020\n",
      "GRO73461\tGRO21487\t631\t0.020\n",
      "SNA45677\tDAI62779\t604\t0.019\n",
      "DAI62779\tSNA45677\t604\t0.019\n",
      "ELE17451\tSNA80324\t597\t0.019\n",
      "SNA80324\tELE17451\t597\t0.019\n",
      "DAI62779\tGRO71621\t595\t0.019\n"
     ]
    }
   ],
   "source": [
    "#print output\n",
    "!hdfs dfs -ls hw3.5-output\n",
    "!hdfs dfs -cat hw3.5-output/part-0000*"
   ]
  },
  {
   "cell_type": "code",
   "execution_count": 99,
   "metadata": {
    "collapsed": false
   },
   "outputs": [
    {
     "name": "stdout",
     "output_type": "stream",
     "text": [
      "2\r\n"
     ]
    }
   ],
   "source": [
    "!cat /proc/cpuinfo | grep processor | wc -l"
   ]
  },
  {
   "cell_type": "code",
   "execution_count": 100,
   "metadata": {
    "collapsed": false
   },
   "outputs": [
    {
     "name": "stdout",
     "output_type": "stream",
     "text": [
      "MemTotal:        5068464 kB\r\n",
      "MemFree:         1624616 kB\r\n",
      "MemAvailable:    1971776 kB\r\n",
      "Buffers:           68184 kB\r\n",
      "Cached:           615428 kB\r\n",
      "SwapCached:           72 kB\r\n",
      "Active:          2945720 kB\r\n",
      "Inactive:         363172 kB\r\n",
      "Active(anon):    2677924 kB\r\n",
      "Inactive(anon):   104332 kB\r\n",
      "Active(file):     267796 kB\r\n",
      "Inactive(file):   258840 kB\r\n",
      "Unevictable:           0 kB\r\n",
      "Mlocked:               0 kB\r\n",
      "SwapTotal:       1048572 kB\r\n",
      "SwapFree:        1048444 kB\r\n",
      "Dirty:               184 kB\r\n",
      "Writeback:             0 kB\r\n",
      "AnonPages:       2625188 kB\r\n",
      "Mapped:           124136 kB\r\n",
      "Shmem:            156980 kB\r\n",
      "Slab:              83792 kB\r\n",
      "SReclaimable:      59544 kB\r\n",
      "SUnreclaim:        24248 kB\r\n",
      "KernelStack:       14320 kB\r\n",
      "PageTables:        12308 kB\r\n",
      "NFS_Unstable:          0 kB\r\n",
      "Bounce:                0 kB\r\n",
      "WritebackTmp:          0 kB\r\n",
      "CommitLimit:     3582804 kB\r\n",
      "Committed_AS:    6017316 kB\r\n",
      "VmallocTotal:   34359738367 kB\r\n",
      "VmallocUsed:           0 kB\r\n",
      "VmallocChunk:          0 kB\r\n",
      "AnonHugePages:         0 kB\r\n",
      "ShmemHugePages:        0 kB\r\n",
      "ShmemPmdMapped:        0 kB\r\n",
      "HugePages_Total:       0\r\n",
      "HugePages_Free:        0\r\n",
      "HugePages_Rsvd:        0\r\n",
      "HugePages_Surp:        0\r\n",
      "Hugepagesize:       2048 kB\r\n",
      "DirectMap4k:       22528 kB\r\n",
      "DirectMap2M:     4171776 kB\r\n",
      "DirectMap1G:     3145728 kB\r\n"
     ]
    }
   ],
   "source": [
    "!cat /proc/meminfo"
   ]
  },
  {
   "cell_type": "markdown",
   "metadata": {},
   "source": [
    "    Answer\n",
    "#### System Setup\n",
    "Single Computer , docker Container, 2 Cores and 5GB RAM.\n",
    "#### How many times is each mapper and reducer called?\n",
    "Mapper 2\n",
    "Reducer 1\n",
    "\n",
    "#### Total time\n",
    "\n",
    "\n",
    "##### With Pairs\n",
    "    real\t1m6.364s\n",
    "    user\t0m4.720s\n",
    "    sys\t0m1.240s\n",
    " \n",
    "\t\tLaunched map tasks=2\n",
    "\t\tLaunched reduce tasks=1\n",
    "\t\tData-local map tasks=2\n",
    "#### \t\tTotal time spent by all maps in occupied slots (ms)=39445\n",
    "\t\tTotal time spent by all reduces in occupied slots (ms)=27979\n",
    "\t\tTotal time spent by all map tasks (ms)=39445\n",
    "\t\tTotal time spent by all reduce tasks (ms)=27979\n",
    "\t\tTotal vcore-seconds taken by all map tasks=39445\n",
    "\t\tTotal vcore-seconds taken by all reduce tasks=27979\n",
    "\t\tTotal megabyte-seconds taken by all map tasks=40391680\n",
    "\t\tTotal megabyte-seconds taken by all reduce tasks=28650496\n",
    "        \n",
    "\n",
    "##### With Stripes\n",
    "    real\t1m11.730s\n",
    "    user\t0m5.310s\n",
    "    sys\t0m1.310s\n",
    "\n",
    "    Launched map tasks=2\n",
    "\t\tLaunched reduce tasks=1\n",
    "\t\tData-local map tasks=2\n",
    "#### \t\tTotal time spent by all maps in occupied slots (ms)=26607\n",
    "\t\tTotal time spent by all reduces in occupied slots (ms)=39085\n",
    "\t\tTotal time spent by all map tasks (ms)=26607\n",
    "\t\tTotal time spent by all reduce tasks (ms)=39085\n",
    "\t\tTotal vcore-seconds taken by all map tasks=26607\n",
    "\t\tTotal vcore-seconds taken by all reduce tasks=39085\n",
    "\t\tTotal megabyte-seconds taken by all map tasks=27245568\n",
    "\t\tTotal megabyte-seconds taken by all reduce tasks=40023040\n",
    "\n",
    "\n",
    "### As expected Mappers took much less time with Stripes compared to pairs as expected but in reducers Pairs took bit longer.  This could be due to all unpacking we have to do with stripes to calculate final count.\n",
    "\n",
    "### Total time taken by stripes is more than pairs."
   ]
  },
  {
   "cell_type": "markdown",
   "metadata": {},
   "source": [
    "#### END STUDENT CODE HW35"
   ]
  },
  {
   "cell_type": "markdown",
   "metadata": {},
   "source": [
    "# OPTIONAL\n",
    "QUESTIONS  BELOW THIS LINE ARE OPTIONAL"
   ]
  },
  {
   "cell_type": "markdown",
   "metadata": {},
   "source": [
    "<a name=\"3.6\"></a>\n",
    "## HW3.6 Computing Relative Frequencies on 100K WikiPedia pages (93Meg)\n",
    "\n",
    "Dataset description\n",
    "For this assignment you will explore a set of 100,000 Wikipedia documents:\n",
    "\n",
    "https://www.dropbox.com/s/n5lfbnztclo93ej/wikitext_100k.txt?dl=0\n",
    "s3://cs9223/wikitext_100k.txt, or\n",
    "https://s3.amazonaws.com/cs9223/wikitext_100k.txt\n",
    "Each line in this file consists of the plain text extracted from a Wikipedia document.\n",
    "\n",
    "Task\n",
    "Compute the relative frequencies of each word that occurs in the documents in wikitext_100k.txt and output the top 100 word pairs sorted by decreasing order of relative frequency.\n",
    "\n",
    "Recall that the relative frequency (RF) of word B given word A is defined as follows:\n",
    "\n",
    "   f(B|A) = Count(A, B) / Count (A)   =  Count(A, B) / sum_B'(Count (A, B')\n",
    "\n",
    "where count(A,B) is the number of times A and B co-occur within a window of two words (co-occurrence window size of two) in a document and count(A) the number of times A occurs with anything else. Intuitively, given a document collection, the relative frequency captures the proportion of time the word B appears in the same document as A. (See Section 3.3, in Data-Intensive Text Processing with MapReduce).\n",
    "\n",
    "In the async lecture you learned different approaches to do this, and in this assignment, you will implement them:\n",
    "\n",
    "a.\tWrite a mapreduce program which uses the Stripes approach and writes its output in a file named rfstripes.txt \n",
    "\n",
    "b.\tWrite a mapreduce program which uses the Pairs approach and writes its output in a file named rfpairs.txt\n",
    "\n",
    "c.\tCompare the performance of the two approaches and output the relative performance to a file named rfcomp.txt. Compute the relative performance as follows: (running time for Pairs/ running time for Stripes). Also include an analysis comparing the communication costs for the two approaches. Instrument your mapper and reduces for counters where necessary to aid with your analysis.\n",
    "\n",
    "NOTE: please limit your analysis to the top 100 word pairs sorted by decreasing order of relative frequency for each word (tokens with all alphabetical letters).\n",
    "\n",
    "Please include markdown cell named rf.txt that describes the following:\n",
    "\n",
    "the input/output format in each Hadoop task, i.e., the keys for the mappers and reducers\n",
    "the Hadoop cluster settings you used, i.e., number of mappers and reducers\n",
    "the running time for each approach: pairs and stripes\n",
    "\n",
    "You can write your program using Python or MrJob (with Hadoop streaming) and you should run it on AWS. It is a good idea to develop and test your program on a local machine  before deploying on AWS. Remember your notebook, needs to have all the commands you used to run each Mapreduce job (i.e., pairs and stripes) -- include the Hadoop streaming commands you used to run your jobs.\n",
    "\n",
    "In addition the All the following files should be compressed in one ZIP file and submitted. The ZIP file should contain:\n",
    "\n",
    "\n",
    "A.\tThe result files: rfstripes.txt, rfpairs.txt, rfcomp.txt\n",
    "\n",
    "Prior to working with Hadoop, the corpus should first be preprocessed as follows:\n",
    "perform tokenization (whitespace and all non-alphabetic characters) and stopword removal  using standard tools from the Lucene search engine. All tokens should  then be replaced\n",
    "with unique integers for a more efficient encoding. \n",
    "\n",
    "\n",
    "== Preliminary information for the remaing HW problems===\n",
    "\n",
    "Much of this homework beyond this point will focus on the Apriori algorithm for frequent itemset  mining and the additional step for extracting association rules from these frequent itemsets.\n",
    "Please acquaint yourself with the background information (below)\n",
    "before approaching the remaining  assignments.\n",
    "\n",
    "=== Apriori background information ===\n",
    "\n",
    "Some background material for the  Apriori algorithm is located at:\n",
    "\n",
    " - Slides in Live Session #3\n",
    " - https://en.wikipedia.org/wiki/Apriori_algorithm\n",
    " - https://www.dropbox.com/s/k2zm4otych279z2/Apriori-good-slides.pdf?dl=0\n",
    " - http://snap.stanford.edu/class/cs246-2014/slides/02-assocrules.pdf\n",
    "\n",
    "Association Rules are frequently used for Market Basket Analysis (MBA) by retailers to\n",
    "understand the purchase behavior of their customers. This information can be then used for\n",
    "many different purposes such as cross-selling and up-selling of products, sales promotions,\n",
    "loyalty programs, store design, discount plans and many others.\n",
    "Evaluation of item sets: Once you have found the frequent itemsets of a dataset, you need\n",
    "to choose a subset of them as your recommendations. Commonly used metrics for measuring\n",
    "significance and interest for selecting rules for recommendations are: confidence; lift; and conviction."
   ]
  },
  {
   "cell_type": "markdown",
   "metadata": {},
   "source": [
    "<a name=\"3.7\"></a>\n",
    "## HW3.7 Apriori Algorithm\n",
    "What is the Apriori algorithm? Describe an example use in your domain of expertise and what kind of . Define confidence and lift.\n",
    "\n",
    "NOTE:\n",
    "For the remaining homework use the online browsing behavior dataset located at (same dataset as used above): \n",
    "\n",
    "       https://www.dropbox.com/s/zlfyiwa70poqg74/ProductPurchaseData.txt?dl=0\n",
    "\n",
    "Each line in this dataset represents a browsing session of a customer. \n",
    "On each line, each string of 8 characters represents the id of an item browsed during that session. \n",
    "The items are separated by spaces.\n",
    "\n",
    "Here are the first few lines of the ProductPurchaseData \n",
    "FRO11987 ELE17451 ELE89019 SNA90258 GRO99222 \n",
    "GRO99222 GRO12298 FRO12685 ELE91550 SNA11465 ELE26917 ELE52966 FRO90334 SNA30755 ELE17451 FRO84225 SNA80192 \n",
    "ELE17451 GRO73461 DAI22896 SNA99873 FRO86643 \n",
    "ELE17451 ELE37798 FRO86643 GRO56989 ELE23393 SNA11465 \n",
    "ELE17451 SNA69641 FRO86643 FRO78087 SNA11465 GRO39357 ELE28573 ELE11375 DAI54444 "
   ]
  },
  {
   "cell_type": "markdown",
   "metadata": {},
   "source": [
    "<a name=\"3.8\"></a>\n",
    "## HW3.8. Shopping Cart Analysis\n",
    "Product Recommendations: The action or practice of selling additional products or services \n",
    "to existing customers is called cross-selling. Giving product recommendation is \n",
    "one of the examples of cross-selling that are frequently used by online retailers. \n",
    "One simple method to give product recommendations is to recommend products that are frequently\n",
    "browsed together by the customers.\n",
    "\n",
    "Suppose we want to recommend new products to the customer based on the products they\n",
    "have already browsed on the online website. Write a program using the A-priori algorithm\n",
    "to find products which are frequently browsed together. Fix the support to s = 100 \n",
    "(i.e. product sets need to occur together at least 100 times to be considered frequent) \n",
    "and find itemsets of size 2 and 3.\n",
    "\n",
    "Then extract association rules from these frequent items. \n",
    "\n",
    "A rule is of the form: \n",
    "\n",
    "(item1, item5) ⇒ item2.\n",
    "\n",
    "List the top 10 discovered rules in descreasing order of confidence in the following format\n",
    " \n",
    "(item1, item5) ⇒ item2, supportCount ,support, confidence"
   ]
  },
  {
   "cell_type": "markdown",
   "metadata": {},
   "source": [
    "<a name=\"3.8.1\"></a>\n",
    "## HW3.8.1\n",
    "\n",
    "Benchmark your results using the pyFIM implementation of the Apriori algorithm\n",
    "(Apriori - Association Rule Induction / Frequent Item Set Mining implemented by Christian Borgelt). \n",
    "You can download pyFIM from here: \n",
    "\n",
    "http://www.borgelt.net/pyfim.html\n",
    "\n",
    "Comment on the results from both implementations (your Hadoop MapReduce of apriori versus pyFIM) \n",
    "in terms of results and execution times."
   ]
  },
  {
   "cell_type": "markdown",
   "metadata": {},
   "source": [
    "END OF HOMEWORK\n",
    "==============="
   ]
  }
 ],
 "metadata": {
  "kernelspec": {
   "display_name": "Python 2",
   "language": "python",
   "name": "python2"
  },
  "language_info": {
   "codemirror_mode": {
    "name": "ipython",
    "version": 2
   },
   "file_extension": ".py",
   "mimetype": "text/x-python",
   "name": "python",
   "nbconvert_exporter": "python",
   "pygments_lexer": "ipython2",
   "version": "2.7.13"
  },
  "toc": {
   "colors": {
    "hover_highlight": "#DAA520",
    "running_highlight": "#FF0000",
    "selected_highlight": "#FFD700"
   },
   "moveMenuLeft": true,
   "nav_menu": {
    "height": "512px",
    "width": "252px"
   },
   "navigate_menu": true,
   "number_sections": true,
   "sideBar": false,
   "threshold": 4,
   "toc_cell": true,
   "toc_section_display": "block",
   "toc_window_display": true
  }
 },
 "nbformat": 4,
 "nbformat_minor": 0
}
