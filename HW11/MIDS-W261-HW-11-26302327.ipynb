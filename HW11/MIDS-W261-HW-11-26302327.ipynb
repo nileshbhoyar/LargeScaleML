{
 "cells": [
  {
   "cell_type": "markdown",
   "metadata": {
    "toc": "true"
   },
   "source": [
    "# Table of Contents\n",
    " <p><div class=\"lev1 toc-item\"><a data-toc-modified-id=\"-MIDS---w261-Machine-Learning-At-Scale--1\" href=\"#-MIDS---w261-Machine-Learning-At-Scale-\"><span class=\"toc-item-num\">1&nbsp;&nbsp;</span> MIDS - w261 Machine Learning At Scale </a></div><div class=\"lev2 toc-item\"><a data-toc-modified-id=\"Assignment---HW11-11\" href=\"#Assignment---HW11\"><span class=\"toc-item-num\">1.1&nbsp;&nbsp;</span>Assignment - HW11</a></div><div class=\"lev1 toc-item\"><a data-toc-modified-id=\"Instructions-2\" href=\"#Instructions\"><span class=\"toc-item-num\">2&nbsp;&nbsp;</span>Instructions</a></div><div class=\"lev2 toc-item\"><a data-toc-modified-id=\"IMPORTANT-21\" href=\"#IMPORTANT\"><span class=\"toc-item-num\">2.1&nbsp;&nbsp;</span>IMPORTANT</a></div><div class=\"lev3 toc-item\"><a data-toc-modified-id=\"===-INSTRUCTIONS-for-SUBMISSIONS-===-211\" href=\"#===-INSTRUCTIONS-for-SUBMISSIONS-===\"><span class=\"toc-item-num\">2.1.1&nbsp;&nbsp;</span>=== INSTRUCTIONS for SUBMISSIONS ===</a></div><div class=\"lev1 toc-item\"><a data-toc-modified-id=\"2-Useful-References-3\" href=\"#2-Useful-References\"><span class=\"toc-item-num\">3&nbsp;&nbsp;</span>2 Useful References</a></div><div class=\"lev1 toc-item\"><a data-toc-modified-id=\"HW-Problems-4\" href=\"#HW-Problems\"><span class=\"toc-item-num\">4&nbsp;&nbsp;</span>HW Problems</a></div><div class=\"lev2 toc-item\"><a data-toc-modified-id=\"HW11.0:-Broadcast-versus-Caching-in-Spark-41\" href=\"#HW11.0:-Broadcast-versus-Caching-in-Spark\"><span class=\"toc-item-num\">4.1&nbsp;&nbsp;</span>HW11.0: Broadcast versus Caching in Spark</a></div><div class=\"lev2 toc-item\"><a data-toc-modified-id=\"HW11.1-Loss-Functions-42\" href=\"#HW11.1-Loss-Functions\"><span class=\"toc-item-num\">4.2&nbsp;&nbsp;</span>HW11.1 Loss Functions</a></div><div class=\"lev3 toc-item\"><a data-toc-modified-id=\"Response:-421\" href=\"#Response:\"><span class=\"toc-item-num\">4.2.1&nbsp;&nbsp;</span>Response:</a></div><div class=\"lev2 toc-item\"><a data-toc-modified-id=\"HW11.2-Gradient-descent-43\" href=\"#HW11.2-Gradient-descent\"><span class=\"toc-item-num\">4.3&nbsp;&nbsp;</span>HW11.2 Gradient descent</a></div><div class=\"lev3 toc-item\"><a data-toc-modified-id=\"Response-431\" href=\"#Response\"><span class=\"toc-item-num\">4.3.1&nbsp;&nbsp;</span>Response</a></div><div class=\"lev2 toc-item\"><a data-toc-modified-id=\"HW11.3-Logistic-Regression-44\" href=\"#HW11.3-Logistic-Regression\"><span class=\"toc-item-num\">4.4&nbsp;&nbsp;</span>HW11.3 Logistic Regression</a></div><div class=\"lev3 toc-item\"><a data-toc-modified-id=\"Response-441\" href=\"#Response\"><span class=\"toc-item-num\">4.4.1&nbsp;&nbsp;</span>Response</a></div><div class=\"lev2 toc-item\"><a data-toc-modified-id=\"HW11.4-SVMs-45\" href=\"#HW11.4-SVMs\"><span class=\"toc-item-num\">4.5&nbsp;&nbsp;</span>HW11.4 SVMs</a></div><div class=\"lev3 toc-item\"><a data-toc-modified-id=\"Response-451\" href=\"#Response\"><span class=\"toc-item-num\">4.5.1&nbsp;&nbsp;</span>Response</a></div><div class=\"lev2 toc-item\"><a data-toc-modified-id=\"HW11.5--[OPTIONAL]-Distributed-Perceptron-algorithm.-46\" href=\"#HW11.5--[OPTIONAL]-Distributed-Perceptron-algorithm.\"><span class=\"toc-item-num\">4.6&nbsp;&nbsp;</span>HW11.5  [OPTIONAL] Distributed Perceptron algorithm.</a></div><div class=\"lev2 toc-item\"><a data-toc-modified-id=\"HW11.6-[OPTIONAL:-consider-doing-this-in-a-group]--Evalution-of-perceptron-algorihtms-on-PennTreeBank-POS-corpus-47\" href=\"#HW11.6-[OPTIONAL:-consider-doing-this-in-a-group]--Evalution-of-perceptron-algorihtms-on-PennTreeBank-POS-corpus\"><span class=\"toc-item-num\">4.7&nbsp;&nbsp;</span>HW11.6 [OPTIONAL: consider doing this in a group]  Evalution of perceptron algorihtms on PennTreeBank POS corpus</a></div><div class=\"lev2 toc-item\"><a data-toc-modified-id=\"HW11.7-[OPTIONAL:-consider-doing-this-in-a-group]-Kernel-Adatron-48\" href=\"#HW11.7-[OPTIONAL:-consider-doing-this-in-a-group]-Kernel-Adatron\"><span class=\"toc-item-num\">4.8&nbsp;&nbsp;</span>HW11.7 [OPTIONAL: consider doing this in a group] Kernel Adatron</a></div><div class=\"lev2 toc-item\"><a data-toc-modified-id=\"HW11.8-[OPTIONAL]-Create-an-animation-of-gradient-descent-for-the-Perceptron-learning-or-for-the-logistic-regression-49\" href=\"#HW11.8-[OPTIONAL]-Create-an-animation-of-gradient-descent-for-the-Perceptron-learning-or-for-the-logistic-regression\"><span class=\"toc-item-num\">4.9&nbsp;&nbsp;</span>HW11.8 [OPTIONAL] Create an animation of gradient descent for the Perceptron learning or for the logistic regression</a></div><div class=\"lev1 toc-item\"><a data-toc-modified-id=\"---------ALTERNATIVE-HOWEWORK----------5\" href=\"#---------ALTERNATIVE-HOWEWORK---------\"><span class=\"toc-item-num\">5&nbsp;&nbsp;</span>-------  ALTERNATIVE HOWEWORK --------</a></div>"
   ]
  },
  {
   "cell_type": "code",
   "execution_count": 1,
   "metadata": {},
   "outputs": [
    {
     "data": {
      "application/javascript": [
       "/**********************************************************************************************\n",
       "Known Mathjax Issue with Chrome - a rounding issue adds a border to the right of mathjax markup\n",
       "https://github.com/mathjax/MathJax/issues/1300\n",
       "A quick hack to fix this based on stackoverflow discussions: \n",
       "http://stackoverflow.com/questions/34277967/chrome-rendering-mathjax-equations-with-a-trailing-vertical-line\n",
       "**********************************************************************************************/\n",
       "\n",
       "$('.math>span').css(\"border-left-color\",\"transparent\")"
      ],
      "text/plain": [
       "<IPython.core.display.Javascript object>"
      ]
     },
     "metadata": {},
     "output_type": "display_data"
    }
   ],
   "source": [
    "%%javascript\n",
    "/**********************************************************************************************\n",
    "Known Mathjax Issue with Chrome - a rounding issue adds a border to the right of mathjax markup\n",
    "https://github.com/mathjax/MathJax/issues/1300\n",
    "A quick hack to fix this based on stackoverflow discussions: \n",
    "http://stackoverflow.com/questions/34277967/chrome-rendering-mathjax-equations-with-a-trailing-vertical-line\n",
    "**********************************************************************************************/\n",
    "\n",
    "$('.math>span').css(\"border-left-color\",\"transparent\")"
   ]
  },
  {
   "cell_type": "code",
   "execution_count": 2,
   "metadata": {
    "collapsed": true
   },
   "outputs": [],
   "source": [
    "%reload_ext autoreload\n",
    "%autoreload 2"
   ]
  },
  {
   "cell_type": "markdown",
   "metadata": {},
   "source": [
    "<h1> MIDS - w261 Machine Learning At Scale </h1>\n",
    "__Course Lead:__ Dr James G. Shanahan (__email__ Jimi via  James.Shanahan _AT_ gmail.com)\n",
    "\n",
    "<h2>Assignment - HW11</h2>\n",
    "\n",
    "\n",
    "---\n",
    "__Name:__  Nilesh Bhoyar \n",
    "__Class:__ MIDS w261 (Section *Your Section Goes Here*, e.g., Fall 2016 Group 1)     \n",
    "__Email:__  nilesh.bhoyar@iSchool.Berkeley.edu     \n",
    "__StudentId__  26302327   __End of StudentId__     \n",
    "__Week:__   11\n",
    "\n",
    "__NOTE:__ please replace `1234567` with your student id above      \n",
    "__Due Time:__ HW is due the Wednesday of the following week by 8AM (West coast time). I.e., Wednesday, April 12, 2017 in the case of this homework. \n",
    "\n",
    "# Instructions\n",
    "\n",
    "MIDS UC Berkeley, Machine Learning at Scale   \n",
    "DATSCIW261 ASSIGNMENT #11\n",
    "\n",
    "Version 2017-3-16 \n",
    "\n",
    "\n",
    "## IMPORTANT\n",
    "\n",
    "This homework can be completed locally on your computer.\n",
    "\n",
    "### === INSTRUCTIONS for SUBMISSIONS ===   \n",
    "Follow the instructions for submissions carefully.\n",
    "\n",
    "Each student has a `HW-<user>` repository for all assignments.   \n",
    "\n",
    "Click this link to enable you to create a github repo within the MIDS261 Classroom:   \n",
    "https://classroom.github.com/assignment-invitations/3b1d6c8e58351209f9dd865537111ff8   \n",
    "and follow the instructions to create a HW repo.\n",
    "\n",
    "Push the following to your HW github repo into the master branch:\n",
    "* Your local HW6 directory. Your repo file structure should look like this:\n",
    "\n",
    "```\n",
    "HW-<user>\n",
    "    --HW3\n",
    "       |__MIDS-W261-HW-03-<Student_id>.ipynb\n",
    "       |__MIDS-W261-HW-03-<Student_id>.pdf\n",
    "       |__some other hw3 file\n",
    "    --HW4\n",
    "       |__MIDS-W261-HW-04-<Student_id>.ipynb\n",
    "       |__MIDS-W261-HW-04-<Student_id>.pdf\n",
    "       |__some other hw4 file\n",
    "    etc..\n",
    "```    "
   ]
  },
  {
   "cell_type": "markdown",
   "metadata": {},
   "source": [
    "# 2 Useful References\n",
    "\n",
    "* Karau, Holden, Konwinski, Andy, Wendell, Patrick, & Zaharia, Matei. (2015). Learning Spark: Lightning-fast big data analysis. Sebastopol, CA: O’Reilly Publishers.\n",
    "* Hastie, Trevor, Tibshirani, Robert, & Friedman, Jerome. (2009). The elements of statistical learning: Data mining, inference, and prediction (2nd ed.). Stanford, CA: Springer Science+Business Media. (Download for free [here](http://statweb.stanford.edu/~tibs/ElemStatLearn/printings/ESLII_print10.pdf))\n",
    "* https://www.dropbox.com/s/ngomebw1koujs2d/classificationISLBook-Logistic-Regression-LDA-NaiveBayes.pdf?dl=0"
   ]
  },
  {
   "cell_type": "markdown",
   "metadata": {},
   "source": [
    "# HW Problems\n"
   ]
  },
  {
   "cell_type": "markdown",
   "metadata": {},
   "source": [
    "## HW11.0: Broadcast versus Caching in Spark \n",
    "\n",
    "\n",
    "Q: __What is the difference between broadcasting and caching data in Spark? Give an example (in the context of machine learning) of each mechanism (at a highlevel). Feel free to cut and paste code examples from the lectures to support your answer.__\n",
    "\n",
    "Q: __Review the following Spark-notebook-based implementation of KMeans and use the broadcast pattern to make this implementation more efficient. Please describe your changes in English first, implement, comment your code and highlight your changes (write all your code in this notebook):___\n",
    "\n",
    "Notebook\n",
    "https://www.dropbox.com/s/41q9lgyqhy8ed5g/EM-Kmeans.ipynb?dl=0\n",
    "\n",
    "Notebook via NBViewer\n",
    "http://nbviewer.ipython.org/urls/dl.dropbox.com/s/41q9lgyqhy8ed5g/EM-Kmeans.ipynb\n"
   ]
  },
  {
   "cell_type": "markdown",
   "metadata": {},
   "source": [
    "Q: __What is the difference between broadcasting and caching data in Spark? Give an example (in the context of machine learning) of each mechanism (at a highlevel). Feel free to cut and paste code examples from the lectures to support your answer.__\n",
    "\n",
    "Broadcast variables can be shared and accessed from across the cluster, similar to accumulators. But they’re opposite from accumulators in that they can’t be modified by executors. The driver creates a broadcast variable, and executors read it. \n",
    "\n",
    "While on other hand caching, caches the RDD in spark clusture wide memory (not local one). It means 60% of data can be cached on one of the node while other 40% can be distributed. so not all nodes have complete RDD i.e. it is distributed. \n",
    "\n",
    "\n",
    "We will use Broadcasting (it will put it in memory) when we want cache information which is \n",
    "* Book keeping information for the learning algorithm that we wish to share with each executor\n",
    "* This information changes after each iteration\n",
    "* Need the entire weight vector. \n",
    "\n",
    "In K-means, centroids changes every iteration but within mappers we want all mappers to read centroid same information.\n",
    "We will broadcast centroid after every update and  read it in mappers.\n",
    " "
   ]
  },
  {
   "cell_type": "code",
   "execution_count": 2,
   "metadata": {
    "collapsed": true
   },
   "outputs": [],
   "source": [
    "%matplotlib inline\n",
    "import numpy as np\n",
    "import pylab \n",
    "import json\n",
    "size1 = size2 = size3 = 100\n",
    "samples1 = np.random.multivariate_normal([4, 0], [[1, 0],[0, 1]], size1)\n",
    "data = samples1\n",
    "samples2 = np.random.multivariate_normal([6, 6], [[1, 0],[0, 1]], size2)\n",
    "data = np.append(data,samples2, axis=0)\n",
    "samples3 = np.random.multivariate_normal([0, 4], [[1, 0],[0, 1]], size3)\n",
    "data = np.append(data,samples3, axis=0)\n",
    "# Randomlize data\n",
    "data = data[np.random.permutation(size1+size2+size3),]\n",
    "np.savetxt('data.csv',data,delimiter = ',')\n"
   ]
  },
  {
   "cell_type": "code",
   "execution_count": 3,
   "metadata": {},
   "outputs": [
    {
     "name": "stdout",
     "output_type": "stream",
     "text": [
      "17/08/01 03:03:59 INFO fs.TrashPolicyDefault: Namenode trash configuration: Deletion interval = 5760 minutes, Emptier interval = 360 minutes.\n",
      "Moved: 'hdfs://nn-ia.s3s.altiscale.com:8020/user/nileshbhoyar/HW11' to trash at: hdfs://nn-ia.s3s.altiscale.com:8020/user/nileshbhoyar/.Trash/Current\n",
      "rm: `HW11/HW110/': No such file or directory\n"
     ]
    }
   ],
   "source": [
    "!hdfs dfs -rm -r HW11\n",
    "!hdfs dfs -mkdir HW11\n",
    "!hdfs dfs -rm -r HW11/HW110/\n",
    "!hdfs dfs -mkdir HW11/HW110/ \n",
    "!hdfs dfs -copyFromLocal data.csv HW11/HW110/"
   ]
  },
  {
   "cell_type": "code",
   "execution_count": 4,
   "metadata": {
    "collapsed": true
   },
   "outputs": [],
   "source": [
    "from pyspark.mllib.clustering import KMeans, KMeansModel\n",
    "from numpy import array\n",
    "from math import sqrt"
   ]
  },
  {
   "cell_type": "code",
   "execution_count": 5,
   "metadata": {
    "collapsed": true
   },
   "outputs": [],
   "source": [
    "#plot centroids and data points for each iteration\n",
    "def plot_iteration(means):\n",
    "    pylab.plot(samples1[:, 0], samples1[:, 1], '.', color = 'blue')\n",
    "    pylab.plot(samples2[:, 0], samples2[:, 1], '.', color = 'blue')\n",
    "    pylab.plot(samples3[:, 0], samples3[:, 1],'.', color = 'blue')\n",
    "    pylab.plot(means[0][0], means[0][1],'*',markersize =10,color = 'red')\n",
    "    pylab.plot(means[1][0], means[1][1],'*',markersize =10,color = 'red')\n",
    "    pylab.plot(means[2][0], means[2][1],'*',markersize =10,color = 'red')\n",
    "    pylab.show()\n"
   ]
  },
  {
   "cell_type": "code",
   "execution_count": 6,
   "metadata": {},
   "outputs": [
    {
     "name": "stdout",
     "output_type": "stream",
     "text": [
      "Iteration1\n",
      "Within Set Sum of Squared Error = 847.682060861\n",
      "[[ 0.76460264  0.77703177]\n",
      " [ 3.90201475  2.52204535]\n",
      " [ 2.47189914  5.79766002]]\n"
     ]
    },
    {
     "data": {
      "image/png": "[encoded data removed]",
      "text/plain": [
       "<matplotlib.figure.Figure at 0x7f83268e4b10>"
      ]
     },
     "metadata": {},
     "output_type": "display_data"
    },
    {
     "name": "stdout",
     "output_type": "stream",
     "text": [
      "Iteration10\n",
      "Within Set Sum of Squared Error = 371.452412819\n",
      "[[ 0.11556139  4.01101192]\n",
      " [ 3.90583797  0.20422471]\n",
      " [ 6.02605209  6.02935042]]\n"
     ]
    },
    {
     "data": {
      "image/png": "[encoded data removed]",
      "text/plain": [
       "<matplotlib.figure.Figure at 0x7f8324db0190>"
      ]
     },
     "metadata": {},
     "output_type": "display_data"
    },
    {
     "name": "stdout",
     "output_type": "stream",
     "text": [
      "Iteration20\n",
      "Within Set Sum of Squared Error = 371.452412819\n",
      "[[ 0.11556139  4.01101192]\n",
      " [ 3.90583797  0.20422471]\n",
      " [ 6.02605209  6.02935042]]\n"
     ]
    },
    {
     "data": {
      "image/png": "[encoded data removed]",
      "text/plain": [
       "<matplotlib.figure.Figure at 0x7f8324198690>"
      ]
     },
     "metadata": {},
     "output_type": "display_data"
    },
    {
     "name": "stdout",
     "output_type": "stream",
     "text": [
      "Iteration30\n",
      "Within Set Sum of Squared Error = 371.452412819\n",
      "[[ 0.11556139  4.01101192]\n",
      " [ 3.90583797  0.20422471]\n",
      " [ 6.02605209  6.02935042]]\n"
     ]
    },
    {
     "data": {
      "image/png": "[encoded data removed]",
      "text/plain": [
       "<matplotlib.figure.Figure at 0x7f832418fa50>"
      ]
     },
     "metadata": {},
     "output_type": "display_data"
    },
    {
     "name": "stdout",
     "output_type": "stream",
     "text": [
      "Iteration40\n",
      "Within Set Sum of Squared Error = 371.452412819\n",
      "[[ 0.11556139  4.01101192]\n",
      " [ 3.90583797  0.20422471]\n",
      " [ 6.02605209  6.02935042]]\n"
     ]
    },
    {
     "data": {
      "image/png": "[encoded data removed]",
      "text/plain": [
       "<matplotlib.figure.Figure at 0x7f83249b5c10>"
      ]
     },
     "metadata": {},
     "output_type": "display_data"
    },
    {
     "name": "stdout",
     "output_type": "stream",
     "text": [
      "Iteration50\n",
      "Within Set Sum of Squared Error = 371.452412819\n",
      "[[ 0.11556139  4.01101192]\n",
      " [ 3.90583797  0.20422471]\n",
      " [ 6.02605209  6.02935042]]\n"
     ]
    },
    {
     "data": {
      "image/png": "[encoded data removed]",
      "text/plain": [
       "<matplotlib.figure.Figure at 0x7f8324db0190>"
      ]
     },
     "metadata": {},
     "output_type": "display_data"
    },
    {
     "name": "stdout",
     "output_type": "stream",
     "text": [
      "Iteration100\n",
      "Within Set Sum of Squared Error = 371.452412819\n",
      "[[ 0.11556139  4.01101192]\n",
      " [ 3.90583797  0.20422471]\n",
      " [ 6.02605209  6.02935042]]\n"
     ]
    },
    {
     "data": {
      "image/png": "[encoded data removed]",
      "text/plain": [
       "<matplotlib.figure.Figure at 0x7f831edc12d0>"
      ]
     },
     "metadata": {},
     "output_type": "display_data"
    }
   ],
   "source": [
    "# START STUDENT CODE 11.0\n",
    "# (ADD CELLS AS NEEDED)\n",
    "def nearest_centroid(line):\n",
    "    x = np.array([float(f) for f in line.split(',')])\n",
    "    wx = 1/abs(sqrt(x[0]**2 + x[1]**2))\n",
    "    closest_centroid_idx = np.sum((x - wBroadcast.value)**2 * wx, axis=1).argmin()\n",
    "    \n",
    "    return (closest_centroid_idx,(x,1))\n",
    "\n",
    "K = 3\n",
    "\n",
    "\n",
    "D = sc.textFile(\"HW11/HW110/data.csv\").cache()\n",
    "\n",
    "def calcError(line):\n",
    "   \n",
    "    center = centroids[nearest_centroid(line)[0]]\n",
    " \n",
    "    point = np.array([float(f) for f in line.split(',')])\n",
    "   \n",
    "    return sqrt(sum([x**2 for x in (point - center)]))\n",
    "iter_num = 0\n",
    "for k in [1, 10, 20, 30, 40, 50, 100]:\n",
    "    # Initialization: initialization of parameter is fixed to show an example\n",
    "    centroids = np.array([[0.0,0.0],[2.0,2.0],[0.0,7.0]])\n",
    "    wBroadcast = sc.broadcast(centroids)\n",
    "    for i in range(k):  \n",
    "        res = D.map(nearest_centroid).reduceByKey(lambda x,y : (x[0]+y[0],x[1]+y[1])).collect()\n",
    "   \n",
    "        res = sorted(res,key = lambda x : x[0])  #sort based on clusted ID\n",
    "        centroids_new = np.array([x[1][0]/x[1][1] for x in res])  #divide by cluster size\n",
    "        centroids = centroids_new\n",
    "        wBroadcast = sc.broadcast(centroids)\n",
    "    \n",
    "    print \"Iteration\" + str(k)\n",
    "    WSSSE = D.map(calcError).reduce(lambda x, y: x + y)\n",
    "\n",
    "    print(\"Within Set Sum of Squared Error = \" + str(WSSSE))\n",
    "    print centroids\n",
    "    plot_iteration(centroids)\n",
    "# END STUDENT CODE 11.0"
   ]
  },
  {
   "cell_type": "markdown",
   "metadata": {},
   "source": [
    "## HW11.1 Loss Functions\n",
    "\n",
    " \n",
    "In the context of binary classification problems, does the linear SVM learning algorithm yield the same result as a L2 penalized logistic regesssion learning algorithm? \n",
    "\n",
    "In your reponse, please discuss the loss functions, and the learnt models, and separating surfaces between the two classes.\n",
    "\n",
    "\n",
    "In the context of binary classification problems, does the linear SVM learning algorithm yield the same result as a perceptron learning algorithm? \n",
    "\n",
    "[OPTIONAL]: generate an artifical binary classification dataset with 2 input features and plot the learnt separating surface for both a linear SVM and for  logistic regression. Comment on the learnt surfaces. Please feel free to do this in Python (no need to use Spark).\n"
   ]
  },
  {
   "cell_type": "markdown",
   "metadata": {},
   "source": [
    "### In the context of binary classification problems, does the linear SVM learning algorithm yield the same result as a L2 penalized logistic regesssion learning algorithm? \n",
    "\n",
    "Answer:  Unlike logistic regression, Linear Support vector machines, primary intuition wasn't concretely probabilistic. The main intuition was maximizing the margin between two distributions.The basic intuition of Logistic Regression was modeling the conditional probability of one of the classes P(Y=1 | X= x )  given and by minimizing the log loss function is equivalent to maximizing the likelihood. So we arrive to the logistic loss function. \n",
    "Afterwards all this add regularization term we arrive to a function that is very similar to the SVM function but with the log loss instead of the hinge loss.\n",
    "\n"
   ]
  },
  {
   "cell_type": "code",
   "execution_count": 7,
   "metadata": {},
   "outputs": [
    {
     "data": {
      "image/png": "[encoded data removed]",
      "text/plain": [
       "<matplotlib.figure.Figure at 0x7f83268e4a10>"
      ]
     },
     "metadata": {},
     "output_type": "display_data"
    }
   ],
   "source": [
    "%matplotlib inline\n",
    "import numpy as np\n",
    "import matplotlib.pyplot as plt\n",
    "\n",
    "xmin, xmax = -4, 4\n",
    "xx = np.linspace(xmin, xmax, 100)\n",
    "lw = 2\n",
    "\n",
    "plt.plot(xx, np.where(xx < 1, 1 - xx, 0), color='teal', lw=lw,\n",
    "         label=\"Hinge loss\")\n",
    "plt.plot(xx, np.log2(1 + np.exp(-xx)), color='cornflowerblue', lw=lw,\n",
    "         label=\"Log loss\")\n",
    "plt.plot(xx, -np.minimum(xx, 0), color='yellowgreen', lw=lw,\n",
    "         label=\"Perceptron loss\")\n",
    "plt.ylim((0, 8))\n",
    "plt.legend(loc=\"upper right\")\n",
    "plt.xlabel(r\"Decision function $f(x)$\")\n",
    "plt.ylabel(\"$L(y, f(x))$\")\n",
    "plt.show()"
   ]
  },
  {
   "cell_type": "markdown",
   "metadata": {},
   "source": [
    "For the logistic loss, while training the classifier, even for correctly classified training examples there will be some error calculated (see the right part of the graph ) . Which correlates with the initial intuition of logistic regression is modeling \"probabilities\". In other words Logistic regression is modeled to assume that the training data might contain some mistakes in annotation as well. While in the case of Hinge loss no error will be calculated\n",
    "#### So they are different"
   ]
  },
  {
   "cell_type": "markdown",
   "metadata": {},
   "source": [
    "### In the context of binary classification problems, does the linear SVM learning algorithm yield the same result as a perceptron learning algorithm? \n",
    "\n",
    "Answer:Perceptron algorithm does not attempt to minimize the margin;rather it is finished as soon as it find the weight vector for hyperplane that separates two classes.Perceptron does not penalize the correct guess while hinge loss does.\n",
    "\n",
    "Also hyperplane in perceptron depends upon the sequence in which records are processed while in SVM it depends only on support vectors."
   ]
  },
  {
   "cell_type": "markdown",
   "metadata": {},
   "source": [
    "## HW11.2 Gradient descent\n",
    "\n",
    "In the context of logistic regression describe and define three flavors of penalized loss functions.  Are these all supported in Spark MLLib (include online references to support your answers)?\n",
    "\n",
    "Describe probabilistic interpretations of the L1 and L2 priors for penalized logistic regression (HINT: see synchronous slides for week 11 for details)\n"
   ]
  },
  {
   "cell_type": "markdown",
   "metadata": {
    "collapsed": true
   },
   "source": [
    "### Response\n",
    "\n",
    "First let put the equations for logistic regression, loss function and it's gradient\n",
    "\n",
    "\n",
    "Logistic regression esitmated probability function;\n",
    "\n",
    "$\\hat{p} = h_\\theta(X) =\\sigma(\\Theta^T*X)$\n",
    "\n",
    "Where $\\sigma(.)$ is a sigmoid function (i.e., S-shaped) that outputs a number between 0 and 1. \n",
    "\n",
    "\n",
    "Logitic regression closed form solution is found using log-loss which can be be calculated as \n",
    "\n",
    "$J(\\mathbf{\\Theta}) = -\\frac{1}{m}*\\sum\\limits_{n=1}^{m}[y^{i}\\log\\hat{p^{i}} + (1-y^{i})(1-\\log\\hat{p^{i}}) ]$\n",
    "\n",
    "\n",
    "But this does not have closed form solution so we will have to go for gradient way\n",
    "And the equation for the gradients:\n",
    "\n",
    "$\\nabla_{\\mathbf{\\theta}^{(k)}} \\, J(\\mathbf{\\Theta}) = \\dfrac{1}{m} \\sum\\limits_{i=1}^{m}{ \\left ( \\hat{p}^{(i)}_k - y_k^{(i)} \\right ) \\mathbf{x}^{(i)}}$\n",
    "\n",
    "\n",
    "We can add L1/L2 loss penalty as explained on slide #360 https://docs.google.com/presentation/d/1qTBzcXAQ6Y-njiUqv9sHNMk3zBX-Pm8BidWrSwtrUP8/edit#slide=id.p520\n",
    "\n",
    "L1\n",
    "\n",
    "$\\nabla_{\\mathbf{\\theta}^{(k)}} \\, J(\\mathbf{\\Theta}) = \\dfrac{1}{m} \\sum\\limits_{i=1}^{m}{ \\left ( \\hat{p}^{(i)}_k - y_k^{(i)} \\right ) \\mathbf{x}^{(i)}} + \\lambda\\theta^T$\n",
    "\n",
    "\n",
    "L2 form\n",
    "\n",
    "\n",
    "$\\nabla_{\\mathbf{\\theta}^{(k)}} \\, J(\\mathbf{\\Theta}) = \\dfrac{1}{m} \\sum\\limits_{i=1}^{m}{ \\left ( \\hat{p}^{(i)}_k - y_k^{(i)} \\right ) \\mathbf{x}^{(i)}} + \\lambda*sign(\\theta^T)$\n",
    "\n",
    "\n",
    "Elastic Net\n",
    "\n",
    "\n",
    "$\\nabla_{\\mathbf{\\theta}^{(k)}} \\, J(\\mathbf{\\Theta}) = \\dfrac{1}{m} \\sum\\limits_{i=1}^{m}{ \\left ( \\hat{p}^{(i)}_k - y_k^{(i)} \\right ) \\mathbf{x}^{(i)}} +(\\alpha * \\lambda*sign(\\theta^T)  + (1- \\alpha)*\\lambda*sign(\\theta^T)$\n",
    "\n",
    "\n",
    "\n",
    "As per the current documentation https://spark.apache.org/docs/latest/mllib-linear-methods.html#regularizers\n",
    "\n",
    "above mentioned 3 forms are supported.\n",
    "\n",
    "\n",
    "The key idea is that you increase the weights as much as necessary to reach the global minimum.\n",
    "\n",
    "\n",
    "you are doing MAP estimation if you can interpret the regularization term R(θ)\n",
    "\n",
    "as the log of your prior.\n",
    "\n",
    "#### Describe probabilistic interpretations of the L1 and L2 priors for penalized logistic regression (HINT: see synchronous slides for week 11 for details)\n",
    "\n",
    "The first term in equation  is the log of the (conditional) likelihood.  Thus, we are maximizing the posterior estimation and regularization term R(θ) as the log of your prior.\n",
    "\n",
    "The L2 regularizer can be interpreted as the log of a Gaussian prior, and the L1 regularizer can be interpreted as the log of a Laplace prior.\n",
    "\n",
    "Reference https://www.quora.com/What-is-the-probabilistic-interpretation-of-regularized-logistic-regression\n",
    "\n"
   ]
  },
  {
   "cell_type": "markdown",
   "metadata": {},
   "source": [
    "## HW11.3 Logistic Regression\n",
    "\n",
    "Generate 2 sets of linearly separable data with 100 data points each using the data generation code provided below and plot each in separate plots. Call one the training set and the other the testing set.\n",
    "\n",
    "```python\n",
    "def generateData(n):\n",
    " \"\"\" \n",
    "  generates a 2D linearly separable dataset with n samples. \n",
    "  The third element of the sample is the label\n",
    " \"\"\"\n",
    " xb = (rand(n)*2-1)/2-0.5\n",
    " yb = (rand(n)*2-1)/2+0.5\n",
    " xr = (rand(n)*2-1)/2+0.5\n",
    " yr = (rand(n)*2-1)/2-0.5\n",
    " inputs = []\n",
    " for i in range(len(xb)):\n",
    "  inputs.append([xb[i],yb[i],1])\n",
    "  inputs.append([xr[i],yr[i],-1])\n",
    " return inputs\n",
    "\n",
    "```\n",
    "Modify this data generation code to generating non-linearly separable training and testing datasets (with approximately 10% of the data falling on the wrong side of the separating hyperplane. Plot the resulting datasets. \n",
    "\n",
    "NOTE: For the remainder of this problem please use the non-linearly separable training and testing datasets.\n",
    "\n",
    "Using MLLib  train up a LASSO logistic regression model with the training dataset and evaluate with the testing set. What a good number of iterations for training the logistic regression model? Justify with plots and words. \n",
    "\n",
    "Derive and implement in Spark a weighted  LASSO logistic regression. Implement a convergence test of your choice to check for termination within your training algorithm . \n",
    "\n",
    "Weight the above training dataset as follows:  Weight each example using the inverse vector length (Euclidean norm): \n",
    "\n",
    ">weight(X)= 1/||X||, \n",
    "\n",
    ">where ||X|| = SQRT(X.X)= SQRT(X1^2 + X2^2)\n",
    "\n",
    ">Here X is vector made up of X1 and X2.\n",
    "\n",
    "Evaluate your homegrown weighted  LASSO logistic regression on the test dataset. Report misclassification error (1 - Accuracy) and how many iterations does it took to converge.\n",
    "\n",
    "Does Spark MLLib have a weighted LASSO logistic regression implementation. If so use it and report your findings on the weighted training set and test set. "
   ]
  },
  {
   "cell_type": "code",
   "execution_count": 8,
   "metadata": {
    "collapsed": true
   },
   "outputs": [],
   "source": [
    "import numpy as np\n",
    "def generateData(n):\n",
    " \"\"\" \n",
    "  generates a 2D linearly separable dataset with n samples. \n",
    "  The third element of the sample is the label\n",
    " \"\"\"\n",
    " xb = (np.random.rand(n)*2-1)/2-0.5\n",
    " yb = (np.random.rand(n)*2-1)/2+0.5\n",
    " xr = (np.random.rand(n)*2-1)/2+0.5\n",
    " yr = (np.random.rand(n)*2-1)/2-0.5\n",
    " inputs = []\n",
    " for i in range(len(xb)):\n",
    "  inputs.append([xb[i],yb[i],1])\n",
    "  inputs.append([xr[i],yr[i],-1])\n",
    " return inputs\n"
   ]
  },
  {
   "cell_type": "code",
   "execution_count": 9,
   "metadata": {
    "collapsed": true
   },
   "outputs": [],
   "source": [
    "train_data = np.array(generateData(100))\n",
    "test_data = np.array(generateData(100))"
   ]
  },
  {
   "cell_type": "code",
   "execution_count": 10,
   "metadata": {},
   "outputs": [
    {
     "data": {
      "image/png": "[encoded data removed]",
      "text/plain": [
       "<matplotlib.figure.Figure at 0x7f83268e4390>"
      ]
     },
     "metadata": {},
     "output_type": "display_data"
    }
   ],
   "source": [
    "%matplotlib inline\n",
    "import matplotlib.pyplot as plt\n",
    "def plot_data(data):\n",
    "    data_colors = ['#0099ff' if x==1 else '#ff5050' for x in data[:,2]]\n",
    "    plt.scatter(data[:,0],data[:,1],color=data_colors,alpha=0.6)\n",
    "plt.subplot(1,2,1)\n",
    "plt.title(\"Training Data\")\n",
    "plot_data(train_data )\n",
    "plt.subplot(1,2,2)\n",
    "plt.title(\"Test Data\")\n",
    "plot_data(test_data )"
   ]
  },
  {
   "cell_type": "code",
   "execution_count": 11,
   "metadata": {
    "collapsed": true
   },
   "outputs": [],
   "source": [
    "import csv\n",
    "def data_save(X,fileName):\n",
    "    \n",
    "    data = zip(X[:,-1], X[:,-3], X[:,-2])\n",
    "    with open(fileName,'wb') as f:\n",
    "        writer = csv.writer(f)\n",
    "        for row in data:\n",
    "            writer.writerow(row)\n",
    "    return True"
   ]
  },
  {
   "cell_type": "code",
   "execution_count": 12,
   "metadata": {
    "collapsed": true
   },
   "outputs": [],
   "source": [
    "def generate_non_separable(n):\n",
    "    xb = (np.random.rand(n)*2-1)/2-0.5\n",
    "    yb = (np.random.rand(n)*2-1)/2+0.5\n",
    "    xr = (np.random.rand(n)*2-1)/2+0.5\n",
    "    yr = (np.random.rand(n)*2-1)/2-0.5\n",
    "    inputs = []\n",
    "    for i in range(len(xb)):\n",
    "      inputs.append([xb[i],yb[i],1])\n",
    "      inputs.append([xr[i],yr[i],-1])\n",
    "    inputs = np.array(inputs)\n",
    "    wrongidx = np.random.choice(range(2*n),np.round(0.1*2*n),replace=False)\n",
    "    inputs[wrongidx,-1]=-inputs[wrongidx,-1]\n",
    "    return inputs"
   ]
  },
  {
   "cell_type": "code",
   "execution_count": 13,
   "metadata": {},
   "outputs": [
    {
     "name": "stderr",
     "output_type": "stream",
     "text": [
      "/mnt/ephemeral1/jupyter/anaconda2/envs/py27/lib/python2.7/site-packages/ipykernel/__main__.py:11: DeprecationWarning: using a non-integer number instead of an integer will result in an error in the future\n"
     ]
    },
    {
     "data": {
      "image/png": "[encoded data removed]",
      "text/plain": [
       "<matplotlib.figure.Figure at 0x7f83249e6c10>"
      ]
     },
     "metadata": {},
     "output_type": "display_data"
    }
   ],
   "source": [
    "train_data = generate_non_separable(100)\n",
    "test_data = generate_non_separable(100)\n",
    "plt.subplot(1,2,1)\n",
    "plt.title(\"Training Data\")\n",
    "plot_data(train_data )\n",
    "plt.subplot(1,2,2)\n",
    "plt.title(\"Test Data\")\n",
    "plot_data(test_data )\n",
    "y_test = test_data[:,-1]\n",
    "y_test[y_test == -1 ] = 0"
   ]
  },
  {
   "cell_type": "code",
   "execution_count": 14,
   "metadata": {},
   "outputs": [
    {
     "name": "stdout",
     "output_type": "stream",
     "text": [
      "rm: `HW11/HW113/': No such file or directory\r\n"
     ]
    }
   ],
   "source": [
    "data_save(train_data,\"data_logistic_train.txt\")\n",
    "data_save(test_data,\"data_logistic_test.txt\")\n",
    "!hdfs dfs -rm -r HW11/HW113/\n",
    "!hdfs dfs -mkdir HW11/HW113/ \n",
    "!hdfs dfs -copyFromLocal data_logistic_train.txt HW11/HW113/\n",
    "!hdfs dfs -copyFromLocal data_logistic_test.txt HW11/HW113/"
   ]
  },
  {
   "cell_type": "code",
   "execution_count": 15,
   "metadata": {},
   "outputs": [
    {
     "name": "stderr",
     "output_type": "stream",
     "text": [
      "/opt/alti-spark-2.0.2/python/pyspark/mllib/classification.py:313: UserWarning: Deprecated in 2.0.0. Use ml.classification.LogisticRegression or LogisticRegressionWithLBFGS.\n",
      "  \"Deprecated in 2.0.0. Use ml.classification.LogisticRegression or \"\n"
     ]
    },
    {
     "name": "stdout",
     "output_type": "stream",
     "text": [
      "(weights=[-0.191432942435,0.194879926459], intercept=0.758941421369995)\n",
      "(weights=[-0.309409664784,0.315161312566], intercept=0.6260390295842806)\n",
      "(weights=[-0.39611358357,0.403699492161], intercept=0.5363544206633)\n",
      "(weights=[-0.464963664357,0.474112840287], intercept=0.47016841797621556)\n",
      "(weights=[-0.522144655525,0.53267578653], intercept=0.4186872694103101)\n",
      "(weights=[-0.571062694429,0.58284371528], intercept=0.3772057406416989)\n",
      "(weights=[-0.613806894442,0.626736203733], intercept=0.342914709485614)\n",
      "(weights=[-0.651755788893,0.66575218112], intercept=0.314007832415797)\n",
      "(weights=[-0.685868839702,0.700865555049], intercept=0.2892590089981045)\n",
      "(weights=[-0.716841639673,0.732782588988], intercept=0.26780079908344395)\n",
      "(weights=[-0.745195045497,0.762032283028], intercept=0.24899900845465164)\n",
      "(weights=[-0.771329460953,0.78902141963], intercept=0.2323773891179758)\n",
      "(weights=[-0.79555948613,0.814069702861], intercept=0.2175702437179935)\n",
      "(weights=[-0.818136903453,0.837433072367], intercept=0.20429141607835122)\n",
      "(weights=[-0.839266426449,0.859319679141], intercept=0.19231333479260088)\n",
      "(weights=[-0.859116790099,0.879901137518], intercept=0.18145245524876147)\n",
      "(weights=[-0.877828747546,0.89932063979], intercept=0.17155890359039108)\n",
      "(weights=[-0.895520956137,0.917698930064], intercept=0.16250895579417468)\n",
      "(weights=[-0.912294389104,0.935138782545], intercept=0.15419947536106826)\n",
      "(weights=[-0.92823569573,0.951728413026], intercept=0.14654373255966363)\n",
      "(weights=[-0.943419797638,0.967544115298], intercept=0.13946821637422696)\n",
      "(weights=[-0.957911920878,0.982652324991], intercept=0.13291017166235958)\n",
      "(weights=[-0.971769205086,0.997111254158], intercept=0.1268156740662761)\n",
      "(weights=[-0.9850419913,1.01097219966], intercept=0.12113810909826261)\n",
      "(weights=[-0.997774862604,1.02428060059], intercept=0.11583695875973699)\n",
      "(weights=[-1.01000749254,1.03707690055], intercept=0.11087682480561283)\n",
      "(weights=[-1.02177534242,1.04939725641], intercept=0.10622663599451841)\n",
      "(weights=[-1.03311023884,1.06127412539], intercept=0.10185899974999262)\n",
      "(weights=[-1.04404085521,1.07273675476], intercept=0.09774966817104624)\n",
      "(weights=[-1.05459311598,1.0838115928], intercept=0.09387709532955732)\n",
      "(weights=[-1.06479053792,1.09452263596], intercept=0.09022206799807304)\n",
      "(weights=[-1.07465451993,1.10489172365], intercept=0.08676739586366058)\n",
      "(weights=[-1.08420459041,1.11493878992], intercept=0.08349765025113853)\n",
      "(weights=[-1.09345861951,1.12468207935], intercept=0.08039894265032968)\n",
      "(weights=[-1.10243300198,1.13413833321], intercept=0.0774587360947784)\n",
      "(weights=[-1.11114281547,1.14332295053], intercept=0.07466568380260025)\n",
      "(weights=[-1.11960195815,1.15225012813], intercept=0.07200949055814002)\n",
      "(weights=[-1.12782326869,1.16093298289], intercept=0.06948079315562006)\n",
      "(weights=[-1.13581863144,1.16938365867], intercept=0.06707105689490706)\n",
      "(weights=[-1.14359906875,1.17761342048], intercept=0.06477248565393706)\n",
      "(weights=[-1.15117482247,1.18563273733], intercept=0.06257794349176167)\n",
      "(weights=[-1.15855542592,1.19345135566], intercept=0.06048088608314441)\n",
      "(weights=[-1.16574976784,1.20107836435], intercept=0.05847530056745036)\n",
      "(weights=[-1.17276614919,1.20852225271], intercept=0.056555652624608634)\n",
      "(weights=[-1.17961233387,1.21579096206], intercept=0.05471683977959186)\n",
      "(weights=[-1.18629559406,1.22289193197], intercept=0.05295415009228922)\n",
      "(weights=[-1.19282275085,1.22983214166], intercept=0.05126322551825725)\n",
      "(weights=[-1.19920021082,1.23661814727], intercept=0.049640029332682994)\n",
      "(weights=[-1.20543399886,1.24325611532], intercept=0.048080817099018854)\n",
      "(weights=[-1.21152978795,1.24975185307], intercept=0.046582110738368133)\n",
      "(weights=[-1.21749292595,1.25611083583], intercept=0.045140675318401845)\n",
      "(weights=[-1.22332845999,1.26233823179], intercept=0.04375349823345739)\n",
      "(weights=[-1.22904115855,1.26843892462], intercept=0.04241777049219722)\n",
      "(weights=[-1.23463553158,1.27441753388], intercept=0.0411308698671671)\n",
      "(weights=[-1.2401158488,1.28027843378], intercept=0.03989034569291044)\n",
      "(weights=[-1.24548615648,1.28602577023], intercept=0.038693905126888424)\n",
      "(weights=[-1.25075029268,1.2916634764], intercept=0.03753940071108389)\n",
      "(weights=[-1.2559119013,1.29719528708], intercept=0.03642481909245313)\n",
      "(weights=[-1.26097444489,1.30262475174], intercept=0.03534827077785603)\n",
      "(weights=[-1.2659412165,1.30795524657], intercept=0.034307980814168124)\n",
      "(weights=[-1.27081535051,1.31318998561], intercept=0.033302280297321296)\n",
      "(weights=[-1.27559983264,1.31833203089], intercept=0.032329598625331434)\n",
      "(weights=[-1.28029750915,1.32338430191], intercept=0.03138845642020391)\n",
      "(weights=[-1.28491109542,1.32834958429], intercept=0.030477459052175304)\n",
      "(weights=[-1.28944318378,1.33323053783], intercept=0.029595290707229)\n",
      "(weights=[-1.2938962508,1.33802970399], intercept=0.028740708945366487)\n",
      "(weights=[-1.29827266411,1.34274951273], intercept=0.027912539702853956)\n",
      "(weights=[-1.30257468863,1.34739228898], intercept=0.027109672696702985)\n",
      "(weights=[-1.3068044924,1.35196025855], intercept=0.026331057194080014)\n",
      "(weights=[-1.31096415203,1.3564555537], intercept=0.025575698113249785)\n",
      "(weights=[-1.31505565772,1.36088021828], intercept=0.02484265242611257)\n",
      "(weights=[-1.31908091799,1.36523621255], intercept=0.024131025835451424)\n",
      "(weights=[-1.32304176407,1.36952541764], intercept=0.02343996970271494)\n",
      "(weights=[-1.32693995397,1.37374963975], intercept=0.022768678204565997)\n",
      "(weights=[-1.33077717633,1.37791061408], intercept=0.02211638569856577)\n",
      "(weights=[-1.33455505403,1.38201000847], intercept=0.021482364280266873)\n",
      "(weights=[-1.33827514748,1.38604942684], intercept=0.020865921515688307)\n",
      "(weights=[-1.34193895784,1.39003041238], intercept=0.020266398334662497)\n",
      "(weights=[-1.34554792991,1.39395445062], intercept=0.019683167071902014)\n",
      "(weights=[-1.34910345493,1.3978229722], intercept=0.01911562964384962)\n",
      "(weights=[-1.35260687317,1.40163735554], intercept=0.018563215850466)\n",
      "(weights=[-1.35605947637,1.40539892937], intercept=0.018025381792089186)\n",
      "(weights=[-1.35946251007,1.40910897507], intercept=0.017501608392380838)\n",
      "(weights=[-1.36281717573,1.41276872884], intercept=0.016991400019167897)\n",
      "(weights=[-1.36612463279,1.41637938386], intercept=0.01649428319570348)\n",
      "(weights=[-1.36938600061,1.4199420922], intercept=0.01600980539551664)\n",
      "(weights=[-1.37260236027,1.4234579667], intercept=0.015537533914604159)\n",
      "(weights=[-1.37577475629,1.42692808272], intercept=0.015077054815245582)\n",
      "(weights=[-1.37890419822,1.43035347979], intercept=0.014627971936200936)\n",
      "(weights=[-1.38199166223,1.43373516319], intercept=0.014189905964484308)\n",
      "(weights=[-1.3850380925,1.43707410541], intercept=0.013762493564300125)\n",
      "(weights=[-1.38804440263,1.44037124757], intercept=0.01334538655908672)\n",
      "(weights=[-1.39101147689,1.44362750074], intercept=0.012938251162937205)\n",
      "(weights=[-1.39394017153,1.44684374721], intercept=0.012540767257963995)\n",
      "(weights=[-1.39683131585,1.45002084165], intercept=0.012152627714443393)\n",
      "(weights=[-1.3996857134,1.4531596123], intercept=0.011773537750823022)\n",
      "(weights=[-1.40250414294,1.45626086197], intercept=0.011403214330899945)\n",
      "(weights=[-1.40528735951,1.45932536914], intercept=0.01104138559568291)\n",
      "(weights=[-1.40803609535,1.46235388887], intercept=0.010687790327640343)\n"
     ]
    },
    {
     "data": {
      "text/plain": [
       "<matplotlib.text.Text at 0x7f8324047150>"
      ]
     },
     "execution_count": 15,
     "metadata": {},
     "output_type": "execute_result"
    },
    {
     "data": {
      "image/png": "[encoded data removed]",
      "text/plain": [
       "<matplotlib.figure.Figure at 0x7f8324053850>"
      ]
     },
     "metadata": {},
     "output_type": "display_data"
    }
   ],
   "source": [
    "from pyspark.mllib.classification import LogisticRegressionWithLBFGS, LogisticRegressionModel,LogisticRegressionWithSGD\n",
    "from pyspark.mllib.regression import LabeledPoint\n",
    "\n",
    "# Load and parse the data\n",
    "def parsePoint(point):\n",
    "    label = 1 if point[-1] ==1 else 0\n",
    "    return LabeledPoint(label, point[:-1])  #the input shoul be {0,1} instead of {-1,1}\n",
    "# Load and parse the data\n",
    "def parsePoint_pred(point):\n",
    "    \n",
    "    return  point[:-1]\n",
    "x_axis,y_axis =[],[]\n",
    "correct, total = 0, 0\n",
    "train_rdd = sc.parallelize(train_data).map(parsePoint).cache()\n",
    "test_rdd = sc.parallelize(test_data).map(parsePoint_pred).cache()\n",
    "for k in range(1,100):\n",
    "# Build the model\n",
    "    model_lasso = LogisticRegressionWithSGD.train(train_rdd, regType=\"l1\", intercept=True,iterations=k)\n",
    "    print model_lasso\n",
    "    #parsedtest = sc.textFile(\"HW11/HW113//data_logistic_test.txt\").map(parsePoint_pred)\n",
    "    Z = model_lasso.predict(test_rdd).collect()\n",
    "   \n",
    "    for pred, label in zip(Z,y_test):\n",
    "            if pred == label: correct += 1\n",
    "            total += 1\n",
    "    \n",
    "    x_axis.append(k)\n",
    "    y_axis.append(1.0*correct/total)\n",
    "plt.plot(x_axis,y_axis)\n",
    "plt.title(\"Accuracy\")"
   ]
  },
  {
   "cell_type": "markdown",
   "metadata": {},
   "source": [
    "#### Based on accuracy scores we can see improvement stop after 90 iterations. so that could be good number of iterations with MLlib API. Also we can see there is little variation in weights after 90 iterations."
   ]
  },
  {
   "cell_type": "code",
   "execution_count": 16,
   "metadata": {
    "collapsed": true
   },
   "outputs": [],
   "source": [
    "\n",
    "def logisticRegressionGDReg(data, wInitial=None, learningRate=0.05, iterations=50, regParam=0.01, regType=None):\n",
    "    featureLen = len(data.take(1)[0])-1\n",
    "    n = data.count()\n",
    "    if wInitial is None:\n",
    "        w = np.random.normal(size=featureLen) # w should be broadcasted if it is large\n",
    "    else:\n",
    "        w = wInitial\n",
    "        \n",
    "    for i in range(iterations):\n",
    "        wBroadcast = sc.broadcast(w)\n",
    "        gradient = data.map(lambda d: (1 / (1 + np.exp(-d[0]*np.dot(wBroadcast.value, d[1:])))-1)*(1/np.linalg.norm(np.array(d[1:]))) * d[0] * np.array(d[1:]))\\\n",
    "                    .reduce(lambda a, b: a + b)\n",
    "        if regType == \"Ridge\":\n",
    "            wReg = w * 1\n",
    "            wReg[-1] = 0 #last value of weight vector is bias term, ignored in regularization\n",
    "        elif regType == \"Lasso\":\n",
    "            wReg = w * 1\n",
    "            wReg[-1] = 0 #last value of weight vector is bias term, ignored in regularization\n",
    "            wReg = np.sign(wReg)\n",
    "        else:\n",
    "            wReg = np.zeros(w.shape[0])\n",
    "        gradient = gradient + regParam * wReg  #gradient:  GD of Sqaured Error+ GD of regularized term \n",
    "        w = w - learningRate * gradient / n\n",
    "        \n",
    "    \n",
    " \n",
    "    return w"
   ]
  },
  {
   "cell_type": "code",
   "execution_count": 17,
   "metadata": {},
   "outputs": [],
   "source": [
    "data = sc.textFile('HW11/HW113/data_logistic_train.txt').map(lambda line: [float(v) for v in line.split(',')]+[1.0]).cache()\n",
    "model = logisticRegressionGDReg(data,regType=\"Lasso\")"
   ]
  },
  {
   "cell_type": "code",
   "execution_count": 18,
   "metadata": {
    "collapsed": true
   },
   "outputs": [],
   "source": [
    "def predict(i):\n",
    "\n",
    "    if i > 0:\n",
    "        prob = 1 / (1 + exp(-i))\n",
    "    else:\n",
    "        exp_margin = exp(i)\n",
    "        prob = exp_margin / (1 + exp_margin)\n",
    "    if prob > 0.5:\n",
    "         return 1\n",
    "    else:\n",
    "        return 0"
   ]
  },
  {
   "cell_type": "code",
   "execution_count": 19,
   "metadata": {
    "collapsed": true
   },
   "outputs": [],
   "source": [
    "def stop_here(prior, new):\n",
    "    changes = np.array(prior) - np.array(new)\n",
    "    return np.linalg.norm(changes)"
   ]
  },
  {
   "cell_type": "code",
   "execution_count": 20,
   "metadata": {},
   "outputs": [
    {
     "name": "stdout",
     "output_type": "stream",
     "text": [
      "Run stopped after 99 Iterations\n"
     ]
    },
    {
     "data": {
      "text/plain": [
       "<matplotlib.text.Text at 0x7f831ed9e990>"
      ]
     },
     "execution_count": 20,
     "metadata": {},
     "output_type": "execute_result"
    },
    {
     "data": {
      "image/png": "[encoded data removed]",
      "text/plain": [
       "<matplotlib.figure.Figure at 0x7f83249c0790>"
      ]
     },
     "metadata": {},
     "output_type": "display_data"
    }
   ],
   "source": [
    "from math import exp\n",
    "data = sc.textFile('HW11/HW113/data_logistic_train.txt').map(lambda line: [float(v) for v in line.split(',')]+[1.0]).cache()\n",
    "test_data = sc.textFile('HW11/HW113/data_logistic_test.txt').map(lambda line: [float(v) for v in line.split(',')]).cache()\n",
    "    \n",
    "x_axis,y_axis =[],[]\n",
    "last_model = []\n",
    "for k in range(1,100):\n",
    "    model = logisticRegressionGDReg(data,regType=\"Lasso\",iterations=k)\n",
    "    \n",
    "    margin = np.array(test_data.collect())[:,1:3].dot(model[0:2]) + model[2:3]\n",
    "    preds = np.array(map(lambda x: predict(x),margin))\n",
    "    accuracy_score = np.mean(preds == y_test)\n",
    "    x_axis.append(k)\n",
    "    y_axis.append(accuracy_score)\n",
    "    if len(last_model) > 0:\n",
    "        if stop_here(last_model, model) < 0.02:\n",
    "            \n",
    "            break #Stoping criterian\n",
    "        else:\n",
    "            #print \"Model \",model\n",
    "            #print \"Mode change Score %2.4f\"%(stop_here(last_model, model))\n",
    "            last_model = model\n",
    "    \n",
    "    last_model = model\n",
    "print \"Run stopped after %d Iterations\"%(k  )          \n",
    "plt.plot(x_axis,y_axis)\n",
    "plt.title(\"Custom Accuracy\")"
   ]
  },
  {
   "cell_type": "markdown",
   "metadata": {
    "collapsed": true
   },
   "source": [
    "### Response"
   ]
  },
  {
   "cell_type": "markdown",
   "metadata": {},
   "source": [
    "## HW11.4 SVMs\n",
    "\n",
    "Use the non-linearly separable training and testing datasets from HW11.3 in this problem.\n",
    "\n",
    "Using MLLib  train up a soft SVM model with the training dataset and evaluate with the testing set. What is a good number of iterations for training the SVM model? Justify with plots and words. \n",
    "\n",
    "__HW11.4.1 [Optional]__\n",
    "Derive and Implement in Spark a weighted hard linear svm classification learning algorithm. Feel free to use the following notebook as a starting point  \n",
    "> [SVM Notebook](http://nbviewer.jupyter.org/urls/dl.dropbox.com/s/dm2l73iznde7y4f/SVM-Notebook-Linear-Kernel-2015-06-19.ipynb).\n",
    "\n",
    "Evaluate your homegrown weighted  linear svm classification learning algorithm on the  weighted training dataset and test dataset from HW11.3 (linearly separable dataset). Report misclassification error (1 - Accuracy) and how many iterations does it took to converge?  How many support vectors do you end up with?\n",
    "\n",
    "Does Spark MLLib have a weighted soft SVM learner. If so use it and report your findings on the weighted training set and test set.  \n",
    "\n",
    "__HW11.4.2 [Optional]__\n",
    "Repeat HW11.4.2 using a soft SVM and a nonlinearly separable datasets. Compare the error rates that you get here with the error rates you achieve using MLLib's soft SVM. Report the number of support vectors in both cases (may not be available the MLLib implementation).\n"
   ]
  },
  {
   "cell_type": "code",
   "execution_count": 23,
   "metadata": {},
   "outputs": [
    {
     "name": "stdout",
     "output_type": "stream",
     "text": [
      "(weights=[-0.194909052426,0.201202350388], intercept=0.49)\n",
      "(weights=[-0.46848367972,0.476193452946], intercept=0.48292893218813454)\n",
      "(weights=[-0.629580330468,0.633936792616], intercept=0.38477938642589815)\n",
      "(weights=[-0.758184092405,0.763154757913], intercept=0.2822793864258981)\n",
      "(weights=[-0.856264981664,0.869138151421], intercept=0.18836453137090697)\n",
      "(weights=[-0.923833779232,0.947901196897], intercept=0.1291685292536468)\n",
      "(weights=[-0.963954770948,0.998447585817], intercept=0.10271101614300089)\n",
      "(weights=[-0.996093081918,1.03564539532], intercept=0.08503334661333721)\n",
      "(weights=[-1.01988639411,1.06319897022], intercept=0.07503334661333722)\n",
      "(weights=[-1.03955030682,1.08400048081], intercept=0.07345220778325302)\n",
      "(weights=[-1.05700028417,1.10226294294], intercept=0.0719446510603642)\n",
      "(weights=[-1.07314842742,1.1178275358], intercept=0.06761452404144201)\n",
      "(weights=[-1.08704172463,1.13183200349], intercept=0.06345427256975279)\n",
      "(weights=[-1.10042964081,1.14532704623], intercept=0.059445353941066426)\n",
      "(weights=[-1.11336359662,1.15836449613], intercept=0.05557237059485901)\n",
      "(weights=[-1.12579461602,1.17005680159], intercept=0.05057237059485901)\n",
      "(weights=[-1.13785447626,1.18140000403], intercept=0.045721658094132346)\n",
      "(weights=[-1.1495537945,1.19139385564], intercept=0.04218612418819961)\n",
      "(weights=[-1.15917893982,1.19980324339], intercept=0.04218612418819961)\n",
      "(weights=[-1.16624078492,1.20665372992], intercept=0.037713988233200026)\n",
      "(weights=[-1.17313244006,1.21333912022], intercept=0.03334963042848018)\n",
      "(weights=[-1.17986564517,1.21987080284], intercept=0.02908561610136797)\n",
      "(weights=[-1.18645084968,1.22625891447], intercept=0.024915327820226478)\n",
      "(weights=[-1.19289740278,1.23251252447], intercept=0.020832844915587845)\n",
      "(weights=[-1.19921370905,1.23863978589], intercept=0.01683284491558784)\n",
      "(weights=[-1.20529210323,1.2439499989], intercept=0.01389110288851508)\n",
      "(weights=[-1.21125687255,1.24916094684], intercept=0.011004351542566952)\n",
      "(weights=[-1.21665317015,1.25397609404], intercept=0.0072247068124746796)\n",
      "(weights=[-1.22195561193,1.25870749316], intercept=0.0035108000489336424)\n",
      "(weights=[-1.22716893069,1.2633593673], intercept=0.0)\n",
      "(weights=[-1.2321974351,1.26731796065], intercept=-0.0)\n",
      "(weights=[-1.23714674551,1.27121421004], intercept=-0.0)\n",
      "(weights=[-1.24191988539,1.2744638852], intercept=-0.0)\n",
      "(weights=[-1.24662230817,1.27766541435], intercept=-0.0)\n",
      "(weights=[-1.25125706666,1.28082087594], intercept=-0.0)\n",
      "(weights=[-1.25582700017,1.28393220303], intercept=-0.0)\n",
      "(weights=[-1.26033475481,1.28700119716], intercept=-0.0)\n",
      "(weights=[-1.26425850091,1.28991066173], intercept=-0.0008111071056538125)\n",
      "(weights=[-1.2681316159,1.29278258325], intercept=-0.0016117478746792478)\n",
      "(weights=[-1.27195601052,1.29561837854], intercept=-0.0024023172897213426)\n",
      "(weights=[-1.27536829635,1.29817570125], intercept=-0.0024023172897213426)\n",
      "(weights=[-1.278739715,1.30070239623], intercept=-0.0024023172897213426)\n",
      "(weights=[-1.2820717005,1.30319953821], intercept=-0.002402317289721343)\n",
      "(weights=[-1.28536560491,1.30566814049], intercept=-0.0024023172897213426)\n",
      "(weights=[-1.28862270477,1.30810915976], intercept=-0.0024023172897213426)\n",
      "(weights=[-1.29184420684,1.31052350041], intercept=-0.0024023172897213426)\n",
      "(weights=[-1.29462699211,1.31275407798], intercept=-0.00167299233223187)\n",
      "(weights=[-1.29738063747,1.31496129808], intercept=-0.0009513044957448376)\n",
      "(weights=[-1.30010603957,1.31714587942], intercept=-0.0002370187814591232)\n",
      "(weights=[-1.30280404999,1.31930850461], intercept=-0.0)\n",
      "(weights=[-1.30547547839,1.32144982263], intercept=-0.0)\n",
      "(weights=[-1.30812109527,1.3235704511], intercept=-0.0)\n",
      "(weights=[-1.31074163465,1.32567097838], intercept=-0.0)\n",
      "(weights=[-1.3133377964,1.32775196544], intercept=-0.0)\n",
      "(weights=[-1.31518625395,1.32951361945], intercept=0.0)\n",
      "(weights=[-1.31701813307,1.33125947356], intercept=0.0)\n",
      "(weights=[-1.31878046239,1.33254474118], intercept=0.0)\n",
      "(weights=[-1.32016765486,1.33368198215], intercept=-0.0)\n",
      "(weights=[-1.32016765486,1.33368198215], intercept=-0.0)\n",
      "(weights=[-1.32016765486,1.33368198215], intercept=-0.0)\n",
      "(weights=[-1.32016765486,1.33368198215], intercept=-0.0)\n",
      "(weights=[-1.32016765486,1.33368198215], intercept=-0.0)\n",
      "(weights=[-1.32016765486,1.33368198215], intercept=-0.0)\n",
      "(weights=[-1.32016765486,1.33368198215], intercept=-0.0)\n",
      "(weights=[-1.32016765486,1.33368198215], intercept=-0.0)\n",
      "(weights=[-1.32016765486,1.33368198215], intercept=-0.0)\n",
      "(weights=[-1.32016765486,1.33368198215], intercept=-0.0)\n",
      "(weights=[-1.32016765486,1.33368198215], intercept=-0.0)\n",
      "(weights=[-1.32016765486,1.33368198215], intercept=-0.0)\n",
      "(weights=[-1.32016765486,1.33368198215], intercept=-0.0)\n",
      "(weights=[-1.32016765486,1.33368198215], intercept=-0.0)\n",
      "(weights=[-1.32016765486,1.33368198215], intercept=-0.0)\n",
      "(weights=[-1.32016765486,1.33368198215], intercept=-0.0)\n",
      "(weights=[-1.32016765486,1.33368198215], intercept=-0.0)\n",
      "(weights=[-1.32016765486,1.33368198215], intercept=-0.0)\n",
      "(weights=[-1.32016765486,1.33368198215], intercept=-0.0)\n",
      "(weights=[-1.32016765486,1.33368198215], intercept=-0.0)\n",
      "(weights=[-1.32016765486,1.33368198215], intercept=-0.0)\n",
      "(weights=[-1.32016765486,1.33368198215], intercept=-0.0)\n",
      "(weights=[-1.32016765486,1.33368198215], intercept=-0.0)\n",
      "(weights=[-1.32016765486,1.33368198215], intercept=-0.0)\n",
      "(weights=[-1.32016765486,1.33368198215], intercept=-0.0)\n",
      "(weights=[-1.32016765486,1.33368198215], intercept=-0.0)\n",
      "(weights=[-1.32016765486,1.33368198215], intercept=-0.0)\n",
      "(weights=[-1.32016765486,1.33368198215], intercept=-0.0)\n",
      "(weights=[-1.32016765486,1.33368198215], intercept=-0.0)\n",
      "(weights=[-1.32016765486,1.33368198215], intercept=-0.0)\n",
      "(weights=[-1.32016765486,1.33368198215], intercept=-0.0)\n",
      "(weights=[-1.32016765486,1.33368198215], intercept=-0.0)\n",
      "(weights=[-1.32016765486,1.33368198215], intercept=-0.0)\n",
      "(weights=[-1.32016765486,1.33368198215], intercept=-0.0)\n",
      "(weights=[-1.32016765486,1.33368198215], intercept=-0.0)\n",
      "(weights=[-1.32016765486,1.33368198215], intercept=-0.0)\n",
      "(weights=[-1.32016765486,1.33368198215], intercept=-0.0)\n",
      "(weights=[-1.32016765486,1.33368198215], intercept=-0.0)\n",
      "(weights=[-1.32016765486,1.33368198215], intercept=-0.0)\n",
      "(weights=[-1.32016765486,1.33368198215], intercept=-0.0)\n",
      "(weights=[-1.32016765486,1.33368198215], intercept=-0.0)\n",
      "(weights=[-1.32016765486,1.33368198215], intercept=-0.0)\n",
      "Run stopped after 99 Iterations\n"
     ]
    },
    {
     "data": {
      "text/plain": [
       "<matplotlib.text.Text at 0x7f831ed3ead0>"
      ]
     },
     "execution_count": 23,
     "metadata": {},
     "output_type": "execute_result"
    },
    {
     "data": {
      "image/png": "[encoded data removed]",
      "text/plain": [
       "<matplotlib.figure.Figure at 0x7f831ec63290>"
      ]
     },
     "metadata": {},
     "output_type": "display_data"
    }
   ],
   "source": [
    "from pyspark.mllib.classification import SVMModel, SVMWithSGD\n",
    "from pyspark.mllib.regression import LabeledPoint\n",
    "\n",
    "# Load and parse the data\n",
    "def parsePoint(point):\n",
    "    label = 1 if point[-1] ==1 else 0\n",
    "    return LabeledPoint(label, point[:-1])  #the input shoul be {0,1} instead of {-1,1}\n",
    "# Load and parse the data\n",
    "def parsePoint_pred(point):\n",
    "    \n",
    "    return  point[:-1]\n",
    "x_axis,y_axis =[],[]\n",
    "correct, total = 0, 0\n",
    "train_rdd = sc.parallelize(train_data).map(parsePoint).cache()\n",
    "test_rdd = sc.parallelize(test_data.collect()).map(parsePoint_pred).cache()\n",
    "last_model = []\n",
    "for k in range(1,100):\n",
    "# Build the model\n",
    "    model_SVM = SVMWithSGD.train(train_rdd, regType=\"l1\", intercept=True,iterations=k)\n",
    "    print model_SVM\n",
    "    #parsedtest = sc.textFile(\"HW11/HW113//data_logistic_test.txt\").map(parsePoint_pred)\n",
    "    Z = model_SVM.predict(test_rdd).collect()\n",
    "   \n",
    "    for pred, label in zip(Z,y_test):\n",
    "            if pred == label: correct += 1\n",
    "            total += 1\n",
    "    if len(last_model) > 0:\n",
    "        if stop_here(last_model, list(model_SVM.weights) )< 0.005 and 1.0*correct/total > 80.00:\n",
    "            \n",
    "            break #Stoping criterian\n",
    "        else:\n",
    "            #print \"Model \",model\n",
    "            #print \"Mode change Score %2.4f\"%(stop_here(last_model, model))\n",
    "            last_model = list(model_SVM.weights)\n",
    "    \n",
    "    last_model = list(model_SVM.weights)\n",
    "\n",
    "    x_axis.append(k)\n",
    "    y_axis.append(1.0*correct/total)\n",
    "print \"Run stopped after %d Iterations\"%(k  ) \n",
    "plt.plot(x_axis,y_axis)\n",
    "plt.title(\"Accuracy\")"
   ]
  },
  {
   "cell_type": "markdown",
   "metadata": {
    "collapsed": true
   },
   "source": [
    "### Response"
   ]
  },
  {
   "cell_type": "markdown",
   "metadata": {},
   "source": [
    "## HW11.5  [OPTIONAL] Distributed Perceptron algorithm.\n",
    "[Back to Table of Contents](#TOC)\n",
    "\n",
    "Using the following papers as background:\n",
    "http://static.googleusercontent.com/external_content/untrusted_dlcp/research.google.com/en//pubs/archive/36266.pdf\n",
    "\n",
    "https://www.dropbox.com/s/a5pdcp0r8ptudgj/gesmundo-tomeh-eacl-2012.pdf?dl=0\n",
    "\n",
    "http://www.slideshare.net/matsubaray/distributed-perceptron \n",
    "\n",
    "Implement each of the following flavors of perceptron learning algorithm:\n",
    "\n",
    "1. Serial (All Data): This is the classifier returned if trained serially on all the available data.  On a single computer for example (Mistake driven)\n",
    "2. Serial (Sub Sampling): Shard the data, select one shard randomly and train serially. \n",
    "3. Parallel (Parameter Mix): Learn a perceptron locally on each shard: \n",
    "Once learning is complete combine each learnt percepton using a uniform weighting\n",
    "4. Parallel (Iterative Parameter Mix) as described in the above papers."
   ]
  },
  {
   "cell_type": "code",
   "execution_count": 102,
   "metadata": {},
   "outputs": [
    {
     "data": {
      "text/plain": [
       "4000"
      ]
     },
     "execution_count": 102,
     "metadata": {},
     "output_type": "execute_result"
    }
   ],
   "source": [
    "# START STUDENT CODE 11.5\n",
    "# (ADD CELLS AS NEEDED)\n",
    "\n",
    "# END STUDENT CODE 11.5"
   ]
  },
  {
   "cell_type": "markdown",
   "metadata": {},
   "source": [
    "## HW11.6 [OPTIONAL: consider doing this in a group]  Evalution of perceptron algorihtms on PennTreeBank POS corpus\n",
    "[Back to Table of Contents](#TOC)\n",
    "\n",
    "Reproduce the experiments reported in the following paper:\n",
    "\n",
    "*Prediction with MapReduce - Andrea Gesmundo and  Nadi Tomeh*\n",
    "\n",
    "http://www.aclweb.org/anthology/E12-2020 \n",
    "\n",
    "These experiments focus on the prediction accuracy on a part-of-speech\n",
    "(POS) task using the PennTreeBank corpus. They use sections 0-18 of the Wall\n",
    "Street Journal for training, and sections 22-24 for testing.\n",
    " "
   ]
  },
  {
   "cell_type": "code",
   "execution_count": null,
   "metadata": {
    "collapsed": true
   },
   "outputs": [],
   "source": [
    "# START STUDENT CODE 11.6\n",
    "# (ADD CELLS AS NEEDED)\n",
    "\n",
    "# END STUDENT CODE 11.6"
   ]
  },
  {
   "cell_type": "markdown",
   "metadata": {},
   "source": [
    "## HW11.7 [OPTIONAL: consider doing this in a group] Kernel Adatron \n",
    "\n",
    "Implement the Kernal Adatron in Spark (contact Jimi for details)"
   ]
  },
  {
   "cell_type": "code",
   "execution_count": null,
   "metadata": {
    "collapsed": true
   },
   "outputs": [],
   "source": [
    "# START STUDENT CODE 11.7\n",
    "# (ADD CELLS AS NEEDED)\n",
    "\n",
    "# END STUDENT CODE 11.7"
   ]
  },
  {
   "cell_type": "markdown",
   "metadata": {},
   "source": [
    "## HW11.8 [OPTIONAL] Create an animation of gradient descent for the Perceptron learning or for the logistic regression \n",
    "    \n",
    "Learning with the following 3 training examples. Present the progress in terms of the 2 dimensional input space in terms of a contour plot and also in terms of the 3D surface plot. See Live slides for an example.\n",
    "\n",
    "Here is a sample training dataset that can be used:\n",
    "```\n",
    "-2, 3, +1\n",
    "-1, -1, -1\n",
    "2, -3, 1\n",
    "```\n",
    "Please feel free to use \n",
    " + R (yes R!)\n",
    " + d3\n",
    " + https://plot.ly/python/\n",
    " + Matplotlib\n",
    "\n",
    "I am happy for folks to collaborate on HW11.8 also.\n",
    "\n",
    "It would be great to get the 3D surface and contours lines (with solution region and label normalized data) all in the same graph\n",
    "\n",
    "\n"
   ]
  },
  {
   "cell_type": "code",
   "execution_count": null,
   "metadata": {
    "collapsed": true
   },
   "outputs": [],
   "source": [
    "# START STUDENT CODE 11.8\n",
    "# (ADD CELLS AS NEEDED)\n",
    "\n",
    "# END STUDENT CODE 11.8"
   ]
  },
  {
   "cell_type": "markdown",
   "metadata": {},
   "source": [
    "# -------  ALTERNATIVE HOWEWORK --------"
   ]
  },
  {
   "cell_type": "markdown",
   "metadata": {
    "collapsed": true
   },
   "source": [
    "- Implement a scaleable softmax classifier (aka multinomial logistic regression) in Spark (regularized and non-regularized)\n",
    "- Run experiments on MNIST dataset and for CIFAR dataset\n",
    "- And compare to MLLib implementations (accuracy, CPU times)\n"
   ]
  },
  {
   "cell_type": "code",
   "execution_count": null,
   "metadata": {
    "collapsed": true
   },
   "outputs": [],
   "source": []
  }
 ],
 "metadata": {
  "kernelspec": {
   "display_name": "Pyspark (2.0.2)",
   "language": "python",
   "name": "pyspark-2.0.2"
  },
  "language_info": {
   "codemirror_mode": {
    "name": "ipython",
    "version": 2
   },
   "file_extension": ".py",
   "mimetype": "text/x-python",
   "name": "python",
   "nbconvert_exporter": "python",
   "pygments_lexer": "ipython2",
   "version": "2.7.11"
  },
  "toc": {
   "colors": {
    "hover_highlight": "#DAA520",
    "running_highlight": "#FF0000",
    "selected_highlight": "#FFD700"
   },
   "moveMenuLeft": true,
   "nav_menu": {
    "height": "417px",
    "width": "252px"
   },
   "navigate_menu": true,
   "number_sections": true,
   "sideBar": false,
   "threshold": 4,
   "toc_cell": true,
   "toc_section_display": "block",
   "toc_window_display": true
  }
 },
 "nbformat": 4,
 "nbformat_minor": 1
}
