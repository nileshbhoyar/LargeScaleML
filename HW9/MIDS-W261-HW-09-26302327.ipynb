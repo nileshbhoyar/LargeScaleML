{
 "cells": [
  {
   "cell_type": "markdown",
   "metadata": {
    "toc": "true"
   },
   "source": [
    "# Table of Contents\n",
    " <p><div class=\"lev1 toc-item\"><a href=\"#-MIDS---w261-Machine-Learning-At-Scale-\" data-toc-modified-id=\"-MIDS---w261-Machine-Learning-At-Scale--1\"><span class=\"toc-item-num\">1&nbsp;&nbsp;</span> MIDS - w261 Machine Learning At Scale </a></div><div class=\"lev2 toc-item\"><a href=\"#Assignment---HW9\" data-toc-modified-id=\"Assignment---HW9-11\"><span class=\"toc-item-num\">1.1&nbsp;&nbsp;</span>Assignment - HW9</a></div><div class=\"lev1 toc-item\"><a href=\"#Instructions\" data-toc-modified-id=\"Instructions-2\"><span class=\"toc-item-num\">2&nbsp;&nbsp;</span>Instructions</a></div><div class=\"lev2 toc-item\"><a href=\"#IMPORTANT\" data-toc-modified-id=\"IMPORTANT-21\"><span class=\"toc-item-num\">2.1&nbsp;&nbsp;</span>IMPORTANT</a></div><div class=\"lev3 toc-item\"><a href=\"#===-INSTRUCTIONS-for-SUBMISSIONS-===\" data-toc-modified-id=\"===-INSTRUCTIONS-for-SUBMISSIONS-===-211\"><span class=\"toc-item-num\">2.1.1&nbsp;&nbsp;</span>=== INSTRUCTIONS for SUBMISSIONS ===</a></div><div class=\"lev1 toc-item\"><a href=\"#HW-Problems\" data-toc-modified-id=\"HW-Problems-3\"><span class=\"toc-item-num\">3&nbsp;&nbsp;</span>HW Problems</a></div><div class=\"lev2 toc-item\"><a href=\"#HW-9-Dataset\" data-toc-modified-id=\"HW-9-Dataset-31\"><span class=\"toc-item-num\">3.1&nbsp;&nbsp;</span>HW 9 Dataset</a></div><div class=\"lev2 toc-item\"><a href=\"#3.--HW9.0--Short-answer-questions\" data-toc-modified-id=\"3.--HW9.0--Short-answer-questions-32\"><span class=\"toc-item-num\">3.2&nbsp;&nbsp;</span>3.  HW9.0  Short answer questions</a></div><div class=\"lev2 toc-item\"><a href=\"#HW9.1--MRJob-implementation-of-basic-PageRank\" data-toc-modified-id=\"HW9.1--MRJob-implementation-of-basic-PageRank-33\"><span class=\"toc-item-num\">3.3&nbsp;&nbsp;</span>HW9.1  MRJob implementation of basic PageRank</a></div><div class=\"lev3 toc-item\"><a href=\"#HW-9.1-Implementation\" data-toc-modified-id=\"HW-9.1-Implementation-331\"><span class=\"toc-item-num\">3.3.1&nbsp;&nbsp;</span>HW 9.1 Implementation</a></div><div class=\"lev3 toc-item\"><a href=\"#HW-9.1-Analysis\" data-toc-modified-id=\"HW-9.1-Analysis-332\"><span class=\"toc-item-num\">3.3.2&nbsp;&nbsp;</span>HW 9.1 Analysis</a></div><div class=\"lev2 toc-item\"><a href=\"#HW9.2:-Exploring-PageRank-teleportation-and-network-plots\" data-toc-modified-id=\"HW9.2:-Exploring-PageRank-teleportation-and-network-plots-34\"><span class=\"toc-item-num\">3.4&nbsp;&nbsp;</span>HW9.2: Exploring PageRank teleportation and network plots</a></div><div class=\"lev3 toc-item\"><a href=\"#HW-9.2-Implementation\" data-toc-modified-id=\"HW-9.2-Implementation-341\"><span class=\"toc-item-num\">3.4.1&nbsp;&nbsp;</span>HW 9.2 Implementation</a></div><div class=\"lev3 toc-item\"><a href=\"#HW-9.2-Analysis\" data-toc-modified-id=\"HW-9.2-Analysis-342\"><span class=\"toc-item-num\">3.4.2&nbsp;&nbsp;</span>HW 9.2 Analysis</a></div><div class=\"lev2 toc-item\"><a href=\"#HW9.3:-Applying-PageRank-to-the-Wikipedia-hyperlinks-network\" data-toc-modified-id=\"HW9.3:-Applying-PageRank-to-the-Wikipedia-hyperlinks-network-35\"><span class=\"toc-item-num\">3.5&nbsp;&nbsp;</span>HW9.3: Applying PageRank to the Wikipedia hyperlinks network</a></div><div class=\"lev3 toc-item\"><a href=\"#HW-9.3-Implementation\" data-toc-modified-id=\"HW-9.3-Implementation-351\"><span class=\"toc-item-num\">3.5.1&nbsp;&nbsp;</span>HW 9.3 Implementation</a></div><div class=\"lev3 toc-item\"><a href=\"#HW-9.3-Analysis\" data-toc-modified-id=\"HW-9.3-Analysis-352\"><span class=\"toc-item-num\">3.5.2&nbsp;&nbsp;</span>HW 9.3 Analysis</a></div><div class=\"lev2 toc-item\"><a href=\"#HW9.4:-Topic-specific-PageRank-implementation-using-MRJob-\" data-toc-modified-id=\"HW9.4:-Topic-specific-PageRank-implementation-using-MRJob--36\"><span class=\"toc-item-num\">3.6&nbsp;&nbsp;</span>HW9.4: Topic-specific PageRank implementation using MRJob </a></div><div class=\"lev3 toc-item\"><a href=\"#HW-9.4-Implementation\" data-toc-modified-id=\"HW-9.4-Implementation-361\"><span class=\"toc-item-num\">3.6.1&nbsp;&nbsp;</span>HW 9.4 Implementation</a></div><div class=\"lev3 toc-item\"><a href=\"#HW-9.4-Analysis\" data-toc-modified-id=\"HW-9.4-Analysis-362\"><span class=\"toc-item-num\">3.6.2&nbsp;&nbsp;</span>HW 9.4 Analysis</a></div><div class=\"lev1 toc-item\"><a href=\"#-----------OPTIONAL-QUESTIONS-SECTION---------\" data-toc-modified-id=\"-----------OPTIONAL-QUESTIONS-SECTION----------4\"><span class=\"toc-item-num\">4&nbsp;&nbsp;</span>---------  OPTIONAL QUESTIONS SECTION --------</a></div><div class=\"lev2 toc-item\"><a href=\"#HW9.5:-(OPTIONAL)-Applying-topic-specific-PageRank-to-Wikipedia\" data-toc-modified-id=\"HW9.5:-(OPTIONAL)-Applying-topic-specific-PageRank-to-Wikipedia-41\"><span class=\"toc-item-num\">4.1&nbsp;&nbsp;</span>HW9.5: (OPTIONAL) Applying topic-specific PageRank to Wikipedia</a></div><div class=\"lev3 toc-item\"><a href=\"#HW-9.5-Implementation\" data-toc-modified-id=\"HW-9.5-Implementation-411\"><span class=\"toc-item-num\">4.1.1&nbsp;&nbsp;</span>HW 9.5 Implementation</a></div><div class=\"lev3 toc-item\"><a href=\"#HW-9.5-Analysis\" data-toc-modified-id=\"HW-9.5-Analysis-412\"><span class=\"toc-item-num\">4.1.2&nbsp;&nbsp;</span>HW 9.5 Analysis</a></div><div class=\"lev2 toc-item\"><a href=\"#HW9.6:--(OPTIONAL)-TextRank\" data-toc-modified-id=\"HW9.6:--(OPTIONAL)-TextRank-42\"><span class=\"toc-item-num\">4.2&nbsp;&nbsp;</span>HW9.6:  (OPTIONAL) TextRank</a></div><div class=\"lev3 toc-item\"><a href=\"#HW-9.6-Implementation\" data-toc-modified-id=\"HW-9.6-Implementation-421\"><span class=\"toc-item-num\">4.2.1&nbsp;&nbsp;</span>HW 9.6 Implementation</a></div><div class=\"lev3 toc-item\"><a href=\"#HW-9.6-Analysis\" data-toc-modified-id=\"HW-9.6-Analysis-422\"><span class=\"toc-item-num\">4.2.2&nbsp;&nbsp;</span>HW 9.6 Analysis</a></div>"
   ]
  },
  {
   "cell_type": "code",
   "execution_count": null,
   "metadata": {
    "collapsed": true
   },
   "outputs": [],
   "source": []
  },
  {
   "cell_type": "code",
   "execution_count": 8,
   "metadata": {},
   "outputs": [
    {
     "data": {
      "application/javascript": [
       "/**********************************************************************************************\n",
       "Known Mathjax Issue with Chrome - a rounding issue adds a border to the right of mathjax markup\n",
       "https://github.com/mathjax/MathJax/issues/1300\n",
       "A quick hack to fix this based on stackoverflow discussions: \n",
       "http://stackoverflow.com/questions/34277967/chrome-rendering-mathjax-equations-with-a-trailing-vertical-line\n",
       "**********************************************************************************************/\n",
       "\n",
       "$('.math>span').css(\"border-left-color\",\"transparent\")"
      ],
      "text/plain": [
       "<IPython.core.display.Javascript object>"
      ]
     },
     "metadata": {},
     "output_type": "display_data"
    }
   ],
   "source": [
    "%%javascript\n",
    "/**********************************************************************************************\n",
    "Known Mathjax Issue with Chrome - a rounding issue adds a border to the right of mathjax markup\n",
    "https://github.com/mathjax/MathJax/issues/1300\n",
    "A quick hack to fix this based on stackoverflow discussions: \n",
    "http://stackoverflow.com/questions/34277967/chrome-rendering-mathjax-equations-with-a-trailing-vertical-line\n",
    "**********************************************************************************************/\n",
    "\n",
    "$('.math>span').css(\"border-left-color\",\"transparent\")"
   ]
  },
  {
   "cell_type": "code",
   "execution_count": 1,
   "metadata": {
    "collapsed": true
   },
   "outputs": [],
   "source": [
    "%reload_ext autoreload\n",
    "%autoreload 2"
   ]
  },
  {
   "cell_type": "markdown",
   "metadata": {},
   "source": [
    "<h1> MIDS - w261 Machine Learning At Scale </h1>\n",
    "__Course Lead:__ Dr James G. Shanahan (__email__ Jimi via  James.Shanahan _AT_ gmail.com)\n",
    "\n",
    "<h2>Assignment - HW9</h2>\n",
    "\n",
    "\n",
    "---\n",
    "__Name:__  Nilesh Bhoyar   \n",
    "__Class:__ MIDS w261 (Section *Your Section Goes Here*, e.g., Fall 2016 Group 1)     \n",
    "__Email:__  nilesh.bhoyar@iSchool.Berkeley.edu     \n",
    "__StudentId__  26302327    __End of StudentId__     \n",
    "__Week:__   9\n",
    "\n",
    "__NOTE:__ please replace `1234567` with your student id above      \n",
    "__Due Time:__ HW is due the Tuesday of the following week by 8AM (West coast time). I.e., Tuesday, Mar 21, 2017 in the case of this homework. \n",
    "\n",
    "# Instructions\n",
    "\n",
    "MIDS UC Berkeley, Machine Learning at Scale   \n",
    "DATSCIW261 ASSIGNMENT #9\n",
    "\n",
    "Version 2017-3-16 \n",
    "\n",
    "\n",
    "## IMPORTANT\n",
    "\n",
    "Parts of this homework can be completed locally on your computer. For questions involving the wikipedia dataset, you will need to run your code in the cloud.\n",
    "\n",
    "### === INSTRUCTIONS for SUBMISSIONS ===   \n",
    "Follow the instructions for submissions carefully.\n",
    "\n",
    "Each student has a `HW-<user>` repository for all assignments.   \n",
    "\n",
    "Click this link to enable you to create a github repo within the MIDS261 Classroom:   \n",
    "https://classroom.github.com/assignment-invitations/3b1d6c8e58351209f9dd865537111ff8   \n",
    "and follow the instructions to create a HW repo.\n",
    "\n",
    "Push the following to your HW github repo into the master branch:\n",
    "* Your local HW6 directory. Your repo file structure should look like this:\n",
    "\n",
    "```\n",
    "HW-<user>\n",
    "    --HW3\n",
    "       |__MIDS-W261-HW-03-<Student_id>.ipynb\n",
    "       |__MIDS-W261-HW-03-<Student_id>.pdf\n",
    "       |__some other hw3 file\n",
    "    --HW4\n",
    "       |__MIDS-W261-HW-04-<Student_id>.ipynb\n",
    "       |__MIDS-W261-HW-04-<Student_id>.pdf\n",
    "       |__some other hw4 file\n",
    "    etc..\n",
    "```    "
   ]
  },
  {
   "cell_type": "markdown",
   "metadata": {},
   "source": [
    "\n",
    "# HW Problems\n"
   ]
  },
  {
   "cell_type": "markdown",
   "metadata": {},
   "source": [
    "<h2 style=\"color:darkblue\">HW 9 Dataset</h2>\n",
    "\n",
    "Note that all referenced files life in the enclosing directory. [Checkout the Data subdirectory on Dropbox](https://www.dropbox.com/sh/2c0k5adwz36lkcw/AAAAKsjQfF9uHfv-X9mCqr9wa?dl=0) or the AWS S3 buckets (details contained each question). "
   ]
  },
  {
   "cell_type": "markdown",
   "metadata": {},
   "source": [
    "## 3.  HW9.0  Short answer questions<a name=\"1.0\"></a>\n",
    "[Back to Table of Contents](#TOC)\n",
    "\n",
    "__ What is PageRank and what is it used for in the context of web search?__"
   ]
  },
  {
   "cell_type": "markdown",
   "metadata": {},
   "source": [
    "PageRank works by counting the number and quality of links to a page to determine a rough estimate of how important the website is. The underlying assumption is that more important websites are likely to receive more links from other websites.\n",
    "PageRank - a link analysis algorithm assigns a numerical weighting to each element of a hyperlinked World Wide Web documents, with the purpose of \"measuring\" its relative importance within the set.As such based on query content we can retrieve the important web pages for particular search."
   ]
  },
  {
   "cell_type": "markdown",
   "metadata": {},
   "source": [
    "__ What modifications have to be made to the webgraph in order to leverage the machinery of Markov Chains to compute the Steady State Distibution? __"
   ]
  },
  {
   "cell_type": "markdown",
   "metadata": {},
   "source": [
    "transition matrix should be aperiodic,irreducible and stochastuc for markov chains to achieve steady state distribution.\n",
    "\n",
    "To satisfy above conditions , we first distribute the dangling mass ie. mass corresponding to nodes with not outlinks (this makes web graph irreducible),  link from each page to every page and give each link a small transition probability controlled by a parameter d (web graph becomes aperiodic) and the transform final page rank equation to make it stochastic.\n",
    "\n",
    "Reference http://www.dsi.unive.it/~calpar/New_HPC_course/AA12-13/project12-13.pdf"
   ]
  },
  {
   "cell_type": "markdown",
   "metadata": {},
   "source": [
    "__ OPTIONAL: In topic-specific pagerank, how can we ensure that the irreducible property is satifsied? (HINT: see HW9.4) __"
   ]
  },
  {
   "cell_type": "markdown",
   "metadata": {},
   "source": [
    "Define new transition matrix where we add transition edges between every pair of node in G with probability alpha/N."
   ]
  },
  {
   "cell_type": "markdown",
   "metadata": {},
   "source": [
    "## HW9.1  MRJob implementation of basic PageRank\n",
    "\n",
    "<hr>\n",
    "\n",
    "$$P(n) = \\alpha\\left(\\frac{1}{|G|}\\right) + (1-\\alpha)\\sum_{m\\in{L(n)}}\\frac{P(m)}{C(m)}$$\n",
    "\n",
    "\n",
    "where $|G|$ is the total number of nodes (pages) in the graph, α is the random jump factor. $L(n)$ is the set of pages that link to $n$, and $C(m)$ is the out degree of the node $m$ (the number of links on page $m$). The random jump factor α is sometimes called the “teleportation” factor; alternatively, (1 – α) is referred to as the “damping” factor\n",
    "\n",
    "<hr>\n",
    "\n",
    "\n",
    "Write a basic MRJob implementation of the iterative PageRank algorithm that takes sparse adjacency lists as input (as explored in HW 7).\n",
    "\n",
    "Make sure that you implementation utilizes teleportation (1-damping/the number of nodes in the network), and further, distributes the mass of dangling nodes with each iteration so that the output of each iteration is correctly normalized (sums to 1).\n",
    "\n",
    "\n",
    "[NOTE: The PageRank algorithm assumes that a random surfer (walker), starting from a random web page, chooses the next page to which it will move by clicking at random, with probability d,one of the hyperlinks in the current page. This probability is represented by a so-called *damping factor* d, where d ∈ (0, 1). Otherwise, with probability (1 − d), the surfer jumps (\"teleports\") to any web page in the network. If a page is a dangling end, meaning it has no outgoing hyperlinks, the random surfer selects an arbitrary web page from a uniform distribution and “teleports” to that page]\n",
    "\n",
    "As you build your code, use the data located here :\n",
    "\n",
    "In the Data Subfolder for HW7 on Dropbox (same dataset as HW7) with the same file name. \n",
    "> Dropbox: https://www.dropbox.com/sh/2c0k5adwz36lkcw/AAAAKsjQfF9uHfv-X9mCqr9wa?dl=0\n",
    "\n",
    "Or on Amazon: \n",
    "\n",
    "> s3://ucb-mids-mls-networks/PageRank-test.txt\n",
    "\n",
    "with teleportation factor alpha set to 0.15 (1-d, where d, the damping factor is set to 0.85), and crosscheck your work with the true result, displayed in the first image in the [Wikipedia article](https://en.wikipedia.org/wiki/PageRank)\n",
    "and here for reference are the corresponding PageRank probabilities:\n",
    "<pre>\n",
    "\n",
    "A, 0.033\n",
    "B, 0.384\n",
    "C, 0.343\n",
    "D, 0.039\n",
    "E, 0.081\n",
    "F, 0.039\n",
    "G, 0.016\n",
    "H, 0.016\n",
    "I, 0.016\n",
    "J, 0.016\n",
    "K, 0.016\n",
    "\n",
    "</pre>\n",
    "\n"
   ]
  },
  {
   "cell_type": "code",
   "execution_count": 20,
   "metadata": {},
   "outputs": [
    {
     "name": "stdout",
     "output_type": "stream",
     "text": [
      "The autoreload extension is already loaded. To reload it, use:\n",
      "  %reload_ext autoreload\n"
     ]
    }
   ],
   "source": [
    "%load_ext autoreload\n",
    "%autoreload 2"
   ]
  },
  {
   "cell_type": "code",
   "execution_count": 21,
   "metadata": {
    "scrolled": true
   },
   "outputs": [
    {
     "name": "stdout",
     "output_type": "stream",
     "text": [
      "--2017-07-17 02:52:34--  https://www.dropbox.com/sh/2c0k5adwz36lkcw/AADxzBgNxNF5Q6-eanjnK64qa/PageRank-test.txt\n",
      "Resolving www.dropbox.com... 162.125.6.1\n",
      "Connecting to www.dropbox.com|162.125.6.1|:443... connected.\n",
      "HTTP request sent, awaiting response... 302 Found\n",
      "Location: https://dl.dropboxusercontent.com/content_link/85ART6CmFjH344mtBc0g3JhyUBWr5lqObtjBxVYJb40BeGQRWDAKX1unNq8UOQRL/file [following]\n",
      "--2017-07-17 02:52:35--  https://dl.dropboxusercontent.com/content_link/85ART6CmFjH344mtBc0g3JhyUBWr5lqObtjBxVYJb40BeGQRWDAKX1unNq8UOQRL/file\n",
      "Resolving dl.dropboxusercontent.com... 162.125.6.6\n",
      "Connecting to dl.dropboxusercontent.com|162.125.6.6|:443... connected.\n",
      "HTTP request sent, awaiting response... 200 OK\n",
      "Length: 166 [text/plain]\n",
      "Saving to: `PageRank-test.txt'\n",
      "\n",
      "100%[======================================>] 166         --.-K/s   in 0s      \n",
      "\n",
      "2017-07-17 02:52:35 (39.0 MB/s) - `PageRank-test.txt' saved [166/166]\n",
      "\n"
     ]
    }
   ],
   "source": [
    "!rm PageRank-test.txt\n",
    "\n",
    "!wget https://www.dropbox.com/sh/2c0k5adwz36lkcw/AADxzBgNxNF5Q6-eanjnK64qa/PageRank-test.txt\n"
   ]
  },
  {
   "cell_type": "code",
   "execution_count": 22,
   "metadata": {},
   "outputs": [
    {
     "name": "stdout",
     "output_type": "stream",
     "text": [
      "copyFromLocal: `hdfs:/user/nileshbhoyar/PageRank-test.txt': File exists\r\n"
     ]
    }
   ],
   "source": [
    "!hdfs dfs -copyFromLocal PageRank-test.txt hdfs:///user/nileshbhoyar/"
   ]
  },
  {
   "cell_type": "markdown",
   "metadata": {},
   "source": [
    "### HW 9.1 Implementation"
   ]
  },
  {
   "cell_type": "markdown",
   "metadata": {},
   "source": [
    "### First MRjob\n",
    "    Final Formulae to calculate the rank score is \n",
    "$$P(n) = \\alpha\\left(\\frac{1}{|G|}\\right) + (1-\\alpha)\\sum_{m\\in{L(n)}}\\frac{P(m)}{C(m)}$$\n",
    "\n",
    "    first MR job calculates the mass distribution for outgoing nodes i.e. component $\\sum_{m\\in{L(n)}}\\frac{P(m)}{C(m)}$\n",
    "\n",
    "    We do this by:-\n",
    "    first initiatlizing probabilities and next iterations we would distribute that mass.\n",
    "\n",
    "    In reducer , we will combine that mass and feed it again to mapper for redistribution.\n",
    "\n",
    "    We also track dangling nodes for teleportation/dangling node mass destribution in next mrjob."
   ]
  },
  {
   "cell_type": "code",
   "execution_count": 23,
   "metadata": {},
   "outputs": [
    {
     "name": "stdout",
     "output_type": "stream",
     "text": [
      "Overwriting pagerankalgo.py\n"
     ]
    }
   ],
   "source": [
    "%%writefile pagerankalgo.py\n",
    "#!/usr/bin/python\n",
    "from mrjob.job import MRJob\n",
    "from mrjob.step import MRStep\n",
    "\n",
    "class pagerankalgo(MRJob):\n",
    "    DEFAULT_PROTOCOL = 'json'\n",
    "\n",
    "    def configure_options(self):\n",
    "        super(pagerankalgo, self).configure_options()        \n",
    "        self.add_passthrough_option(\n",
    "            '--i', dest='init', default='0', type='int',\n",
    "            help='i: run initialization iteration (default 0)')    \n",
    "\n",
    "    # mapper of first pass of the file (initialization)\n",
    "    def mapper_job_init(self, _, line):        \n",
    "        # parse line\n",
    "        nid, adj = line.strip().split('\\t', 1)\n",
    "        nid = nid.strip('\"')\n",
    "        adj=eval(adj)\n",
    "        # initialize node struct        \n",
    "        node = {'a':adj.keys(), 'p':0}\n",
    "        rankMass = 1.0/len(adj)\n",
    "        # emit graphs as it\n",
    "        yield nid, node\n",
    "        \n",
    "        # emit pageRank mass    \n",
    "        for m in node['a']:\n",
    "            yield m, rankMass\n",
    "          \n",
    "    # after initialization\n",
    "    def mapper_job_iter(self, _, line):             \n",
    "        # parse line\n",
    "        nid, node = line.strip().split('\\t', 1)\n",
    "        nid = nid.strip('\"')\n",
    "        node =eval(node)\n",
    "        # distribute rank mass  \n",
    "        n_adj = len(node['a'])\n",
    "        if n_adj > 0:\n",
    "            rankMass = 1.0*node['p'] / n_adj\n",
    "            # emit pageRank mass        \n",
    "            for m in node['a']:\n",
    "                yield m, rankMass\n",
    "        else:\n",
    "            # track dangling mass with counter\n",
    "            self.increment_counter('dangling_mass', 'mass', int(node['p']*1e10))\n",
    "        # reset pageRank and emit node\n",
    "        node['p'] = 0\n",
    "        yield nid, node\n",
    " \n",
    "\n",
    "    \n",
    "    # reducer for initialization pass --> need to handle dangling nodes\n",
    "    def reducer_job_init(self, nid, value):      \n",
    "        # increase counter for node count\n",
    "        self.increment_counter('node_count', 'nodes', 1)\n",
    "        rankMass, node = 0.0, None\n",
    "        # loop through all arrivals\n",
    "        for v in value:            \n",
    "            if isinstance(v, float):\n",
    "                rankMass += v         \n",
    "            else:\n",
    "                node = v\n",
    "        # dangling node additions\n",
    "        if not node:            \n",
    "            node = {'a':[], 'p':rankMass}            \n",
    "            self.increment_counter('dangling_mass', 'mass', int(1e10))\n",
    "        else:\n",
    "            node['p'] += rankMass            \n",
    "      \n",
    "        yield nid, node\n",
    "        \n",
    " \n",
    "    def reducer_job_iter(self, nid, value):              \n",
    "        rankMass, node = 0.0, None\n",
    "        # loop through all arrivals\n",
    "        for v in value:            \n",
    "            if isinstance(v, float):\n",
    "                rankMass += v         \n",
    "            else:\n",
    "                node = v\n",
    "        # emit accumulative mass for nid       \n",
    "        if node:\n",
    "            node['p'] += rankMass\n",
    "            yield nid, node\n",
    "        else:\n",
    "            yield nid, rankMass\n",
    "\n",
    "    def steps(self):\n",
    "     \n",
    "        return [MRStep(mapper=self.mapper_job_init if self.options.init else self.mapper_job_iter,                       \n",
    "                                           \n",
    "                       reducer=self.reducer_job_init if self.options.init else self.reducer_job_iter,\n",
    "                        jobconf = {\n",
    "                        'mapred.map.tasks': 100,\n",
    "                        'mapred.reduce.tasks':20,\n",
    "                        'mapreduce.reduce.cpu.vcores':4,\n",
    "                        }\n",
    "                      \n",
    "                      )\n",
    "               ]\n",
    "\n",
    "if __name__ == '__main__':\n",
    "    pagerankalgo.run()"
   ]
  },
  {
   "cell_type": "code",
   "execution_count": 24,
   "metadata": {},
   "outputs": [
    {
     "name": "stdout",
     "output_type": "stream",
     "text": [
      "Overwriting distweight.py\n"
     ]
    }
   ],
   "source": [
    "%%writefile distweight.py\n",
    "#!/usr/bin/python\n",
    "from mrjob.job import MRJob\n",
    "from mrjob.step import MRStep\n",
    "\n",
    "class distweight(MRJob):\n",
    "    DEFAULT_PROTOCOL = 'json'\n",
    "\n",
    "    def configure_options(self):\n",
    "        super(distweight, self).configure_options()        \n",
    "        self.add_passthrough_option(\n",
    "            '--s', dest='size', default=0, type='int',\n",
    "            help='size: node number (default 0)')    \n",
    "        self.add_passthrough_option(\n",
    "            '--j', dest='alpha', default=0.15, type='float',\n",
    "            help='jump: random jump factor (default 0.15)') \n",
    "        self.add_passthrough_option(\n",
    "            '--m', dest='m', default=0, type='float',\n",
    "            help='m: rank mass from dangling nodes (default 0)') \n",
    "    \n",
    "    def mapper_init(self):\n",
    "        self.damping = 1 - self.options.alpha        \n",
    "        self.p_dangling = self.options.m / self.options.size        \n",
    "    \n",
    "\n",
    "            \n",
    "    def mapper(self, _, line):             \n",
    "        # parse line\n",
    "        nid, node = line.strip().split('\\t', 1)\n",
    "        nid = nid.strip('\"')\n",
    "        node =eval(node)     \n",
    "        node['p'] = (self.p_dangling + node['p']) * self.damping + self.options.alpha\n",
    "        yield nid, node\n",
    "\n",
    "    def steps(self):\n",
    "     \n",
    "        return [MRStep(mapper_init=self.mapper_init\n",
    "                       , mapper= self.mapper ,                      \n",
    "                     jobconf = {\n",
    "                        'mapred.map.tasks': 100,\n",
    "                        'mapred.reduce.tasks':20,\n",
    "                        'mapreduce.reduce.cpu.vcores':4,\n",
    "                        }\n",
    "                      )\n",
    "               ]\n",
    "\n",
    "if __name__ == '__main__':\n",
    "    distweight.run()"
   ]
  },
  {
   "cell_type": "code",
   "execution_count": 25,
   "metadata": {},
   "outputs": [
    {
     "name": "stdout",
     "output_type": "stream",
     "text": [
      "Overwriting topN.py\n"
     ]
    }
   ],
   "source": [
    "%%writefile topN.py\n",
    "#!/usr/bin/python\n",
    "from mrjob.job import MRJob\n",
    "from mrjob.step import MRStep\n",
    "\n",
    "class topN(MRJob):\n",
    "     \n",
    "    \n",
    "    def configure_options(self):\n",
    "        super(topN, self).configure_options()        \n",
    "        self.add_passthrough_option(\n",
    "            '--s', dest='size', default=0, type='int',\n",
    "            help='size: node number (default 0)')\n",
    "        self.add_passthrough_option(\n",
    "            '--n', dest='top', default=100, type='int',\n",
    "            help='size: node number (default 100)')\n",
    "    \n",
    "    def mapper(self, _, line):        \n",
    "        # parse line\n",
    "        nid, node = line.strip().split('\\t', 1)\n",
    "        cmd = 'node = %s' %node\n",
    "        exec cmd        \n",
    "        yield node['p'], nid.strip('\"')\n",
    "    \n",
    "    def reducer_init(self):        \n",
    "        self.i = 0\n",
    "        self.total = 0\n",
    "    \n",
    "    def reducer(self, pageRank, nid): \n",
    "        for n in nid:\n",
    "            if self.i < self.options.top:\n",
    "                self.i += 1\n",
    "                self.total += pageRank\n",
    "                yield n, pageRank/self.options.size\n",
    "            \n",
    "    def reducer_final(self):\n",
    "        yield 'total mass: ', self.total/self.options.size\n",
    "\n",
    "    def steps(self):\n",
    "        jc = {\n",
    "            'mapreduce.job.output.key.comparator.class': 'org.apache.hadoop.mapreduce.lib.partition.KeyFieldBasedComparator',\n",
    "            'mapreduce.partition.keycomparator.options': '-k1,1nr',\n",
    "            'mapreduce.job.maps': '2', \n",
    "            'mapreduce.job.reduces': '1', \n",
    "        }\n",
    "        return [MRStep(mapper=self.mapper, reducer_init=self.reducer_init, \n",
    "                       reducer=self.reducer, reducer_final=self.reducer_final\n",
    "                       , jobconf = jc\n",
    "                      )\n",
    "               ]\n",
    "\n",
    "if __name__ == '__main__':\n",
    "    topN.run()"
   ]
  },
  {
   "cell_type": "code",
   "execution_count": 13,
   "metadata": {},
   "outputs": [
    {
     "name": "stdout",
     "output_type": "stream",
     "text": [
      "Overwriting driver.py\n"
     ]
    }
   ],
   "source": [
    "%%writefile driver.py\n",
    "#!/usr/bin/python\n",
    "\n",
    "from pagerankalgo import pagerankalgo\n",
    "from distweight import distweight\n",
    "from topN import topN\n",
    "from subprocess import call, check_output\n",
    "from time import time\n",
    "import sys, getopt, datetime, os\n",
    "\n",
    "# parse parameter\n",
    "if __name__ == \"__main__\":\n",
    "\n",
    "    try:\n",
    "        opts, args = getopt.getopt(sys.argv[1:], \"hg:j:i:d:s:\")\n",
    "    except getopt.GetoptError:\n",
    "        print \"Issues\"\n",
    "        sys.exit(2)\n",
    "    if len(opts) != 4:\n",
    "       \n",
    "        sys.exit(2)\n",
    "    for opt, arg in opts:\n",
    "        if opt == '-h':\n",
    "            \n",
    "            sys.exit(2)\n",
    "        elif opt == '-g':\n",
    "            graph = arg\n",
    "        elif opt == '-j':\n",
    "            jump = arg\n",
    "        elif opt == '-i':            \n",
    "            n_iter = arg\n",
    "     \n",
    "        elif opt == '-s':\n",
    "            n_node = arg\n",
    "        \n",
    "start = time()\n",
    "FNULL = open(os.devnull, 'w')\n",
    "n_iter = int(n_iter)\n",
    "doInit = n_node=='0'\n",
    "\n",
    "\n",
    "print \"Initialization ...\"\n",
    "if doInit:\n",
    "    # clear directory\n",
    "    print str(datetime.datetime.now()) + ': clearing directory ...'\n",
    "    call(['hdfs', 'dfs', '-rm', '-r', '/user/nileshbhoyar/in'], stdout=FNULL)\n",
    "    call(['hdfs', 'dfs', '-rm', '-r', '/user/nileshbhoyar/out'], stdout=FNULL)\n",
    "    \n",
    "    # creat initialization job    \n",
    "    init_job = pagerankalgo(args=[graph, '--i', '1', '-r', 'hadoop', '--output-dir', 'hdfs:///user/nileshbhoyar/out'])\n",
    "\n",
    "    # run initialization job\n",
    "    print str(datetime.datetime.now()) + ': running iteration 1 ...'\n",
    "    with init_job.make_runner() as runner:    \n",
    "        runner.run()\n",
    "\n",
    "    # checking counters\n",
    "    n_node = runner.counters()[0]['node_count']['nodes']\n",
    "    n_dangling = runner.counters()[0]['dangling_mass']['mass']/1e10\n",
    "    \n",
    "    print '%s: initialization complete: %d nodes, %d are dangling!' %(str(datetime.datetime.now()), n_node, n_dangling)\n",
    "\n",
    "    # run redistribution job\n",
    "    call(['hdfs', 'dfs', '-mv', '/user/nileshbhoyar/out', '/user/nileshbhoyar/in'])\n",
    "    dist_job = distweight(args=['hdfs:///user/nileshbhoyar/in/part*', '--s', str(n_node), '--j', jump, \n",
    "                                '--m', str(n_dangling), '-r', 'hadoop', '--output-dir', 'hdfs:///user/nileshbhoyar/out'])\n",
    "    print str(datetime.datetime.now()) + ': distributing loss mass ...'\n",
    "    with dist_job.make_runner() as runner:    \n",
    "        runner.run()\n",
    "\n",
    "# move results for next iteration\n",
    "call(['hdfs', 'dfs', '-rm', '-r', '/user/nileshbhoyar/in'], stdout=FNULL)\n",
    "call(['hdfs', 'dfs', '-mv', '/user/nileshbhoyar/out', '/user/nileshbhoyar/in'])\n",
    "\n",
    "# create iteration job\n",
    "iter_job = pagerankalgo(args=['hdfs:///user/nileshbhoyar/in/part*', '--i', '0', \n",
    "                              '-r', 'hadoop', '--output-dir', 'hdfs:///user/nileshbhoyar/out'])\n",
    "# run pageRank iteratively\n",
    "i = 2 if doInit else 1\n",
    "while(1):    \n",
    "    print str(datetime.datetime.now()) + ': running iteration %d ...' %i\n",
    "    with iter_job.make_runner() as runner:        \n",
    "        runner.run()\n",
    "    \n",
    "    # check counter for loss mass\n",
    "    mass_loss = runner.counters()[0]['dangling_mass']['mass']/1e10\n",
    "    \n",
    "    # move results for next iteration\n",
    "    call(['hdfs', 'dfs', '-rm', '-r', '/user/nileshbhoyar/in'], stdout=FNULL)\n",
    "    call(['hdfs', 'dfs', '-mv', '/user/nileshbhoyar/out', '/user/nileshbhoyar/in'])\n",
    "        \n",
    "    # run redistribution job\n",
    "    dist_job = distweight(args=['hdfs:///user/nileshbhoyar/in/part*', '--s', str(n_node), '--j', jump, \n",
    "                                '--m', str(mass_loss), '-r', 'hadoop', '--output-dir', 'hdfs:///user/nileshbhoyar/out'])\n",
    "    print str(datetime.datetime.now()) + ': distributing loss mass %.4f ...' %mass_loss\n",
    "    with dist_job.make_runner() as runner:    \n",
    "        runner.run()\n",
    "    \n",
    "    if i == n_iter:\n",
    "        break\n",
    "    \n",
    "    # if more iteration needed\n",
    "    i += 1    \n",
    "    call(['hdfs', 'dfs', '-rm', '-r', '/user/nileshbhoyar/in'], stdout=FNULL)\n",
    "    call(['hdfs', 'dfs', '-mv', '/user/nileshbhoyar/out', '/user/nileshbhoyar/in'], stdout=FNULL)\n",
    "\n",
    "# run sort job\n",
    "print \"Sorting and Top N job \"\n",
    "call(['hdfs', 'dfs', '-rm', '-r', '/user/nileshbhoyar/finalranks'], stdout=FNULL)\n",
    "sort_job = topN(args=['hdfs:///user/nileshbhoyar/out/part*', '--s', str(n_node), '--n', '100',\n",
    "                              '-r', 'hadoop', '--output-dir', 'hdfs:///user/nileshbhoyar/finalranks'])\n",
    "with sort_job.make_runner() as runner:    \n",
    "    runner.run()"
   ]
  },
  {
   "cell_type": "code",
   "execution_count": 14,
   "metadata": {
    "collapsed": true
   },
   "outputs": [],
   "source": [
    "from matplotlib import pyplot as plt\n",
    "import networkx as nx\n",
    "\n",
    "def draw_graph(nSize=3500):\n",
    "    # define the graph from adjacency matrix\n",
    "    G = nx.DiGraph()    \n",
    "    with open('PageRank-test.txt') as f:\n",
    "        for node in f.readlines():\n",
    "            source, adj = node.strip().split('\\t')\n",
    "            adj =eval(adj)                   \n",
    "            for d in adj:\n",
    "                G.add_edge(source, d)\n",
    "            G.node[source]['state'] = source\n",
    "    G.add_node('A')\n",
    "    G.node['A']['state'] = 'A'\n",
    "        \n",
    "    # define node size\n",
    "    ranks = {}\n",
    "    with open('pagerank_out.txt') as f:\n",
    "        for line in f.readlines():\n",
    "            nid, rank = line.strip().split('\\t')\n",
    "            nid = nid.strip('\"')\n",
    "            if len(nid) == 1:\n",
    "                ranks[nid] = float(rank)\n",
    "    norm = max(ranks.values())               \n",
    "    size =[ranks[n]*nSize/norm for n in G.nodes()]\n",
    "    \n",
    "    # draw the graph\n",
    "    pos = nx.spring_layout(G)    \n",
    "    nx.draw(G, pos, node_size = size)\n",
    "    node_labels = nx.get_node_attributes(G,'state')\n",
    "    nx.draw_networkx_labels(G, pos, labels = node_labels)\n",
    "    plt.show()"
   ]
  },
  {
   "cell_type": "code",
   "execution_count": 5,
   "metadata": {
    "collapsed": true
   },
   "outputs": [],
   "source": [
    "def draw_patterns(damping = 0.15):\n",
    "    !python driver.py -g \"hdfs:/user/nileshbhoyar/PageRank-test.txt\" -j $damping -i 10  -s '0'\n",
    "    !hdfs dfs -cat hdfs:/user/nileshbhoyar/finalranks/* > pagerank_out.txt\n",
    "    draw_graph()"
   ]
  },
  {
   "cell_type": "code",
   "execution_count": null,
   "metadata": {},
   "outputs": [
    {
     "name": "stdout",
     "output_type": "stream",
     "text": [
      "Initialization ...\n",
      "2017-07-16 19:32:33.840169: clearing directory ...\n",
      "17/07/16 19:32:35 INFO fs.TrashPolicyDefault: Namenode trash configuration: Deletion interval = 5760 minutes, Emptier interval = 360 minutes.\n",
      "rm: `/user/nileshbhoyar/out': No such file or directory\n",
      "2017-07-16 19:32:38.500804: running iteration 1 ...\n",
      "2017-07-16 19:33:26.046493: initialization complete: 11 nodes, 1 are dangling!\n",
      "2017-07-16 19:33:28.439259: distributing loss mass ...\n",
      "17/07/16 19:34:12 INFO fs.TrashPolicyDefault: Namenode trash configuration: Deletion interval = 5760 minutes, Emptier interval = 360 minutes.\n",
      "2017-07-16 19:34:15.577003: running iteration 2 ...\n",
      "17/07/16 19:35:08 INFO fs.TrashPolicyDefault: Namenode trash configuration: Deletion interval = 5760 minutes, Emptier interval = 360 minutes.\n",
      "2017-07-16 19:35:11.485448: distributing loss mass 0.6523 ...\n",
      "17/07/16 19:35:55 INFO fs.TrashPolicyDefault: Namenode trash configuration: Deletion interval = 5760 minutes, Emptier interval = 360 minutes.\n",
      "2017-07-16 19:35:58.767484: running iteration 3 ...\n",
      "17/07/16 19:37:08 INFO fs.TrashPolicyDefault: Namenode trash configuration: Deletion interval = 5760 minutes, Emptier interval = 360 minutes.\n",
      "2017-07-16 19:37:11.500028: distributing loss mass 0.4174 ...\n",
      "17/07/16 19:37:54 INFO fs.TrashPolicyDefault: Namenode trash configuration: Deletion interval = 5760 minutes, Emptier interval = 360 minutes.\n",
      "2017-07-16 19:37:57.117315: running iteration 4 ...\n",
      "17/07/16 19:38:46 INFO fs.TrashPolicyDefault: Namenode trash configuration: Deletion interval = 5760 minutes, Emptier interval = 360 minutes.\n",
      "2017-07-16 19:38:49.556046: distributing loss mass 0.7042 ...\n",
      "17/07/16 19:39:33 INFO fs.TrashPolicyDefault: Namenode trash configuration: Deletion interval = 5760 minutes, Emptier interval = 360 minutes.\n",
      "2017-07-16 19:39:36.842429: running iteration 5 ...\n",
      "17/07/16 19:40:24 INFO fs.TrashPolicyDefault: Namenode trash configuration: Deletion interval = 5760 minutes, Emptier interval = 360 minutes.\n",
      "2017-07-16 19:40:27.589321: distributing loss mass 0.4136 ...\n",
      "17/07/16 19:41:08 INFO fs.TrashPolicyDefault: Namenode trash configuration: Deletion interval = 5760 minutes, Emptier interval = 360 minutes.\n",
      "2017-07-16 19:41:11.880274: running iteration 6 ...\n",
      "17/07/16 19:42:02 INFO fs.TrashPolicyDefault: Namenode trash configuration: Deletion interval = 5760 minutes, Emptier interval = 360 minutes.\n",
      "2017-07-16 19:42:05.595837: distributing loss mass 0.4254 ...\n",
      "17/07/16 19:42:49 INFO fs.TrashPolicyDefault: Namenode trash configuration: Deletion interval = 5760 minutes, Emptier interval = 360 minutes.\n",
      "2017-07-16 19:42:52.225275: running iteration 7 ...\n",
      "17/07/16 19:43:45 INFO fs.TrashPolicyDefault: Namenode trash configuration: Deletion interval = 5760 minutes, Emptier interval = 360 minutes.\n",
      "2017-07-16 19:43:48.415772: distributing loss mass 0.3753 ...\n",
      "17/07/16 19:44:32 INFO fs.TrashPolicyDefault: Namenode trash configuration: Deletion interval = 5760 minutes, Emptier interval = 360 minutes.\n",
      "2017-07-16 19:44:35.711877: running iteration 8 ...\n",
      "17/07/16 19:46:59 INFO fs.TrashPolicyDefault: Namenode trash configuration: Deletion interval = 5760 minutes, Emptier interval = 360 minutes.\n",
      "2017-07-16 19:47:02.784374: distributing loss mass 0.3812 ...\n",
      "17/07/16 19:47:49 INFO fs.TrashPolicyDefault: Namenode trash configuration: Deletion interval = 5760 minutes, Emptier interval = 360 minutes.\n",
      "2017-07-16 19:47:52.704482: running iteration 9 ...\n",
      "17/07/16 19:48:43 INFO fs.TrashPolicyDefault: Namenode trash configuration: Deletion interval = 5760 minutes, Emptier interval = 360 minutes.\n",
      "2017-07-16 19:48:46.731869: distributing loss mass 0.3659 ...\n",
      "17/07/16 19:49:28 INFO fs.TrashPolicyDefault: Namenode trash configuration: Deletion interval = 5760 minutes, Emptier interval = 360 minutes.\n",
      "2017-07-16 19:49:31.107580: running iteration 10 ...\n",
      "17/07/16 19:50:22 INFO fs.TrashPolicyDefault: Namenode trash configuration: Deletion interval = 5760 minutes, Emptier interval = 360 minutes.\n",
      "2017-07-16 19:50:25.220259: distributing loss mass 0.3660 ...\n",
      "Sorting and Top N job \n",
      "17/07/16 19:51:05 INFO fs.TrashPolicyDefault: Namenode trash configuration: Deletion interval = 5760 minutes, Emptier interval = 360 minutes.\n"
     ]
    },
    {
     "data": {
      "image/png": "[encoded data removed]",
      "text/plain": [
       "<matplotlib.figure.Figure at 0x7f95486143d0>"
      ]
     },
     "metadata": {},
     "output_type": "display_data"
    }
   ],
   "source": [
    "draw_patterns(0.15)"
   ]
  },
  {
   "cell_type": "markdown",
   "metadata": {},
   "source": [
    "## HW 9.1 Analysis"
   ]
  },
  {
   "cell_type": "markdown",
   "metadata": {},
   "source": []
  },
  {
   "cell_type": "markdown",
   "metadata": {},
   "source": [
    "## HW9.2: Exploring PageRank teleportation and network plots\n",
    "\n",
    "\n",
    "* In order to overcome  problems such as disconnected components, the damping factor (a typical value for d is 0.85) can be varied. \n",
    "* Using the graph in HW9.1, plot the test graph (using networkx, https://networkx.github.io/) for several values of the damping factor, so that each nodes radius is proportional to its PageRank score. \n",
    "* In particular you should do this for the following damping factors: [0,0.25,0.5,0.75, 0.85, 1]. \n",
    "* Note your plots should look like the following: https://en.wikipedia.org/wiki/PageRank#/media/File:PageRanks-Example.svg"
   ]
  },
  {
   "cell_type": "markdown",
   "metadata": {},
   "source": [
    "### HW 9.2 Implementation"
   ]
  },
  {
   "cell_type": "code",
   "execution_count": 6,
   "metadata": {},
   "outputs": [
    {
     "name": "stdout",
     "output_type": "stream",
     "text": [
      "Initialization ...\n",
      "2017-07-16 20:41:24.749237: clearing directory ...\n",
      "17/07/16 20:41:26 INFO fs.TrashPolicyDefault: Namenode trash configuration: Deletion interval = 5760 minutes, Emptier interval = 360 minutes.\n",
      "17/07/16 20:41:29 INFO fs.TrashPolicyDefault: Namenode trash configuration: Deletion interval = 5760 minutes, Emptier interval = 360 minutes.\n",
      "2017-07-16 20:41:29.794987: running iteration 1 ...\n",
      "2017-07-16 20:42:16.068356: initialization complete: 11 nodes, 1 are dangling!\n",
      "2017-07-16 20:42:18.534373: distributing loss mass ...\n",
      "17/07/16 20:43:00 INFO fs.TrashPolicyDefault: Namenode trash configuration: Deletion interval = 5760 minutes, Emptier interval = 360 minutes.\n",
      "2017-07-16 20:43:03.084750: running iteration 2 ...\n",
      "17/07/16 20:45:21 INFO fs.TrashPolicyDefault: Namenode trash configuration: Deletion interval = 5760 minutes, Emptier interval = 360 minutes.\n",
      "2017-07-16 20:45:24.676410: distributing loss mass 0.5909 ...\n",
      "17/07/16 20:46:19 INFO fs.TrashPolicyDefault: Namenode trash configuration: Deletion interval = 5760 minutes, Emptier interval = 360 minutes.\n",
      "2017-07-16 20:46:22.756850: running iteration 3 ...\n",
      "17/07/16 20:47:21 INFO fs.TrashPolicyDefault: Namenode trash configuration: Deletion interval = 5760 minutes, Emptier interval = 360 minutes.\n",
      "2017-07-16 20:47:24.352980: distributing loss mass 0.2658 ...\n",
      "17/07/16 20:48:07 INFO fs.TrashPolicyDefault: Namenode trash configuration: Deletion interval = 5760 minutes, Emptier interval = 360 minutes.\n",
      "2017-07-16 20:48:10.106146: running iteration 4 ...\n",
      "17/07/16 20:49:01 INFO fs.TrashPolicyDefault: Namenode trash configuration: Deletion interval = 5760 minutes, Emptier interval = 360 minutes.\n",
      "2017-07-16 20:49:04.047490: distributing loss mass 0.7328 ...\n",
      "17/07/16 20:49:45 INFO fs.TrashPolicyDefault: Namenode trash configuration: Deletion interval = 5760 minutes, Emptier interval = 360 minutes.\n",
      "2017-07-16 20:49:48.887972: running iteration 5 ...\n",
      "17/07/16 20:50:38 INFO fs.TrashPolicyDefault: Namenode trash configuration: Deletion interval = 5760 minutes, Emptier interval = 360 minutes.\n",
      "2017-07-16 20:50:41.298706: distributing loss mass 0.1760 ...\n",
      "17/07/16 20:51:22 INFO fs.TrashPolicyDefault: Namenode trash configuration: Deletion interval = 5760 minutes, Emptier interval = 360 minutes.\n",
      "2017-07-16 20:51:25.503848: running iteration 6 ...\n",
      "17/07/16 20:52:14 INFO fs.TrashPolicyDefault: Namenode trash configuration: Deletion interval = 5760 minutes, Emptier interval = 360 minutes.\n",
      "2017-07-16 20:52:17.790916: distributing loss mass 0.2028 ...\n",
      "17/07/16 20:53:01 INFO fs.TrashPolicyDefault: Namenode trash configuration: Deletion interval = 5760 minutes, Emptier interval = 360 minutes.\n",
      "2017-07-16 20:53:04.461214: running iteration 7 ...\n",
      "17/07/16 20:53:55 INFO fs.TrashPolicyDefault: Namenode trash configuration: Deletion interval = 5760 minutes, Emptier interval = 360 minutes.\n",
      "2017-07-16 20:53:58.953461: distributing loss mass 0.0699 ...\n",
      "17/07/16 20:54:40 INFO fs.TrashPolicyDefault: Namenode trash configuration: Deletion interval = 5760 minutes, Emptier interval = 360 minutes.\n",
      "2017-07-16 20:54:43.468554: running iteration 8 ...\n",
      "17/07/16 20:55:33 INFO fs.TrashPolicyDefault: Namenode trash configuration: Deletion interval = 5760 minutes, Emptier interval = 360 minutes.\n",
      "2017-07-16 20:55:36.719451: distributing loss mass 0.0882 ...\n",
      "17/07/16 20:56:17 INFO fs.TrashPolicyDefault: Namenode trash configuration: Deletion interval = 5760 minutes, Emptier interval = 360 minutes.\n",
      "2017-07-16 20:56:20.544636: running iteration 9 ...\n",
      "17/07/16 20:57:11 INFO fs.TrashPolicyDefault: Namenode trash configuration: Deletion interval = 5760 minutes, Emptier interval = 360 minutes.\n",
      "2017-07-16 20:57:14.434505: distributing loss mass 0.0322 ...\n",
      "17/07/16 20:57:58 INFO fs.TrashPolicyDefault: Namenode trash configuration: Deletion interval = 5760 minutes, Emptier interval = 360 minutes.\n",
      "2017-07-16 20:58:01.900882: running iteration 10 ...\n",
      "17/07/16 20:58:51 INFO fs.TrashPolicyDefault: Namenode trash configuration: Deletion interval = 5760 minutes, Emptier interval = 360 minutes.\n",
      "2017-07-16 20:58:53.901752: distributing loss mass 0.0324 ...\n",
      "Sorting and Top N job \n",
      "17/07/16 20:59:43 INFO fs.TrashPolicyDefault: Namenode trash configuration: Deletion interval = 5760 minutes, Emptier interval = 360 minutes.\n"
     ]
    },
    {
     "name": "stderr",
     "output_type": "stream",
     "text": [
      "/home/nileshbhoyar/.conda/envs/py27/lib/python2.7/site-packages/networkx/drawing/nx_pylab.py:126: MatplotlibDeprecationWarning: pyplot.hold is deprecated.\n",
      "    Future behavior will be consistent with the long-time default:\n",
      "    plot commands add elements without first clearing the\n",
      "    Axes and/or Figure.\n",
      "  b = plt.ishold()\n",
      "/home/nileshbhoyar/.conda/envs/py27/lib/python2.7/site-packages/networkx/drawing/nx_pylab.py:138: MatplotlibDeprecationWarning: pyplot.hold is deprecated.\n",
      "    Future behavior will be consistent with the long-time default:\n",
      "    plot commands add elements without first clearing the\n",
      "    Axes and/or Figure.\n",
      "  plt.hold(b)\n",
      "/home/nileshbhoyar/.conda/envs/py27/lib/python2.7/site-packages/matplotlib/__init__.py:917: UserWarning: axes.hold is deprecated. Please remove it from your matplotlibrc and/or style files.\n",
      "  warnings.warn(self.msg_depr_set % key)\n",
      "/home/nileshbhoyar/.conda/envs/py27/lib/python2.7/site-packages/matplotlib/rcsetup.py:152: UserWarning: axes.hold is deprecated, will be removed in 3.0\n",
      "  warnings.warn(\"axes.hold is deprecated, will be removed in 3.0\")\n"
     ]
    },
    {
     "data": {
      "image/png": "[encoded data removed]",
      "text/plain": [
       "<matplotlib.figure.Figure at 0x7f92405723d0>"
      ]
     },
     "metadata": {},
     "output_type": "display_data"
    }
   ],
   "source": [
    "# START STUDENT CODE 9.2\n",
    "# (ADD CELLS AS NEEDED)\n",
    "draw_patterns(0)\n",
    "# END STUDENT CODE 9.2"
   ]
  },
  {
   "cell_type": "code",
   "execution_count": 7,
   "metadata": {},
   "outputs": [
    {
     "name": "stdout",
     "output_type": "stream",
     "text": [
      "Initialization ...\n",
      "2017-07-16 21:00:45.456629: clearing directory ...\n",
      "17/07/16 21:00:47 INFO fs.TrashPolicyDefault: Namenode trash configuration: Deletion interval = 5760 minutes, Emptier interval = 360 minutes.\n",
      "17/07/16 21:00:49 INFO fs.TrashPolicyDefault: Namenode trash configuration: Deletion interval = 5760 minutes, Emptier interval = 360 minutes.\n",
      "2017-07-16 21:00:50.268345: running iteration 1 ...\n",
      "2017-07-16 21:01:38.877520: initialization complete: 11 nodes, 1 are dangling!\n",
      "2017-07-16 21:01:41.319608: distributing loss mass ...\n",
      "17/07/16 21:02:26 INFO fs.TrashPolicyDefault: Namenode trash configuration: Deletion interval = 5760 minutes, Emptier interval = 360 minutes.\n",
      "2017-07-16 21:02:29.675613: running iteration 2 ...\n",
      "17/07/16 21:03:20 INFO fs.TrashPolicyDefault: Namenode trash configuration: Deletion interval = 5760 minutes, Emptier interval = 360 minutes.\n",
      "2017-07-16 21:03:23.185741: distributing loss mass 0.6932 ...\n",
      "17/07/16 21:04:46 INFO fs.TrashPolicyDefault: Namenode trash configuration: Deletion interval = 5760 minutes, Emptier interval = 360 minutes.\n",
      "2017-07-16 21:04:49.841042: running iteration 3 ...\n",
      "17/07/16 21:05:39 INFO fs.TrashPolicyDefault: Namenode trash configuration: Deletion interval = 5760 minutes, Emptier interval = 360 minutes.\n",
      "2017-07-16 21:05:42.939724: distributing loss mass 0.5103 ...\n",
      "17/07/16 21:06:24 INFO fs.TrashPolicyDefault: Namenode trash configuration: Deletion interval = 5760 minutes, Emptier interval = 360 minutes.\n",
      "2017-07-16 21:06:27.439762: running iteration 4 ...\n",
      "17/07/16 21:07:14 INFO fs.TrashPolicyDefault: Namenode trash configuration: Deletion interval = 5760 minutes, Emptier interval = 360 minutes.\n",
      "2017-07-16 21:07:17.921072: distributing loss mass 0.7073 ...\n",
      "17/07/16 21:08:01 INFO fs.TrashPolicyDefault: Namenode trash configuration: Deletion interval = 5760 minutes, Emptier interval = 360 minutes.\n",
      "2017-07-16 21:08:04.056388: running iteration 5 ...\n",
      "17/07/16 21:08:54 INFO fs.TrashPolicyDefault: Namenode trash configuration: Deletion interval = 5760 minutes, Emptier interval = 360 minutes.\n",
      "2017-07-16 21:08:57.802956: distributing loss mass 0.5312 ...\n",
      "17/07/16 21:11:13 INFO fs.TrashPolicyDefault: Namenode trash configuration: Deletion interval = 5760 minutes, Emptier interval = 360 minutes.\n",
      "2017-07-16 21:11:16.055932: running iteration 6 ...\n",
      "17/07/16 21:12:14 INFO fs.TrashPolicyDefault: Namenode trash configuration: Deletion interval = 5760 minutes, Emptier interval = 360 minutes.\n",
      "2017-07-16 21:12:17.222377: distributing loss mass 0.5375 ...\n",
      "17/07/16 21:13:00 INFO fs.TrashPolicyDefault: Namenode trash configuration: Deletion interval = 5760 minutes, Emptier interval = 360 minutes.\n",
      "2017-07-16 21:13:03.967241: running iteration 7 ...\n",
      "17/07/16 21:13:54 INFO fs.TrashPolicyDefault: Namenode trash configuration: Deletion interval = 5760 minutes, Emptier interval = 360 minutes.\n",
      "2017-07-16 21:13:57.515710: distributing loss mass 0.5139 ...\n",
      "17/07/16 21:14:41 INFO fs.TrashPolicyDefault: Namenode trash configuration: Deletion interval = 5760 minutes, Emptier interval = 360 minutes.\n",
      "2017-07-16 21:14:44.906394: running iteration 8 ...\n",
      "17/07/16 21:15:36 INFO fs.TrashPolicyDefault: Namenode trash configuration: Deletion interval = 5760 minutes, Emptier interval = 360 minutes.\n",
      "2017-07-16 21:15:39.438717: distributing loss mass 0.5163 ...\n",
      "17/07/16 21:16:26 INFO fs.TrashPolicyDefault: Namenode trash configuration: Deletion interval = 5760 minutes, Emptier interval = 360 minutes.\n",
      "2017-07-16 21:16:29.440823: running iteration 9 ...\n",
      "17/07/16 21:17:23 INFO fs.TrashPolicyDefault: Namenode trash configuration: Deletion interval = 5760 minutes, Emptier interval = 360 minutes.\n",
      "2017-07-16 21:17:26.131938: distributing loss mass 0.5107 ...\n",
      "17/07/16 21:18:07 INFO fs.TrashPolicyDefault: Namenode trash configuration: Deletion interval = 5760 minutes, Emptier interval = 360 minutes.\n",
      "2017-07-16 21:18:10.994422: running iteration 10 ...\n",
      "17/07/16 21:19:06 INFO fs.TrashPolicyDefault: Namenode trash configuration: Deletion interval = 5760 minutes, Emptier interval = 360 minutes.\n",
      "2017-07-16 21:19:09.125240: distributing loss mass 0.5107 ...\n",
      "Sorting and Top N job \n",
      "17/07/16 21:19:52 INFO fs.TrashPolicyDefault: Namenode trash configuration: Deletion interval = 5760 minutes, Emptier interval = 360 minutes.\n"
     ]
    },
    {
     "data": {
      "image/png": "[encoded data removed]",
      "text/plain": [
       "<matplotlib.figure.Figure at 0x7f921684e5d0>"
      ]
     },
     "metadata": {},
     "output_type": "display_data"
    }
   ],
   "source": [
    "draw_patterns(0.25)"
   ]
  },
  {
   "cell_type": "code",
   "execution_count": 15,
   "metadata": {},
   "outputs": [
    {
     "name": "stdout",
     "output_type": "stream",
     "text": [
      "Initialization ...\n",
      "2017-07-17 02:12:02.168046: clearing directory ...\n",
      "17/07/17 02:12:04 INFO fs.TrashPolicyDefault: Namenode trash configuration: Deletion interval = 5760 minutes, Emptier interval = 360 minutes.\n",
      "17/07/17 02:12:06 INFO fs.TrashPolicyDefault: Namenode trash configuration: Deletion interval = 5760 minutes, Emptier interval = 360 minutes.\n",
      "2017-07-17 02:12:07.042685: running iteration 1 ...\n",
      "2017-07-17 02:13:36.847833: initialization complete: 11 nodes, 1 are dangling!\n",
      "2017-07-17 02:13:39.219183: distributing loss mass ...\n",
      "17/07/17 02:14:27 INFO fs.TrashPolicyDefault: Namenode trash configuration: Deletion interval = 5760 minutes, Emptier interval = 360 minutes.\n",
      "2017-07-17 02:14:30.461836: running iteration 2 ...\n",
      "17/07/17 02:15:53 INFO fs.TrashPolicyDefault: Namenode trash configuration: Deletion interval = 5760 minutes, Emptier interval = 360 minutes.\n",
      "2017-07-17 02:15:56.198916: distributing loss mass 0.7955 ...\n",
      "17/07/17 02:16:40 INFO fs.TrashPolicyDefault: Namenode trash configuration: Deletion interval = 5760 minutes, Emptier interval = 360 minutes.\n",
      "2017-07-17 02:16:43.405766: running iteration 3 ...\n",
      "17/07/17 02:17:39 INFO fs.TrashPolicyDefault: Namenode trash configuration: Deletion interval = 5760 minutes, Emptier interval = 360 minutes.\n",
      "2017-07-17 02:17:42.499118: distributing loss mass 0.7142 ...\n",
      "17/07/17 02:18:25 INFO fs.TrashPolicyDefault: Namenode trash configuration: Deletion interval = 5760 minutes, Emptier interval = 360 minutes.\n",
      "2017-07-17 02:18:28.419988: running iteration 4 ...\n",
      "17/07/17 02:19:17 INFO fs.TrashPolicyDefault: Namenode trash configuration: Deletion interval = 5760 minutes, Emptier interval = 360 minutes.\n",
      "2017-07-17 02:19:20.720794: distributing loss mass 0.7726 ...\n",
      "17/07/17 02:20:19 INFO fs.TrashPolicyDefault: Namenode trash configuration: Deletion interval = 5760 minutes, Emptier interval = 360 minutes.\n",
      "2017-07-17 02:20:23.134170: running iteration 5 ...\n",
      "17/07/17 02:21:23 INFO fs.TrashPolicyDefault: Namenode trash configuration: Deletion interval = 5760 minutes, Emptier interval = 360 minutes.\n",
      "2017-07-17 02:21:26.433516: distributing loss mass 0.7378 ...\n",
      "17/07/17 02:22:07 INFO fs.TrashPolicyDefault: Namenode trash configuration: Deletion interval = 5760 minutes, Emptier interval = 360 minutes.\n",
      "2017-07-17 02:22:10.718445: running iteration 6 ...\n",
      "17/07/17 02:22:58 INFO fs.TrashPolicyDefault: Namenode trash configuration: Deletion interval = 5760 minutes, Emptier interval = 360 minutes.\n",
      "2017-07-17 02:23:01.768981: distributing loss mass 0.7386 ...\n",
      "17/07/17 02:23:43 INFO fs.TrashPolicyDefault: Namenode trash configuration: Deletion interval = 5760 minutes, Emptier interval = 360 minutes.\n",
      "2017-07-17 02:23:46.617112: running iteration 7 ...\n",
      "17/07/17 02:24:36 INFO fs.TrashPolicyDefault: Namenode trash configuration: Deletion interval = 5760 minutes, Emptier interval = 360 minutes.\n",
      "2017-07-17 02:24:39.191413: distributing loss mass 0.7365 ...\n",
      "17/07/17 02:25:24 INFO fs.TrashPolicyDefault: Namenode trash configuration: Deletion interval = 5760 minutes, Emptier interval = 360 minutes.\n",
      "2017-07-17 02:25:27.633773: running iteration 8 ...\n",
      "17/07/17 02:26:29 INFO fs.TrashPolicyDefault: Namenode trash configuration: Deletion interval = 5760 minutes, Emptier interval = 360 minutes.\n",
      "2017-07-17 02:26:32.479631: distributing loss mass 0.7367 ...\n",
      "17/07/17 02:28:28 INFO fs.TrashPolicyDefault: Namenode trash configuration: Deletion interval = 5760 minutes, Emptier interval = 360 minutes.\n",
      "2017-07-17 02:28:31.381934: running iteration 9 ...\n",
      "17/07/17 02:29:40 INFO fs.TrashPolicyDefault: Namenode trash configuration: Deletion interval = 5760 minutes, Emptier interval = 360 minutes.\n",
      "2017-07-17 02:29:43.468654: distributing loss mass 0.7364 ...\n",
      "17/07/17 02:31:21 INFO fs.TrashPolicyDefault: Namenode trash configuration: Deletion interval = 5760 minutes, Emptier interval = 360 minutes.\n",
      "2017-07-17 02:31:23.961569: running iteration 10 ...\n",
      "17/07/17 02:32:43 INFO fs.TrashPolicyDefault: Namenode trash configuration: Deletion interval = 5760 minutes, Emptier interval = 360 minutes.\n",
      "2017-07-17 02:32:46.553901: distributing loss mass 0.7364 ...\n",
      "Sorting and Top N job \n",
      "17/07/17 02:33:36 INFO fs.TrashPolicyDefault: Namenode trash configuration: Deletion interval = 5760 minutes, Emptier interval = 360 minutes.\n"
     ]
    },
    {
     "data": {
      "image/png": "[encoded data removed]",
      "text/plain": [
       "<matplotlib.figure.Figure at 0x7f9216738110>"
      ]
     },
     "metadata": {},
     "output_type": "display_data"
    }
   ],
   "source": [
    "draw_patterns(0.5)"
   ]
  },
  {
   "cell_type": "code",
   "execution_count": null,
   "metadata": {
    "collapsed": true
   },
   "outputs": [],
   "source": [
    "draw_patterns(0.75)"
   ]
  },
  {
   "cell_type": "code",
   "execution_count": null,
   "metadata": {
    "collapsed": true
   },
   "outputs": [],
   "source": [
    "draw_patterns(0.85)"
   ]
  },
  {
   "cell_type": "code",
   "execution_count": null,
   "metadata": {
    "collapsed": true
   },
   "outputs": [],
   "source": [
    "draw_patterns(1.0)"
   ]
  },
  {
   "cell_type": "markdown",
   "metadata": {},
   "source": [
    "### HW 9.2 Analysis"
   ]
  },
  {
   "cell_type": "markdown",
   "metadata": {},
   "source": []
  },
  {
   "cell_type": "markdown",
   "metadata": {},
   "source": [
    "## HW9.3: Applying PageRank to the Wikipedia hyperlinks network\n",
    "\n",
    "* Run your PageRank implementation on the Wikipedia dataset for 5 iterations, and display the top 100 ranked nodes (with damping factor = 0.85).\n",
    "* Run your PageRank implementation on the Wikipedia dataset for 10 iterations, and display the top 100 ranked nodes (with teleportation (random jump) factor alpha of 0.15).\n",
    "* Have the top 100 ranked pages changed? Comment on your findings. \n",
    "* Plot the pagerank values for the top 100 pages resulting from the 5 iterations run. Then plot the pagerank values for the same 100 pages that resulted from the 10 iterations run.  \n"
   ]
  },
  {
   "cell_type": "markdown",
   "metadata": {},
   "source": [
    "### HW 9.3 Implementation"
   ]
  },
  {
   "cell_type": "markdown",
   "metadata": {},
   "source": [
    "### Iterations 5 and Damping Factor 0.85"
   ]
  },
  {
   "cell_type": "code",
   "execution_count": 33,
   "metadata": {},
   "outputs": [
    {
     "name": "stdout",
     "output_type": "stream",
     "text": [
      "Initialization ...\n",
      "2017-07-18 03:08:00.604498: clearing directory ...\n",
      "17/07/18 03:08:02 INFO fs.TrashPolicyDefault: Namenode trash configuration: Deletion interval = 5760 minutes, Emptier interval = 360 minutes.\n",
      "17/07/18 03:08:05 INFO fs.TrashPolicyDefault: Namenode trash configuration: Deletion interval = 5760 minutes, Emptier interval = 360 minutes.\n",
      "2017-07-18 03:08:05.698878: running iteration 1 ...\n",
      "No handlers could be found for logger \"mrjob.compat\"\n",
      "2017-07-18 03:16:07.856566: initialization complete: 15192277 nodes, 9410987 are dangling!\n",
      "2017-07-18 03:16:10.400427: distributing loss mass ...\n",
      "17/07/18 03:18:42 INFO fs.TrashPolicyDefault: Namenode trash configuration: Deletion interval = 5760 minutes, Emptier interval = 360 minutes.\n",
      "2017-07-18 03:18:45.535910: running iteration 2 ...\n",
      "17/07/18 03:30:12 INFO fs.TrashPolicyDefault: Namenode trash configuration: Deletion interval = 5760 minutes, Emptier interval = 360 minutes.\n",
      "2017-07-18 03:30:16.055488: distributing loss mass 7608969.0125 ...\n",
      "17/07/18 03:32:44 INFO fs.TrashPolicyDefault: Namenode trash configuration: Deletion interval = 5760 minutes, Emptier interval = 360 minutes.\n",
      "2017-07-18 03:32:47.922636: running iteration 3 ...\n",
      "17/07/18 03:41:30 INFO fs.TrashPolicyDefault: Namenode trash configuration: Deletion interval = 5760 minutes, Emptier interval = 360 minutes.\n",
      "2017-07-18 03:41:33.869676: distributing loss mass 7103036.3030 ...\n",
      "17/07/18 03:44:45 INFO fs.TrashPolicyDefault: Namenode trash configuration: Deletion interval = 5760 minutes, Emptier interval = 360 minutes.\n",
      "2017-07-18 03:44:48.825008: running iteration 4 ...\n",
      "17/07/18 04:04:36 INFO fs.TrashPolicyDefault: Namenode trash configuration: Deletion interval = 5760 minutes, Emptier interval = 360 minutes.\n",
      "2017-07-18 04:04:39.947955: distributing loss mass 6940792.1440 ...\n",
      "17/07/18 04:07:16 INFO fs.TrashPolicyDefault: Namenode trash configuration: Deletion interval = 5760 minutes, Emptier interval = 360 minutes.\n",
      "2017-07-18 04:07:19.225942: running iteration 5 ...\n",
      "17/07/18 04:16:43 INFO fs.TrashPolicyDefault: Namenode trash configuration: Deletion interval = 5760 minutes, Emptier interval = 360 minutes.\n",
      "2017-07-18 04:16:46.385991: distributing loss mass 6884560.5221 ...\n",
      "Sorting and Top N job \n",
      "17/07/18 04:19:05 INFO fs.TrashPolicyDefault: Namenode trash configuration: Deletion interval = 5760 minutes, Emptier interval = 360 minutes.\n"
     ]
    }
   ],
   "source": [
    "# START STUDENT CODE 9.3\n",
    "# (ADD CELLS AS NEEDED)\n",
    "!python driver.py -g \"hdfs:/user/andrewlam/HW7/Data/wikipedia/all-pages-indexed-out.txt\" -j 0.15 -i 5  -s '0'\n",
    "# END STUDENT CODE 9.3"
   ]
  },
  {
   "cell_type": "code",
   "execution_count": 34,
   "metadata": {},
   "outputs": [
    {
     "name": "stdout",
     "output_type": "stream",
     "text": [
      "\"13455888\"\t0.0014607248567696442\r\n",
      "\"1184351\"\t0.00068282809649322749\r\n",
      "\"4695850\"\t0.00064298074382756316\r\n",
      "\"5051368\"\t0.00057637936351015841\r\n",
      "\"1384888\"\t0.00046003296215552201\r\n",
      "\"7902219\"\t0.00045813314330584717\r\n",
      "\"6113490\"\t0.00045473147754058178\r\n",
      "\"2437837\"\t0.00044562508249100844\r\n",
      "\"6076759\"\t0.00043040419618467691\r\n",
      "\"13425865\"\t0.00042865182356601058\r\n",
      "\"4196067\"\t0.00042203487069880581\r\n",
      "\"6172466\"\t0.00040852021234512754\r\n",
      "\"14112583\"\t0.00038206335880305875\r\n",
      "\"10390714\"\t0.00036853438773318248\r\n",
      "\"15164193\"\t0.00035013370048368064\r\n",
      "\"3191491\"\t0.00034494996982518809\r\n",
      "\"7835160\"\t0.00033208295896001029\r\n",
      "\"6416278\"\t0.0003310909576830574\r\n",
      "\"6237129\"\t0.00032801716163631637\r\n",
      "\"1516699\"\t0.00032485821346365954\r\n",
      "\"13725487\"\t0.00032112154674954056\r\n",
      "\"7576704\"\t0.00031443684312342537\r\n",
      "\"9276255\"\t0.00031265952240282414\r\n",
      "\"10469541\"\t0.00031105396591480657\r\n",
      "\"5154210\"\t0.00030529215965535044\r\n",
      "\"7990491\"\t0.00027981650755358505\r\n",
      "\"12836211\"\t0.00027724982498207341\r\n",
      "\"4198751\"\t0.00026764999530486843\r\n",
      "\"2797855\"\t0.0002630145989921199\r\n",
      "\"11253108\"\t0.00026126846195537737\r\n",
      "\"3603527\"\t0.00026001491124625123\r\n",
      "\"3069099\"\t0.0002535106594899695\r\n",
      "\"9386580\"\t0.00025333728283028265\r\n",
      "\"12074312\"\t0.0002510714466620865\r\n",
      "\"14881689\"\t0.00025043936863620623\r\n",
      "\"2155467\"\t0.00024766494735888489\r\n",
      "\"1441065\"\t0.0002406630565593299\r\n",
      "\"14503460\"\t0.00023490399145792312\r\n",
      "\"3191268\"\t0.00022086731328857146\r\n",
      "\"10566120\"\t0.00022045212584414586\r\n",
      "\"2396749\"\t0.00022012845875306677\r\n",
      "\"11147327\"\t0.00021490312556324352\r\n",
      "\"2614581\"\t0.00021488574678342419\r\n",
      "\"1637982\"\t0.00021244404522980937\r\n",
      "\"11245362\"\t0.00020700611211154683\r\n",
      "\"12430985\"\t0.00020436237866793398\r\n",
      "\"9355455\"\t0.00019637021146357258\r\n",
      "\"10527224\"\t0.0001932775337392351\r\n",
      "\"6172167\"\t0.00019154168806956035\r\n",
      "\"2614578\"\t0.00019146187178803109\r\n",
      "\"981395\"\t0.00018987136961938689\r\n",
      "\"14112408\"\t0.00018862701782149222\r\n",
      "\"8697871\"\t0.00018851622279692374\r\n",
      "\"9391762\"\t0.00018605446654790147\r\n",
      "\"6171937\"\t0.00018288181409325011\r\n",
      "\"5490435\"\t0.00018010854059268724\r\n",
      "\"14725161\"\t0.00017344232950852813\r\n",
      "\"11582765\"\t0.00017192578896051507\r\n",
      "\"9562547\"\t0.00016882634361256699\r\n",
      "\"994890\"\t0.00016773063850664808\r\n",
      "\"12067030\"\t0.00016556830349511754\r\n",
      "\"10345830\"\t0.00016340534772788927\r\n",
      "\"9394907\"\t0.00016069552456479298\r\n",
      "\"13280859\"\t0.00015960688181449685\r\n",
      "\"9997298\"\t0.00015899172679622559\r\n",
      "\"4978429\"\t0.00015750362096189025\r\n",
      "\"12447593\"\t0.00015459430242941439\r\n",
      "\"8019937\"\t0.00015158616790400588\r\n",
      "\"11148415\"\t0.00015127086017929897\r\n",
      "\"13432150\"\t0.00014964601943189237\r\n",
      "\"4344962\"\t0.00014641804430790909\r\n",
      "\"1175360\"\t0.00014514566217974385\r\n",
      "\"4624519\"\t0.00014402907240340058\r\n",
      "\"12038331\"\t0.00014173675936567261\r\n",
      "\"14565507\"\t0.00014060795506454273\r\n",
      "\"14981725\"\t0.00013808620717896793\r\n",
      "\"1523975\"\t0.00013604032849856297\r\n",
      "\"13328060\"\t0.00013545302925663529\r\n",
      "\"2826544\"\t0.00013295591507047778\r\n",
      "\"10399499\"\t0.00013212956286802504\r\n",
      "\"1332806\"\t0.00013159802352868572\r\n",
      "\"14963657\"\t0.0001310410380489164\r\n",
      "\"1813634\"\t0.00012623633337374081\r\n",
      "\"2578813\"\t0.00012589753155984709\r\n",
      "\"1575979\"\t0.00012464265598303143\r\n",
      "\"2778099\"\t0.0001224998941116041\r\n",
      "\"9924814\"\t0.00012078671804754623\r\n",
      "\"13853369\"\t0.00011740864240586601\r\n",
      "\"4568647\"\t0.00011638987004804786\r\n",
      "\"14727077\"\t0.00011592155333044643\r\n",
      "\"3328327\"\t0.00011474014074022391\r\n",
      "\"15070394\"\t0.00011451763089713938\r\n",
      "\"3973000\"\t0.00011432354764580003\r\n",
      "\"9742161\"\t0.00011379044610192913\r\n",
      "\"14709489\"\t0.00011368460659333351\r\n",
      "\"10246542\"\t0.0001133151616606393\r\n",
      "\"3591832\"\t0.00011331511737645335\r\n",
      "\"4320007\"\t0.00011320383565378758\r\n",
      "\"5908108\"\t0.00011288154390936539\r\n",
      "\"5274313\"\t0.00011286077015613789\r\n",
      "\"total mass: \"\t0.024158158124384772\r\n"
     ]
    }
   ],
   "source": [
    "!hdfs dfs -cat hdfs:/user/nileshbhoyar/finalranks/* > pagerank_out_wiki5.txt\n",
    "!cat pagerank_out_wiki5.txt"
   ]
  },
  {
   "cell_type": "markdown",
   "metadata": {},
   "source": [
    "### Iterations 10 and Damping Factor 0.85"
   ]
  },
  {
   "cell_type": "code",
   "execution_count": 27,
   "metadata": {},
   "outputs": [
    {
     "name": "stdout",
     "output_type": "stream",
     "text": [
      "Initialization ...\n",
      "2017-07-17 02:53:08.642698: clearing directory ...\n",
      "rm: `/user/nileshbhoyar/in': No such file or directory\n",
      "17/07/17 02:53:12 INFO fs.TrashPolicyDefault: Namenode trash configuration: Deletion interval = 5760 minutes, Emptier interval = 360 minutes.\n",
      "2017-07-17 02:53:13.350997: running iteration 1 ...\n",
      "No handlers could be found for logger \"mrjob.compat\"\n",
      "2017-07-17 03:09:28.335993: initialization complete: 15192277 nodes, 9410987 are dangling!\n",
      "2017-07-17 03:09:30.744802: distributing loss mass ...\n",
      "17/07/17 03:12:01 INFO fs.TrashPolicyDefault: Namenode trash configuration: Deletion interval = 5760 minutes, Emptier interval = 360 minutes.\n",
      "2017-07-17 03:12:04.361281: running iteration 2 ...\n",
      "17/07/17 03:25:46 INFO fs.TrashPolicyDefault: Namenode trash configuration: Deletion interval = 5760 minutes, Emptier interval = 360 minutes.\n",
      "2017-07-17 03:25:49.466782: distributing loss mass 7608969.0125 ...\n",
      "17/07/17 03:28:33 INFO fs.TrashPolicyDefault: Namenode trash configuration: Deletion interval = 5760 minutes, Emptier interval = 360 minutes.\n",
      "2017-07-17 03:28:36.846781: running iteration 3 ...\n",
      "17/07/17 03:42:29 INFO fs.TrashPolicyDefault: Namenode trash configuration: Deletion interval = 5760 minutes, Emptier interval = 360 minutes.\n",
      "2017-07-17 03:42:32.567278: distributing loss mass 7103036.3030 ...\n",
      "17/07/17 03:46:31 INFO fs.TrashPolicyDefault: Namenode trash configuration: Deletion interval = 5760 minutes, Emptier interval = 360 minutes.\n",
      "2017-07-17 03:46:34.694170: running iteration 4 ...\n",
      "17/07/17 03:57:40 INFO fs.TrashPolicyDefault: Namenode trash configuration: Deletion interval = 5760 minutes, Emptier interval = 360 minutes.\n",
      "2017-07-17 03:57:43.803284: distributing loss mass 6940792.1440 ...\n",
      "17/07/17 03:59:58 INFO fs.TrashPolicyDefault: Namenode trash configuration: Deletion interval = 5760 minutes, Emptier interval = 360 minutes.\n",
      "2017-07-17 04:00:01.486717: running iteration 5 ...\n",
      "17/07/17 04:08:20 INFO fs.TrashPolicyDefault: Namenode trash configuration: Deletion interval = 5760 minutes, Emptier interval = 360 minutes.\n",
      "2017-07-17 04:08:23.584747: distributing loss mass 6884560.5221 ...\n",
      "17/07/17 04:10:41 INFO fs.TrashPolicyDefault: Namenode trash configuration: Deletion interval = 5760 minutes, Emptier interval = 360 minutes.\n",
      "2017-07-17 04:10:44.360783: running iteration 6 ...\n",
      "17/07/17 04:19:06 INFO fs.TrashPolicyDefault: Namenode trash configuration: Deletion interval = 5760 minutes, Emptier interval = 360 minutes.\n",
      "2017-07-17 04:19:09.706080: distributing loss mass 6863177.9606 ...\n",
      "17/07/17 04:21:22 INFO fs.TrashPolicyDefault: Namenode trash configuration: Deletion interval = 5760 minutes, Emptier interval = 360 minutes.\n",
      "2017-07-17 04:21:25.841813: running iteration 7 ...\n",
      "17/07/17 04:30:05 INFO fs.TrashPolicyDefault: Namenode trash configuration: Deletion interval = 5760 minutes, Emptier interval = 360 minutes.\n",
      "2017-07-17 04:30:08.523374: distributing loss mass 6854533.8818 ...\n",
      "17/07/17 04:32:19 INFO fs.TrashPolicyDefault: Namenode trash configuration: Deletion interval = 5760 minutes, Emptier interval = 360 minutes.\n",
      "2017-07-17 04:32:22.787733: running iteration 8 ...\n",
      "17/07/17 04:40:50 INFO fs.TrashPolicyDefault: Namenode trash configuration: Deletion interval = 5760 minutes, Emptier interval = 360 minutes.\n",
      "2017-07-17 04:40:53.234664: distributing loss mass 6850834.1074 ...\n",
      "17/07/17 04:43:10 INFO fs.TrashPolicyDefault: Namenode trash configuration: Deletion interval = 5760 minutes, Emptier interval = 360 minutes.\n",
      "2017-07-17 04:43:12.995283: running iteration 9 ...\n",
      "17/07/17 04:56:45 INFO fs.TrashPolicyDefault: Namenode trash configuration: Deletion interval = 5760 minutes, Emptier interval = 360 minutes.\n",
      "2017-07-17 04:56:48.498767: distributing loss mass 6849174.4042 ...\n",
      "17/07/17 04:59:08 INFO fs.TrashPolicyDefault: Namenode trash configuration: Deletion interval = 5760 minutes, Emptier interval = 360 minutes.\n",
      "2017-07-17 04:59:11.121779: running iteration 10 ...\n",
      "17/07/17 05:07:39 INFO fs.TrashPolicyDefault: Namenode trash configuration: Deletion interval = 5760 minutes, Emptier interval = 360 minutes.\n",
      "2017-07-17 05:07:42.407385: distributing loss mass 6848394.4797 ...\n",
      "Sorting and Top N job \n",
      "17/07/17 05:09:52 INFO fs.TrashPolicyDefault: Namenode trash configuration: Deletion interval = 5760 minutes, Emptier interval = 360 minutes.\n"
     ]
    }
   ],
   "source": [
    "!python driver.py -g \"hdfs:/user/andrewlam/HW7/Data/wikipedia/all-pages-indexed-out.txt\" -j 0.15 -i 10 -s '0'"
   ]
  },
  {
   "cell_type": "code",
   "execution_count": 29,
   "metadata": {},
   "outputs": [
    {
     "name": "stdout",
     "output_type": "stream",
     "text": [
      "\"13455888\"\t0.0014614491942438257\r\n",
      "\"1184351\"\t0.00066633173757986322\r\n",
      "\"4695850\"\t0.00063980518755069298\r\n",
      "\"5051368\"\t0.00057485388262867973\r\n",
      "\"1384888\"\t0.00045030471427850603\r\n",
      "\"2437837\"\t0.00044660099098875743\r\n",
      "\"6113490\"\t0.00044481824801658734\r\n",
      "\"7902219\"\t0.00044420373459828579\r\n",
      "\"13425865\"\t0.00043299524492651991\r\n",
      "\"6076759\"\t0.00042788533613083288\r\n",
      "\"4196067\"\t0.0004232759549062523\r\n",
      "\"6172466\"\t0.00039817029586923909\r\n",
      "\"14112583\"\t0.00038543367080922113\r\n",
      "\"10390714\"\t0.00036316706604628342\r\n",
      "\"15164193\"\t0.00034383110763123347\r\n",
      "\"3191491\"\t0.00033834786521938883\r\n",
      "\"6416278\"\t0.00032935246265791891\r\n",
      "\"6237129\"\t0.00032896996556416072\r\n",
      "\"7835160\"\t0.00032632071986421647\r\n",
      "\"1516699\"\t0.00032507588815577752\r\n",
      "\"13725487\"\t0.00031314344180306071\r\n",
      "\"9276255\"\t0.00030959412424563733\r\n",
      "\"7576704\"\t0.00030809546897992747\r\n",
      "\"10469541\"\t0.00030354256660877261\r\n",
      "\"5154210\"\t0.00029795335221032872\r\n",
      "\"12836211\"\t0.0002857902942672035\r\n",
      "\"7990491\"\t0.00028347554322906253\r\n",
      "\"4198751\"\t0.00026906211182606\r\n",
      "\"2797855\"\t0.00026401327504910974\r\n",
      "\"11253108\"\t0.00026106565574639988\r\n",
      "\"9386580\"\t0.00025755868482122058\r\n",
      "\"3603527\"\t0.0002550899370909592\r\n",
      "\"12074312\"\t0.00025104301138297659\r\n",
      "\"3069099\"\t0.00024879018334782112\r\n",
      "\"14881689\"\t0.00024545732885376207\r\n",
      "\"2155467\"\t0.00024484903184801446\r\n",
      "\"1441065\"\t0.00023872444275286914\r\n",
      "\"14503460\"\t0.00023335074718638856\r\n",
      "\"2396749\"\t0.00022060503331684984\r\n",
      "\"3191268\"\t0.00021509725578691455\r\n",
      "\"10566120\"\t0.00021468682890528893\r\n",
      "\"2614581\"\t0.0002113790965621929\r\n",
      "\"11147327\"\t0.00021132415993817689\r\n",
      "\"1637982\"\t0.0002071596350422885\r\n",
      "\"12430985\"\t0.00020338117266916012\r\n",
      "\"11245362\"\t0.00020262323395013983\r\n",
      "\"9355455\"\t0.00019701920174092094\r\n",
      "\"10527224\"\t0.00019142274072842333\r\n",
      "\"14112408\"\t0.00019074389254287479\r\n",
      "\"2614578\"\t0.00018818343629020061\r\n",
      "\"9391762\"\t0.00018809311929740352\r\n",
      "\"8697871\"\t0.0001871031700113492\r\n",
      "\"6172167\"\t0.00018685330248519746\r\n",
      "\"981395\"\t0.0001854013848557578\r\n",
      "\"6171937\"\t0.0001788500153761579\r\n",
      "\"5490435\"\t0.00017834740118143603\r\n",
      "\"11582765\"\t0.0001732578678348902\r\n",
      "\"14725161\"\t0.0001695498115129693\r\n",
      "\"12067030\"\t0.00016767695230721744\r\n",
      "\"9562547\"\t0.00016731685713821943\r\n",
      "\"994890\"\t0.00016548126934061452\r\n",
      "\"9997298\"\t0.00016067308336923595\r\n",
      "\"9394907\"\t0.00016052821854839472\r\n",
      "\"13280859\"\t0.00015904269685182109\r\n",
      "\"10345830\"\t0.00015776886151301641\r\n",
      "\"4978429\"\t0.00015530367287750358\r\n",
      "\"12447593\"\t0.00015495000505848539\r\n",
      "\"8019937\"\t0.00015322797217141176\r\n",
      "\"11148415\"\t0.00014889113577784934\r\n",
      "\"13432150\"\t0.0001478810454825985\r\n",
      "\"4344962\"\t0.00014712672457526077\r\n",
      "\"1175360\"\t0.00014192897863341567\r\n",
      "\"12038331\"\t0.00014131286754115043\r\n",
      "\"14565507\"\t0.00013909604111245631\r\n",
      "\"4624519\"\t0.00013781320406146594\r\n",
      "\"1523975\"\t0.00013627013406909198\r\n",
      "\"14981725\"\t0.00013494958518642618\r\n",
      "\"13328060\"\t0.00013474185796926303\r\n",
      "\"1332806\"\t0.00013073867121152113\r\n",
      "\"10399499\"\t0.00013023139423667759\r\n",
      "\"14963657\"\t0.00013006969329161475\r\n",
      "\"2578813\"\t0.00012834313002134932\r\n",
      "\"2826544\"\t0.0001282888842544015\r\n",
      "\"1575979\"\t0.00012723774168965502\r\n",
      "\"1813634\"\t0.00012713810216423926\r\n",
      "\"2778099\"\t0.00012404627523796501\r\n",
      "\"13853369\"\t0.00012083877136559992\r\n",
      "\"9924814\"\t0.00012028369796106774\r\n",
      "\"4568647\"\t0.00011582953101167435\r\n",
      "\"12785678\"\t0.00011443369323409611\r\n",
      "\"7467127\"\t0.00011442817412578308\r\n",
      "\"9742161\"\t0.00011425740363317774\r\n",
      "\"3328327\"\t0.0001136848806244749\r\n",
      "\"10246542\"\t0.00011328616898369218\r\n",
      "\"3591832\"\t0.00011326731774131127\r\n",
      "\"5274313\"\t0.00011319055333767733\r\n",
      "\"14727077\"\t0.00011298651394752349\r\n",
      "\"14709489\"\t0.00011246839612227271\r\n",
      "\"5908108\"\t0.00011223456345201092\r\n",
      "\"3973000\"\t0.00011220084056744742\r\n",
      "\"total mass: \"\t0.023964339790744537\r\n"
     ]
    }
   ],
   "source": [
    "!hdfs dfs -cat hdfs:/user/nileshbhoyar/finalranks/* > pagerank_out_wiki10.txt\n",
    "!cat pagerank_out_wiki10.txt\n"
   ]
  },
  {
   "cell_type": "code",
   "execution_count": 35,
   "metadata": {
    "collapsed": true
   },
   "outputs": [],
   "source": [
    "def hasNumbers(inputString):\n",
    "  return any(char.isdigit() for char in inputString)"
   ]
  },
  {
   "cell_type": "code",
   "execution_count": 41,
   "metadata": {
    "collapsed": true
   },
   "outputs": [],
   "source": [
    "#Load Page Ranks\n",
    "pr1 = []\n",
    "pr2 = []\n",
    "with open('pagerank_out_wiki10.txt') as f:\n",
    "    for l in f:\n",
    "        t  = l.strip().split('\\t')\n",
    "        if hasNumbers(t[0]):\n",
    "            pr1.append((t[0], t[1]))\n",
    "        \n",
    "with open('pagerank_out_wiki5.txt') as f:\n",
    "    for l in f:\n",
    "         t  = l.strip().split('\\t')\n",
    "         if hasNumbers(t[0]):\n",
    "            pr2.append((t[0], t[1]))"
   ]
  },
  {
   "cell_type": "code",
   "execution_count": 43,
   "metadata": {},
   "outputs": [
    {
     "data": {
      "text/plain": [
       "[<matplotlib.lines.Line2D at 0x7f9216250750>]"
      ]
     },
     "execution_count": 43,
     "metadata": {},
     "output_type": "execute_result"
    },
    {
     "data": {
      "image/png": "[encoded data removed]",
      "text/plain": [
       "<matplotlib.figure.Figure at 0x7f92168aa950>"
      ]
     },
     "metadata": {},
     "output_type": "display_data"
    }
   ],
   "source": [
    "import numpy as np\n",
    "import matplotlib.pyplot as plt\n",
    "%matplotlib inline \n",
    "\n",
    "plt.figure(figsize=(18,6))\n",
    "plt.subplot(121)\n",
    "plt.title(\"Top 100 Page Ranks - 10 Iterations\")\n",
    "plt.ylabel('Page Rank')\n",
    "plt.plot([float(pr[1])for pr in pr1])\n",
    "\n",
    "plt.subplot(122)\n",
    "plt.title(\"Top 100 Page Ranks - 5 Iterations\")\n",
    "plt.ylabel('Page Rank')\n",
    "plt.plot([float(pr[1]) for pr in pr2])"
   ]
  },
  {
   "cell_type": "markdown",
   "metadata": {},
   "source": [
    "### HW 9.3 Analysis"
   ]
  },
  {
   "cell_type": "markdown",
   "metadata": {},
   "source": []
  },
  {
   "cell_type": "markdown",
   "metadata": {},
   "source": [
    "## HW9.4: Topic-specific PageRank implementation using MRJob <a name=\"1.4\"></a>\n",
    "[Back to Table of Contents](#TOC)\n",
    "\n",
    "Modify your PageRank implementation to produce a topic specific PageRank implementation, as described in:\n",
    "\n",
    "http://www-cs-students.stanford.edu/~taherh/papers/topic-sensitive-pagerank.pdf\n",
    "\n",
    "Note in this article that there is a special caveat to ensure that the transition matrix is irreducible.   \n",
    "This caveat lies in footnote 3 on page 3:\n",
    "```\n",
    "\tA minor caveat: to ensure that M is irreducible when p\n",
    "\tcontains any 0 entries, nodes not reachable from nonzero\n",
    "\tnodes in p should be removed. In practice this is not problematic.\n",
    "```\n",
    "and must be adhered to for convergence to be guaranteed.   \n",
    "\n",
    "Run topic specific PageRank on the following randomly generated network of 100 nodes:\n",
    "\n",
    "> s3://ucb-mids-mls-networks/randNet.txt (also available on Dropbox)   \n",
    "> `wget http://ucb-mids-mls-networks.s3.amazonaws.com/randNet.txt`\n",
    "\n",
    "which are organized into ten topics, as described in the file:\n",
    "\n",
    "> s3://ucb-mids-mls-networks/randNet_topics.txt  (also available on Dropbox)   \n",
    "> `wget http://ucb-mids-mls-networks.s3.amazonaws.com/randNet_topics.txt`\n",
    "\n",
    "Since there are 10 topics, your result should be 11 PageRank vectors (one for the vanilla PageRank implementation in 9.1, and one for each topic with the topic specific implementation). Print out the top ten ranking nodes and their topics for each of the 11 versions, and comment on your result. Assume a teleportation factor of 0.15 in all your analyses.\n",
    "\n",
    "One final and important comment here:  please consider the requirements for irreducibility with topic-specific PageRank. In particular, the literature ensures irreducibility by requiring that nodes not reachable from in-topic nodes be removed from the network.\n",
    "\n",
    "This is not a small task, especially as it it must be performed separately for each of the (10) topics.\n",
    "\n",
    "So, instead of using this method for irreducibility, please comment on why the literature's method is difficult to implement, and what what extra computation it will require.   \n",
    "\n",
    "Then for your code, please use the alternative, non-uniform damping vector:\n",
    "\n",
    "```\n",
    "vji = beta*(1/|Tj|); if node i lies in topic Tj\n",
    "\n",
    "vji = (1-beta)*(1/(N - |Tj|)); if node i lies outside of topic Tj\n",
    "```\n",
    "for beta in (0,1) close to 1. \n",
    "\n",
    "With this approach, you will not have to delete any nodes. If beta > 0.5, PageRank is topic-sensitive, and if beta < 0.5, the PageRank is anti-topic-sensitive. For any value of beta irreducibility should hold, so please try beta=0.99, and perhaps some other values locally, on the smaller networks."
   ]
  },
  {
   "cell_type": "markdown",
   "metadata": {},
   "source": [
    "### HW 9.4 Implementation"
   ]
  },
  {
   "cell_type": "code",
   "execution_count": 6,
   "metadata": {
    "collapsed": true
   },
   "outputs": [],
   "source": [
    "# START STUDENT CODE 9.4\n",
    "# (ADD CELLS AS NEEDED)\n",
    "\n",
    "# END STUDENT CODE 9.4"
   ]
  },
  {
   "cell_type": "markdown",
   "metadata": {},
   "source": [
    "### HW 9.4 Analysis"
   ]
  },
  {
   "cell_type": "markdown",
   "metadata": {},
   "source": []
  },
  {
   "cell_type": "markdown",
   "metadata": {},
   "source": [
    "# ---------  OPTIONAL QUESTIONS SECTION --------"
   ]
  },
  {
   "cell_type": "markdown",
   "metadata": {},
   "source": [
    "## HW9.5: (OPTIONAL) Applying topic-specific PageRank to Wikipedia\n",
    "\n",
    "Here you will apply your topic-specific PageRank implementation to Wikipedia, defining topics (very arbitrarily) for each page by the length (number of characters) of the name of the article mod 10, so that there are 10 topics. \n",
    "\n",
    "* Once again, print out the top ten ranking nodes and their topics for each of the 11 versions, and comment on your result. Assume a teleportation factor of 0.15 in all your analyses. Run for 10 iterations.\n",
    "* Plot the pagerank values for the top 100 pages resulting from the 5 iterations run in HW 9.3. \n",
    "* Then plot the pagerank values for the same 100 pages that result from the topic specific pagerank after 10 iterations run. \n",
    "* Comment on your findings. "
   ]
  },
  {
   "cell_type": "markdown",
   "metadata": {},
   "source": [
    "### HW 9.5 Implementation"
   ]
  },
  {
   "cell_type": "code",
   "execution_count": 5,
   "metadata": {
    "collapsed": true
   },
   "outputs": [],
   "source": [
    "# START STUDENT CODE 9.5\n",
    "# (ADD CELLS AS NEEDED)\n",
    "\n",
    "# END STUDENT CODE 9.5"
   ]
  },
  {
   "cell_type": "markdown",
   "metadata": {},
   "source": [
    "### HW 9.5 Analysis"
   ]
  },
  {
   "cell_type": "markdown",
   "metadata": {},
   "source": []
  },
  {
   "cell_type": "markdown",
   "metadata": {},
   "source": [
    "## HW9.6:  (OPTIONAL) TextRank\n",
    "\n",
    "* What is TextRank? Describe the main steps in the algorithm. Why does TextRank work?\n",
    "* Implement TextRank in MrJob for keyword phrases (not just unigrams) extraction using co-occurrence based similarity measure with with sizes of N = 2 and 3. And evaluate your code using the following example using precision, recall, and FBeta (Beta=1):\n",
    "```\n",
    "\"Compatibility of systems of linear constraints over the set of natural numbers\n",
    "Criteria of compatibility of a system of linear Diophantine equations, strict \n",
    "inequations, and nonstrict inequations are considered. Upper bounds for\n",
    "components of a minimal set of solutions and algorithms of construction of \n",
    "minimal generating sets of solutions for all types of systems are given. \n",
    "These criteria and the corresponding algorithms for constructing a minimal \n",
    "supporting set of solutions can be used in solving all the considered types of \n",
    "systems and systems of mixed types.\" \n",
    "```\n",
    "* The extracted keywords should be in the following set:\n",
    "```\n",
    "linear constraints, linear diophantine equations, natural numbers, non-strict inequations, strict inequations, upper bounds\n",
    "```"
   ]
  },
  {
   "cell_type": "markdown",
   "metadata": {},
   "source": [
    "### HW 9.6 Implementation"
   ]
  },
  {
   "cell_type": "code",
   "execution_count": 7,
   "metadata": {
    "collapsed": true
   },
   "outputs": [],
   "source": [
    "# START STUDENT CODE 9.6\n",
    "# (ADD CELLS AS NEEDED)\n",
    "\n",
    "# END STUDENT CODE 9.6"
   ]
  },
  {
   "cell_type": "markdown",
   "metadata": {},
   "source": [
    "### HW 9.6 Analysis"
   ]
  },
  {
   "cell_type": "markdown",
   "metadata": {},
   "source": []
  },
  {
   "cell_type": "markdown",
   "metadata": {},
   "source": [
    "<center><div class='jumbotron'>-------  END OF HWK 9 --------</div></center>"
   ]
  }
 ],
 "metadata": {
  "anaconda-cloud": {},
  "kernelspec": {
   "display_name": "Python 2",
   "language": "python",
   "name": "python2"
  },
  "language_info": {
   "codemirror_mode": {
    "name": "ipython",
    "version": 2
   },
   "file_extension": ".py",
   "mimetype": "text/x-python",
   "name": "python",
   "nbconvert_exporter": "python",
   "pygments_lexer": "ipython2",
   "version": "2.7.13"
  },
  "toc": {
   "colors": {
    "hover_highlight": "#DAA520",
    "running_highlight": "#FF0000",
    "selected_highlight": "#FFD700"
   },
   "moveMenuLeft": true,
   "nav_menu": {
    "height": "512px",
    "width": "252px"
   },
   "navigate_menu": true,
   "number_sections": true,
   "sideBar": false,
   "threshold": 4,
   "toc_cell": true,
   "toc_section_display": "block",
   "toc_window_display": true
  }
 },
 "nbformat": 4,
 "nbformat_minor": 1
}
