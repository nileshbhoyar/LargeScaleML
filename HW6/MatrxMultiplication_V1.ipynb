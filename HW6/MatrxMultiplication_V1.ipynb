{
 "cells": [
  {
   "cell_type": "markdown",
   "metadata": {},
   "source": [
    "#DATASCI W261: Machine Learning at Scale"
   ]
  },
  {
   "cell_type": "markdown",
   "metadata": {},
   "source": [
    "##Version 1: One MapReduce Stage (join data at the first reducer)"
   ]
  },
  {
   "cell_type": "markdown",
   "metadata": {},
   "source": [
    "# Create Matrices"
   ]
  },
  {
   "cell_type": "markdown",
   "metadata": {},
   "source": [
    "Matrix A data start with 0\n",
    "Matrix B data start with 1\n",
    "$$ \\textbf{A} = \\left( \\begin{array}{ccc}\n",
    "5 & 0  \\\\\n",
    "3 & 8  \\\\\n",
    "0 & 6 \\end{array} \\right) $$\n",
    "$$ \\textbf{B} = \\left( \\begin{array}{ccc}\n",
    "6 & 3  \\\\\n",
    "2 & 0 \\end{array} \\right) $$"
   ]
  },
  {
   "cell_type": "code",
   "execution_count": 1,
   "metadata": {
    "collapsed": false
   },
   "outputs": [],
   "source": [
    "# Format: A/B, rowIndex, columnIndex1, Value1, columnIndex2, Value2,...\n",
    "!echo 0, 0, 0, 5 > Matrics.txt\n",
    "!echo 0, 1, 0, 3, 1, 8 >> Matrics.txt\n",
    "!echo 0, 2, 1, 6 >> Matrics.txt\n",
    "!echo 1, 0, 0, 6, 1, 3 >> Matrics.txt\n",
    "!echo 1, 1, 0, 2 >> Matrics.txt"
   ]
  },
  {
   "cell_type": "markdown",
   "metadata": {},
   "source": [
    "# MrJob class code"
   ]
  },
  {
   "cell_type": "code",
   "execution_count": 6,
   "metadata": {
    "collapsed": false
   },
   "outputs": [
    {
     "name": "stdout",
     "output_type": "stream",
     "text": [
      "Overwriting MatrixMultiplication.py\n"
     ]
    }
   ],
   "source": [
    "%%writefile MatrixMultiplication.py\n",
    "#Version 1: One MapReduce Stage (join data at the first reducer)\n",
    "from mrjob.job import MRJob\n",
    "from mrjob.compat import jobconf_from_env\n",
    "class MRMatrixAB(MRJob):\n",
    "    #Emit all the data need to caculate cell i,j in result matrix\n",
    "    def mapper(self, _, line):\n",
    "        v = line.split(',')\n",
    "        n = (len(v)-2)/2 #number of Non-zero columns for this each\n",
    "        i = int(jobconf_from_env(\"row.num.A\")) # we need to know how many rows of A\n",
    "        j = int(jobconf_from_env(\"col.num.B\")) # we need to know how many columns of B\n",
    "        \n",
    "        if v[0]=='0':\n",
    "            for p in range(n):\n",
    "                for q in range(j):\n",
    "                    yield (int(v[1]),q), (int(v[p*2+2]),float(v[p*2+3]))\n",
    "            \n",
    "        elif v[0]=='1':\n",
    "            for p in range(n):\n",
    "                for q in range(i):\n",
    "                    yield (q,int(v[p*2+2])), (int(v[1]),float(v[p*2+3]))\n",
    "                \n",
    "    # Sum up the product for cell i,j\n",
    "    def reducer(self, key, values):\n",
    "        idx_dict = {}\n",
    "        s = 0.0\n",
    "        preidx = -1\n",
    "        preval = 0\n",
    "        for idx, value in values:\n",
    "            if str(idx) in idx_dict:\n",
    "                s = s + value * idx_dict[str(idx)]\n",
    "            else:\n",
    "                idx_dict[str(idx)] = value\n",
    "        yield key,s\n",
    "\n",
    "if __name__ == '__main__':\n",
    "    MRMatrixAB.run()"
   ]
  },
  {
   "cell_type": "code",
   "execution_count": 7,
   "metadata": {
    "collapsed": false
   },
   "outputs": [
    {
     "name": "stdout",
     "output_type": "stream",
     "text": [
      "Using configs in /etc/mrjob.conf\r\n",
      "Creating temp directory /var/folders/2f/rb8qqgd55bl77zgchyxsfl7h0000gp/T/MatrixMultiplication.koza.20170215.211413.372373\r\n",
      "Running step 1 of 1...\r\n",
      "Streaming final output from /var/folders/2f/rb8qqgd55bl77zgchyxsfl7h0000gp/T/MatrixMultiplication.koza.20170215.211413.372373/output...\r\n",
      "[0, 0]\t30.0\r\n",
      "[0, 1]\t15.0\r\n",
      "[1, 0]\t34.0\r\n",
      "[1, 1]\t9.0\r\n",
      "[2, 0]\t12.0\r\n",
      "[2, 1]\t0.0\r\n",
      "Removing temp directory /var/folders/2f/rb8qqgd55bl77zgchyxsfl7h0000gp/T/MatrixMultiplication.koza.20170215.211413.372373...\r\n"
     ]
    }
   ],
   "source": [
    "!python MatrixMultiplication.py Matrics.txt --jobconf row.num.A=3 --jobconf col.num.B=2"
   ]
  },
  {
   "cell_type": "markdown",
   "metadata": {},
   "source": [
    "# Driver:"
   ]
  },
  {
   "cell_type": "code",
   "execution_count": 8,
   "metadata": {
    "collapsed": false
   },
   "outputs": [
    {
     "name": "stdout",
     "output_type": "stream",
     "text": [
      "Matrix C = A * B:\n",
      "[0, 0] 30.0\n",
      "[0, 1] 15.0\n",
      "[1, 0] 34.0\n",
      "[1, 1] 9.0\n",
      "[2, 0] 12.0\n",
      "[2, 1] 0.0\n",
      " \n",
      "Matrix C\n",
      "[[ 30.  15.]\n",
      " [ 34.   9.]\n",
      " [ 12.   0.]]\n"
     ]
    }
   ],
   "source": [
    "from numpy import empty\n",
    "from MatrixMultiplication import MRMatrixAB\n",
    "mr_job = MRMatrixAB(args=['Matrics.txt','--jobconf', 'row.num.A=3','--jobconf', 'col.num.B=2'])\n",
    "\n",
    "C =[]\n",
    "CC = empty([3,2])\n",
    "\n",
    "# Calculate A*B\n",
    "print \"Matrix C = A * B:\"\n",
    "with mr_job.make_runner() as runner: \n",
    "    runner.run()\n",
    "    for line in runner.stream_output():\n",
    "        key,value =  mr_job.parse_output_line(line)\n",
    "        C.append((key,value))\n",
    "        CC[key[0],key[1]] = value\n",
    "        print key, value\n",
    "print \" \"\n",
    "print \"Matrix C\" \n",
    "print CC"
   ]
  },
  {
   "cell_type": "code",
   "execution_count": null,
   "metadata": {
    "collapsed": true
   },
   "outputs": [],
   "source": []
  }
 ],
 "metadata": {
  "kernelspec": {
   "display_name": "Python 2",
   "language": "python",
   "name": "python2"
  },
  "language_info": {
   "codemirror_mode": {
    "name": "ipython",
    "version": 2
   },
   "file_extension": ".py",
   "mimetype": "text/x-python",
   "name": "python",
   "nbconvert_exporter": "python",
   "pygments_lexer": "ipython2",
   "version": "2.7.11"
  }
 },
 "nbformat": 4,
 "nbformat_minor": 0
}
