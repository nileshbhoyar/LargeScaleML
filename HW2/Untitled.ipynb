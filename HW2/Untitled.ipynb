{
 "cells": [
  {
   "cell_type": "code",
   "execution_count": 6,
   "metadata": {
    "collapsed": false
   },
   "outputs": [
    {
     "name": "stdout",
     "output_type": "stream",
     "text": [
      "shubhada\n",
      "nilesh\n"
     ]
    }
   ],
   "source": [
    "word = {}\n",
    "word[(\"nilesh\",\"name\")] = 2\n",
    "word[(\"shubhada\",\"name\")] = 10\n",
    "for key in word:\n",
    "    print key[0]"
   ]
  },
  {
   "cell_type": "code",
   "execution_count": 9,
   "metadata": {
    "collapsed": false
   },
   "outputs": [
    {
     "name": "stdout",
     "output_type": "stream",
     "text": [
      "shubhada\n",
      "nilesh\n"
     ]
    }
   ],
   "source": [
    "d =word[]\n",
    "for w in sorted(d, key=d.get, reverse=True):\n",
    "  print w[0]"
   ]
  },
  {
   "cell_type": "code",
   "execution_count": 13,
   "metadata": {
    "collapsed": false
   },
   "outputs": [
    {
     "name": "stdout",
     "output_type": "stream",
     "text": [
      "HOSTNAME=quickstart.cloudera\r\n",
      "TERM=xterm-color\r\n",
      "CLICOLOR=1\r\n",
      "PYSPARK_PYTHON=/opt/anaconda/bin/python\r\n",
      "JPY_PARENT_PID=36\r\n",
      "PAGER=cat\r\n",
      "PATH=/opt/anaconda/bin:/opt/anaconda/bin:/usr/local/sbin:/usr/local/bin:/usr/sbin:/usr/bin:/sbin:/bin:/opt/anaconda/bin\r\n",
      "CONDA_PATH_BACKUP=/usr/local/sbin:/usr/local/bin:/usr/sbin:/usr/bin:/sbin:/bin:/opt/anaconda/bin\r\n",
      "_=/usr/bin/env\r\n",
      "CONDA_PREFIX=/opt/anaconda\r\n",
      "PWD=/media/notebooks/DataScience/W261/homework/new/HW2\r\n",
      "MPLBACKEND=module://ipykernel.pylab.backend_inline\r\n",
      "HOME=/root\r\n",
      "SHLVL=3\r\n",
      "IPYTHON=1\r\n",
      "no_proxy=*.local, 169.254/16\r\n",
      "CONDA_PS1_BACKUP=\r\n",
      "CONDA_DEFAULT_ENV=root\r\n",
      "GIT_PAGER=cat\r\n",
      "IPYTHON_OPTS=notebook --port 8889 --notebook-dir='/media/notebooks' --ip='*' --no-browser\r\n"
     ]
    }
   ],
   "source": [
    "!env\n",
    "        "
   ]
  },
  {
   "cell_type": "code",
   "execution_count": null,
   "metadata": {
    "collapsed": false
   },
   "outputs": [],
   "source": [
    "!sudo chown -R root /opt/anaconda/lib/python2.7/site-packages"
   ]
  },
  {
   "cell_type": "code",
   "execution_count": 26,
   "metadata": {
    "collapsed": true
   },
   "outputs": [],
   "source": [
    "smooth_factor = 0 # no smoothing\n",
    "current_count = [smooth_factor, smooth_factor]\n",
    "wordcount = {}"
   ]
  },
  {
   "cell_type": "code",
   "execution_count": 47,
   "metadata": {
    "collapsed": false
   },
   "outputs": [],
   "source": [
    "current_count[0] = 1\n",
    "current_count[1] = 3\n",
    "wordcount['nilesh'] = current_count\n",
    "current_count = [smooth_factor, smooth_factor]\n",
    "current_count[0] = 3\n",
    "current_count[1] = 2\n",
    "wordcount['bhoyar'] = current_count\n",
    "current_count = [smooth_factor, smooth_factor]\n",
    "current_count[0] = 3\n",
    "current_count[1] = 2\n",
    "wordcount['apple'] = current_count"
   ]
  },
  {
   "cell_type": "code",
   "execution_count": 48,
   "metadata": {
    "collapsed": false
   },
   "outputs": [
    {
     "data": {
      "text/plain": [
       "{'apple': [3, 2], 'bhoyar': [3, 2], 'nilesh': [1, 3]}"
      ]
     },
     "execution_count": 48,
     "metadata": {},
     "output_type": "execute_result"
    }
   ],
   "source": [
    "wordcount = import matplotlib.pyplot as plt"
   ]
  },
  {
   "cell_type": "code",
   "execution_count": 49,
   "metadata": {
    "collapsed": false
   },
   "outputs": [
    {
     "data": {
      "text/plain": [
       "['apple', 'bhoyar', 'nilesh']"
      ]
     },
     "execution_count": 49,
     "metadata": {},
     "output_type": "execute_result"
    }
   ],
   "source": [
    "sorted(wordcount)"
   ]
  },
  {
   "cell_type": "code",
   "execution_count": 30,
   "metadata": {
    "collapsed": false
   },
   "outputs": [],
   "source": [
    "import numpy as np\n",
    "\n",
    "n_total = np.sum(wordcount.values(),axis = 0)"
   ]
  },
  {
   "cell_type": "code",
   "execution_count": 31,
   "metadata": {
    "collapsed": false
   },
   "outputs": [
    {
     "data": {
      "text/plain": [
       "array([4, 5])"
      ]
     },
     "execution_count": 31,
     "metadata": {},
     "output_type": "execute_result"
    }
   ],
   "source": [
    "n_total"
   ]
  },
  {
   "cell_type": "code",
   "execution_count": 32,
   "metadata": {
    "collapsed": false
   },
   "outputs": [
    {
     "name": "stdout",
     "output_type": "stream",
     "text": [
      "nilesh\t1,3,0.25,0.6\n",
      "bhoyar\t3,2,0.75,0.4\n"
     ]
    }
   ],
   "source": [
    "for (key,value) in zip(wordcount.keys(), wordcount.values()/(1.0*n_total)):\n",
    "    print '%s\\t%s,%s,%s,%s' %(key,wordcount[key][0] ,wordcount[key][1],value[0], value[1])"
   ]
  },
  {
   "cell_type": "code",
   "execution_count": null,
   "metadata": {
    "collapsed": true
   },
   "outputs": [],
   "source": [
    "print '[OUR implementation] total: %3d  correct: %3d  accuracy: %3.2f' %(total, correct, 1.0*correct/total)"
   ]
  },
  {
   "cell_type": "code",
   "execution_count": 39,
   "metadata": {
    "collapsed": false
   },
   "outputs": [
    {
     "name": "stdout",
     "output_type": "stream",
     "text": [
      "DOCID\tPREDICTION\tLABEL\n"
     ]
    }
   ],
   "source": [
    "strings = 'nilesh'\n",
    "print \"%s\\t%s\\t%s\"%(\"DOCID\",\"PREDICTION\",\"LABEL\")  "
   ]
  },
  {
   "cell_type": "code",
   "execution_count": 41,
   "metadata": {
    "collapsed": false
   },
   "outputs": [],
   "source": [
    "line = 'DOCID\tPREDICTION\tLABEL'\n",
    "parts = line.split('\\t')"
   ]
  },
  {
   "cell_type": "code",
   "execution_count": 54,
   "metadata": {
    "collapsed": false
   },
   "outputs": [
    {
     "data": {
      "text/plain": [
       "<matplotlib.text.Text at 0x7fc3154d1c50>"
      ]
     },
     "execution_count": 54,
     "metadata": {},
     "output_type": "execute_result"
    },
    {
     "data": {
      "image/png": "[encoded data removed]",
      "text/plain": [
       "<matplotlib.figure.Figure at 0x7fc318908190>"
      ]
     },
     "metadata": {},
     "output_type": "display_data"
    }
   ],
   "source": [
    "%matplotlib inline\n",
    "import matplotlib.pyplot as plt\n",
    "import numpy as np\n",
    "plt.hist(np.random.randn(1000),color ='green')\n",
    "plt.title(\"Gaussian Histogram\")\n",
    "plt.xlabel(\"Value\")\n",
    "plt.ylabel(\"Frequency\")"
   ]
  },
  {
   "cell_type": "code",
   "execution_count": null,
   "metadata": {
    "collapsed": true
   },
   "outputs": [],
   "source": []
  }
 ],
 "metadata": {
  "kernelspec": {
   "display_name": "Python 2",
   "language": "python",
   "name": "python2"
  },
  "language_info": {
   "codemirror_mode": {
    "name": "ipython",
    "version": 2
   },
   "file_extension": ".py",
   "mimetype": "text/x-python",
   "name": "python",
   "nbconvert_exporter": "python",
   "pygments_lexer": "ipython2",
   "version": "2.7.13"
  }
 },
 "nbformat": 4,
 "nbformat_minor": 2
}
