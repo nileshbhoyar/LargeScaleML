{
 "cells": [
  {
   "cell_type": "markdown",
   "metadata": {
    "toc": "true"
   },
   "source": [
    "# Table of Contents\n",
    " <p><div class=\"lev1 toc-item\"><a data-toc-modified-id=\"DATASCI-W261:-Machine-Learning-at-Scale-1\" href=\"#DATASCI-W261:-Machine-Learning-at-Scale\"><span class=\"toc-item-num\">1&nbsp;&nbsp;</span>DATASCI W261: Machine Learning at Scale</a></div><div class=\"lev2 toc-item\"><a data-toc-modified-id=\"Shortest-Path-Dijkstra's-algorithm-11\" href=\"#Shortest-Path-Dijkstra's-algorithm\"><span class=\"toc-item-num\">1.1&nbsp;&nbsp;</span>Shortest Path-Dijkstra's algorithm</a></div><div class=\"lev2 toc-item\"><a data-toc-modified-id=\"Undirect-unweighted-Graph-12\" href=\"#Undirect-unweighted-Graph\"><span class=\"toc-item-num\">1.2&nbsp;&nbsp;</span>Undirect unweighted Graph</a></div><div class=\"lev2 toc-item\"><a data-toc-modified-id=\"Undirect-weighted-Graph-13\" href=\"#Undirect-weighted-Graph\"><span class=\"toc-item-num\">1.3&nbsp;&nbsp;</span>Undirect weighted Graph</a></div><div class=\"lev2 toc-item\"><a data-toc-modified-id=\"Direct-unweighted-Graph-14\" href=\"#Direct-unweighted-Graph\"><span class=\"toc-item-num\">1.4&nbsp;&nbsp;</span>Direct unweighted Graph</a></div><div class=\"lev2 toc-item\"><a data-toc-modified-id=\"Direct-weighted-Graph-15\" href=\"#Direct-weighted-Graph\"><span class=\"toc-item-num\">1.5&nbsp;&nbsp;</span>Direct weighted Graph</a></div><div class=\"lev1 toc-item\"><a data-toc-modified-id=\"sanity-checks-with-networkx-2\" href=\"#sanity-checks-with-networkx\"><span class=\"toc-item-num\">2&nbsp;&nbsp;</span>sanity checks with networkx</a></div>"
   ]
  },
  {
   "cell_type": "markdown",
   "metadata": {},
   "source": [
    "# DATASCI W261: Machine Learning at Scale"
   ]
  },
  {
   "cell_type": "markdown",
   "metadata": {},
   "source": [
    "## Shortest Path-Dijkstra's algorithm"
   ]
  },
  {
   "cell_type": "code",
   "execution_count": 1,
   "metadata": {
    "collapsed": true
   },
   "outputs": [],
   "source": [
    "%matplotlib inline\n",
    "import matplotlib.pyplot as plt\n",
    "from collections import defaultdict\n",
    "import itertools\n",
    "import networkx as nx"
   ]
  },
  {
   "cell_type": "code",
   "execution_count": 52,
   "metadata": {
    "collapsed": false
   },
   "outputs": [],
   "source": [
    "class Graph:\n",
    "    def __init__(self):\n",
    "        self.nodes = set()\n",
    "        self.edges = defaultdict(list)\n",
    "        self.distances = {}\n",
    " \n",
    "    def add_node(self, value):\n",
    "        self.nodes.add(value)\n",
    " \n",
    "    def add_edge(self, node1, node2, distance = 1,direct = False):\n",
    "        self.edges[node1].append(node2)\n",
    "        self.distances[(node1, node2)] = distance\n",
    "        if not direct:\n",
    "            self.edges[node2].append(node1)\n",
    "            self.distances[(node2, node1)] = distance\n",
    " \n",
    " \n",
    "def dijsktra(graph, initial):\n",
    "    visited = {initial: 0}\n",
    "    nodes = set(graph.nodes)\n",
    "    while nodes:\n",
    "        min_node = None\n",
    "        for node in nodes:\n",
    "            if node in visited:\n",
    "                if min_node is None:\n",
    "                    min_node = node\n",
    "                elif visited[node] < visited[min_node]:\n",
    "                    min_node = node\n",
    "        if min_node is None:\n",
    "            break\n",
    "        nodes.remove(min_node)\n",
    "        current_weight = visited[min_node]\n",
    "        for neighbour in graph.edges[min_node]:\n",
    "            try:\n",
    "                weight = current_weight + graph.distances[(min_node, neighbour)]\n",
    "            except:\n",
    "                continue\n",
    "            if neighbour not in visited or weight < visited[neighbour]:\n",
    "                visited[neighbour] = weight\n",
    "    return visited"
   ]
  },
  {
   "cell_type": "markdown",
   "metadata": {},
   "source": [
    "## Undirect unweighted Graph"
   ]
  },
  {
   "cell_type": "code",
   "execution_count": 69,
   "metadata": {
    "collapsed": false
   },
   "outputs": [
    {
     "name": "stdout",
     "output_type": "stream",
     "text": [
      "{'A': 0, 'C': 1, 'B': 1, 'E': 2, 'D': 2, 'F': 2}\n"
     ]
    },
    {
     "data": {
      "image/png": "[encoded data removed]",
      "text/plain": [
       "<matplotlib.figure.Figure at 0x10c402390>"
      ]
     },
     "metadata": {},
     "output_type": "display_data"
    }
   ],
   "source": [
    "g = Graph()\n",
    "nodes = ['A', 'B', 'C', 'D', 'E', 'F']\n",
    "edges = [('A', 'B'), ('A', 'C'), ('B', 'C'), ('C', 'D'), ('C', 'E'), ('D', 'F'), ('F', 'C')]\n",
    "for node in nodes:\n",
    "    g.add_node(node)\n",
    "for edge in edges:\n",
    "    g.add_edge(*edge)\n",
    "print dijsktra(g, 'A')\n",
    "\n",
    "####### Draw the graph #########\n",
    "G=nx.Graph()\n",
    "\n",
    "for node in nodes:\n",
    "  G.add_node(node)\n",
    "  for edge in edges:\n",
    "    G.add_edge(edge[0],edge[1])\n",
    "\n",
    "esmall=[(u,v) for (u,v,d) in G.edges(data=True)]\n",
    "\n",
    "pos=nx.spring_layout(G) # positions for all nodes\n",
    "\n",
    "# nodes\n",
    "nx.draw_networkx_nodes(G,pos,node_size=1200,node_color=\"#65c294\")\n",
    "nx.draw_networkx_edges(G,pos,edgelist=esmall,\n",
    "                    width=1,alpha=0.5,edge_color='b')\n",
    "\n",
    "# labels\n",
    "nx.draw_networkx_labels(G,pos,font_size=12,font_family='sans-serif')\n",
    "\n",
    "plt.axis('off')\n",
    "plt.savefig(\"unweighted_graph.png\") # save as png\n",
    "plt.show() # display\n"
   ]
  },
  {
   "cell_type": "markdown",
   "metadata": {},
   "source": [
    "## Undirect weighted Graph"
   ]
  },
  {
   "cell_type": "code",
   "execution_count": 68,
   "metadata": {
    "collapsed": false
   },
   "outputs": [
    {
     "name": "stdout",
     "output_type": "stream",
     "text": [
      "{'A': 0, 'C': 3, 'B': 1, 'E': 6, 'D': 7, 'F': 6}\n"
     ]
    },
    {
     "data": {
      "image/png": "[encoded data removed]",
      "text/plain": [
       "<matplotlib.figure.Figure at 0x10b7258d0>"
      ]
     },
     "metadata": {},
     "output_type": "display_data"
    }
   ],
   "source": [
    "g = Graph()\n",
    "nodes = ['A', 'B', 'C', 'D', 'E', 'F']\n",
    "edges = [('A', 'B', 1), ('A', 'C', 5), ('B', 'C', 2), ('C', 'D', 4), ('C', 'E', 3), ('D', 'F', 5), ('F', 'C', 3)]\n",
    "for node in nodes:\n",
    "    g.add_node(node)\n",
    "for edge in edges:\n",
    "    g.add_edge(*edge)\n",
    "\n",
    "print dijsktra(g, 'A')\n",
    "    \n",
    "####### networkx ########\n",
    "\n",
    "G=nx.Graph()\n",
    "\n",
    "for node in nodes:\n",
    "  G.add_node(node)\n",
    "for edge in edges:\n",
    "  G.add_edge(edge[0],edge[1],weight=edge[2])\n",
    "\n",
    "esmall=[(u,v) for (u,v,d) in G.edges(data=True)]\n",
    "\n",
    "pos=nx.spring_layout(G) # positions for all nodes\n",
    "\n",
    "# nodes\n",
    "nx.draw_networkx_nodes(G,pos,node_size=1200,node_color=\"#65c294\")\n",
    "nx.draw_networkx_edges(G,pos,edgelist=esmall,\n",
    "                    width=1,alpha=0.5,edge_color='b')\n",
    "\n",
    "# labels\n",
    "nx.draw_networkx_labels(G,pos,font_size=12,font_family='sans-serif')\n",
    "labels = nx.get_edge_attributes(G,'weight')\n",
    "nx.draw_networkx_edge_labels(G,pos,edge_labels=labels)\n",
    "plt.axis('off')\n",
    "plt.savefig(\"weighted_graph.png\") # save as png\n",
    "plt.show() # display\n",
    "\n"
   ]
  },
  {
   "cell_type": "markdown",
   "metadata": {},
   "source": [
    "## Direct unweighted Graph"
   ]
  },
  {
   "cell_type": "code",
   "execution_count": 58,
   "metadata": {
    "collapsed": false
   },
   "outputs": [
    {
     "name": "stdout",
     "output_type": "stream",
     "text": [
      "{'A': 0, 'C': 1, 'B': 1, 'E': 2, 'D': 2, 'F': 3}\n"
     ]
    },
    {
     "data": {
      "image/png": "[encoded data removed]",
      "text/plain": [
       "<matplotlib.figure.Figure at 0x10bc5fad0>"
      ]
     },
     "metadata": {},
     "output_type": "display_data"
    }
   ],
   "source": [
    "g = Graph()\n",
    "nodes = ['A', 'B', 'C', 'D', 'E', 'F']\n",
    "edges = [('A', 'B'), ('A', 'C'), ('B', 'C'), ('C', 'D'), ('C', 'E'), ('D', 'F'), ('F', 'C')]\n",
    "for node in nodes:\n",
    "    g.add_node(node)\n",
    "for edge in edges:\n",
    "    g.add_edge(*edge, direct = True)\n",
    "\n",
    "print dijsktra(g, 'A')\n",
    "G=nx.DiGraph()\n",
    "\n",
    "G.add_nodes_from(nodes)\n",
    "G.add_edges_from(edges)\n",
    "\n",
    "esmall=[(u,v) for (u,v,d) in G.edges(data=True)]\n",
    "\n",
    "pos=nx.spring_layout(G) # positions for all nodes\n",
    "\n",
    "# nodes\n",
    "nx.draw_networkx_nodes(G,pos,node_size=1200,node_color=\"#65c294\")\n",
    "nx.draw_networkx_edges(G,pos,edgelist=esmall,\n",
    "                    width=1,alpha=0.5,edge_color='b')\n",
    "\n",
    "# labels\n",
    "nx.draw_networkx_labels(G,pos,font_size=12,font_family='sans-serif')\n",
    "\n",
    "plt.axis('off')\n",
    "plt.savefig(\"weighted_graph.png\") # save as png\n",
    "plt.show() # display"
   ]
  },
  {
   "cell_type": "markdown",
   "metadata": {},
   "source": [
    "## Direct weighted Graph"
   ]
  },
  {
   "cell_type": "code",
   "execution_count": 75,
   "metadata": {
    "collapsed": false
   },
   "outputs": [
    {
     "name": "stdout",
     "output_type": "stream",
     "text": [
      "{'A': 0, 'C': 3, 'B': 1, 'E': 6, 'D': 7, 'F': 12}\n"
     ]
    },
    {
     "data": {
      "image/png": "[encoded data removed]",
      "text/plain": [
       "<matplotlib.figure.Figure at 0x10bff84d0>"
      ]
     },
     "metadata": {},
     "output_type": "display_data"
    }
   ],
   "source": [
    "g = Graph()\n",
    "nodes = ['A', 'B', 'C', 'D', 'E', 'F']\n",
    "edges = [('A', 'B', 1), ('A', 'C', 5), ('B', 'C', 2), ('C', 'D', 4), ('C', 'E', 3), ('D', 'F', 5), ('F', 'C', 3)]\n",
    "for node in nodes:\n",
    "    g.add_node(node)\n",
    "for edge in edges:\n",
    "    g.add_edge(*edge, direct = True)\n",
    "\n",
    "print dijsktra(g, 'A')\n",
    "\n",
    "\n",
    "G=nx.DiGraph()\n",
    "\n",
    "for node in nodes:\n",
    "  G.add_node(node)\n",
    "for edge in edges:\n",
    "  G.add_edge(edge[0],edge[1],weight=edge[2])\n",
    "  \n",
    "esmall=[(u,v) for (u,v,d) in G.edges(data=True)]\n",
    "\n",
    "pos=nx.spring_layout(G) # positions for all nodes\n",
    "\n",
    "# nodes\n",
    "nx.draw_networkx_nodes(G,pos,node_size=1200,node_color=\"#65c294\")\n",
    "nx.draw_networkx_edges(G,pos,edgelist=esmall,\n",
    "                    width=1,alpha=0.5,edge_color='b')\n",
    "\n",
    "# labels\n",
    "nx.draw_networkx_labels(G,pos,font_size=12,font_family='sans-serif')\n",
    "labels = nx.get_edge_attributes(G,'weight')\n",
    "nx.draw_networkx_edge_labels(G,pos,edge_labels=labels)\n",
    "plt.axis('off')\n",
    "\n",
    "plt.savefig(\"weighted_graph.png\") # save as png\n",
    "plt.show() # display"
   ]
  },
  {
   "cell_type": "markdown",
   "metadata": {},
   "source": [
    "# sanity checks with networkx"
   ]
  },
  {
   "cell_type": "code",
   "execution_count": 73,
   "metadata": {
    "collapsed": false
   },
   "outputs": [
    {
     "name": "stdout",
     "output_type": "stream",
     "text": [
      "['A', 'B', 'C', 'D', 'F']\n",
      "[['A', 'B', 'C', 'D', 'F']]\n",
      "{'A': 0, 'C': 3, 'B': 1, 'E': 6, 'D': 7, 'F': 12}\n"
     ]
    }
   ],
   "source": [
    "source = 'A'\n",
    "target = 'F'\n",
    "\n",
    "d_path=nx.dijkstra_path(G,source,target)\n",
    "# weight='weight' <- default. name of the property in the edges\n",
    "\n",
    "s_path = nx.all_shortest_paths(G,source,target,weight='weight') # name of the property in the edges\n",
    "\n",
    "print [p for p in d_path]\n",
    "\n",
    "print [p for p in s_path]\n",
    "\n",
    "print nx.single_source_dijkstra_path_length(G,source) # Compute the shortest path length between source and all other reachable nodes for a weighted graph."
   ]
  },
  {
   "cell_type": "markdown",
   "metadata": {},
   "source": [
    "https://networkx.github.io/documentation/networkx-1.9/reference/algorithms.shortest_paths.html?highlight=dijkstra_path"
   ]
  }
 ],
 "metadata": {
  "kernelspec": {
   "display_name": "Python 2",
   "language": "python",
   "name": "python2"
  },
  "language_info": {
   "codemirror_mode": {
    "name": "ipython",
    "version": 2
   },
   "file_extension": ".py",
   "mimetype": "text/x-python",
   "name": "python",
   "nbconvert_exporter": "python",
   "pygments_lexer": "ipython2",
   "version": "2.7.13"
  },
  "toc": {
   "colors": {
    "hover_highlight": "#DAA520",
    "running_highlight": "#FF0000",
    "selected_highlight": "#FFD700"
   },
   "moveMenuLeft": true,
   "nav_menu": {
    "height": "157px",
    "width": "252px"
   },
   "navigate_menu": true,
   "number_sections": true,
   "sideBar": false,
   "threshold": 4,
   "toc_cell": true,
   "toc_section_display": "block",
   "toc_window_display": true
  }
 },
 "nbformat": 4,
 "nbformat_minor": 0
}
